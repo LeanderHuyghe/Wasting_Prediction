{
 "cells": [
  {
   "cell_type": "markdown",
   "source": [
    "# Imports"
   ],
   "metadata": {
    "collapsed": false
   }
  },
  {
   "cell_type": "code",
   "execution_count": 15,
   "outputs": [],
   "source": [
    "import pandas as pd\n",
    "import numpy as np\n",
    "import datetime\n",
    "import warnings\n",
    "warnings.filterwarnings(\"ignore\")\n",
    "import seaborn as sns\n",
    "from helper_metrics import count_missing_district, count_missing_district_total, make_confusion_matrix, calculate_results\n",
    "import matplotlib.pyplot as plt\n",
    "from sklearn.experimental    import enable_iterative_imputer\n",
    "from sklearn.impute          import IterativeImputer\n",
    "from sklearn.experimental    import enable_hist_gradient_boosting\n",
    "from sklearn.ensemble        import HistGradientBoostingRegressor\n",
    "from sklearn.model_selection import KFold\n",
    "from sklearn.metrics         import mean_absolute_error, accuracy_score\n",
    "from tqdm import tqdm\n"
   ],
   "metadata": {
    "collapsed": false
   }
  },
  {
   "cell_type": "markdown",
   "source": [
    "# Load data"
   ],
   "metadata": {
    "collapsed": false
   }
  },
  {
   "cell_type": "code",
   "execution_count": 2,
   "outputs": [
    {
     "data": {
      "text/plain": "           date     district  total population  Under-Five Population  \\\n0    2017-07-01  Adan Yabaal       65262.96000            13052.59200   \n1    2017-07-01         Luuq      100476.76500            20095.35300   \n2    2017-07-01  Buur Hakaba      165968.46000            33193.69200   \n3    2017-07-01        Marka      282222.76500            56444.55300   \n4    2017-07-01    Buuhoodle       71317.71000            14263.54200   \n..          ...          ...               ...                    ...   \n651  2021-07-01  Belet Xaawo               NaN            29314.59999   \n652  2021-07-01        Jilib               NaN            28586.09073   \n653  2021-07-01      Caynabo               NaN            16276.00000   \n654  2021-07-01   Rab Dhuure               NaN            15127.60000   \n655  2021-07-01      Baraawe               NaN            10954.96873   \n\n            GAM         MAM        SAM  GAM Prevalence  SAM Prevalence  \\\n0    4819.01697  3733.04131 1085.97565         0.36920         0.08320   \n1    8673.15435  7366.95641 1306.19795         0.43160         0.06500   \n2   11909.89669  8198.84192 3711.05477         0.35880         0.11180   \n3   20839.32897 16143.14216 4696.18681         0.36920         0.08320   \n4    4858.16241  3652.89311 1205.26930         0.34060         0.08450   \n..          ...         ...        ...             ...             ...   \n651  9820.00000         NaN 1310.00000         0.33499         0.04469   \n652 11560.00000         NaN 2770.00000         0.40439         0.09690   \n653  3540.00000         NaN  270.00000         0.21750         0.01659   \n654  6940.00000         NaN 1560.00000         0.45876         0.10312   \n655  5100.00000         NaN 1060.00000         0.46554         0.09676   \n\n     phase3plus_perc_x  ...  Total alarms  n_conflict_total  Average of centy  \\\n0              0.18000  ...       2.16667               NaN           3.54944   \n1              0.21000  ...       7.83333           1.50000           3.79293   \n2              0.35000  ...       6.16667           4.66667           2.48537   \n3              0.17000  ...      11.83333          11.83333           1.74015   \n4              0.37000  ...       2.33333           2.50000           8.46016   \n..                 ...  ...           ...               ...               ...   \n651            0.15000  ...       3.50000           1.20000           3.43559   \n652            0.11000  ...       6.16667           2.00000           0.64501   \n653            0.17000  ...       0.50000           1.00000           9.28238   \n654            0.07000  ...       0.16667           1.00000           4.24328   \n655            0.06000  ...       2.50000           6.00000           1.10831   \n\n     Average of centx  prevalence_6lag  next_prevalence  month  increase  \\\n0            46.54467              NaN          0.35100      7     False   \n1            42.69760              NaN          0.39260      7     False   \n2            44.00688              NaN          0.28860      7     False   \n3            44.71787              NaN          0.35100      7     False   \n4            46.66129              NaN          0.20280      7     False   \n..                ...              ...              ...    ...       ...   \n651          41.73370          0.38353              NaN      7       NaN   \n652          43.05589          0.31242              NaN      7       NaN   \n653          46.49009          0.25746              NaN      7       NaN   \n654          43.21162          0.50720              NaN      7       NaN   \n655          43.84067          0.49119              NaN      7       NaN   \n\n     increase_numeric  district_encoded  \n0            -0.01820                 0  \n1            -0.03900                59  \n2            -0.07020                24  \n3            -0.01820                60  \n4            -0.13780                23  \n..                ...               ...  \n651               NaN                15  \n652               NaN                51  \n653               NaN                29  \n654               NaN                66  \n655               NaN                11  \n\n[656 rows x 23 columns]",
      "text/html": "<div>\n<style scoped>\n    .dataframe tbody tr th:only-of-type {\n        vertical-align: middle;\n    }\n\n    .dataframe tbody tr th {\n        vertical-align: top;\n    }\n\n    .dataframe thead th {\n        text-align: right;\n    }\n</style>\n<table border=\"1\" class=\"dataframe\">\n  <thead>\n    <tr style=\"text-align: right;\">\n      <th></th>\n      <th>date</th>\n      <th>district</th>\n      <th>total population</th>\n      <th>Under-Five Population</th>\n      <th>GAM</th>\n      <th>MAM</th>\n      <th>SAM</th>\n      <th>GAM Prevalence</th>\n      <th>SAM Prevalence</th>\n      <th>phase3plus_perc_x</th>\n      <th>...</th>\n      <th>Total alarms</th>\n      <th>n_conflict_total</th>\n      <th>Average of centy</th>\n      <th>Average of centx</th>\n      <th>prevalence_6lag</th>\n      <th>next_prevalence</th>\n      <th>month</th>\n      <th>increase</th>\n      <th>increase_numeric</th>\n      <th>district_encoded</th>\n    </tr>\n  </thead>\n  <tbody>\n    <tr>\n      <th>0</th>\n      <td>2017-07-01</td>\n      <td>Adan Yabaal</td>\n      <td>65262.96000</td>\n      <td>13052.59200</td>\n      <td>4819.01697</td>\n      <td>3733.04131</td>\n      <td>1085.97565</td>\n      <td>0.36920</td>\n      <td>0.08320</td>\n      <td>0.18000</td>\n      <td>...</td>\n      <td>2.16667</td>\n      <td>NaN</td>\n      <td>3.54944</td>\n      <td>46.54467</td>\n      <td>NaN</td>\n      <td>0.35100</td>\n      <td>7</td>\n      <td>False</td>\n      <td>-0.01820</td>\n      <td>0</td>\n    </tr>\n    <tr>\n      <th>1</th>\n      <td>2017-07-01</td>\n      <td>Luuq</td>\n      <td>100476.76500</td>\n      <td>20095.35300</td>\n      <td>8673.15435</td>\n      <td>7366.95641</td>\n      <td>1306.19795</td>\n      <td>0.43160</td>\n      <td>0.06500</td>\n      <td>0.21000</td>\n      <td>...</td>\n      <td>7.83333</td>\n      <td>1.50000</td>\n      <td>3.79293</td>\n      <td>42.69760</td>\n      <td>NaN</td>\n      <td>0.39260</td>\n      <td>7</td>\n      <td>False</td>\n      <td>-0.03900</td>\n      <td>59</td>\n    </tr>\n    <tr>\n      <th>2</th>\n      <td>2017-07-01</td>\n      <td>Buur Hakaba</td>\n      <td>165968.46000</td>\n      <td>33193.69200</td>\n      <td>11909.89669</td>\n      <td>8198.84192</td>\n      <td>3711.05477</td>\n      <td>0.35880</td>\n      <td>0.11180</td>\n      <td>0.35000</td>\n      <td>...</td>\n      <td>6.16667</td>\n      <td>4.66667</td>\n      <td>2.48537</td>\n      <td>44.00688</td>\n      <td>NaN</td>\n      <td>0.28860</td>\n      <td>7</td>\n      <td>False</td>\n      <td>-0.07020</td>\n      <td>24</td>\n    </tr>\n    <tr>\n      <th>3</th>\n      <td>2017-07-01</td>\n      <td>Marka</td>\n      <td>282222.76500</td>\n      <td>56444.55300</td>\n      <td>20839.32897</td>\n      <td>16143.14216</td>\n      <td>4696.18681</td>\n      <td>0.36920</td>\n      <td>0.08320</td>\n      <td>0.17000</td>\n      <td>...</td>\n      <td>11.83333</td>\n      <td>11.83333</td>\n      <td>1.74015</td>\n      <td>44.71787</td>\n      <td>NaN</td>\n      <td>0.35100</td>\n      <td>7</td>\n      <td>False</td>\n      <td>-0.01820</td>\n      <td>60</td>\n    </tr>\n    <tr>\n      <th>4</th>\n      <td>2017-07-01</td>\n      <td>Buuhoodle</td>\n      <td>71317.71000</td>\n      <td>14263.54200</td>\n      <td>4858.16241</td>\n      <td>3652.89311</td>\n      <td>1205.26930</td>\n      <td>0.34060</td>\n      <td>0.08450</td>\n      <td>0.37000</td>\n      <td>...</td>\n      <td>2.33333</td>\n      <td>2.50000</td>\n      <td>8.46016</td>\n      <td>46.66129</td>\n      <td>NaN</td>\n      <td>0.20280</td>\n      <td>7</td>\n      <td>False</td>\n      <td>-0.13780</td>\n      <td>23</td>\n    </tr>\n    <tr>\n      <th>...</th>\n      <td>...</td>\n      <td>...</td>\n      <td>...</td>\n      <td>...</td>\n      <td>...</td>\n      <td>...</td>\n      <td>...</td>\n      <td>...</td>\n      <td>...</td>\n      <td>...</td>\n      <td>...</td>\n      <td>...</td>\n      <td>...</td>\n      <td>...</td>\n      <td>...</td>\n      <td>...</td>\n      <td>...</td>\n      <td>...</td>\n      <td>...</td>\n      <td>...</td>\n      <td>...</td>\n    </tr>\n    <tr>\n      <th>651</th>\n      <td>2021-07-01</td>\n      <td>Belet Xaawo</td>\n      <td>NaN</td>\n      <td>29314.59999</td>\n      <td>9820.00000</td>\n      <td>NaN</td>\n      <td>1310.00000</td>\n      <td>0.33499</td>\n      <td>0.04469</td>\n      <td>0.15000</td>\n      <td>...</td>\n      <td>3.50000</td>\n      <td>1.20000</td>\n      <td>3.43559</td>\n      <td>41.73370</td>\n      <td>0.38353</td>\n      <td>NaN</td>\n      <td>7</td>\n      <td>NaN</td>\n      <td>NaN</td>\n      <td>15</td>\n    </tr>\n    <tr>\n      <th>652</th>\n      <td>2021-07-01</td>\n      <td>Jilib</td>\n      <td>NaN</td>\n      <td>28586.09073</td>\n      <td>11560.00000</td>\n      <td>NaN</td>\n      <td>2770.00000</td>\n      <td>0.40439</td>\n      <td>0.09690</td>\n      <td>0.11000</td>\n      <td>...</td>\n      <td>6.16667</td>\n      <td>2.00000</td>\n      <td>0.64501</td>\n      <td>43.05589</td>\n      <td>0.31242</td>\n      <td>NaN</td>\n      <td>7</td>\n      <td>NaN</td>\n      <td>NaN</td>\n      <td>51</td>\n    </tr>\n    <tr>\n      <th>653</th>\n      <td>2021-07-01</td>\n      <td>Caynabo</td>\n      <td>NaN</td>\n      <td>16276.00000</td>\n      <td>3540.00000</td>\n      <td>NaN</td>\n      <td>270.00000</td>\n      <td>0.21750</td>\n      <td>0.01659</td>\n      <td>0.17000</td>\n      <td>...</td>\n      <td>0.50000</td>\n      <td>1.00000</td>\n      <td>9.28238</td>\n      <td>46.49009</td>\n      <td>0.25746</td>\n      <td>NaN</td>\n      <td>7</td>\n      <td>NaN</td>\n      <td>NaN</td>\n      <td>29</td>\n    </tr>\n    <tr>\n      <th>654</th>\n      <td>2021-07-01</td>\n      <td>Rab Dhuure</td>\n      <td>NaN</td>\n      <td>15127.60000</td>\n      <td>6940.00000</td>\n      <td>NaN</td>\n      <td>1560.00000</td>\n      <td>0.45876</td>\n      <td>0.10312</td>\n      <td>0.07000</td>\n      <td>...</td>\n      <td>0.16667</td>\n      <td>1.00000</td>\n      <td>4.24328</td>\n      <td>43.21162</td>\n      <td>0.50720</td>\n      <td>NaN</td>\n      <td>7</td>\n      <td>NaN</td>\n      <td>NaN</td>\n      <td>66</td>\n    </tr>\n    <tr>\n      <th>655</th>\n      <td>2021-07-01</td>\n      <td>Baraawe</td>\n      <td>NaN</td>\n      <td>10954.96873</td>\n      <td>5100.00000</td>\n      <td>NaN</td>\n      <td>1060.00000</td>\n      <td>0.46554</td>\n      <td>0.09676</td>\n      <td>0.06000</td>\n      <td>...</td>\n      <td>2.50000</td>\n      <td>6.00000</td>\n      <td>1.10831</td>\n      <td>43.84067</td>\n      <td>0.49119</td>\n      <td>NaN</td>\n      <td>7</td>\n      <td>NaN</td>\n      <td>NaN</td>\n      <td>11</td>\n    </tr>\n  </tbody>\n</table>\n<p>656 rows × 23 columns</p>\n</div>"
     },
     "execution_count": 2,
     "metadata": {},
     "output_type": "execute_result"
    }
   ],
   "source": [
    "df = pd.read_csv(\"data/semiyearly_chosen_columns.csv\").iloc[:,1:]\n",
    "df"
   ],
   "metadata": {
    "collapsed": false
   }
  },
  {
   "cell_type": "markdown",
   "source": [
    "# Create train and test sets\n",
    "X does not need to drop nan values as HGBR can handle nan inputs"
   ],
   "metadata": {
    "collapsed": false
   }
  },
  {
   "cell_type": "code",
   "execution_count": 3,
   "outputs": [],
   "source": [
    "y = df.next_prevalence.dropna()\n",
    "X = df.select_dtypes(exclude=[\"object\", \"category\"]).iloc[:len(y)].drop(\"next_prevalence\", axis=1)"
   ],
   "metadata": {
    "collapsed": false
   }
  },
  {
   "cell_type": "markdown",
   "source": [
    "# Subsets"
   ],
   "metadata": {
    "collapsed": false
   }
  },
  {
   "cell_type": "code",
   "execution_count": 4,
   "outputs": [],
   "source": [
    "# Function that returns every possible subset (except the empty set) of the input list l\n",
    "def subsets(l: object) -> object:\n",
    "    subset_list = []\n",
    "    for i in range(len(l) + 1):\n",
    "        for j in range(i):\n",
    "            subset_list.append(l[j: i])\n",
    "    return subset_list"
   ],
   "metadata": {
    "collapsed": false
   }
  },
  {
   "cell_type": "markdown",
   "source": [
    "# Cross Validation Training"
   ],
   "metadata": {
    "collapsed": false
   }
  },
  {
   "cell_type": "code",
   "execution_count": 5,
   "outputs": [
    {
     "data": {
      "text/plain": "365"
     },
     "execution_count": 5,
     "metadata": {},
     "output_type": "execute_result"
    }
   ],
   "source": [
    "73*5"
   ],
   "metadata": {
    "collapsed": false
   }
  },
  {
   "cell_type": "code",
   "execution_count": 6,
   "outputs": [
    {
     "name": "stderr",
     "output_type": "stream",
     "text": [
      "100%|██████████| 33/33 [1:20:59<00:00, 147.27s/it]"
     ]
    },
    {
     "name": "stdout",
     "output_type": "stream",
     "text": [
      "Binning 0.000 GB of training data: 0.003 s\n",
      "Fitting gradient boosted rounds:\n",
      "[1/100] 1 tree, 12 leaves, max depth = 6, in 0.003s\n",
      "[2/100] 1 tree, 13 leaves, max depth = 6, in 0.003s\n",
      "[3/100] 1 tree, 14 leaves, max depth = 5, in 0.003s\n",
      "[4/100] 1 tree, 13 leaves, max depth = 6, in 0.003s\n",
      "[5/100] 1 tree, 13 leaves, max depth = 5, in 0.003s\n",
      "[6/100] 1 tree, 14 leaves, max depth = 6, in 0.003s\n",
      "[7/100] 1 tree, 15 leaves, max depth = 6, in 0.003s\n",
      "[8/100] 1 tree, 14 leaves, max depth = 6, in 0.003s\n",
      "[9/100] 1 tree, 14 leaves, max depth = 5, in 0.003s\n",
      "[10/100] 1 tree, 15 leaves, max depth = 6, in 0.003s\n",
      "[11/100] 1 tree, 12 leaves, max depth = 6, in 0.003s\n",
      "[12/100] 1 tree, 15 leaves, max depth = 6, in 0.003s\n",
      "[13/100] 1 tree, 10 leaves, max depth = 6, in 0.003s\n",
      "[14/100] 1 tree, 14 leaves, max depth = 6, in 0.003s\n",
      "[15/100] 1 tree, 9 leaves, max depth = 6, in 0.003s\n",
      "[16/100] 1 tree, 12 leaves, max depth = 6, in 0.003s\n",
      "[17/100] 1 tree, 15 leaves, max depth = 6, in 0.003s\n",
      "[18/100] 1 tree, 9 leaves, max depth = 6, in 0.003s\n",
      "[19/100] 1 tree, 8 leaves, max depth = 6, in 0.003s\n",
      "[20/100] 1 tree, 15 leaves, max depth = 6, in 0.003s\n",
      "[21/100] 1 tree, 10 leaves, max depth = 6, in 0.002s\n",
      "[22/100] 1 tree, 8 leaves, max depth = 6, in 0.003s\n",
      "[23/100] 1 tree, 15 leaves, max depth = 6, in 0.003s\n",
      "[24/100] 1 tree, 8 leaves, max depth = 6, in 0.003s\n",
      "[25/100] 1 tree, 9 leaves, max depth = 6, in 0.002s\n",
      "[26/100] 1 tree, 15 leaves, max depth = 6, in 0.004s\n",
      "[27/100] 1 tree, 9 leaves, max depth = 6, in 0.003s\n",
      "[28/100] 1 tree, 15 leaves, max depth = 6, in 0.003s\n",
      "[29/100] 1 tree, 8 leaves, max depth = 6, in 0.002s\n",
      "[30/100] 1 tree, 8 leaves, max depth = 6, in 0.002s\n",
      "[31/100] 1 tree, 15 leaves, max depth = 6, in 0.003s\n",
      "[32/100] 1 tree, 9 leaves, max depth = 6, in 0.003s\n",
      "[33/100] 1 tree, 9 leaves, max depth = 6, in 0.003s\n",
      "[34/100] 1 tree, 15 leaves, max depth = 6, in 0.004s\n",
      "[35/100] 1 tree, 9 leaves, max depth = 6, in 0.002s\n",
      "[36/100] 1 tree, 11 leaves, max depth = 6, in 0.003s\n",
      "[37/100] 1 tree, 12 leaves, max depth = 6, in 0.003s\n",
      "[38/100] 1 tree, 9 leaves, max depth = 6, in 0.002s\n",
      "[39/100] 1 tree, 8 leaves, max depth = 6, in 0.002s\n",
      "[40/100] 1 tree, 11 leaves, max depth = 6, in 0.003s\n",
      "[41/100] 1 tree, 12 leaves, max depth = 6, in 0.003s\n",
      "[42/100] 1 tree, 12 leaves, max depth = 6, in 0.003s\n",
      "[43/100] 1 tree, 9 leaves, max depth = 6, in 0.003s\n",
      "[44/100] 1 tree, 10 leaves, max depth = 6, in 0.003s\n",
      "[45/100] 1 tree, 9 leaves, max depth = 6, in 0.003s\n",
      "[46/100] 1 tree, 11 leaves, max depth = 6, in 0.003s\n",
      "[47/100] 1 tree, 10 leaves, max depth = 6, in 0.002s\n",
      "[48/100] 1 tree, 14 leaves, max depth = 6, in 0.003s\n",
      "[49/100] 1 tree, 9 leaves, max depth = 6, in 0.003s\n",
      "[50/100] 1 tree, 11 leaves, max depth = 6, in 0.003s\n",
      "[51/100] 1 tree, 11 leaves, max depth = 6, in 0.003s\n",
      "[52/100] 1 tree, 11 leaves, max depth = 6, in 0.003s\n",
      "[53/100] 1 tree, 14 leaves, max depth = 6, in 0.003s\n",
      "[54/100] 1 tree, 11 leaves, max depth = 6, in 0.003s\n",
      "[55/100] "
     ]
    },
    {
     "name": "stderr",
     "output_type": "stream",
     "text": [
      "\n"
     ]
    },
    {
     "name": "stdout",
     "output_type": "stream",
     "text": [
      "1 tree, 8 leaves, max depth = 6, in 0.003s\n",
      "[56/100] 1 tree, 11 leaves, max depth = 6, in 0.003s\n",
      "[57/100] 1 tree, 10 leaves, max depth = 6, in 0.003s\n",
      "[58/100] 1 tree, 10 leaves, max depth = 6, in 0.003s\n",
      "[59/100] 1 tree, 9 leaves, max depth = 6, in 0.003s\n",
      "[60/100] 1 tree, 9 leaves, max depth = 6, in 0.002s\n",
      "[61/100] 1 tree, 12 leaves, max depth = 6, in 0.003s\n",
      "[62/100] 1 tree, 13 leaves, max depth = 6, in 0.003s\n",
      "[63/100] 1 tree, 11 leaves, max depth = 6, in 0.003s\n",
      "[64/100] 1 tree, 9 leaves, max depth = 6, in 0.002s\n",
      "[65/100] 1 tree, 11 leaves, max depth = 6, in 0.003s\n",
      "[66/100] 1 tree, 10 leaves, max depth = 6, in 0.002s\n",
      "[67/100] 1 tree, 8 leaves, max depth = 6, in 0.002s\n",
      "[68/100] 1 tree, 10 leaves, max depth = 6, in 0.002s\n",
      "[69/100] 1 tree, 11 leaves, max depth = 6, in 0.002s\n",
      "[70/100] 1 tree, 10 leaves, max depth = 6, in 0.002s\n",
      "[71/100] 1 tree, 11 leaves, max depth = 6, in 0.002s\n",
      "[72/100] 1 tree, 10 leaves, max depth = 6, in 0.003s\n",
      "[73/100] 1 tree, 7 leaves, max depth = 6, in 0.002s\n",
      "[74/100] 1 tree, 13 leaves, max depth = 6, in 0.003s\n",
      "[75/100] 1 tree, 14 leaves, max depth = 6, in 0.003s\n",
      "[76/100] 1 tree, 10 leaves, max depth = 6, in 0.003s\n",
      "[77/100] 1 tree, 11 leaves, max depth = 6, in 0.003s\n",
      "[78/100] 1 tree, 10 leaves, max depth = 6, in 0.003s\n",
      "[79/100] 1 tree, 11 leaves, max depth = 6, in 0.003s\n",
      "[80/100] 1 tree, 9 leaves, max depth = 6, in 0.003s\n",
      "[81/100] 1 tree, 12 leaves, max depth = 6, in 0.005s\n",
      "[82/100] 1 tree, 11 leaves, max depth = 6, in 0.004s\n",
      "[83/100] 1 tree, 9 leaves, max depth = 6, in 0.004s\n",
      "[84/100] 1 tree, 15 leaves, max depth = 6, in 0.004s\n",
      "[85/100] 1 tree, 10 leaves, max depth = 6, in 0.003s\n",
      "[86/100] 1 tree, 13 leaves, max depth = 6, in 0.005s\n",
      "[87/100] 1 tree, 13 leaves, max depth = 6, in 0.004s\n",
      "[88/100] 1 tree, 10 leaves, max depth = 6, in 0.003s\n",
      "[89/100] 1 tree, 11 leaves, max depth = 6, in 0.003s\n",
      "[90/100] 1 tree, 8 leaves, max depth = 6, in 0.003s\n",
      "[91/100] 1 tree, 8 leaves, max depth = 6, in 0.003s\n",
      "[92/100] 1 tree, 12 leaves, max depth = 6, in 0.003s\n",
      "[93/100] 1 tree, 10 leaves, max depth = 6, in 0.004s\n",
      "[94/100] 1 tree, 13 leaves, max depth = 6, in 0.003s\n",
      "[95/100] 1 tree, 13 leaves, max depth = 6, in 0.007s\n",
      "[96/100] 1 tree, 7 leaves, max depth = 6, in 0.003s\n",
      "[97/100] 1 tree, 13 leaves, max depth = 6, in 0.003s\n",
      "[98/100] 1 tree, 8 leaves, max depth = 6, in 0.002s\n",
      "[99/100] 1 tree, 14 leaves, max depth = 6, in 0.004s\n",
      "[100/100] 1 tree, 13 leaves, max depth = 6, in 0.003s\n",
      "Fit 100 trees in 0.306 s, (1114 total leaves)\n",
      "Time spent computing histograms: 0.045s\n",
      "Time spent finding best splits:  0.021s\n",
      "Time spent applying splits:      0.044s\n",
      "Time spent predicting:           0.003s\n"
     ]
    }
   ],
   "source": [
    "# Define search space for number of trees in random forest and depth of trees\n",
    "num_trees_min = 31\n",
    "num_trees_max = 64\n",
    "\n",
    "depth_min = 2\n",
    "depth_max = 7\n",
    "\n",
    "parameter_scores = []\n",
    "\n",
    "for num_trees in tqdm(range(num_trees_min, num_trees_max)):\n",
    "\n",
    "    for depth in range(depth_min, depth_max):\n",
    "\n",
    "        # Investigate every subset of explanatory variables\n",
    "        for features in subsets(X.columns):\n",
    "            # First CV split. The 219 refers to the first 3 observations for the 73 districts in the data.\n",
    "            Xtrain = X[:219][features].copy().values\n",
    "            ytrain = y[:219]\n",
    "            Xtest = X[219:292][features].copy().values\n",
    "            ytest = y[219:292]\n",
    "\n",
    "            # Create a RandomForestRegressor with the selected hyperparameters and random state 0.\n",
    "            clf = HistGradientBoostingRegressor(max_leaf_nodes=num_trees, max_depth=depth, random_state=0)\n",
    "\n",
    "            # Fit to the training data\n",
    "            clf.fit(Xtrain, ytrain)\n",
    "\n",
    "            # Make a prediction on the test data\n",
    "            predictions = clf.predict(Xtest)\n",
    "\n",
    "            # Calculate mean absolute error\n",
    "            MAE1 = mean_absolute_error(ytest, predictions)\n",
    "\n",
    "            # Second CV split. The 292 refers to the first 4 observations for the 73 districts in the data.\n",
    "            Xtrain = X[:292][features].copy().values\n",
    "            ytrain = y[:292]\n",
    "            Xtest = X[292:365][features].copy().values\n",
    "            ytest = y[292:365]\n",
    "\n",
    "            # Create a RandomForestRegressor with the selected hyperparameters and random state 0.\n",
    "            clf = HistGradientBoostingRegressor(max_leaf_nodes=num_trees, max_depth=depth, random_state=0)\n",
    "\n",
    "            # Fit to the training data\n",
    "            clf.fit(Xtrain, ytrain)\n",
    "\n",
    "            # Make a prediction on the test data\n",
    "            predictions = clf.predict(Xtest)\n",
    "\n",
    "            # Calculate mean absolute error\n",
    "            MAE2 = mean_absolute_error(ytest, predictions)\n",
    "\n",
    "            # Calculate the mean MAE over the two folds\n",
    "            mean_MAE = (MAE1 + MAE2) / 2\n",
    "\n",
    "            # Store the mean MAE together with the used hyperparameters in list\n",
    "            parameter_scores.append((mean_MAE, num_trees, depth, features))\n",
    "\n",
    "# Sort the models based on score and retrieve the hyperparameters of the best model\n",
    "parameter_scores.sort(key=lambda x: x[0])\n",
    "best_model_score = parameter_scores[0][0]\n",
    "best_model_trees = parameter_scores[0][1]\n",
    "best_model_depth = parameter_scores[0][2]\n",
    "best_model_columns = list(parameter_scores[0][3])\n",
    "\n",
    "'''------------SECTION FINAL EVALUATION--------------'''\n",
    "y = df['next_prevalence'].values\n",
    "X = df[best_model_columns].values\n",
    "\n",
    "# If there is only one explanatory variable, the values need to be reshaped for the model\n",
    "if len(best_model_columns) == 1:\n",
    "    X = X.reshape(-1, 1)\n",
    "\n",
    "# Peform evaluation on full data\n",
    "Xtrain = X[:365]\n",
    "ytrain = y[:365]\n",
    "Xtest = X[365:]\n",
    "ytest = y[365:]\n",
    "\n",
    "clf = HistGradientBoostingRegressor(max_leaf_nodes=best_model_trees, max_depth=best_model_depth, random_state=0, verbose=1)\n",
    "clf.fit(Xtrain, ytrain)\n",
    "predictions = clf.predict(Xtest)"
   ],
   "metadata": {
    "collapsed": false
   }
  },
  {
   "cell_type": "markdown",
   "source": [
    "# Evaluate\n",
    "These metrics are incorrect. Check `Histogram Gradient Boosting Evaluation.ipynb` instead."
   ],
   "metadata": {
    "collapsed": false
   }
  },
  {
   "cell_type": "code",
   "execution_count": 13,
   "outputs": [
    {
     "data": {
      "text/plain": "(291, 291)"
     },
     "execution_count": 13,
     "metadata": {},
     "output_type": "execute_result"
    }
   ],
   "source": [
    "# Calculate MAE\n",
    "y_true = pd.Series(ytest[:-73]).drop([55,59],axis=0)\n",
    "y_pred = pd.Series(predictions[:-73]).drop([55,59],axis=0)\n",
    "#MAE = mean_absolute_error(ytest, predictions)\n",
    "MAE = mean_absolute_error(y_true, y_pred)\n",
    "\n",
    "# Generate boolean values for increase or decrease in prevalence. 0 if next prevalence is smaller than current prevalence, 1 otherwise.\n",
    "increase = np.where(df.iloc[365:][\"next_prevalence\"] < df.iloc[365:][\"GAM Prevalence\"],0,1)\n",
    "predicted_increase = np.where(predictions < df.iloc[365:][\"GAM Prevalence\"],0,1)\n",
    "\n",
    "len(increase), len(predicted_increase)"
   ],
   "metadata": {
    "collapsed": false
   }
  },
  {
   "cell_type": "code",
   "execution_count": 16,
   "outputs": [
    {
     "name": "stdout",
     "output_type": "stream",
     "text": [
      "no. of leaves: 31\n",
      "max_depth: 6\n",
      "columns: ['GAM Prevalence', 'SAM Prevalence', 'phase3plus_perc_x', 'rainfall', 'ndvi_score', 'Price of water', 'Total alarms', 'n_conflict_total', 'Average of centy', 'Average of centx', 'prevalence_6lag', 'month', 'increase_numeric']\n",
      "MAE: 0.0211, Accuracy: 73.5%\n"
     ]
    }
   ],
   "source": [
    "# Calculate accuracy of predicted boolean increase/decrease\n",
    "acc = accuracy_score(increase, predicted_increase)\n",
    "\n",
    "# Print model parameters\n",
    "print('no. of leaves: ' + str(best_model_trees) + '\\nmax_depth: ' + str(best_model_depth) + '\\ncolumns: ' + str(\n",
    "    best_model_columns))\n",
    "\n",
    "# Print model scores\n",
    "print(f\"MAE: {np.round(MAE,4)}, Accuracy: {np.round(acc,3)*100}%\")"
   ],
   "metadata": {
    "collapsed": false
   }
  },
  {
   "cell_type": "code",
   "execution_count": 17,
   "outputs": [
    {
     "data": {
      "text/plain": "{'accuracy': 73.53951890034365,\n 'precision': 0.7749526732045782,\n 'recall': 0.7353951890034365,\n 'f1': 0.7373683325310192}"
     },
     "execution_count": 17,
     "metadata": {},
     "output_type": "execute_result"
    }
   ],
   "source": [
    "calculate_results(y_true=increase, y_pred=predicted_increase)"
   ],
   "metadata": {
    "collapsed": false
   }
  },
  {
   "cell_type": "code",
   "execution_count": 19,
   "outputs": [
    {
     "data": {
      "text/plain": "<Figure size 576x576 with 2 Axes>",
      "image/png": "[encoded data removed]"
     },
     "metadata": {
      "needs_background": "light"
     },
     "output_type": "display_data"
    }
   ],
   "source": [
    "make_confusion_matrix(y_true=increase, y_pred=predicted_increase,classes=[\"Increase\", \"Decrease\"],title=\"Confusion Matrix for Histogram Gradient Boosting Model\", cmap=plt.cm.Purples, figsize=(8,8))"
   ],
   "metadata": {
    "collapsed": false
   }
  }
 ],
 "metadata": {
  "kernelspec": {
   "display_name": "Python 3",
   "language": "python",
   "name": "python3"
  },
  "language_info": {
   "codemirror_mode": {
    "name": "ipython",
    "version": 2
   },
   "file_extension": ".py",
   "mimetype": "text/x-python",
   "name": "python",
   "nbconvert_exporter": "python",
   "pygments_lexer": "ipython2",
   "version": "2.7.6"
  }
 },
 "nbformat": 4,
 "nbformat_minor": 0
}
