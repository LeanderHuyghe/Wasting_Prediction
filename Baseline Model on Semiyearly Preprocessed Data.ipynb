{
 "cells": [
  {
   "cell_type": "markdown",
   "source": [
    "## Imports"
   ],
   "metadata": {
    "collapsed": false
   }
  },
  {
   "cell_type": "code",
   "execution_count": 81,
   "outputs": [],
   "source": [
    "\"\"\"------------SECTION IMPORTS---------------------\"\"\"\n",
    "import numpy as np\n",
    "import pandas as pd\n",
    "from sklearn.ensemble import RandomForestRegressor\n",
    "from sklearn.metrics import mean_absolute_error, accuracy_score\n",
    "import joblib\n",
    "import warnings\n",
    "warnings.filterwarnings(\"ignore\")\n",
    "import tqdm\n",
    "'''------------SECTION USER VARIABLES--------------'''\n",
    "# Define the path to your datafolder below\n",
    "your_datapath = '../data/'\n",
    "\n",
    "# Define search space for number of trees in random forest and depth of trees\n",
    "num_trees_min = 64\n",
    "num_trees_max = 128\n",
    "\n",
    "depth_min = 2\n",
    "depth_max = 7"
   ],
   "metadata": {
    "collapsed": false
   }
  },
  {
   "cell_type": "markdown",
   "source": [
    "# Useful functions"
   ],
   "metadata": {
    "collapsed": false
   }
  },
  {
   "cell_type": "code",
   "execution_count": 44,
   "outputs": [],
   "source": [
    "# Function that returns every possible subset (except the empty set) of the input list l\n",
    "def subsets(l: object) -> object:\n",
    "    subset_list = []\n",
    "    for i in range(len(l) + 1):\n",
    "        for j in range(i):\n",
    "            subset_list.append(l[j: i])\n",
    "    return subset_list"
   ],
   "metadata": {
    "collapsed": false
   }
  },
  {
   "cell_type": "markdown",
   "source": [
    "# Import data\n",
    "NaN data needs to be dropped for RF to work\n",
    "1. I drop the columns which have NaN values which is all the new data\n",
    "2. I create a new dataframe which has no columns containing NaN values\n",
    "3. Copy the `next_prevalence` column to this dataframe and once again drop rows containing NaN"
   ],
   "metadata": {
    "collapsed": false
   }
  },
  {
   "cell_type": "code",
   "execution_count": 95,
   "outputs": [],
   "source": [
    "df = pd.read_csv(\"semiyearly_data.csv\")\n",
    "df2 = df.dropna(axis=1)\n",
    "df2[\"next_prevalence\"]= df[\"next_prevalence\"]\n",
    "df2 = df2.dropna(axis=0)"
   ],
   "metadata": {
    "collapsed": false
   }
  },
  {
   "cell_type": "code",
   "execution_count": 96,
   "outputs": [
    {
     "data": {
      "text/plain": "Unnamed: 0               0\nUnnamed: 0.2             0\nUnnamed: 0.1_x           0\nUnnamed: 0_x             0\ndate                     0\ndistrict_x               0\nUnder-Five Population    0\nGAM                      0\nSAM                      0\nGAM Prevalence           0\nSAM Prevalence           0\nSAM/GAM ratio            0\ndistrict                 0\nmonth                    0\ndistrict_encoded         0\nnext_prevalence          0\ndtype: int64"
     },
     "execution_count": 96,
     "metadata": {},
     "output_type": "execute_result"
    }
   ],
   "source": [
    "df2.isna().sum()"
   ],
   "metadata": {
    "collapsed": false
   }
  },
  {
   "cell_type": "code",
   "execution_count": 97,
   "outputs": [
    {
     "data": {
      "text/plain": "Unnamed: 0                 int64\nUnnamed: 0.2               int64\nUnnamed: 0.1_x             int64\nUnnamed: 0_x               int64\ndate                      object\ndistrict_x                object\nUnder-Five Population    float64\nGAM                      float64\nSAM                      float64\nGAM Prevalence           float64\nSAM Prevalence           float64\nSAM/GAM ratio            float64\ndistrict                  object\nmonth                      int64\ndistrict_encoded           int64\nnext_prevalence          float64\ndtype: object"
     },
     "execution_count": 97,
     "metadata": {},
     "output_type": "execute_result"
    }
   ],
   "source": [
    "# Inspect the dtypes of each column\n",
    "df2.dtypes"
   ],
   "metadata": {
    "collapsed": false
   }
  },
  {
   "cell_type": "code",
   "execution_count": 98,
   "outputs": [],
   "source": [
    "df = df2.copy()"
   ],
   "metadata": {
    "collapsed": false
   }
  },
  {
   "cell_type": "code",
   "execution_count": 99,
   "outputs": [
    {
     "data": {
      "text/plain": "     Unnamed: 0  Unnamed: 0.2  Unnamed: 0.1_x  Unnamed: 0_x        date  \\\n0             0           605             605           605  2017-07-01   \n1             1           656             656           656  2017-07-01   \n2             2           624             624           624  2017-07-01   \n3             3           657             657           657  2017-07-01   \n4             4           623             623           623  2017-07-01   \n..          ...           ...             ...           ...         ...   \n599         599            96              96            96  2021-01-01   \n600         600           102             102           102  2021-01-01   \n601         601           122             122           122  2021-01-01   \n602         602           127             127           127  2021-01-01   \n667         667            64              64            64  2021-07-01   \n\n      district_x  Under-Five Population         GAM        SAM  \\\n0    Adan Yabaal            13052.59200  4819.01697 1085.97565   \n1        Lughaye            14053.64400  5334.76326 1114.45397   \n2      Buuhoodle            14263.54200  4858.16241 1205.26930   \n3           Luuq            20095.35300  8673.15435 1306.19795   \n4       Burtinle            22546.85400 10200.19675 1700.03279   \n..           ...                    ...         ...        ...   \n599      Qandala            10505.00000  3730.00000  600.00000   \n600     Galdogob            14515.00000  6560.00000 1330.00000   \n601    Qoryooley            41555.00000 19090.00000 3135.00000   \n602     Diinsoor            27915.00000 13745.00000 2235.00000   \n667      Baraawe            12659.08591  5680.00000 1030.00000   \n\n     GAM Prevalence  SAM Prevalence  SAM/GAM ratio     district  month  \\\n0           0.36920         0.08320        0.22535  Adan Yabaal      7   \n1           0.37960         0.07930        0.20890      Lughaye      7   \n2           0.34060         0.08450        0.24809    Buuhoodle      7   \n3           0.43160         0.06500        0.15060         Luuq      7   \n4           0.45240         0.07540        0.16667     Burtinle      7   \n..              ...             ...            ...          ...    ...   \n599         0.35507         0.05712        0.16086      Qandala      1   \n600         0.45195         0.09163        0.20274     Galdogob      1   \n601         0.45939         0.07544        0.16422    Qoryooley      1   \n602         0.49239         0.08006        0.16260     Diinsoor      1   \n667         0.44869         0.08136        0.18134      Baraawe      7   \n\n     district_encoded  next_prevalence  \n0                   0          0.35100  \n1                  58          0.16900  \n2                  23          0.20280  \n3                  59          0.39260  \n4                  22          0.37960  \n..                ...              ...  \n599                62          0.33217  \n600                41          0.45734  \n601                65          0.45122  \n602                37          0.41964  \n667                11          0.46554  \n\n[600 rows x 16 columns]",
      "text/html": "<div>\n<style scoped>\n    .dataframe tbody tr th:only-of-type {\n        vertical-align: middle;\n    }\n\n    .dataframe tbody tr th {\n        vertical-align: top;\n    }\n\n    .dataframe thead th {\n        text-align: right;\n    }\n</style>\n<table border=\"1\" class=\"dataframe\">\n  <thead>\n    <tr style=\"text-align: right;\">\n      <th></th>\n      <th>Unnamed: 0</th>\n      <th>Unnamed: 0.2</th>\n      <th>Unnamed: 0.1_x</th>\n      <th>Unnamed: 0_x</th>\n      <th>date</th>\n      <th>district_x</th>\n      <th>Under-Five Population</th>\n      <th>GAM</th>\n      <th>SAM</th>\n      <th>GAM Prevalence</th>\n      <th>SAM Prevalence</th>\n      <th>SAM/GAM ratio</th>\n      <th>district</th>\n      <th>month</th>\n      <th>district_encoded</th>\n      <th>next_prevalence</th>\n    </tr>\n  </thead>\n  <tbody>\n    <tr>\n      <th>0</th>\n      <td>0</td>\n      <td>605</td>\n      <td>605</td>\n      <td>605</td>\n      <td>2017-07-01</td>\n      <td>Adan Yabaal</td>\n      <td>13052.59200</td>\n      <td>4819.01697</td>\n      <td>1085.97565</td>\n      <td>0.36920</td>\n      <td>0.08320</td>\n      <td>0.22535</td>\n      <td>Adan Yabaal</td>\n      <td>7</td>\n      <td>0</td>\n      <td>0.35100</td>\n    </tr>\n    <tr>\n      <th>1</th>\n      <td>1</td>\n      <td>656</td>\n      <td>656</td>\n      <td>656</td>\n      <td>2017-07-01</td>\n      <td>Lughaye</td>\n      <td>14053.64400</td>\n      <td>5334.76326</td>\n      <td>1114.45397</td>\n      <td>0.37960</td>\n      <td>0.07930</td>\n      <td>0.20890</td>\n      <td>Lughaye</td>\n      <td>7</td>\n      <td>58</td>\n      <td>0.16900</td>\n    </tr>\n    <tr>\n      <th>2</th>\n      <td>2</td>\n      <td>624</td>\n      <td>624</td>\n      <td>624</td>\n      <td>2017-07-01</td>\n      <td>Buuhoodle</td>\n      <td>14263.54200</td>\n      <td>4858.16241</td>\n      <td>1205.26930</td>\n      <td>0.34060</td>\n      <td>0.08450</td>\n      <td>0.24809</td>\n      <td>Buuhoodle</td>\n      <td>7</td>\n      <td>23</td>\n      <td>0.20280</td>\n    </tr>\n    <tr>\n      <th>3</th>\n      <td>3</td>\n      <td>657</td>\n      <td>657</td>\n      <td>657</td>\n      <td>2017-07-01</td>\n      <td>Luuq</td>\n      <td>20095.35300</td>\n      <td>8673.15435</td>\n      <td>1306.19795</td>\n      <td>0.43160</td>\n      <td>0.06500</td>\n      <td>0.15060</td>\n      <td>Luuq</td>\n      <td>7</td>\n      <td>59</td>\n      <td>0.39260</td>\n    </tr>\n    <tr>\n      <th>4</th>\n      <td>4</td>\n      <td>623</td>\n      <td>623</td>\n      <td>623</td>\n      <td>2017-07-01</td>\n      <td>Burtinle</td>\n      <td>22546.85400</td>\n      <td>10200.19675</td>\n      <td>1700.03279</td>\n      <td>0.45240</td>\n      <td>0.07540</td>\n      <td>0.16667</td>\n      <td>Burtinle</td>\n      <td>7</td>\n      <td>22</td>\n      <td>0.37960</td>\n    </tr>\n    <tr>\n      <th>...</th>\n      <td>...</td>\n      <td>...</td>\n      <td>...</td>\n      <td>...</td>\n      <td>...</td>\n      <td>...</td>\n      <td>...</td>\n      <td>...</td>\n      <td>...</td>\n      <td>...</td>\n      <td>...</td>\n      <td>...</td>\n      <td>...</td>\n      <td>...</td>\n      <td>...</td>\n      <td>...</td>\n    </tr>\n    <tr>\n      <th>599</th>\n      <td>599</td>\n      <td>96</td>\n      <td>96</td>\n      <td>96</td>\n      <td>2021-01-01</td>\n      <td>Qandala</td>\n      <td>10505.00000</td>\n      <td>3730.00000</td>\n      <td>600.00000</td>\n      <td>0.35507</td>\n      <td>0.05712</td>\n      <td>0.16086</td>\n      <td>Qandala</td>\n      <td>1</td>\n      <td>62</td>\n      <td>0.33217</td>\n    </tr>\n    <tr>\n      <th>600</th>\n      <td>600</td>\n      <td>102</td>\n      <td>102</td>\n      <td>102</td>\n      <td>2021-01-01</td>\n      <td>Galdogob</td>\n      <td>14515.00000</td>\n      <td>6560.00000</td>\n      <td>1330.00000</td>\n      <td>0.45195</td>\n      <td>0.09163</td>\n      <td>0.20274</td>\n      <td>Galdogob</td>\n      <td>1</td>\n      <td>41</td>\n      <td>0.45734</td>\n    </tr>\n    <tr>\n      <th>601</th>\n      <td>601</td>\n      <td>122</td>\n      <td>122</td>\n      <td>122</td>\n      <td>2021-01-01</td>\n      <td>Qoryooley</td>\n      <td>41555.00000</td>\n      <td>19090.00000</td>\n      <td>3135.00000</td>\n      <td>0.45939</td>\n      <td>0.07544</td>\n      <td>0.16422</td>\n      <td>Qoryooley</td>\n      <td>1</td>\n      <td>65</td>\n      <td>0.45122</td>\n    </tr>\n    <tr>\n      <th>602</th>\n      <td>602</td>\n      <td>127</td>\n      <td>127</td>\n      <td>127</td>\n      <td>2021-01-01</td>\n      <td>Diinsoor</td>\n      <td>27915.00000</td>\n      <td>13745.00000</td>\n      <td>2235.00000</td>\n      <td>0.49239</td>\n      <td>0.08006</td>\n      <td>0.16260</td>\n      <td>Diinsoor</td>\n      <td>1</td>\n      <td>37</td>\n      <td>0.41964</td>\n    </tr>\n    <tr>\n      <th>667</th>\n      <td>667</td>\n      <td>64</td>\n      <td>64</td>\n      <td>64</td>\n      <td>2021-07-01</td>\n      <td>Baraawe</td>\n      <td>12659.08591</td>\n      <td>5680.00000</td>\n      <td>1030.00000</td>\n      <td>0.44869</td>\n      <td>0.08136</td>\n      <td>0.18134</td>\n      <td>Baraawe</td>\n      <td>7</td>\n      <td>11</td>\n      <td>0.46554</td>\n    </tr>\n  </tbody>\n</table>\n<p>600 rows × 16 columns</p>\n</div>"
     },
     "execution_count": 99,
     "metadata": {},
     "output_type": "execute_result"
    }
   ],
   "source": [
    "df"
   ],
   "metadata": {
    "collapsed": false
   }
  },
  {
   "cell_type": "markdown",
   "source": [
    "## RF-CV"
   ],
   "metadata": {
    "collapsed": false
   }
  },
  {
   "cell_type": "code",
   "execution_count": 100,
   "outputs": [],
   "source": [
    "'''------------SECTION RANDOM FOREST CROSS VALIDATION--------------'''\n",
    "# WARNING: this process can take some time, since there are a lot of hyperparameters to investigate. The search space can be manually reduced to speed up the process.\n",
    "\n",
    "# Create empty list to store model scores\n",
    "parameter_scores = []\n",
    "\n",
    "# Define target and explanatory variables\n",
    "X = df.select_dtypes(exclude=[\"category\",\"object\"])\n",
    "y = df['next_prevalence'].values"
   ],
   "metadata": {
    "collapsed": false
   }
  },
  {
   "cell_type": "code",
   "execution_count": 101,
   "outputs": [
    {
     "data": {
      "text/plain": "   Unnamed: 0  Unnamed: 0.2  Unnamed: 0.1_x  Unnamed: 0_x  \\\n0           0           605             605           605   \n1           1           656             656           656   \n2           2           624             624           624   \n3           3           657             657           657   \n4           4           623             623           623   \n\n   Under-Five Population         GAM        SAM  GAM Prevalence  \\\n0            13052.59200  4819.01697 1085.97565         0.36920   \n1            14053.64400  5334.76326 1114.45397         0.37960   \n2            14263.54200  4858.16241 1205.26930         0.34060   \n3            20095.35300  8673.15435 1306.19795         0.43160   \n4            22546.85400 10200.19675 1700.03279         0.45240   \n\n   SAM Prevalence  SAM/GAM ratio  month  district_encoded  next_prevalence  \n0         0.08320        0.22535      7                 0          0.35100  \n1         0.07930        0.20890      7                58          0.16900  \n2         0.08450        0.24809      7                23          0.20280  \n3         0.06500        0.15060      7                59          0.39260  \n4         0.07540        0.16667      7                22          0.37960  ",
      "text/html": "<div>\n<style scoped>\n    .dataframe tbody tr th:only-of-type {\n        vertical-align: middle;\n    }\n\n    .dataframe tbody tr th {\n        vertical-align: top;\n    }\n\n    .dataframe thead th {\n        text-align: right;\n    }\n</style>\n<table border=\"1\" class=\"dataframe\">\n  <thead>\n    <tr style=\"text-align: right;\">\n      <th></th>\n      <th>Unnamed: 0</th>\n      <th>Unnamed: 0.2</th>\n      <th>Unnamed: 0.1_x</th>\n      <th>Unnamed: 0_x</th>\n      <th>Under-Five Population</th>\n      <th>GAM</th>\n      <th>SAM</th>\n      <th>GAM Prevalence</th>\n      <th>SAM Prevalence</th>\n      <th>SAM/GAM ratio</th>\n      <th>month</th>\n      <th>district_encoded</th>\n      <th>next_prevalence</th>\n    </tr>\n  </thead>\n  <tbody>\n    <tr>\n      <th>0</th>\n      <td>0</td>\n      <td>605</td>\n      <td>605</td>\n      <td>605</td>\n      <td>13052.59200</td>\n      <td>4819.01697</td>\n      <td>1085.97565</td>\n      <td>0.36920</td>\n      <td>0.08320</td>\n      <td>0.22535</td>\n      <td>7</td>\n      <td>0</td>\n      <td>0.35100</td>\n    </tr>\n    <tr>\n      <th>1</th>\n      <td>1</td>\n      <td>656</td>\n      <td>656</td>\n      <td>656</td>\n      <td>14053.64400</td>\n      <td>5334.76326</td>\n      <td>1114.45397</td>\n      <td>0.37960</td>\n      <td>0.07930</td>\n      <td>0.20890</td>\n      <td>7</td>\n      <td>58</td>\n      <td>0.16900</td>\n    </tr>\n    <tr>\n      <th>2</th>\n      <td>2</td>\n      <td>624</td>\n      <td>624</td>\n      <td>624</td>\n      <td>14263.54200</td>\n      <td>4858.16241</td>\n      <td>1205.26930</td>\n      <td>0.34060</td>\n      <td>0.08450</td>\n      <td>0.24809</td>\n      <td>7</td>\n      <td>23</td>\n      <td>0.20280</td>\n    </tr>\n    <tr>\n      <th>3</th>\n      <td>3</td>\n      <td>657</td>\n      <td>657</td>\n      <td>657</td>\n      <td>20095.35300</td>\n      <td>8673.15435</td>\n      <td>1306.19795</td>\n      <td>0.43160</td>\n      <td>0.06500</td>\n      <td>0.15060</td>\n      <td>7</td>\n      <td>59</td>\n      <td>0.39260</td>\n    </tr>\n    <tr>\n      <th>4</th>\n      <td>4</td>\n      <td>623</td>\n      <td>623</td>\n      <td>623</td>\n      <td>22546.85400</td>\n      <td>10200.19675</td>\n      <td>1700.03279</td>\n      <td>0.45240</td>\n      <td>0.07540</td>\n      <td>0.16667</td>\n      <td>7</td>\n      <td>22</td>\n      <td>0.37960</td>\n    </tr>\n  </tbody>\n</table>\n</div>"
     },
     "execution_count": 101,
     "metadata": {},
     "output_type": "execute_result"
    }
   ],
   "source": [
    "X.head()"
   ],
   "metadata": {
    "collapsed": false
   }
  },
  {
   "cell_type": "code",
   "execution_count": 102,
   "outputs": [
    {
     "data": {
      "text/plain": "array([0.351     , 0.169     , 0.2028    , 0.3926    , 0.3796    ,\n       0.351     , 0.2028    , 0.3926    , 0.3432    , 0.3926    ,\n       0.2886    , 0.3432    , 0.3432    , 0.169     , 0.351     ,\n       0.1976    , 0.4862    , 0.3926    , 0.3926    , 0.3926    ,\n       0.2028    , 0.2912    , 0.351     , 0.3692    , 0.4862    ,\n       0.3432    , 0.4862    , 0.2912    , 0.2886    , 0.351     ,\n       0.2912    , 0.351     , 0.3796    , 0.4004    , 0.3926    ,\n       0.3926    , 0.2886    , 0.3796    , 0.4212    , 0.1976    ,\n       0.3367    , 0.1976    , 0.3926    , 0.4004    , 0.4212    ,\n       0.3432    , 0.4212    , 0.3926    , 0.4862    , 0.3926    ,\n       0.3367    , 0.4004    , 0.2912    , 0.3926    , 0.3432    ,\n       0.351     , 0.351     , 0.3926    , 0.4212    , 0.4212    ,\n       0.351     , 0.2028    , 0.4004    , 0.169     , 0.169     ,\n       0.3367    , 0.3926    , 0.4862    , 0.351     , 0.4004    ,\n       0.3926    , 0.3926    , 0.2886    , 0.2912    , 0.39714063,\n       0.22113668, 0.43637985, 0.46685803, 0.27700292, 0.37111927,\n       0.23034239, 0.39089497, 0.2386485 , 0.40504205, 0.38485906,\n       0.41251811, 0.24316953, 0.24062519, 0.53727617, 0.30960839,\n       0.50928473, 0.48221061, 0.24431911, 0.39090321, 0.33541488,\n       0.22612955, 0.49278593, 0.36808772, 0.29069728, 0.24280316,\n       0.40603569, 0.40774387, 0.45076374, 0.38304597, 0.34701492,\n       0.28292017, 0.43306504, 0.46854985, 0.38583213, 0.42637107,\n       0.29726064, 0.44611796, 0.36026244, 0.42996654, 0.22936549,\n       0.48469099, 0.48464578, 0.2262    , 0.41961193, 0.31423997,\n       0.2949702 , 0.4123023 , 0.4689021 , 0.63338804, 0.46490121,\n       0.45551565, 0.34567834, 0.27893939, 0.45657352, 0.25058648,\n       0.34471067, 0.46372817, 0.46950854, 0.47695342, 0.47489491,\n       0.35026078, 0.53925121, 0.25475579, 0.3718    , 0.49990176,\n       0.43096105, 0.35804059, 0.351     , 0.37881743, 0.48792757,\n       0.39423637, 0.27610928, 0.5170267 , 0.40173698, 0.32323718,\n       0.18884767, 0.38178155, 0.31248521, 0.37878448, 0.32376105,\n       0.44173249, 0.42391582, 0.3168079 , 0.47037719, 0.490445  ,\n       0.28708829, 0.29628075, 0.33057794, 0.43917584, 0.35471743,\n       0.4256324 , 0.42016116, 0.34645235, 0.39392173, 0.47064018,\n       0.31570561, 0.31494043, 0.52318655, 0.47928883, 0.43610911,\n       0.52384638, 0.39764276, 0.42925763, 0.29398774, 0.38436612,\n       0.30962367, 0.46988452, 0.32372225, 0.47319418, 0.39597366,\n       0.37860446, 0.4388575 , 0.3567364 , 0.47094823, 0.35824208,\n       0.23303072, 0.20729391, 0.40706003, 0.19516451, 0.20445647,\n       0.4709407 , 0.31831561, 0.30223547, 0.48470315, 0.4231594 ,\n       0.38361499, 0.34999313, 0.39421701, 0.39229469, 0.47064018,\n       0.32156185, 0.47045313, 0.40875214, 0.48161202, 0.37857746,\n       0.35207266, 0.41333999, 0.43652071, 0.37907311, 0.26573643,\n       0.25266592, 0.40971362, 0.19557235, 0.34409375, 0.43834035,\n       0.17703566, 0.47231267, 0.30697119, 0.43567512, 0.39837789,\n       0.36579725, 0.35004931, 0.67390543, 0.36024221, 0.40224998,\n       0.38994805, 0.53268004, 0.34875844, 0.24189923, 0.55458457,\n       0.38455984, 0.46215913, 0.43946055, 0.34062268, 0.37774661,\n       0.48942806, 0.22139067, 0.55546496, 0.55128449, 0.30204879,\n       0.59210474, 0.26208   , 0.39691251, 0.52938494, 0.54906832,\n       0.37125922, 0.47325668, 0.46621202, 0.39721029, 0.57373543,\n       0.38484278, 0.50041384, 0.4399318 , 0.29983396, 0.45395896,\n       0.45782152, 0.58984517, 0.33108239, 0.31180788, 0.48235866,\n       0.51637492, 0.35011072, 0.23955198, 0.30813833, 0.37525073,\n       0.54906832, 0.27363281, 0.34507213, 0.41812865, 0.24303266,\n       0.46470706, 0.58680546, 0.51721551, 0.26591794, 0.54577886,\n       0.301414  , 0.35201093, 0.51133277, 0.26492764, 0.46072587,\n       0.42078929, 0.3368835 , 0.3121385 , 0.54585463, 0.41202916,\n       0.45361228, 0.51190181, 0.47105815, 0.46563963, 0.54811802,\n       0.37285353, 0.52139658, 0.31802652, 0.33660777, 0.54906832,\n       0.47827028, 0.37309401, 0.3738642 , 0.4147039 , 0.39627813,\n       0.37725348, 0.53123421, 0.51164762, 0.40821731, 0.47781626,\n       0.51851176, 0.20814017, 0.40483384, 0.46469041, 0.40909151,\n       0.29320339, 0.44038328, 0.39092948, 0.31361572, 0.44620763,\n       0.47350426, 0.37696763, 0.47256586, 0.44526184, 0.33838999,\n       0.28271847, 0.54954949, 0.37067822, 0.30840017, 0.38295958,\n       0.46371376, 0.20299432, 0.2163548 , 0.42055698, 0.35698334,\n       0.26677177, 0.64800094, 0.41647734, 0.39645491, 0.44433909,\n       0.37616801, 0.21387129, 0.41955238, 0.44865682, 0.42832422,\n       0.61785774, 0.39593492, 0.30836218, 0.24419243, 0.23244314,\n       0.2898933 , 0.49189833, 0.38992541, 0.40814421, 0.37289537,\n       0.36506652, 0.45123947, 0.49549153, 0.40170994, 0.41288931,\n       0.3243529 , 0.44548306, 0.46803959, 0.34895699, 0.39946822,\n       0.63385741, 0.47981384, 0.42612856, 0.34842963, 0.31261121,\n       0.44922254, 0.62117239, 0.17988901, 0.42574113, 0.32797396,\n       0.24843682, 0.22807355, 0.63123435, 0.36075395, 0.3512605 ,\n       0.30608482, 0.42049416, 0.19392324, 0.36087932, 0.421338  ,\n       0.38332789, 0.41572178, 0.28851393, 0.13505442, 0.49332014,\n       0.45877649, 0.14554878, 0.46258357, 0.49050378, 0.4729064 ,\n       0.48013476, 0.43397125, 0.41532483, 0.36193086, 0.3380691 ,\n       0.48556048, 0.42444301, 0.13217371, 0.14128817, 0.35249824,\n       0.24219656, 0.45560079, 0.29051689, 0.39979796, 0.41572904,\n       0.18089391, 0.38819531, 0.18141359, 0.41180618, 0.4604084 ,\n       0.09118916, 0.45444572, 0.42897984, 0.44698978, 0.12778653,\n       0.23312806, 0.20820937, 0.24778579, 0.27808758, 0.48097373,\n       0.39258484, 0.16759031, 0.25143018, 0.48991638, 0.44201626,\n       0.26395387, 0.20220311, 0.35966063, 0.37619399, 0.32254353,\n       0.41416368, 0.39924141, 0.23048401, 0.43672296, 0.28901895,\n       0.37420702, 0.37574359, 0.41171354, 0.46459558, 0.32669896,\n       0.34043261, 0.21990459, 0.45823539, 0.30608447, 0.28584162,\n       0.34560432, 0.43714153, 0.1896117 , 0.53171347, 0.19484979,\n       0.1409433 , 0.27735192, 0.37884615, 0.35832821, 0.4615278 ,\n       0.1853759 , 0.48413217, 0.19807428, 0.30184367, 0.29284526,\n       0.24140508, 0.23881335, 0.18283713, 0.28344247, 0.45052428,\n       0.43197702, 0.45488257, 0.41075897, 0.4702755 , 0.24746603,\n       0.42338655, 0.50720243, 0.4933525 , 0.45939117, 0.22768533,\n       0.38353272, 0.47140707, 0.35392385, 0.45638414, 0.20583333,\n       0.50847458, 0.27747552, 0.19121134, 0.25207547, 0.35506901,\n       0.36229324, 0.37817259, 0.30830904, 0.35924674, 0.37051503,\n       0.34581853, 0.49238761, 0.46055369, 0.36372951, 0.27594628,\n       0.31241588, 0.19658549, 0.34857143, 0.32716358, 0.37460745,\n       0.25746269, 0.30612245, 0.30184534, 0.19471454, 0.58780128,\n       0.29546367, 0.26356787, 0.35981839, 0.19240636, 0.28418039,\n       0.28145355, 0.31288709, 0.46433307, 0.26649906, 0.4955684 ,\n       0.18982536, 0.32009901, 0.38333664, 0.36412078, 0.45194626,\n       0.23066755, 0.4147422 , 0.13717328, 0.40567241, 0.22427742,\n       0.40807283, 0.40523493, 0.21749816, 0.49118943, 0.41153773,\n       0.43765107, 0.3763941 , 0.44868958, 0.37317179, 0.20592624,\n       0.40085473, 0.25999619, 0.20631068, 0.22457684, 0.28679465,\n       0.26763509, 0.31015928, 0.44829086, 0.35446824, 0.44988588,\n       0.33692722, 0.24808188, 0.42481023, 0.59361947, 0.28514472,\n       0.42120557, 0.37999638, 0.35843659, 0.2693869 , 0.47109691,\n       0.35656752, 0.26840601, 0.23874098, 0.2876174 , 0.30719938,\n       0.36083621, 0.42263796, 0.39348041, 0.28736046, 0.21098746,\n       0.40741484, 0.27596291, 0.44729157, 0.4476633 , 0.42823331,\n       0.4305075 , 0.39161696, 0.44600785, 0.23918765, 0.39997568,\n       0.42533984, 0.27726736, 0.3273081 , 0.40439248, 0.45876411,\n       0.35155563, 0.33331701, 0.45759512, 0.38689941, 0.3560481 ,\n       0.46376394, 0.3438764 , 0.34621975, 0.22801578, 0.33498666,\n       0.33217104, 0.45734445, 0.45122287, 0.41963654, 0.46554218])"
     },
     "execution_count": 102,
     "metadata": {},
     "output_type": "execute_result"
    }
   ],
   "source": [
    "y"
   ],
   "metadata": {
    "collapsed": false
   }
  },
  {
   "cell_type": "code",
   "execution_count": null,
   "outputs": [],
   "source": [
    "\n",
    "\n",
    "for num_trees in range(num_trees_min, num_trees_max):\n",
    "\n",
    "    for depth in range(depth_min, depth_max):\n",
    "\n",
    "        # Investigate every subset of explanatory variables\n",
    "        for features in subsets(X.columns):\n",
    "            # First CV split. The 99 refers to the first 3 observations for the 33 districts in the data.\n",
    "            Xtrain = X[:99][features].copy().values\n",
    "            ytrain = y[:99]\n",
    "            Xtest = X[99:132][features].copy().values\n",
    "            ytest = y[99:132]\n",
    "\n",
    "            # Create a RandomForestRegressor with the selected hyperparameters and random state 0.\n",
    "            clf = RandomForestRegressor(n_estimators=num_trees, max_depth=depth, random_state=0, n_jobs=-1)\n",
    "\n",
    "            # Fit to the training data\n",
    "            clf.fit(Xtrain, ytrain)\n",
    "\n",
    "            # Make a prediction on the test data\n",
    "            predictions = clf.predict(Xtest)\n",
    "\n",
    "            # Calculate mean absolute error\n",
    "            MAE1 = mean_absolute_error(ytest, predictions)\n",
    "\n",
    "            # Second CV split. The 132 refers to the first 4 observations for the 33 districts in the data.\n",
    "            Xtrain = X[:132][features].copy().values\n",
    "            ytrain = y[:132]\n",
    "            Xtest = X[132:165][features].copy().values\n",
    "            ytest = y[132:165]\n",
    "\n",
    "            # Create a RandomForestRegressor with the selected hyperparameters and random state 0.\n",
    "            clf = RandomForestRegressor(n_estimators=num_trees, max_depth=depth, random_state=0, n_jobs=-1)\n",
    "\n",
    "            # Fit to the training data\n",
    "            clf.fit(Xtrain, ytrain)\n",
    "\n",
    "            # Make a prediction on the test data\n",
    "            predictions = clf.predict(Xtest)\n",
    "\n",
    "            # Calculate mean absolute error\n",
    "            MAE2 = mean_absolute_error(ytest, predictions)\n",
    "\n",
    "            # Calculate the mean MAE over the two folds\n",
    "            mean_MAE = (MAE1 + MAE2) / 2\n",
    "\n",
    "            # Store the mean MAE together with the used hyperparameters in list\n",
    "            parameter_scores.append((mean_MAE, num_trees, depth, features))\n",
    "\n",
    "# Sort the models based on score and retrieve the hyperparameters of the best model\n",
    "parameter_scores.sort(key=lambda x: x[0])\n",
    "best_model_score = parameter_scores[0][0]\n",
    "best_model_trees = parameter_scores[0][1]\n",
    "best_model_depth = parameter_scores[0][2]\n",
    "best_model_columns = list(parameter_scores[0][3])\n",
    "\n",
    "'''------------SECTION FINAL EVALUATION--------------'''\n",
    "X = df[best_model_columns].values\n",
    "y = df['next_prevalence'].values\n",
    "\n",
    "# If there is only one explanatory variable, the values need to be reshaped for the model\n",
    "if len(best_model_columns) == 1:\n",
    "    X = X.reshape(-1, 1)\n",
    "\n",
    "# Peform evaluation on full data\n",
    "Xtrain = X[:300]\n",
    "ytrain = y[:300]\n",
    "Xtest = X[300:]\n",
    "ytest = y[300:]\n",
    "\n",
    "clf = RandomForestRegressor(n_estimators=best_model_trees, max_depth=best_model_depth, random_state=0, n_jobs=-1)\n",
    "clf.fit(Xtrain, ytrain)\n",
    "predictions = clf.predict(Xtest)\n",
    "\n"
   ],
   "metadata": {
    "collapsed": false,
    "pycharm": {
     "is_executing": true
    }
   }
  },
  {
   "cell_type": "markdown",
   "source": [
    "## Fix `prevalence` on line 5 in the next code block"
   ],
   "metadata": {
    "collapsed": false
   }
  },
  {
   "cell_type": "code",
   "execution_count": null,
   "outputs": [],
   "source": [
    "# Calculate MAE\n",
    "MAE = mean_absolute_error(ytest, predictions)\n",
    "\n",
    "# Generate boolean values for increase or decrease in prevalence. 0 if next prevalence is smaller than current prevalence, 1 otherwise.\n",
    "increase = [0 if x < y else 1 for x in df.iloc[165:]['next_prevalence'] for y in df.iloc[165:]['prevalence']]\n",
    "predicted_increase = [0 if x < y else 1 for x in predictions for y in df.iloc[165:]['prevalence']]\n",
    "\n",
    "# Calculate accuracy of predicted boolean increase/decrease\n",
    "acc = accuracy_score(increase, predicted_increase)\n",
    "\n",
    "# Print model parameters\n",
    "print('no. of trees: ' + str(best_model_trees) + '\\nmax_depth: ' + str(best_model_depth) + '\\ncolumns: ' + str(\n",
    "    best_model_columns))\n",
    "\n",
    "# Print model scores\n",
    "print(MAE, acc)"
   ],
   "metadata": {
    "collapsed": false
   }
  },
  {
   "cell_type": "markdown",
   "source": [
    "# Save model"
   ],
   "metadata": {
    "collapsed": false
   }
  },
  {
   "cell_type": "code",
   "execution_count": null,
   "outputs": [],
   "source": [
    "filename = 'baseline_semiyearly_model.joblib'\n",
    "joblib.dump(clf, filename)"
   ],
   "metadata": {
    "collapsed": false,
    "pycharm": {
     "is_executing": true
    }
   }
  },
  {
   "cell_type": "markdown",
   "source": [
    "# Metrics"
   ],
   "metadata": {
    "collapsed": false
   }
  },
  {
   "cell_type": "code",
   "execution_count": null,
   "outputs": [],
   "source": [
    "from helper_metrics import make_confusion_matrix, roc_curve_gen, calculate_results"
   ],
   "metadata": {
    "collapsed": false,
    "pycharm": {
     "is_executing": true
    }
   }
  },
  {
   "cell_type": "code",
   "execution_count": null,
   "outputs": [],
   "source": [
    "make_confusion_matrix(increase, predicted_increase,figsize=(6,6),classes=[\"Increase\", \"Decrease\"])"
   ],
   "metadata": {
    "collapsed": false,
    "pycharm": {
     "is_executing": true
    }
   }
  },
  {
   "cell_type": "code",
   "execution_count": null,
   "outputs": [],
   "source": [
    "roc_curve_gen(increase, predicted_increase)"
   ],
   "metadata": {
    "collapsed": false,
    "pycharm": {
     "is_executing": true
    }
   }
  },
  {
   "cell_type": "code",
   "execution_count": null,
   "outputs": [],
   "source": [
    "calculate_results(increase, predicted_increase, average=\"weighted\")"
   ],
   "metadata": {
    "collapsed": false,
    "pycharm": {
     "is_executing": true
    }
   }
  }
 ],
 "metadata": {
  "kernelspec": {
   "display_name": "Python 3",
   "language": "python",
   "name": "python3"
  },
  "language_info": {
   "codemirror_mode": {
    "name": "ipython",
    "version": 2
   },
   "file_extension": ".py",
   "mimetype": "text/x-python",
   "name": "python",
   "nbconvert_exporter": "python",
   "pygments_lexer": "ipython2",
   "version": "2.7.6"
  }
 },
 "nbformat": 4,
 "nbformat_minor": 0
}
