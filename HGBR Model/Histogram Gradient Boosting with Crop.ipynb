{
 "cells": [
  {
   "cell_type": "markdown",
   "source": [
    "# Imports"
   ],
   "metadata": {
    "collapsed": false
   }
  },
  {
   "cell_type": "code",
   "execution_count": 32,
   "outputs": [],
   "source": [
    "import pandas as pd\n",
    "import numpy as np\n",
    "import datetime\n",
    "import warnings\n",
    "warnings.filterwarnings(\"ignore\")\n",
    "import seaborn as sns\n",
    "from helper_metrics import count_missing_district, count_missing_district_total, make_confusion_matrix, calculate_results\n",
    "import matplotlib.pyplot as plt\n",
    "from sklearn.experimental    import enable_iterative_imputer\n",
    "from sklearn.impute          import IterativeImputer\n",
    "from sklearn.experimental    import enable_hist_gradient_boosting\n",
    "from sklearn.ensemble        import HistGradientBoostingRegressor\n",
    "from sklearn.model_selection import KFold\n",
    "from sklearn.metrics         import mean_absolute_error, accuracy_score\n",
    "from tqdm import tqdm\n"
   ],
   "metadata": {
    "collapsed": false
   }
  },
  {
   "cell_type": "markdown",
   "source": [
    "# Load data"
   ],
   "metadata": {
    "collapsed": false
   }
  },
  {
   "cell_type": "code",
   "execution_count": 33,
   "outputs": [
    {
     "data": {
      "text/plain": "           date     district  total population  Under-Five Population  \\\n0    2017-07-01  Adan Yabaal       65262.96000            13052.59200   \n1    2017-07-01         Luuq      100476.76500            20095.35300   \n2    2017-07-01  Buur Hakaba      165968.46000            33193.69200   \n3    2017-07-01        Marka      282222.76500            56444.55300   \n4    2017-07-01    Buuhoodle       71317.71000            14263.54200   \n..          ...          ...               ...                    ...   \n651  2021-07-01  Belet Xaawo               NaN            29314.59999   \n652  2021-07-01        Jilib               NaN            28586.09073   \n653  2021-07-01      Caynabo               NaN            16276.00000   \n654  2021-07-01   Rab Dhuure               NaN            15127.60000   \n655  2021-07-01      Baraawe               NaN            10954.96873   \n\n            GAM         MAM        SAM  GAM Prevalence  SAM Prevalence  \\\n0    4819.01697  3733.04131 1085.97565         0.36920         0.08320   \n1    8673.15435  7366.95641 1306.19795         0.43160         0.06500   \n2   11909.89669  8198.84192 3711.05477         0.35880         0.11180   \n3   20839.32897 16143.14216 4696.18681         0.36920         0.08320   \n4    4858.16241  3652.89311 1205.26930         0.34060         0.08450   \n..          ...         ...        ...             ...             ...   \n651  9820.00000         NaN 1310.00000         0.33499         0.04469   \n652 11560.00000         NaN 2770.00000         0.40439         0.09690   \n653  3540.00000         NaN  270.00000         0.21750         0.01659   \n654  6940.00000         NaN 1560.00000         0.45876         0.10312   \n655  5100.00000         NaN 1060.00000         0.46554         0.09676   \n\n     phase3plus_perc  ...  prevalence_6lag  next_prevalence  month  increase  \\\n0            0.18000  ...              NaN          0.35100      7     False   \n1            0.21000  ...              NaN          0.39260      7     False   \n2            0.35000  ...              NaN          0.28860      7     False   \n3            0.17000  ...              NaN          0.35100      7     False   \n4            0.37000  ...              NaN          0.20280      7     False   \n..               ...  ...              ...              ...    ...       ...   \n651          0.15000  ...          0.38353              NaN      7       NaN   \n652          0.11000  ...          0.31242              NaN      7       NaN   \n653          0.17000  ...          0.25746              NaN      7       NaN   \n654          0.07000  ...          0.50720              NaN      7       NaN   \n655          0.06000  ...          0.49119              NaN      7       NaN   \n\n     increase_numeric  district_encoded    Cowpea     Maize  Sorghum      crop  \n0            -0.01820                 0       NaN       NaN      NaN       NaN  \n1            -0.03900                59  14.00000 750.00000 30.00000 264.66667  \n2            -0.07020                24 218.00000  30.00000  1.90000  83.30000  \n3            -0.01820                60 330.00000   6.75000      NaN       NaN  \n4            -0.13780                23       NaN       NaN      NaN       NaN  \n..                ...               ...       ...       ...      ...       ...  \n651               NaN                15   8.00000  50.00000      NaN       NaN  \n652               NaN                51  64.00000 292.00000      NaN       NaN  \n653               NaN                29       NaN       NaN      NaN       NaN  \n654               NaN                66       NaN       NaN 14.00000       NaN  \n655               NaN                11  60.00000 400.00000      NaN       NaN  \n\n[656 rows x 25 columns]",
      "text/html": "<div>\n<style scoped>\n    .dataframe tbody tr th:only-of-type {\n        vertical-align: middle;\n    }\n\n    .dataframe tbody tr th {\n        vertical-align: top;\n    }\n\n    .dataframe thead th {\n        text-align: right;\n    }\n</style>\n<table border=\"1\" class=\"dataframe\">\n  <thead>\n    <tr style=\"text-align: right;\">\n      <th></th>\n      <th>date</th>\n      <th>district</th>\n      <th>total population</th>\n      <th>Under-Five Population</th>\n      <th>GAM</th>\n      <th>MAM</th>\n      <th>SAM</th>\n      <th>GAM Prevalence</th>\n      <th>SAM Prevalence</th>\n      <th>phase3plus_perc</th>\n      <th>...</th>\n      <th>prevalence_6lag</th>\n      <th>next_prevalence</th>\n      <th>month</th>\n      <th>increase</th>\n      <th>increase_numeric</th>\n      <th>district_encoded</th>\n      <th>Cowpea</th>\n      <th>Maize</th>\n      <th>Sorghum</th>\n      <th>crop</th>\n    </tr>\n  </thead>\n  <tbody>\n    <tr>\n      <th>0</th>\n      <td>2017-07-01</td>\n      <td>Adan Yabaal</td>\n      <td>65262.96000</td>\n      <td>13052.59200</td>\n      <td>4819.01697</td>\n      <td>3733.04131</td>\n      <td>1085.97565</td>\n      <td>0.36920</td>\n      <td>0.08320</td>\n      <td>0.18000</td>\n      <td>...</td>\n      <td>NaN</td>\n      <td>0.35100</td>\n      <td>7</td>\n      <td>False</td>\n      <td>-0.01820</td>\n      <td>0</td>\n      <td>NaN</td>\n      <td>NaN</td>\n      <td>NaN</td>\n      <td>NaN</td>\n    </tr>\n    <tr>\n      <th>1</th>\n      <td>2017-07-01</td>\n      <td>Luuq</td>\n      <td>100476.76500</td>\n      <td>20095.35300</td>\n      <td>8673.15435</td>\n      <td>7366.95641</td>\n      <td>1306.19795</td>\n      <td>0.43160</td>\n      <td>0.06500</td>\n      <td>0.21000</td>\n      <td>...</td>\n      <td>NaN</td>\n      <td>0.39260</td>\n      <td>7</td>\n      <td>False</td>\n      <td>-0.03900</td>\n      <td>59</td>\n      <td>14.00000</td>\n      <td>750.00000</td>\n      <td>30.00000</td>\n      <td>264.66667</td>\n    </tr>\n    <tr>\n      <th>2</th>\n      <td>2017-07-01</td>\n      <td>Buur Hakaba</td>\n      <td>165968.46000</td>\n      <td>33193.69200</td>\n      <td>11909.89669</td>\n      <td>8198.84192</td>\n      <td>3711.05477</td>\n      <td>0.35880</td>\n      <td>0.11180</td>\n      <td>0.35000</td>\n      <td>...</td>\n      <td>NaN</td>\n      <td>0.28860</td>\n      <td>7</td>\n      <td>False</td>\n      <td>-0.07020</td>\n      <td>24</td>\n      <td>218.00000</td>\n      <td>30.00000</td>\n      <td>1.90000</td>\n      <td>83.30000</td>\n    </tr>\n    <tr>\n      <th>3</th>\n      <td>2017-07-01</td>\n      <td>Marka</td>\n      <td>282222.76500</td>\n      <td>56444.55300</td>\n      <td>20839.32897</td>\n      <td>16143.14216</td>\n      <td>4696.18681</td>\n      <td>0.36920</td>\n      <td>0.08320</td>\n      <td>0.17000</td>\n      <td>...</td>\n      <td>NaN</td>\n      <td>0.35100</td>\n      <td>7</td>\n      <td>False</td>\n      <td>-0.01820</td>\n      <td>60</td>\n      <td>330.00000</td>\n      <td>6.75000</td>\n      <td>NaN</td>\n      <td>NaN</td>\n    </tr>\n    <tr>\n      <th>4</th>\n      <td>2017-07-01</td>\n      <td>Buuhoodle</td>\n      <td>71317.71000</td>\n      <td>14263.54200</td>\n      <td>4858.16241</td>\n      <td>3652.89311</td>\n      <td>1205.26930</td>\n      <td>0.34060</td>\n      <td>0.08450</td>\n      <td>0.37000</td>\n      <td>...</td>\n      <td>NaN</td>\n      <td>0.20280</td>\n      <td>7</td>\n      <td>False</td>\n      <td>-0.13780</td>\n      <td>23</td>\n      <td>NaN</td>\n      <td>NaN</td>\n      <td>NaN</td>\n      <td>NaN</td>\n    </tr>\n    <tr>\n      <th>...</th>\n      <td>...</td>\n      <td>...</td>\n      <td>...</td>\n      <td>...</td>\n      <td>...</td>\n      <td>...</td>\n      <td>...</td>\n      <td>...</td>\n      <td>...</td>\n      <td>...</td>\n      <td>...</td>\n      <td>...</td>\n      <td>...</td>\n      <td>...</td>\n      <td>...</td>\n      <td>...</td>\n      <td>...</td>\n      <td>...</td>\n      <td>...</td>\n      <td>...</td>\n      <td>...</td>\n    </tr>\n    <tr>\n      <th>651</th>\n      <td>2021-07-01</td>\n      <td>Belet Xaawo</td>\n      <td>NaN</td>\n      <td>29314.59999</td>\n      <td>9820.00000</td>\n      <td>NaN</td>\n      <td>1310.00000</td>\n      <td>0.33499</td>\n      <td>0.04469</td>\n      <td>0.15000</td>\n      <td>...</td>\n      <td>0.38353</td>\n      <td>NaN</td>\n      <td>7</td>\n      <td>NaN</td>\n      <td>NaN</td>\n      <td>15</td>\n      <td>8.00000</td>\n      <td>50.00000</td>\n      <td>NaN</td>\n      <td>NaN</td>\n    </tr>\n    <tr>\n      <th>652</th>\n      <td>2021-07-01</td>\n      <td>Jilib</td>\n      <td>NaN</td>\n      <td>28586.09073</td>\n      <td>11560.00000</td>\n      <td>NaN</td>\n      <td>2770.00000</td>\n      <td>0.40439</td>\n      <td>0.09690</td>\n      <td>0.11000</td>\n      <td>...</td>\n      <td>0.31242</td>\n      <td>NaN</td>\n      <td>7</td>\n      <td>NaN</td>\n      <td>NaN</td>\n      <td>51</td>\n      <td>64.00000</td>\n      <td>292.00000</td>\n      <td>NaN</td>\n      <td>NaN</td>\n    </tr>\n    <tr>\n      <th>653</th>\n      <td>2021-07-01</td>\n      <td>Caynabo</td>\n      <td>NaN</td>\n      <td>16276.00000</td>\n      <td>3540.00000</td>\n      <td>NaN</td>\n      <td>270.00000</td>\n      <td>0.21750</td>\n      <td>0.01659</td>\n      <td>0.17000</td>\n      <td>...</td>\n      <td>0.25746</td>\n      <td>NaN</td>\n      <td>7</td>\n      <td>NaN</td>\n      <td>NaN</td>\n      <td>29</td>\n      <td>NaN</td>\n      <td>NaN</td>\n      <td>NaN</td>\n      <td>NaN</td>\n    </tr>\n    <tr>\n      <th>654</th>\n      <td>2021-07-01</td>\n      <td>Rab Dhuure</td>\n      <td>NaN</td>\n      <td>15127.60000</td>\n      <td>6940.00000</td>\n      <td>NaN</td>\n      <td>1560.00000</td>\n      <td>0.45876</td>\n      <td>0.10312</td>\n      <td>0.07000</td>\n      <td>...</td>\n      <td>0.50720</td>\n      <td>NaN</td>\n      <td>7</td>\n      <td>NaN</td>\n      <td>NaN</td>\n      <td>66</td>\n      <td>NaN</td>\n      <td>NaN</td>\n      <td>14.00000</td>\n      <td>NaN</td>\n    </tr>\n    <tr>\n      <th>655</th>\n      <td>2021-07-01</td>\n      <td>Baraawe</td>\n      <td>NaN</td>\n      <td>10954.96873</td>\n      <td>5100.00000</td>\n      <td>NaN</td>\n      <td>1060.00000</td>\n      <td>0.46554</td>\n      <td>0.09676</td>\n      <td>0.06000</td>\n      <td>...</td>\n      <td>0.49119</td>\n      <td>NaN</td>\n      <td>7</td>\n      <td>NaN</td>\n      <td>NaN</td>\n      <td>11</td>\n      <td>60.00000</td>\n      <td>400.00000</td>\n      <td>NaN</td>\n      <td>NaN</td>\n    </tr>\n  </tbody>\n</table>\n<p>656 rows × 25 columns</p>\n</div>"
     },
     "execution_count": 33,
     "metadata": {},
     "output_type": "execute_result"
    }
   ],
   "source": [
    "df = pd.read_csv(\"data/semiyearly_chosen_columns_with_crop.csv\").iloc[:,2:].drop([\"Average of centx\",\"Average of centy\"],axis=1)\n",
    "df"
   ],
   "metadata": {
    "collapsed": false
   }
  },
  {
   "cell_type": "markdown",
   "source": [
    "# Create train and test sets\n",
    "X does not need to drop nan values as HGBR can handle nan inputs"
   ],
   "metadata": {
    "collapsed": false
   }
  },
  {
   "cell_type": "code",
   "execution_count": 34,
   "outputs": [],
   "source": [
    "y = df.next_prevalence.dropna()\n",
    "X = df.select_dtypes(exclude=[\"object\", \"category\"]).iloc[:len(y)].drop([\"MAM\",\"next_prevalence\",\"increase_numeric\",\"GAM Prevalence\", \"Under-Five Population\"], axis=1)"
   ],
   "metadata": {
    "collapsed": false
   }
  },
  {
   "cell_type": "code",
   "execution_count": 35,
   "outputs": [
    {
     "data": {
      "text/plain": "     total population         GAM        SAM  SAM Prevalence  phase3plus_perc  \\\n0         65262.96000  4819.01697 1085.97565         0.08320          0.18000   \n1        100476.76500  8673.15435 1306.19795         0.06500          0.21000   \n2        165968.46000 11909.89669 3711.05477         0.11180          0.35000   \n3        282222.76500 20839.32897 4696.18681         0.08320          0.17000   \n4         71317.71000  4858.16241 1205.26930         0.08450          0.37000   \n..                ...         ...        ...             ...              ...   \n577      377653.00000 27985.00000 5945.00000         0.07871          0.22000   \n578       72825.00000  2700.00000  520.00000         0.03570          0.15000   \n579       64346.00000  4555.00000  690.00000         0.05361          0.23000   \n580       51766.00000  3720.00000  595.00000         0.05746          0.16000   \n581       61428.00000  3390.00000  435.00000         0.03541          0.10000   \n\n     rainfall  ndvi_score  Price of water  Total alarms  n_conflict_total  \\\n0    19.15667     0.21500        15.00000       2.16667               NaN   \n1    24.24000     0.19333        15.00000       7.83333           1.50000   \n2    34.94500     0.34833        52.50000       6.16667           4.66667   \n3    23.56500     0.29833        36.50000      11.83333          11.83333   \n4    19.54000     0.21333             NaN       2.33333           2.50000   \n..        ...         ...             ...           ...               ...   \n577  19.93833     0.47833        47.91667       6.33333          10.83333   \n578  16.05833     0.13500         5.00000       0.83333           1.00000   \n579   8.12000     0.14833             NaN       0.16667               NaN   \n580  18.48000     0.23167        31.66667       3.66667           1.00000   \n581  19.06500     0.39667             NaN       3.50000           2.75000   \n\n     prevalence_6lag  month  district_encoded    Cowpea     Maize  Sorghum  \\\n0                NaN      7                 0       NaN       NaN      NaN   \n1                NaN      7                59  14.00000 750.00000 30.00000   \n2                NaN      7                24 218.00000  30.00000  1.90000   \n3                NaN      7                60 330.00000   6.75000      NaN   \n4                NaN      7                23       NaN       NaN      NaN   \n..               ...    ...               ...       ...       ...      ...   \n577          0.36193      1                53  66.00000 406.00000      NaN   \n578          0.24779      1                78       NaN       NaN      NaN   \n579          0.39980      1                64       NaN       NaN      NaN   \n580          0.47291      1                28       NaN       NaN      NaN   \n581          0.29052      1                27  60.00000       NaN 60.00000   \n\n         crop  \n0         NaN  \n1   264.66667  \n2    83.30000  \n3         NaN  \n4         NaN  \n..        ...  \n577       NaN  \n578       NaN  \n579       NaN  \n580       NaN  \n581       NaN  \n\n[582 rows x 17 columns]",
      "text/html": "<div>\n<style scoped>\n    .dataframe tbody tr th:only-of-type {\n        vertical-align: middle;\n    }\n\n    .dataframe tbody tr th {\n        vertical-align: top;\n    }\n\n    .dataframe thead th {\n        text-align: right;\n    }\n</style>\n<table border=\"1\" class=\"dataframe\">\n  <thead>\n    <tr style=\"text-align: right;\">\n      <th></th>\n      <th>total population</th>\n      <th>GAM</th>\n      <th>SAM</th>\n      <th>SAM Prevalence</th>\n      <th>phase3plus_perc</th>\n      <th>rainfall</th>\n      <th>ndvi_score</th>\n      <th>Price of water</th>\n      <th>Total alarms</th>\n      <th>n_conflict_total</th>\n      <th>prevalence_6lag</th>\n      <th>month</th>\n      <th>district_encoded</th>\n      <th>Cowpea</th>\n      <th>Maize</th>\n      <th>Sorghum</th>\n      <th>crop</th>\n    </tr>\n  </thead>\n  <tbody>\n    <tr>\n      <th>0</th>\n      <td>65262.96000</td>\n      <td>4819.01697</td>\n      <td>1085.97565</td>\n      <td>0.08320</td>\n      <td>0.18000</td>\n      <td>19.15667</td>\n      <td>0.21500</td>\n      <td>15.00000</td>\n      <td>2.16667</td>\n      <td>NaN</td>\n      <td>NaN</td>\n      <td>7</td>\n      <td>0</td>\n      <td>NaN</td>\n      <td>NaN</td>\n      <td>NaN</td>\n      <td>NaN</td>\n    </tr>\n    <tr>\n      <th>1</th>\n      <td>100476.76500</td>\n      <td>8673.15435</td>\n      <td>1306.19795</td>\n      <td>0.06500</td>\n      <td>0.21000</td>\n      <td>24.24000</td>\n      <td>0.19333</td>\n      <td>15.00000</td>\n      <td>7.83333</td>\n      <td>1.50000</td>\n      <td>NaN</td>\n      <td>7</td>\n      <td>59</td>\n      <td>14.00000</td>\n      <td>750.00000</td>\n      <td>30.00000</td>\n      <td>264.66667</td>\n    </tr>\n    <tr>\n      <th>2</th>\n      <td>165968.46000</td>\n      <td>11909.89669</td>\n      <td>3711.05477</td>\n      <td>0.11180</td>\n      <td>0.35000</td>\n      <td>34.94500</td>\n      <td>0.34833</td>\n      <td>52.50000</td>\n      <td>6.16667</td>\n      <td>4.66667</td>\n      <td>NaN</td>\n      <td>7</td>\n      <td>24</td>\n      <td>218.00000</td>\n      <td>30.00000</td>\n      <td>1.90000</td>\n      <td>83.30000</td>\n    </tr>\n    <tr>\n      <th>3</th>\n      <td>282222.76500</td>\n      <td>20839.32897</td>\n      <td>4696.18681</td>\n      <td>0.08320</td>\n      <td>0.17000</td>\n      <td>23.56500</td>\n      <td>0.29833</td>\n      <td>36.50000</td>\n      <td>11.83333</td>\n      <td>11.83333</td>\n      <td>NaN</td>\n      <td>7</td>\n      <td>60</td>\n      <td>330.00000</td>\n      <td>6.75000</td>\n      <td>NaN</td>\n      <td>NaN</td>\n    </tr>\n    <tr>\n      <th>4</th>\n      <td>71317.71000</td>\n      <td>4858.16241</td>\n      <td>1205.26930</td>\n      <td>0.08450</td>\n      <td>0.37000</td>\n      <td>19.54000</td>\n      <td>0.21333</td>\n      <td>NaN</td>\n      <td>2.33333</td>\n      <td>2.50000</td>\n      <td>NaN</td>\n      <td>7</td>\n      <td>23</td>\n      <td>NaN</td>\n      <td>NaN</td>\n      <td>NaN</td>\n      <td>NaN</td>\n    </tr>\n    <tr>\n      <th>...</th>\n      <td>...</td>\n      <td>...</td>\n      <td>...</td>\n      <td>...</td>\n      <td>...</td>\n      <td>...</td>\n      <td>...</td>\n      <td>...</td>\n      <td>...</td>\n      <td>...</td>\n      <td>...</td>\n      <td>...</td>\n      <td>...</td>\n      <td>...</td>\n      <td>...</td>\n      <td>...</td>\n      <td>...</td>\n    </tr>\n    <tr>\n      <th>577</th>\n      <td>377653.00000</td>\n      <td>27985.00000</td>\n      <td>5945.00000</td>\n      <td>0.07871</td>\n      <td>0.22000</td>\n      <td>19.93833</td>\n      <td>0.47833</td>\n      <td>47.91667</td>\n      <td>6.33333</td>\n      <td>10.83333</td>\n      <td>0.36193</td>\n      <td>1</td>\n      <td>53</td>\n      <td>66.00000</td>\n      <td>406.00000</td>\n      <td>NaN</td>\n      <td>NaN</td>\n    </tr>\n    <tr>\n      <th>578</th>\n      <td>72825.00000</td>\n      <td>2700.00000</td>\n      <td>520.00000</td>\n      <td>0.03570</td>\n      <td>0.15000</td>\n      <td>16.05833</td>\n      <td>0.13500</td>\n      <td>5.00000</td>\n      <td>0.83333</td>\n      <td>1.00000</td>\n      <td>0.24779</td>\n      <td>1</td>\n      <td>78</td>\n      <td>NaN</td>\n      <td>NaN</td>\n      <td>NaN</td>\n      <td>NaN</td>\n    </tr>\n    <tr>\n      <th>579</th>\n      <td>64346.00000</td>\n      <td>4555.00000</td>\n      <td>690.00000</td>\n      <td>0.05361</td>\n      <td>0.23000</td>\n      <td>8.12000</td>\n      <td>0.14833</td>\n      <td>NaN</td>\n      <td>0.16667</td>\n      <td>NaN</td>\n      <td>0.39980</td>\n      <td>1</td>\n      <td>64</td>\n      <td>NaN</td>\n      <td>NaN</td>\n      <td>NaN</td>\n      <td>NaN</td>\n    </tr>\n    <tr>\n      <th>580</th>\n      <td>51766.00000</td>\n      <td>3720.00000</td>\n      <td>595.00000</td>\n      <td>0.05746</td>\n      <td>0.16000</td>\n      <td>18.48000</td>\n      <td>0.23167</td>\n      <td>31.66667</td>\n      <td>3.66667</td>\n      <td>1.00000</td>\n      <td>0.47291</td>\n      <td>1</td>\n      <td>28</td>\n      <td>NaN</td>\n      <td>NaN</td>\n      <td>NaN</td>\n      <td>NaN</td>\n    </tr>\n    <tr>\n      <th>581</th>\n      <td>61428.00000</td>\n      <td>3390.00000</td>\n      <td>435.00000</td>\n      <td>0.03541</td>\n      <td>0.10000</td>\n      <td>19.06500</td>\n      <td>0.39667</td>\n      <td>NaN</td>\n      <td>3.50000</td>\n      <td>2.75000</td>\n      <td>0.29052</td>\n      <td>1</td>\n      <td>27</td>\n      <td>60.00000</td>\n      <td>NaN</td>\n      <td>60.00000</td>\n      <td>NaN</td>\n    </tr>\n  </tbody>\n</table>\n<p>582 rows × 17 columns</p>\n</div>"
     },
     "execution_count": 35,
     "metadata": {},
     "output_type": "execute_result"
    }
   ],
   "source": [
    "X"
   ],
   "metadata": {
    "collapsed": false
   }
  },
  {
   "cell_type": "markdown",
   "source": [
    "# Subsets"
   ],
   "metadata": {
    "collapsed": false
   }
  },
  {
   "cell_type": "code",
   "execution_count": 36,
   "outputs": [],
   "source": [
    "# Function that returns every possible subset (except the empty set) of the input list l\n",
    "def subsets(l: object) -> object:\n",
    "    subset_list = []\n",
    "    for i in range(len(l) + 1):\n",
    "        for j in range(i):\n",
    "            subset_list.append(l[j: i])\n",
    "    return subset_list"
   ],
   "metadata": {
    "collapsed": false
   }
  },
  {
   "cell_type": "markdown",
   "source": [
    "# Cross Validation Training"
   ],
   "metadata": {
    "collapsed": false
   }
  },
  {
   "cell_type": "code",
   "execution_count": 37,
   "outputs": [
    {
     "data": {
      "text/plain": "370"
     },
     "execution_count": 37,
     "metadata": {},
     "output_type": "execute_result"
    }
   ],
   "source": [
    "74*5"
   ],
   "metadata": {
    "collapsed": false
   }
  },
  {
   "cell_type": "code",
   "execution_count": 38,
   "outputs": [
    {
     "data": {
      "text/plain": "           date     district  total population  Under-Five Population  \\\n0    2017-07-01  Adan Yabaal       65262.96000            13052.59200   \n1    2017-07-01         Luuq      100476.76500            20095.35300   \n2    2017-07-01  Buur Hakaba      165968.46000            33193.69200   \n3    2017-07-01        Marka      282222.76500            56444.55300   \n4    2017-07-01    Buuhoodle       71317.71000            14263.54200   \n..          ...          ...               ...                    ...   \n363  2019-07-01   Baardheere      122284.68350            24456.93670   \n364  2019-07-01      Afmadow      180756.29518            36151.25904   \n365  2019-07-01        Burco      440966.75061            88193.35012   \n366  2019-07-01   Ceel Dheer      103004.37801            20600.87560   \n367  2020-01-01  Ceel Afweyn      113788.80065            22757.76013   \n\n            GAM         MAM        SAM  GAM Prevalence  SAM Prevalence  \\\n0    4819.01697  3733.04131 1085.97565         0.36920         0.08320   \n1    8673.15435  7366.95641 1306.19795         0.43160         0.06500   \n2   11909.89669  8198.84192 3711.05477         0.35880         0.11180   \n3   20839.32897 16143.14216 4696.18681         0.36920         0.08320   \n4    4858.16241  3652.89311 1205.26930         0.34060         0.08450   \n..          ...         ...        ...             ...             ...   \n363 12751.76323 10709.08793 2042.67529         0.52140         0.08352   \n364 18505.89489 15321.37183 3184.52306         0.51190         0.08809   \n365 26443.36111 22403.50354 4039.85756         0.29983         0.04581   \n366  6222.46952  5289.27817  933.19135         0.30205         0.04530   \n367  9142.01839  7712.85166 1429.16673         0.40171         0.06280   \n\n     phase3plus_perc  ...  prevalence_6lag  next_prevalence  month  increase  \\\n0            0.18000  ...              NaN          0.35100      7     False   \n1            0.21000  ...              NaN          0.39260      7     False   \n2            0.35000  ...              NaN          0.28860      7     False   \n3            0.17000  ...              NaN          0.35100      7     False   \n4            0.37000  ...              NaN          0.20280      7     False   \n..               ...  ...              ...              ...    ...       ...   \n363          0.02000  ...          0.28709          0.24844      7     False   \n364          0.03000  ...          0.35674          0.34843      7     False   \n365          0.15000  ...          0.17704          0.17989      7     False   \n366          0.02000  ...          0.32372          0.37290      7      True   \n367          0.08000  ...          0.40225          0.28851      1     False   \n\n     increase_numeric  district_encoded    Cowpea      Maize  Sorghum  \\\n0            -0.01820                 0       NaN        NaN      NaN   \n1            -0.03900                59  14.00000  750.00000 30.00000   \n2            -0.07020                24 218.00000   30.00000  1.90000   \n3            -0.01820                60 330.00000    6.75000      NaN   \n4            -0.13780                23       NaN        NaN      NaN   \n..                ...               ...       ...        ...      ...   \n363          -0.27296                 3  18.00000 1500.00000      NaN   \n364          -0.16347                 2  16.00000  136.00000      NaN   \n365          -0.11994                21       NaN   30.00000  3.20000   \n366           0.07085                33 240.00000        NaN      NaN   \n367          -0.11320                30       NaN        NaN      NaN   \n\n         crop  \n0         NaN  \n1   264.66667  \n2    83.30000  \n3         NaN  \n4         NaN  \n..        ...  \n363       NaN  \n364       NaN  \n365       NaN  \n366       NaN  \n367       NaN  \n\n[368 rows x 25 columns]",
      "text/html": "<div>\n<style scoped>\n    .dataframe tbody tr th:only-of-type {\n        vertical-align: middle;\n    }\n\n    .dataframe tbody tr th {\n        vertical-align: top;\n    }\n\n    .dataframe thead th {\n        text-align: right;\n    }\n</style>\n<table border=\"1\" class=\"dataframe\">\n  <thead>\n    <tr style=\"text-align: right;\">\n      <th></th>\n      <th>date</th>\n      <th>district</th>\n      <th>total population</th>\n      <th>Under-Five Population</th>\n      <th>GAM</th>\n      <th>MAM</th>\n      <th>SAM</th>\n      <th>GAM Prevalence</th>\n      <th>SAM Prevalence</th>\n      <th>phase3plus_perc</th>\n      <th>...</th>\n      <th>prevalence_6lag</th>\n      <th>next_prevalence</th>\n      <th>month</th>\n      <th>increase</th>\n      <th>increase_numeric</th>\n      <th>district_encoded</th>\n      <th>Cowpea</th>\n      <th>Maize</th>\n      <th>Sorghum</th>\n      <th>crop</th>\n    </tr>\n  </thead>\n  <tbody>\n    <tr>\n      <th>0</th>\n      <td>2017-07-01</td>\n      <td>Adan Yabaal</td>\n      <td>65262.96000</td>\n      <td>13052.59200</td>\n      <td>4819.01697</td>\n      <td>3733.04131</td>\n      <td>1085.97565</td>\n      <td>0.36920</td>\n      <td>0.08320</td>\n      <td>0.18000</td>\n      <td>...</td>\n      <td>NaN</td>\n      <td>0.35100</td>\n      <td>7</td>\n      <td>False</td>\n      <td>-0.01820</td>\n      <td>0</td>\n      <td>NaN</td>\n      <td>NaN</td>\n      <td>NaN</td>\n      <td>NaN</td>\n    </tr>\n    <tr>\n      <th>1</th>\n      <td>2017-07-01</td>\n      <td>Luuq</td>\n      <td>100476.76500</td>\n      <td>20095.35300</td>\n      <td>8673.15435</td>\n      <td>7366.95641</td>\n      <td>1306.19795</td>\n      <td>0.43160</td>\n      <td>0.06500</td>\n      <td>0.21000</td>\n      <td>...</td>\n      <td>NaN</td>\n      <td>0.39260</td>\n      <td>7</td>\n      <td>False</td>\n      <td>-0.03900</td>\n      <td>59</td>\n      <td>14.00000</td>\n      <td>750.00000</td>\n      <td>30.00000</td>\n      <td>264.66667</td>\n    </tr>\n    <tr>\n      <th>2</th>\n      <td>2017-07-01</td>\n      <td>Buur Hakaba</td>\n      <td>165968.46000</td>\n      <td>33193.69200</td>\n      <td>11909.89669</td>\n      <td>8198.84192</td>\n      <td>3711.05477</td>\n      <td>0.35880</td>\n      <td>0.11180</td>\n      <td>0.35000</td>\n      <td>...</td>\n      <td>NaN</td>\n      <td>0.28860</td>\n      <td>7</td>\n      <td>False</td>\n      <td>-0.07020</td>\n      <td>24</td>\n      <td>218.00000</td>\n      <td>30.00000</td>\n      <td>1.90000</td>\n      <td>83.30000</td>\n    </tr>\n    <tr>\n      <th>3</th>\n      <td>2017-07-01</td>\n      <td>Marka</td>\n      <td>282222.76500</td>\n      <td>56444.55300</td>\n      <td>20839.32897</td>\n      <td>16143.14216</td>\n      <td>4696.18681</td>\n      <td>0.36920</td>\n      <td>0.08320</td>\n      <td>0.17000</td>\n      <td>...</td>\n      <td>NaN</td>\n      <td>0.35100</td>\n      <td>7</td>\n      <td>False</td>\n      <td>-0.01820</td>\n      <td>60</td>\n      <td>330.00000</td>\n      <td>6.75000</td>\n      <td>NaN</td>\n      <td>NaN</td>\n    </tr>\n    <tr>\n      <th>4</th>\n      <td>2017-07-01</td>\n      <td>Buuhoodle</td>\n      <td>71317.71000</td>\n      <td>14263.54200</td>\n      <td>4858.16241</td>\n      <td>3652.89311</td>\n      <td>1205.26930</td>\n      <td>0.34060</td>\n      <td>0.08450</td>\n      <td>0.37000</td>\n      <td>...</td>\n      <td>NaN</td>\n      <td>0.20280</td>\n      <td>7</td>\n      <td>False</td>\n      <td>-0.13780</td>\n      <td>23</td>\n      <td>NaN</td>\n      <td>NaN</td>\n      <td>NaN</td>\n      <td>NaN</td>\n    </tr>\n    <tr>\n      <th>...</th>\n      <td>...</td>\n      <td>...</td>\n      <td>...</td>\n      <td>...</td>\n      <td>...</td>\n      <td>...</td>\n      <td>...</td>\n      <td>...</td>\n      <td>...</td>\n      <td>...</td>\n      <td>...</td>\n      <td>...</td>\n      <td>...</td>\n      <td>...</td>\n      <td>...</td>\n      <td>...</td>\n      <td>...</td>\n      <td>...</td>\n      <td>...</td>\n      <td>...</td>\n      <td>...</td>\n    </tr>\n    <tr>\n      <th>363</th>\n      <td>2019-07-01</td>\n      <td>Baardheere</td>\n      <td>122284.68350</td>\n      <td>24456.93670</td>\n      <td>12751.76323</td>\n      <td>10709.08793</td>\n      <td>2042.67529</td>\n      <td>0.52140</td>\n      <td>0.08352</td>\n      <td>0.02000</td>\n      <td>...</td>\n      <td>0.28709</td>\n      <td>0.24844</td>\n      <td>7</td>\n      <td>False</td>\n      <td>-0.27296</td>\n      <td>3</td>\n      <td>18.00000</td>\n      <td>1500.00000</td>\n      <td>NaN</td>\n      <td>NaN</td>\n    </tr>\n    <tr>\n      <th>364</th>\n      <td>2019-07-01</td>\n      <td>Afmadow</td>\n      <td>180756.29518</td>\n      <td>36151.25904</td>\n      <td>18505.89489</td>\n      <td>15321.37183</td>\n      <td>3184.52306</td>\n      <td>0.51190</td>\n      <td>0.08809</td>\n      <td>0.03000</td>\n      <td>...</td>\n      <td>0.35674</td>\n      <td>0.34843</td>\n      <td>7</td>\n      <td>False</td>\n      <td>-0.16347</td>\n      <td>2</td>\n      <td>16.00000</td>\n      <td>136.00000</td>\n      <td>NaN</td>\n      <td>NaN</td>\n    </tr>\n    <tr>\n      <th>365</th>\n      <td>2019-07-01</td>\n      <td>Burco</td>\n      <td>440966.75061</td>\n      <td>88193.35012</td>\n      <td>26443.36111</td>\n      <td>22403.50354</td>\n      <td>4039.85756</td>\n      <td>0.29983</td>\n      <td>0.04581</td>\n      <td>0.15000</td>\n      <td>...</td>\n      <td>0.17704</td>\n      <td>0.17989</td>\n      <td>7</td>\n      <td>False</td>\n      <td>-0.11994</td>\n      <td>21</td>\n      <td>NaN</td>\n      <td>30.00000</td>\n      <td>3.20000</td>\n      <td>NaN</td>\n    </tr>\n    <tr>\n      <th>366</th>\n      <td>2019-07-01</td>\n      <td>Ceel Dheer</td>\n      <td>103004.37801</td>\n      <td>20600.87560</td>\n      <td>6222.46952</td>\n      <td>5289.27817</td>\n      <td>933.19135</td>\n      <td>0.30205</td>\n      <td>0.04530</td>\n      <td>0.02000</td>\n      <td>...</td>\n      <td>0.32372</td>\n      <td>0.37290</td>\n      <td>7</td>\n      <td>True</td>\n      <td>0.07085</td>\n      <td>33</td>\n      <td>240.00000</td>\n      <td>NaN</td>\n      <td>NaN</td>\n      <td>NaN</td>\n    </tr>\n    <tr>\n      <th>367</th>\n      <td>2020-01-01</td>\n      <td>Ceel Afweyn</td>\n      <td>113788.80065</td>\n      <td>22757.76013</td>\n      <td>9142.01839</td>\n      <td>7712.85166</td>\n      <td>1429.16673</td>\n      <td>0.40171</td>\n      <td>0.06280</td>\n      <td>0.08000</td>\n      <td>...</td>\n      <td>0.40225</td>\n      <td>0.28851</td>\n      <td>1</td>\n      <td>False</td>\n      <td>-0.11320</td>\n      <td>30</td>\n      <td>NaN</td>\n      <td>NaN</td>\n      <td>NaN</td>\n      <td>NaN</td>\n    </tr>\n  </tbody>\n</table>\n<p>368 rows × 25 columns</p>\n</div>"
     },
     "execution_count": 38,
     "metadata": {},
     "output_type": "execute_result"
    }
   ],
   "source": [
    "df[:368]"
   ],
   "metadata": {
    "collapsed": false
   }
  },
  {
   "cell_type": "code",
   "execution_count": 39,
   "outputs": [
    {
     "name": "stderr",
     "output_type": "stream",
     "text": [
      "100%|██████████| 33/33 [1:03:40<00:00, 115.77s/it]"
     ]
    },
    {
     "name": "stdout",
     "output_type": "stream",
     "text": [
      "Binning 0.000 GB of training data: 0.003 s\n",
      "Fitting gradient boosted rounds:\n",
      "[1/100] 1 tree, 4 leaves, max depth = 2, in 0.001s\n",
      "[2/100] 1 tree, 4 leaves, max depth = 2, in 0.001s\n",
      "[3/100] 1 tree, 4 leaves, max depth = 2, in 0.002s\n",
      "[4/100] 1 tree, 4 leaves, max depth = 2, in 0.001s\n",
      "[5/100] 1 tree, 4 leaves, max depth = 2, in 0.001s\n",
      "[6/100] 1 tree, 4 leaves, max depth = 2, in 0.001s\n",
      "[7/100] 1 tree, 4 leaves, max depth = 2, in 0.001s\n",
      "[8/100] 1 tree, 4 leaves, max depth = 2, in 0.001s\n",
      "[9/100] 1 tree, 4 leaves, max depth = 2, in 0.001s\n",
      "[10/100] 1 tree, 4 leaves, max depth = 2, in 0.001s\n",
      "[11/100] 1 tree, 3 leaves, max depth = 2, in 0.001s\n",
      "[12/100] 1 tree, 4 leaves, max depth = 2, in 0.001s\n",
      "[13/100] 1 tree, 4 leaves, max depth = 2, in 0.001s\n",
      "[14/100] 1 tree, 4 leaves, max depth = 2, in 0.001s\n",
      "[15/100] 1 tree, 4 leaves, max depth = 2, in 0.001s\n",
      "[16/100] 1 tree, 4 leaves, max depth = 2, in 0.001s\n",
      "[17/100] 1 tree, 3 leaves, max depth = 2, in 0.001s\n",
      "[18/100] 1 tree, 4 leaves, max depth = 2, in 0.001s\n",
      "[19/100] 1 tree, 4 leaves, max depth = 2, in 0.001s\n",
      "[20/100] 1 tree, 4 leaves, max depth = 2, in 0.001s\n",
      "[21/100] 1 tree, 4 leaves, max depth = 2, in 0.001s\n",
      "[22/100] 1 tree, 4 leaves, max depth = 2, in 0.001s\n",
      "[23/100] 1 tree, 3 leaves, max depth = 2, in 0.001s\n",
      "[24/100] 1 tree, 4 leaves, max depth = 2, in 0.001s\n",
      "[25/100] 1 tree, 3 leaves, max depth = 2, in 0.001s\n",
      "[26/100] 1 tree, 4 leaves, max depth = 2, in 0.001s\n",
      "[27/100] 1 tree, 3 leaves, max depth = 2, in 0.001s\n",
      "[28/100] 1 tree, 4 leaves, max depth = 2, in 0.001s\n",
      "[29/100] 1 tree, 4 leaves, max depth = 2, in 0.001s\n",
      "[30/100] 1 tree, 3 leaves, max depth = 2, in 0.001s\n",
      "[31/100] 1 tree, 4 leaves, max depth = 2, in 0.001s\n",
      "[32/100] 1 tree, 4 leaves, max depth = 2, in 0.001s\n",
      "[33/100] 1 tree, 4 leaves, max depth = 2, in 0.002s\n",
      "[34/100] 1 tree, 3 leaves, max depth = 2, in 0.002s\n",
      "[35/100] 1 tree, 4 leaves, max depth = 2, in 0.001s\n",
      "[36/100] 1 tree, 4 leaves, max depth = 2, in 0.001s\n",
      "[37/100] 1 tree, 4 leaves, max depth = 2, in 0.001s\n",
      "[38/100] 1 tree, 4 leaves, max depth = 2, in 0.001s\n",
      "[39/100] 1 tree, 3 leaves, max depth = 2, in 0.002s\n",
      "[40/100] 1 tree, 4 leaves, max depth = 2, in 0.002s\n",
      "[41/100] 1 tree, 4 leaves, max depth = 2, in 0.002s\n",
      "[42/100] 1 tree, 3 leaves, max depth = 2, in 0.001s\n",
      "[43/100] 1 tree, 3 leaves, max depth = 2, in 0.002s\n",
      "[44/100] 1 tree, 4 leaves, max depth = 2, in 0.001s\n",
      "[45/100] 1 tree, 4 leaves, max depth = 2, in 0.001s\n",
      "[46/100] 1 tree, 3 leaves, max depth = 2, in 0.001s\n",
      "[47/100] 1 tree, 4 leaves, max depth = 2, in 0.002s\n",
      "[48/100] 1 tree, 3 leaves, max depth = 2, in 0.001s\n",
      "[49/100] 1 tree, 3 leaves, max depth = 2, in 0.001s\n",
      "[50/100] 1 tree, 4 leaves, max depth = 2, in 0.001s\n",
      "[51/100] 1 tree, 4 leaves, max depth = 2, in 0.001s\n",
      "[52/100] 1 tree, 3 leaves, max depth = 2, in 0.001s\n",
      "[53/100] 1 tree, 3 leaves, max depth = 2, in 0.001s\n",
      "[54/100] 1 tree, 4 leaves, max depth = 2, in 0.001s\n",
      "[55/100] 1 tree, 4 leaves, max depth = 2, in 0.001s\n",
      "[56/100] 1 tree, 4 leaves, max depth = 2, in 0.002s\n",
      "[57/100] 1 tree, 3 leaves, max depth = 2, in 0.002s\n",
      "[58/100] 1 tree, 4 leaves, max depth = 2, in 0.002s\n",
      "[59/100] 1 tree, 3 leaves, max depth = 2, in 0.001s\n",
      "[60/100] 1 tree, 3 leaves, max depth = 2, in 0.001s\n",
      "[61/100] 1 tree, 3 leaves, max depth = 2, in 0.001s\n",
      "[62/100] 1 tree, 4 leaves, max depth = 2, in 0.002s\n",
      "[63/100] 1 tree, 3 leaves, max depth = 2, in 0.001s\n",
      "[64/100] 1 tree, 4 leaves, max depth = 2, in 0.001s\n",
      "[65/100] 1 tree, 4 leaves, max depth = 2, in 0.001s\n",
      "[66/100] 1 tree, 4 leaves, max depth = 2, in 0.001s\n",
      "[67/100] 1 tree, 3 leaves, max depth = 2, in 0.002s\n",
      "[68/100] 1 tree, 4 leaves, max depth = 2, in 0.001s\n",
      "[69/100] 1 tree, 4 leaves, max depth = 2, in 0.001s\n",
      "[70/100] 1 tree, 4 leaves, max depth = 2, in 0.001s\n",
      "[71/100] 1 tree, 4 leaves, max depth = 2, in 0.002s\n",
      "[72/100] 1 tree, 4 leaves, max depth = 2, in 0.001s\n",
      "[73/100] 1 tree, 4 leaves, max depth = 2, in 0.001s\n",
      "[74/100] 1 tree, 3 leaves, max depth = 2, in 0.001s\n",
      "[75/100] 1 tree, 3 leaves, max depth = 2, in 0.001s\n",
      "[76/100] 1 tree, 4 leaves, max depth = 2, in 0.001s\n",
      "[77/100] 1 tree, 3 leaves, max depth = 2, in 0.001s\n",
      "[78/100] 1 tree, 4 leaves, max depth = 2, in 0.001s\n",
      "[79/100] 1 tree, 4 leaves, max depth = 2, in 0.001s\n",
      "[80/100] 1 tree, 3 leaves, max depth = 2, in 0.002s\n",
      "[81/100] 1 tree, 3 leaves, max depth = 2, in 0.002s\n",
      "[82/100] 1 tree, 4 leaves, max depth = 2, in 0.002s\n",
      "[83/100] 1 tree, 3 leaves, max depth = 2, in 0.001s\n",
      "[84/100] 1 tree, 4 leaves, max depth = 2, in 0.001s\n",
      "[85/100] 1 tree, 4 leaves, max depth = 2, in 0.002s\n",
      "[86/100] 1 tree, 3 leaves, max depth = 2, in 0.001s\n",
      "[87/100] 1 tree, 4 leaves, max depth = 2, in 0.002s\n",
      "[88/100] 1 tree, 4 leaves, max depth = 2, in 0.001s\n",
      "[89/100] 1 tree, 4 leaves, max depth = 2, in 0.002s\n",
      "[90/100] 1 tree, 4 leaves, max depth = 2, in 0.002s\n",
      "[91/100] 1 tree, 4 leaves, max depth = 2, in 0.001s\n",
      "[92/100] 1 tree, 4 leaves, max depth = 2, in 0.001s\n",
      "[93/100] 1 tree, 3 leaves, max depth = 2, in 0.001s\n",
      "[94/100] 1 tree, 4 leaves, max depth = 2, in 0.001s\n",
      "[95/100] 1 tree, 3 leaves, max depth = 2, in 0.001s\n",
      "[96/100] 1 tree, 4 leaves, max depth = 2, in 0.001s\n",
      "[97/100] 1 tree, 3 leaves, max depth = 2, in 0.001s\n",
      "[98/100] 1 tree, 4 leaves, max depth = 2, in 0.002s\n",
      "[99/100] 1 tree, 4 leaves, max depth = 2, in 0.002s\n",
      "[100/100] 1 tree, 4 leaves, max depth = 2, in 0.001s\n",
      "Fit 100 trees in 0.151 s, (369 total leaves)\n",
      "Time spent computing histograms: 0.007s\n",
      "Time spent finding best splits:  0.004s\n",
      "Time spent applying splits:      0.012s\n",
      "Time spent predicting:           0.003s\n"
     ]
    },
    {
     "name": "stderr",
     "output_type": "stream",
     "text": [
      "\n"
     ]
    }
   ],
   "source": [
    "# Define search space for number of trees in random forest and depth of trees\n",
    "num_trees_min = 31\n",
    "num_trees_max = 64\n",
    "\n",
    "depth_min = 2\n",
    "depth_max = 7\n",
    "\n",
    "parameter_scores = []\n",
    "\n",
    "for num_trees in tqdm(range(num_trees_min, num_trees_max)):\n",
    "\n",
    "    for depth in range(depth_min, depth_max):\n",
    "\n",
    "        # Investigate every subset of explanatory variables\n",
    "        for features in subsets(X.columns):\n",
    "            # First CV split. The 219 refers to the first 3 observations for the 73 districts in the data.\n",
    "            Xtrain = X[:222][features].copy().values\n",
    "            ytrain = y[:222]\n",
    "            Xtest = X[222:294][features].copy().values\n",
    "            ytest = y[222:294]\n",
    "\n",
    "            # Create a RandomForestRegressor with the selected hyperparameters and random state 0.\n",
    "            clf = HistGradientBoostingRegressor(max_leaf_nodes=num_trees, max_depth=depth, random_state=0)\n",
    "\n",
    "            # Fit to the training data\n",
    "            clf.fit(Xtrain, ytrain)\n",
    "\n",
    "            # Make a prediction on the test data\n",
    "            predictions = clf.predict(Xtest)\n",
    "\n",
    "            # Calculate mean absolute error\n",
    "            MAE1 = mean_absolute_error(ytest, predictions)\n",
    "\n",
    "            # Second CV split. The 292 refers to the first 4 observations for the 73 districts in the data.\n",
    "            Xtrain = X[:292][features].copy().values\n",
    "            ytrain = y[:292]\n",
    "            Xtest = X[292:367][features].copy().values\n",
    "            ytest = y[292:367]\n",
    "\n",
    "            # Create a RandomForestRegressor with the selected hyperparameters and random state 0.\n",
    "            clf = HistGradientBoostingRegressor(max_leaf_nodes=num_trees, max_depth=depth, random_state=0)\n",
    "\n",
    "            # Fit to the training data\n",
    "            clf.fit(Xtrain, ytrain)\n",
    "\n",
    "            # Make a prediction on the test data\n",
    "            predictions = clf.predict(Xtest)\n",
    "\n",
    "            # Calculate mean absolute error\n",
    "            MAE2 = mean_absolute_error(ytest, predictions)\n",
    "\n",
    "            # Calculate the mean MAE over the two folds\n",
    "            mean_MAE = (MAE1 + MAE2) / 2\n",
    "\n",
    "            # Store the mean MAE together with the used hyperparameters in list\n",
    "            parameter_scores.append((mean_MAE, num_trees, depth, features))\n",
    "\n",
    "# Sort the models based on score and retrieve the hyperparameters of the best model\n",
    "parameter_scores.sort(key=lambda x: x[0])\n",
    "best_model_score = parameter_scores[0][0]\n",
    "best_model_trees = parameter_scores[0][1]\n",
    "best_model_depth = parameter_scores[0][2]\n",
    "best_model_columns = list(parameter_scores[0][3])\n",
    "\n",
    "'''------------SECTION FINAL EVALUATION--------------'''\n",
    "y = df['next_prevalence'].values\n",
    "X = df[best_model_columns].values\n",
    "\n",
    "# If there is only one explanatory variable, the values need to be reshaped for the model\n",
    "if len(best_model_columns) == 1:\n",
    "    X = X.reshape(-1, 1)\n",
    "\n",
    "# Peform evaluation on full data\n",
    "Xtrain = X[:367]\n",
    "ytrain = y[:367]\n",
    "Xtest = X[367:]\n",
    "ytest = y[367:]\n",
    "\n",
    "clf = HistGradientBoostingRegressor(max_leaf_nodes=best_model_trees, max_depth=best_model_depth, random_state=0, verbose=1)\n",
    "clf.fit(Xtrain, ytrain)\n",
    "predictions = clf.predict(Xtest)"
   ],
   "metadata": {
    "collapsed": false
   }
  },
  {
   "cell_type": "markdown",
   "source": [
    "# Evaluate"
   ],
   "metadata": {
    "collapsed": false
   }
  },
  {
   "cell_type": "code",
   "execution_count": 49,
   "outputs": [
    {
     "data": {
      "text/plain": "0     0.28851\n1     0.14555\n2     0.19392\n3     0.18089\n4     0.21990\n        ...  \n210   0.39348\n211   0.23919\n212   0.42264\n213   0.34388\n214   0.28736\nLength: 215, dtype: float64"
     },
     "execution_count": 49,
     "metadata": {},
     "output_type": "execute_result"
    }
   ],
   "source": [
    "pd.Series(ytest[:-74])"
   ],
   "metadata": {
    "collapsed": false
   }
  },
  {
   "cell_type": "code",
   "execution_count": 51,
   "outputs": [
    {
     "data": {
      "text/plain": "(289, 289)"
     },
     "execution_count": 51,
     "metadata": {},
     "output_type": "execute_result"
    }
   ],
   "source": [
    "# Calculate MAE\n",
    "y_true = pd.Series(ytest[:-74]).drop([53,57],axis=0)\n",
    "y_pred = pd.Series(predictions[:-74]).drop([53,57],axis=0)\n",
    "#MAE = mean_absolute_error(ytest, predictions)\n",
    "MAE = mean_absolute_error(y_true, y_pred)\n",
    "\n",
    "# Generate boolean values for increase or decrease in prevalence. 0 if next prevalence is smaller than current prevalence, 1 otherwise.\n",
    "increase = np.where(df.iloc[367:][\"next_prevalence\"] < df.iloc[367:][\"GAM Prevalence\"],0,1)\n",
    "predicted_increase = np.where(predictions < df.iloc[367:][\"GAM Prevalence\"],0,1)\n",
    "\n",
    "len(increase), len(predicted_increase)"
   ],
   "metadata": {
    "collapsed": false
   }
  },
  {
   "cell_type": "code",
   "execution_count": 52,
   "outputs": [
    {
     "name": "stdout",
     "output_type": "stream",
     "text": [
      "no. of leaves: 31\n",
      "max_depth: 2\n",
      "columns: ['SAM', 'SAM Prevalence', 'phase3plus_perc', 'rainfall', 'ndvi_score', 'Price of water', 'Total alarms', 'n_conflict_total', 'prevalence_6lag', 'month', 'district_encoded', 'Cowpea', 'Maize']\n",
      "MAE: 0.0696, Accuracy: 64.0%\n"
     ]
    }
   ],
   "source": [
    "# Calculate accuracy of predicted boolean increase/decrease\n",
    "acc = accuracy_score(increase, predicted_increase)\n",
    "\n",
    "# Print model parameters\n",
    "print('no. of leaves: ' + str(best_model_trees) + '\\nmax_depth: ' + str(best_model_depth) + '\\ncolumns: ' + str(\n",
    "    best_model_columns))\n",
    "\n",
    "# Print model scores\n",
    "print(f\"MAE: {np.round(MAE,4)}, Accuracy: {np.round(acc,3)*100}%\")"
   ],
   "metadata": {
    "collapsed": false
   }
  },
  {
   "cell_type": "code",
   "execution_count": 53,
   "outputs": [
    {
     "data": {
      "text/plain": "{'accuracy': 64.01384083044984,\n 'precision': 0.6286629367606483,\n 'recall': 0.6401384083044983,\n 'f1': 0.6262107507418017}"
     },
     "execution_count": 53,
     "metadata": {},
     "output_type": "execute_result"
    }
   ],
   "source": [
    "calculate_results(y_true=increase, y_pred=predicted_increase)"
   ],
   "metadata": {
    "collapsed": false
   }
  },
  {
   "cell_type": "code",
   "execution_count": 54,
   "outputs": [
    {
     "data": {
      "text/plain": "<Figure size 576x576 with 2 Axes>",
      "image/png": "[encoded data removed]"
     },
     "metadata": {
      "needs_background": "light"
     },
     "output_type": "display_data"
    }
   ],
   "source": [
    "make_confusion_matrix(y_true=increase, y_pred=predicted_increase,classes=[\"Increase\", \"Decrease\"],title=\"Confusion Matrix for Histogram Gradient Boosting Model\", cmap=plt.cm.Purples, figsize=(8,8))"
   ],
   "metadata": {
    "collapsed": false
   }
  },
  {
   "cell_type": "code",
   "execution_count": 55,
   "outputs": [],
   "source": [
    "from helper_metrics import save_model\n",
    "save_model(clf, \"hgbr_crop.joblib\")"
   ],
   "metadata": {
    "collapsed": false
   }
  }
 ],
 "metadata": {
  "kernelspec": {
   "display_name": "Python 3",
   "language": "python",
   "name": "python3"
  },
  "language_info": {
   "codemirror_mode": {
    "name": "ipython",
    "version": 2
   },
   "file_extension": ".py",
   "mimetype": "text/x-python",
   "name": "python",
   "nbconvert_exporter": "python",
   "pygments_lexer": "ipython2",
   "version": "2.7.6"
  }
 },
 "nbformat": 4,
 "nbformat_minor": 0
}
