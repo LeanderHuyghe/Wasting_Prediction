{
 "cells": [
  {
   "cell_type": "markdown",
   "source": [
    "## Imports"
   ],
   "metadata": {
    "collapsed": false,
    "pycharm": {
     "name": "#%% md\n"
    }
   }
  },
  {
   "cell_type": "code",
   "execution_count": 36,
   "outputs": [],
   "source": [
    "\"\"\"------------SECTION IMPORTS---------------------\"\"\"\n",
    "import numpy as np\n",
    "import pandas as pd\n",
    "from sklearn.ensemble import RandomForestRegressor\n",
    "from sklearn.metrics import mean_absolute_error, accuracy_score\n",
    "import tqdm\n",
    "'''------------SECTION USER VARIABLES--------------'''\n",
    "# Define the path to your datafolder below\n",
    "your_datapath = '../data/'\n",
    "\n",
    "# Define search space for number of trees in random forest and depth of trees\n",
    "num_trees_min = 64\n",
    "num_trees_max = 128\n",
    "\n",
    "depth_min = 2\n",
    "depth_max = 7"
   ],
   "metadata": {
    "collapsed": false,
    "pycharm": {
     "name": "#%%\n"
    }
   }
  },
  {
   "cell_type": "markdown",
   "source": [
    "## Functions"
   ],
   "metadata": {
    "collapsed": false,
    "pycharm": {
     "name": "#%% md\n"
    }
   }
  },
  {
   "cell_type": "code",
   "execution_count": 2,
   "outputs": [],
   "source": [
    "\n",
    "\n",
    "'''------------SECTION FUNCTIONS--------------'''\n",
    "\n",
    "\n",
    "# Function that creates a pandas dataframe for a single district with columns for the baseline model with semiyearly\n",
    "# entries\n",
    "def make_district_df_semiyearly(datapath, district_name):\n",
    "    \"\"\"\n",
    "    Function that creates a pandas dataframe for a single district with columns for the baseline model with\n",
    "    semiyearly entries\n",
    "\n",
    "    Parameters\n",
    "    ----------\n",
    "    datapath : string\n",
    "        Path to the datafolder\n",
    "    district_name : string\n",
    "        Name of the district\n",
    "\n",
    "    Returns\n",
    "    -------\n",
    "    df : pandas dataframe\n",
    "    \"\"\"\n",
    "\n",
    "    # Read all relevant datasets\n",
    "    prevalence_df = pd.read_csv(datapath + 'prevalence_estimates.csv', parse_dates=['date'])\n",
    "    covid_df = pd.read_csv(datapath + 'covid.csv', parse_dates=['date'])\n",
    "    ipc_df = pd.read_csv(datapath + 'ipc2.csv', parse_dates=['date'])\n",
    "    risk_df = pd.read_csv(datapath + 'FSNAU_riskfactors.csv', parse_dates=['date'])\n",
    "    production_df = pd.read_csv(datapath + 'production.csv', parse_dates=['date'])\n",
    "\n",
    "    # Select data for specific district\n",
    "    prevalence_df = prevalence_df[prevalence_df['district'] == district_name]\n",
    "    ipc_df = ipc_df[ipc_df['district'] == district_name]\n",
    "    risk_df = risk_df[risk_df['district'] == district_name]\n",
    "    production_df = production_df[production_df['district'] == district_name]\n",
    "\n",
    "    risk_df = risk_df.groupby(pd.Grouper(key='date', freq='6M')).mean()\n",
    "    risk_df = risk_df.reset_index()\n",
    "    risk_df['date'] = risk_df['date'].apply(lambda x: x.replace(day=1))\n",
    "\n",
    "    covid_df = covid_df.groupby(pd.Grouper(key='date', freq='6M')).sum()\n",
    "    covid_df = covid_df.reset_index()\n",
    "    covid_df['date'] = covid_df['date'].apply(lambda x: x.replace(day=1))\n",
    "\n",
    "    production_df['cropdiv'] = production_df.count(axis=1)\n",
    "\n",
    "    # Sort dataframes on date\n",
    "    prevalence_df.sort_values('date', inplace=True)\n",
    "    covid_df.sort_values('date', inplace=True)\n",
    "    ipc_df.sort_values('date', inplace=True)\n",
    "    risk_df.sort_values('date', inplace=True)\n",
    "    production_df.sort_values('date', inplace=True)\n",
    "\n",
    "    # Merge dataframes, only joining on current or previous dates as to prevent data leakage\n",
    "    df = pd.merge_asof(left=prevalence_df, right=ipc_df, direction='backward', on='date')\n",
    "    df = pd.merge_asof(left=df, right=production_df, direction='backward', on='date')\n",
    "    df = pd.merge_asof(left=df, right=risk_df, direction='backward', on='date')\n",
    "    df = pd.merge_asof(left=df, right=covid_df, direction='backward', on='date')\n",
    "\n",
    "    # Calculate prevalence 6lag\n",
    "    df['prevalence_6lag'] = df['GAM Prevalence'].shift(1)\n",
    "    df['next_prevalence'] = df['GAM Prevalence'].shift(-1)\n",
    "\n",
    "    # Select needed columns\n",
    "    df = df[['date', 'district', 'GAM Prevalence', 'next_prevalence', 'prevalence_6lag', 'new_cases', 'ndvi_score',\n",
    "             'phase3plus_perc', 'cropdiv', 'total population']]\n",
    "    df.columns = ['date', 'district', 'prevalence', 'next_prevalence', 'prevalence_6lag', 'covid', 'ndvi', 'ipc',\n",
    "                  'cropdiv', 'population']\n",
    "\n",
    "    # Add month column\n",
    "    df['month'] = df['date'].dt.month\n",
    "\n",
    "    # Add target variable: increase for next month prevalence (boolean)\n",
    "    increase = [False if x[1] < x[0] else True for x in list(zip(df['prevalence'], df['prevalence'][1:]))]\n",
    "    increase.append(False)\n",
    "    df['increase'] = increase\n",
    "    df.iloc[-1, df.columns.get_loc('increase')] = np.nan  # No info on next month\n",
    "\n",
    "    # Add target variable: increase for next month prevalence (boolean)\n",
    "    increase_numeric = [x[1] - x[0] for x in list(zip(df['prevalence'], df['prevalence'][1:]))]\n",
    "    increase_numeric.append(0)\n",
    "    df['increase_numeric'] = increase_numeric\n",
    "    df.iloc[-1, df.columns.get_loc('increase_numeric')] = np.nan  # No info on next month\n",
    "\n",
    "    df.loc[(df.date < pd.to_datetime('2020-03-01')), 'covid'] = 0\n",
    "\n",
    "    return (df)\n",
    "\n",
    "\n",
    "# Function that combines the semi-yearly dataset (from the function make_district_df_semiyearly) of all districts\n",
    "def make_combined_df_semiyearly(datapath):\n",
    "    \"\"\"\n",
    "    Function that creates a pandas dataframe for all districts with columns for the baseline model with semiyearly entries\n",
    "\n",
    "    Parameters\n",
    "    ----------\n",
    "    datapath : string\n",
    "        Path to the datafolder\n",
    "\n",
    "    Returns\n",
    "    -------\n",
    "    df : pandas dataframe\n",
    "    \"\"\"\n",
    "\n",
    "    prevdf = pd.read_csv(datapath + 'prevalence_estimates.csv', parse_dates=['date'])\n",
    "    districts = prevdf['district'].unique()\n",
    "\n",
    "    df_list = []\n",
    "    for district in districts:\n",
    "        district_df = make_district_df_semiyearly(datapath, district)\n",
    "        district_df['district'] = district\n",
    "        df_list.append(district_df)\n",
    "\n",
    "    df = pd.concat(df_list, ignore_index=True)\n",
    "    df['district_encoded'] = df['district'].astype('category').cat.codes\n",
    "\n",
    "    return df\n",
    "\n",
    "\n",
    "# Function that returns every possible subset (except the empty set) of the input list l\n",
    "def subsets(l):\n",
    "    subset_list = []\n",
    "    for i in range(len(l) + 1):\n",
    "        for j in range(i):\n",
    "            subset_list.append(l[j: i])\n",
    "    return subset_list\n",
    "\n",
    "\n"
   ],
   "metadata": {
    "collapsed": false,
    "pycharm": {
     "name": "#%%\n"
    }
   }
  },
  {
   "cell_type": "markdown",
   "source": [
    "## Dataframe Creation"
   ],
   "metadata": {
    "collapsed": false,
    "pycharm": {
     "name": "#%% md\n"
    }
   }
  },
  {
   "cell_type": "code",
   "execution_count": 3,
   "outputs": [],
   "source": [
    "'''------------SECTION DATAFRAME CREATION--------------'''\n",
    "# Create the dataframe for all districts\n",
    "df = make_combined_df_semiyearly(your_datapath)\n",
    "\n",
    "# Drop every row with missing values\n",
    "df.dropna(inplace=True)\n",
    "\n",
    "# Sort dataframe on date and reset the index\n",
    "df.sort_values('date', inplace=True)\n",
    "df.reset_index(inplace=True, drop=True)\n",
    "\n",
    "# Drop disctricts with less than 7 observations: 'Burco', 'Saakow', 'Rab Dhuure', 'Baydhaba', 'Afmadow'\n",
    "df.drop(df[df['district'].isin(['Burco', 'Saakow', 'Rab Dhuure', 'Baydhaba', 'Afmadow'])].index, inplace=True)\n",
    "\n",
    "\n"
   ],
   "metadata": {
    "collapsed": false,
    "pycharm": {
     "name": "#%%\n"
    }
   }
  },
  {
   "cell_type": "code",
   "execution_count": 4,
   "outputs": [
    {
     "data": {
      "text/plain": "          date       district  prevalence  next_prevalence  prevalence_6lag  \\\n0   2018-01-01        Afgooye    0.351000         0.384859         0.369200   \n1   2018-01-01        Gebiley    0.197600         0.244319         0.338000   \n2   2018-01-01   Kurtunwaarey    0.351000         0.446118         0.369200   \n3   2018-01-01  Qansax Dheere    0.288600         0.509285         0.358800   \n4   2018-01-01         Waajid    0.486200         0.474895         0.486200   \n..         ...            ...         ...              ...              ...   \n243 2021-01-01       Hargeysa    0.196585         0.267635         0.127787   \n244 2021-01-01        Baraawe    0.491189         0.465542         0.450524   \n245 2021-01-01         Sheikh    0.182837         0.224277         0.145549   \n246 2021-01-01     Bulo Burto    0.198074         0.346220         0.455601   \n247 2021-01-01         Borama    0.191211         0.277267         0.141288   \n\n      covid      ndvi   ipc  cropdiv   population  month increase  \\\n0       0.0  0.273333  0.00      6.0   309683.385      1     True   \n1       0.0  0.208333  0.13      2.0   146038.500      1     True   \n2       0.0  0.365000  0.18      5.0    95730.255      1     True   \n3       0.0  0.266667  0.09      7.0   123818.085      1     True   \n4       0.0  0.250000  0.11      5.0    85276.755      1    False   \n..      ...       ...   ...      ...          ...    ...      ...   \n243  3583.0  0.200000  0.12      2.0  1044086.000      1     True   \n244  3583.0  0.421667  0.06      5.0    56743.000      1    False   \n245  3583.0  0.260000  0.18      2.0    71387.000      1     True   \n246  3583.0  0.366667  0.12     10.0    90880.000      1     True   \n247  3583.0  0.255000  0.11      2.0   453434.000      1     True   \n\n     increase_numeric  district_encoded  \n0            0.033859                 3  \n1            0.046719                51  \n2            0.095118                61  \n3            0.220685                71  \n4           -0.011305                81  \n..                ...               ...  \n243          0.071050                52  \n244         -0.025647                14  \n245          0.041440                78  \n246          0.148145                25  \n247          0.086056                22  \n\n[231 rows x 14 columns]",
      "text/html": "<div>\n<style scoped>\n    .dataframe tbody tr th:only-of-type {\n        vertical-align: middle;\n    }\n\n    .dataframe tbody tr th {\n        vertical-align: top;\n    }\n\n    .dataframe thead th {\n        text-align: right;\n    }\n</style>\n<table border=\"1\" class=\"dataframe\">\n  <thead>\n    <tr style=\"text-align: right;\">\n      <th></th>\n      <th>date</th>\n      <th>district</th>\n      <th>prevalence</th>\n      <th>next_prevalence</th>\n      <th>prevalence_6lag</th>\n      <th>covid</th>\n      <th>ndvi</th>\n      <th>ipc</th>\n      <th>cropdiv</th>\n      <th>population</th>\n      <th>month</th>\n      <th>increase</th>\n      <th>increase_numeric</th>\n      <th>district_encoded</th>\n    </tr>\n  </thead>\n  <tbody>\n    <tr>\n      <th>0</th>\n      <td>2018-01-01</td>\n      <td>Afgooye</td>\n      <td>0.351000</td>\n      <td>0.384859</td>\n      <td>0.369200</td>\n      <td>0.0</td>\n      <td>0.273333</td>\n      <td>0.00</td>\n      <td>6.0</td>\n      <td>309683.385</td>\n      <td>1</td>\n      <td>True</td>\n      <td>0.033859</td>\n      <td>3</td>\n    </tr>\n    <tr>\n      <th>1</th>\n      <td>2018-01-01</td>\n      <td>Gebiley</td>\n      <td>0.197600</td>\n      <td>0.244319</td>\n      <td>0.338000</td>\n      <td>0.0</td>\n      <td>0.208333</td>\n      <td>0.13</td>\n      <td>2.0</td>\n      <td>146038.500</td>\n      <td>1</td>\n      <td>True</td>\n      <td>0.046719</td>\n      <td>51</td>\n    </tr>\n    <tr>\n      <th>2</th>\n      <td>2018-01-01</td>\n      <td>Kurtunwaarey</td>\n      <td>0.351000</td>\n      <td>0.446118</td>\n      <td>0.369200</td>\n      <td>0.0</td>\n      <td>0.365000</td>\n      <td>0.18</td>\n      <td>5.0</td>\n      <td>95730.255</td>\n      <td>1</td>\n      <td>True</td>\n      <td>0.095118</td>\n      <td>61</td>\n    </tr>\n    <tr>\n      <th>3</th>\n      <td>2018-01-01</td>\n      <td>Qansax Dheere</td>\n      <td>0.288600</td>\n      <td>0.509285</td>\n      <td>0.358800</td>\n      <td>0.0</td>\n      <td>0.266667</td>\n      <td>0.09</td>\n      <td>7.0</td>\n      <td>123818.085</td>\n      <td>1</td>\n      <td>True</td>\n      <td>0.220685</td>\n      <td>71</td>\n    </tr>\n    <tr>\n      <th>4</th>\n      <td>2018-01-01</td>\n      <td>Waajid</td>\n      <td>0.486200</td>\n      <td>0.474895</td>\n      <td>0.486200</td>\n      <td>0.0</td>\n      <td>0.250000</td>\n      <td>0.11</td>\n      <td>5.0</td>\n      <td>85276.755</td>\n      <td>1</td>\n      <td>False</td>\n      <td>-0.011305</td>\n      <td>81</td>\n    </tr>\n    <tr>\n      <th>...</th>\n      <td>...</td>\n      <td>...</td>\n      <td>...</td>\n      <td>...</td>\n      <td>...</td>\n      <td>...</td>\n      <td>...</td>\n      <td>...</td>\n      <td>...</td>\n      <td>...</td>\n      <td>...</td>\n      <td>...</td>\n      <td>...</td>\n      <td>...</td>\n    </tr>\n    <tr>\n      <th>243</th>\n      <td>2021-01-01</td>\n      <td>Hargeysa</td>\n      <td>0.196585</td>\n      <td>0.267635</td>\n      <td>0.127787</td>\n      <td>3583.0</td>\n      <td>0.200000</td>\n      <td>0.12</td>\n      <td>2.0</td>\n      <td>1044086.000</td>\n      <td>1</td>\n      <td>True</td>\n      <td>0.071050</td>\n      <td>52</td>\n    </tr>\n    <tr>\n      <th>244</th>\n      <td>2021-01-01</td>\n      <td>Baraawe</td>\n      <td>0.491189</td>\n      <td>0.465542</td>\n      <td>0.450524</td>\n      <td>3583.0</td>\n      <td>0.421667</td>\n      <td>0.06</td>\n      <td>5.0</td>\n      <td>56743.000</td>\n      <td>1</td>\n      <td>False</td>\n      <td>-0.025647</td>\n      <td>14</td>\n    </tr>\n    <tr>\n      <th>245</th>\n      <td>2021-01-01</td>\n      <td>Sheikh</td>\n      <td>0.182837</td>\n      <td>0.224277</td>\n      <td>0.145549</td>\n      <td>3583.0</td>\n      <td>0.260000</td>\n      <td>0.18</td>\n      <td>2.0</td>\n      <td>71387.000</td>\n      <td>1</td>\n      <td>True</td>\n      <td>0.041440</td>\n      <td>78</td>\n    </tr>\n    <tr>\n      <th>246</th>\n      <td>2021-01-01</td>\n      <td>Bulo Burto</td>\n      <td>0.198074</td>\n      <td>0.346220</td>\n      <td>0.455601</td>\n      <td>3583.0</td>\n      <td>0.366667</td>\n      <td>0.12</td>\n      <td>10.0</td>\n      <td>90880.000</td>\n      <td>1</td>\n      <td>True</td>\n      <td>0.148145</td>\n      <td>25</td>\n    </tr>\n    <tr>\n      <th>247</th>\n      <td>2021-01-01</td>\n      <td>Borama</td>\n      <td>0.191211</td>\n      <td>0.277267</td>\n      <td>0.141288</td>\n      <td>3583.0</td>\n      <td>0.255000</td>\n      <td>0.11</td>\n      <td>2.0</td>\n      <td>453434.000</td>\n      <td>1</td>\n      <td>True</td>\n      <td>0.086056</td>\n      <td>22</td>\n    </tr>\n  </tbody>\n</table>\n<p>231 rows × 14 columns</p>\n</div>"
     },
     "execution_count": 4,
     "metadata": {},
     "output_type": "execute_result"
    }
   ],
   "source": [
    "df"
   ],
   "metadata": {
    "collapsed": false,
    "pycharm": {
     "name": "#%%\n"
    }
   }
  },
  {
   "cell_type": "markdown",
   "source": [
    "## RF-CV"
   ],
   "metadata": {
    "collapsed": false,
    "pycharm": {
     "name": "#%% md\n"
    }
   }
  },
  {
   "cell_type": "code",
   "execution_count": 5,
   "outputs": [],
   "source": [
    "'''------------SECTION RANDOM FOREST CROSS VALIDATION--------------'''\n",
    "# WARNING: this process can take some time, since there are a lot of hyperparameters to investigate. The search space can be manually reduced to speed up the process.\n",
    "\n",
    "# Create empty list to store model scores\n",
    "parameter_scores = []\n",
    "\n",
    "# Define target and explanatory variables\n",
    "X = df.drop(columns=['increase', 'increase_numeric', 'date', 'district', 'prevalence',\n",
    "                     'next_prevalence'])  # Note that these columns are dropped, the remaining columns are used as explanatory variables\n",
    "y = df['next_prevalence'].values"
   ],
   "metadata": {
    "collapsed": false,
    "pycharm": {
     "name": "#%%\n"
    }
   }
  },
  {
   "cell_type": "code",
   "execution_count": 6,
   "outputs": [
    {
     "data": {
      "text/plain": "     prevalence_6lag   covid      ndvi   ipc  cropdiv   population  month  \\\n0           0.369200     0.0  0.273333  0.00      6.0   309683.385      1   \n1           0.338000     0.0  0.208333  0.13      2.0   146038.500      1   \n2           0.369200     0.0  0.365000  0.18      5.0    95730.255      1   \n3           0.358800     0.0  0.266667  0.09      7.0   123818.085      1   \n4           0.486200     0.0  0.250000  0.11      5.0    85276.755      1   \n..               ...     ...       ...   ...      ...          ...    ...   \n243         0.127787  3583.0  0.200000  0.12      2.0  1044086.000      1   \n244         0.450524  3583.0  0.421667  0.06      5.0    56743.000      1   \n245         0.145549  3583.0  0.260000  0.18      2.0    71387.000      1   \n246         0.455601  3583.0  0.366667  0.12     10.0    90880.000      1   \n247         0.141288  3583.0  0.255000  0.11      2.0   453434.000      1   \n\n     district_encoded  \n0                   3  \n1                  51  \n2                  61  \n3                  71  \n4                  81  \n..                ...  \n243                52  \n244                14  \n245                78  \n246                25  \n247                22  \n\n[231 rows x 8 columns]",
      "text/html": "<div>\n<style scoped>\n    .dataframe tbody tr th:only-of-type {\n        vertical-align: middle;\n    }\n\n    .dataframe tbody tr th {\n        vertical-align: top;\n    }\n\n    .dataframe thead th {\n        text-align: right;\n    }\n</style>\n<table border=\"1\" class=\"dataframe\">\n  <thead>\n    <tr style=\"text-align: right;\">\n      <th></th>\n      <th>prevalence_6lag</th>\n      <th>covid</th>\n      <th>ndvi</th>\n      <th>ipc</th>\n      <th>cropdiv</th>\n      <th>population</th>\n      <th>month</th>\n      <th>district_encoded</th>\n    </tr>\n  </thead>\n  <tbody>\n    <tr>\n      <th>0</th>\n      <td>0.369200</td>\n      <td>0.0</td>\n      <td>0.273333</td>\n      <td>0.00</td>\n      <td>6.0</td>\n      <td>309683.385</td>\n      <td>1</td>\n      <td>3</td>\n    </tr>\n    <tr>\n      <th>1</th>\n      <td>0.338000</td>\n      <td>0.0</td>\n      <td>0.208333</td>\n      <td>0.13</td>\n      <td>2.0</td>\n      <td>146038.500</td>\n      <td>1</td>\n      <td>51</td>\n    </tr>\n    <tr>\n      <th>2</th>\n      <td>0.369200</td>\n      <td>0.0</td>\n      <td>0.365000</td>\n      <td>0.18</td>\n      <td>5.0</td>\n      <td>95730.255</td>\n      <td>1</td>\n      <td>61</td>\n    </tr>\n    <tr>\n      <th>3</th>\n      <td>0.358800</td>\n      <td>0.0</td>\n      <td>0.266667</td>\n      <td>0.09</td>\n      <td>7.0</td>\n      <td>123818.085</td>\n      <td>1</td>\n      <td>71</td>\n    </tr>\n    <tr>\n      <th>4</th>\n      <td>0.486200</td>\n      <td>0.0</td>\n      <td>0.250000</td>\n      <td>0.11</td>\n      <td>5.0</td>\n      <td>85276.755</td>\n      <td>1</td>\n      <td>81</td>\n    </tr>\n    <tr>\n      <th>...</th>\n      <td>...</td>\n      <td>...</td>\n      <td>...</td>\n      <td>...</td>\n      <td>...</td>\n      <td>...</td>\n      <td>...</td>\n      <td>...</td>\n    </tr>\n    <tr>\n      <th>243</th>\n      <td>0.127787</td>\n      <td>3583.0</td>\n      <td>0.200000</td>\n      <td>0.12</td>\n      <td>2.0</td>\n      <td>1044086.000</td>\n      <td>1</td>\n      <td>52</td>\n    </tr>\n    <tr>\n      <th>244</th>\n      <td>0.450524</td>\n      <td>3583.0</td>\n      <td>0.421667</td>\n      <td>0.06</td>\n      <td>5.0</td>\n      <td>56743.000</td>\n      <td>1</td>\n      <td>14</td>\n    </tr>\n    <tr>\n      <th>245</th>\n      <td>0.145549</td>\n      <td>3583.0</td>\n      <td>0.260000</td>\n      <td>0.18</td>\n      <td>2.0</td>\n      <td>71387.000</td>\n      <td>1</td>\n      <td>78</td>\n    </tr>\n    <tr>\n      <th>246</th>\n      <td>0.455601</td>\n      <td>3583.0</td>\n      <td>0.366667</td>\n      <td>0.12</td>\n      <td>10.0</td>\n      <td>90880.000</td>\n      <td>1</td>\n      <td>25</td>\n    </tr>\n    <tr>\n      <th>247</th>\n      <td>0.141288</td>\n      <td>3583.0</td>\n      <td>0.255000</td>\n      <td>0.11</td>\n      <td>2.0</td>\n      <td>453434.000</td>\n      <td>1</td>\n      <td>22</td>\n    </tr>\n  </tbody>\n</table>\n<p>231 rows × 8 columns</p>\n</div>"
     },
     "execution_count": 6,
     "metadata": {},
     "output_type": "execute_result"
    }
   ],
   "source": [
    "X"
   ],
   "metadata": {
    "collapsed": false,
    "pycharm": {
     "name": "#%%\n"
    }
   }
  },
  {
   "cell_type": "code",
   "execution_count": 7,
   "outputs": [
    {
     "data": {
      "text/plain": "array([0.38485906, 0.24431911, 0.44611796, 0.50928473, 0.47489491,\n       0.53925121, 0.37857746, 0.2386485 , 0.34471067, 0.38304597,\n       0.35026078, 0.46372817, 0.43637985, 0.41251811, 0.25058648,\n       0.24062519, 0.43096105, 0.39089497, 0.40603569, 0.35804059,\n       0.29726064, 0.31423997, 0.38583213, 0.4123023 , 0.39714063,\n       0.40774387, 0.33541488, 0.47695342, 0.46854985, 0.28292017,\n       0.37111927, 0.23034239, 0.4689021 , 0.47045313, 0.20729391,\n       0.30962367, 0.31831561, 0.4388575 , 0.47064018, 0.39837789,\n       0.46988452, 0.43567512, 0.39764276, 0.4709407 , 0.43917584,\n       0.40971362, 0.20445647, 0.43834035, 0.31494043, 0.28708829,\n       0.48161202, 0.35207266, 0.23303072, 0.34409375, 0.31570561,\n       0.43652071, 0.47928883, 0.4256324 , 0.19557235, 0.4399318 ,\n       0.47319418, 0.43610911, 0.25266592, 0.47094823, 0.32372225,\n       0.19516451, 0.22139067, 0.41202916, 0.55458457, 0.34875844,\n       0.55128449, 0.46072587, 0.46563963, 0.51133277, 0.53268004,\n       0.24189923, 0.54906832, 0.30204879, 0.46215913, 0.52139658,\n       0.54577886, 0.48235866, 0.23955198, 0.42078929, 0.54585463,\n       0.46803959, 0.54811802, 0.50041384, 0.31180788, 0.27363281,\n       0.45782152, 0.58680546, 0.59210474, 0.51637492, 0.46470706,\n       0.58984517, 0.45395896, 0.3368835 , 0.33108239, 0.38295958,\n       0.44526184, 0.54954949, 0.39627813, 0.46371376, 0.44620763,\n       0.44433909, 0.2163548 , 0.51851176, 0.37696763, 0.39092948,\n       0.20814017, 0.64800094, 0.45877649, 0.44038328, 0.53123421,\n       0.47350426, 0.47981384, 0.44922254, 0.24843682, 0.34895699,\n       0.38992541, 0.44548306, 0.49549153, 0.21387129, 0.39946822,\n       0.30836218, 0.37289537, 0.63123435, 0.42612856, 0.26677177,\n       0.20299432, 0.37067822, 0.45444572, 0.30608482, 0.49332014,\n       0.38332789, 0.29051689, 0.14128817, 0.23048401, 0.49050378,\n       0.41171354, 0.13217371, 0.39258484, 0.48013476, 0.45560079,\n       0.42444301, 0.41180618, 0.28584162, 0.12778653, 0.26395387,\n       0.4604084 , 0.38819531, 0.37574359, 0.44698978, 0.16759031,\n       0.39924141, 0.45823539, 0.36193086, 0.30608447, 0.46258357,\n       0.44201626, 0.48556048, 0.43672296, 0.14554878, 0.45052428,\n       0.31241588, 0.30612245, 0.42338655, 0.45488257, 0.27747552,\n       0.49118943, 0.19121134, 0.18283713, 0.4933525 , 0.24746603,\n       0.45939117, 0.24140508, 0.50847458, 0.19240636, 0.19471454,\n       0.46055369, 0.36412078, 0.48413217, 0.37051503, 0.49238761,\n       0.53171347, 0.46433307, 0.37884615, 0.35832821, 0.28145355,\n       0.27594628, 0.19658549, 0.4615278 , 0.23881335, 0.19484979,\n       0.19807428, 0.28418039, 0.4702755 , 0.44988588, 0.40567241,\n       0.44729157, 0.46376394, 0.26840601, 0.38689941, 0.40807283,\n       0.40439248, 0.42481023, 0.35155563, 0.4476633 , 0.2876174 ,\n       0.41963654, 0.39348041, 0.33692722, 0.45759512, 0.28736046,\n       0.37317179, 0.44600785, 0.42120557, 0.43765107, 0.22801578,\n       0.28514472, 0.40085473, 0.4305075 , 0.45122287, 0.30719938,\n       0.44868958, 0.26763509, 0.46554218, 0.22427742, 0.34621975,\n       0.27726736])"
     },
     "execution_count": 7,
     "metadata": {},
     "output_type": "execute_result"
    }
   ],
   "source": [
    "y"
   ],
   "metadata": {
    "collapsed": false,
    "pycharm": {
     "name": "#%%\n"
    }
   }
  },
  {
   "cell_type": "code",
   "execution_count": 8,
   "outputs": [
    {
     "name": "stdout",
     "output_type": "stream",
     "text": [
      "no. of trees: 74\n",
      "max_depth: 6\n",
      "columns: ['district_encoded']\n",
      "0.05629900026844117 0.849862258953168\n"
     ]
    }
   ],
   "source": [
    "\n",
    "\n",
    "for num_trees in range(num_trees_min, num_trees_max):\n",
    "\n",
    "    for depth in range(depth_min, depth_max):\n",
    "\n",
    "        # Investigate every subset of explanatory variables\n",
    "        for features in subsets(X.columns):\n",
    "            # First CV split. The 99 refers to the first 3 observations for the 33 districts in the data.\n",
    "            Xtrain = X[:99][features].copy().values\n",
    "            ytrain = y[:99]\n",
    "            Xtest = X[99:132][features].copy().values\n",
    "            ytest = y[99:132]\n",
    "\n",
    "            # Create a RandomForestRegressor with the selected hyperparameters and random state 0.\n",
    "            clf = RandomForestRegressor(n_estimators=num_trees, max_depth=depth, random_state=0, n_jobs=-1)\n",
    "\n",
    "            # Fit to the training data\n",
    "            clf.fit(Xtrain, ytrain)\n",
    "\n",
    "            # Make a prediction on the test data\n",
    "            predictions = clf.predict(Xtest)\n",
    "\n",
    "            # Calculate mean absolute error\n",
    "            MAE1 = mean_absolute_error(ytest, predictions)\n",
    "\n",
    "            # Second CV split. The 132 refers to the first 4 observations for the 33 districts in the data.\n",
    "            Xtrain = X[:132][features].copy().values\n",
    "            ytrain = y[:132]\n",
    "            Xtest = X[132:165][features].copy().values\n",
    "            ytest = y[132:165]\n",
    "\n",
    "            # Create a RandomForestRegressor with the selected hyperparameters and random state 0.\n",
    "            clf = RandomForestRegressor(n_estimators=num_trees, max_depth=depth, random_state=0, n_jobs=-1)\n",
    "\n",
    "            # Fit to the training data\n",
    "            clf.fit(Xtrain, ytrain)\n",
    "\n",
    "            # Make a prediction on the test data\n",
    "            predictions = clf.predict(Xtest)\n",
    "\n",
    "            # Calculate mean absolute error\n",
    "            MAE2 = mean_absolute_error(ytest, predictions)\n",
    "\n",
    "            # Calculate the mean MAE over the two folds\n",
    "            mean_MAE = (MAE1 + MAE2) / 2\n",
    "\n",
    "            # Store the mean MAE together with the used hyperparameters in list\n",
    "            parameter_scores.append((mean_MAE, num_trees, depth, features))\n",
    "\n",
    "# Sort the models based on score and retrieve the hyperparameters of the best model\n",
    "parameter_scores.sort(key=lambda x: x[0])\n",
    "best_model_score = parameter_scores[0][0]\n",
    "best_model_trees = parameter_scores[0][1]\n",
    "best_model_depth = parameter_scores[0][2]\n",
    "best_model_columns = list(parameter_scores[0][3])\n",
    "\n",
    "'''------------SECTION FINAL EVALUATION--------------'''\n",
    "X = df[best_model_columns].values\n",
    "y = df['next_prevalence'].values\n",
    "\n",
    "# If there is only one explanatory variable, the values need to be reshaped for the model\n",
    "if len(best_model_columns) == 1:\n",
    "    X = X.reshape(-1, 1)\n",
    "\n",
    "# Peform evaluation on full data\n",
    "Xtrain = X[:165]\n",
    "ytrain = y[:165]\n",
    "Xtest = X[165:]\n",
    "ytest = y[165:]\n",
    "\n",
    "clf = RandomForestRegressor(n_estimators=best_model_trees, max_depth=best_model_depth, random_state=0, n_jobs=-1)\n",
    "clf.fit(Xtrain, ytrain)\n",
    "predictions = clf.predict(Xtest)\n",
    "\n",
    "# Calculate MAE\n",
    "MAE = mean_absolute_error(ytest, predictions)\n",
    "\n",
    "# Generate boolean values for increase or decrease in prevalence. 0 if next prevalence is smaller than current prevalence, 1 otherwise.\n",
    "increase = [0 if x < y else 1 for x in df.iloc[165:]['next_prevalence'] for y in df.iloc[165:]['prevalence']]\n",
    "predicted_increase = [0 if x < y else 1 for x in predictions for y in df.iloc[165:]['prevalence']]\n",
    "\n",
    "# Calculate accuracy of predicted boolean increase/decrease\n",
    "acc = accuracy_score(increase, predicted_increase)\n",
    "\n",
    "# Print model parameters\n",
    "print('no. of trees: ' + str(best_model_trees) + '\\nmax_depth: ' + str(best_model_depth) + '\\ncolumns: ' + str(\n",
    "    best_model_columns))\n",
    "\n",
    "# Print model scores\n",
    "print(MAE, acc)"
   ],
   "metadata": {
    "collapsed": false,
    "pycharm": {
     "name": "#%%\n"
    }
   }
  },
  {
   "cell_type": "code",
   "execution_count": 15,
   "outputs": [],
   "source": [
    "import pickle"
   ],
   "metadata": {
    "collapsed": false,
    "pycharm": {
     "name": "#%%\n"
    }
   }
  },
  {
   "cell_type": "code",
   "execution_count": 16,
   "outputs": [],
   "source": [
    "filename = 'finalized_model.sav'\n",
    "pickle.dump(clf, open(filename, 'wb'))"
   ],
   "metadata": {
    "collapsed": false,
    "pycharm": {
     "name": "#%%\n"
    }
   }
  },
  {
   "cell_type": "code",
   "execution_count": 19,
   "outputs": [
    {
     "data": {
      "text/plain": "array([0.4148018 , 0.42257874, 0.39595439, 0.44748635, 0.36646047,\n       0.41325804, 0.31777934, 0.24528278, 0.48025485, 0.44373394,\n       0.45020309, 0.35484975, 0.50756738, 0.24048522, 0.4635085 ,\n       0.41784431, 0.44111605, 0.41493111, 0.41289312, 0.48474094,\n       0.49323732, 0.4279445 , 0.41025708, 0.41917301, 0.34661014,\n       0.34838353, 0.22064169, 0.43336775, 0.36898391, 0.25883978,\n       0.43303905, 0.32972374, 0.45949714, 0.48025485, 0.36646047,\n       0.49323732, 0.41493111, 0.35484975, 0.36898391, 0.4635085 ,\n       0.4148018 , 0.39595439, 0.44111605, 0.41784431, 0.24048522,\n       0.48474094, 0.41289312, 0.34661014, 0.4279445 , 0.34838353,\n       0.41917301, 0.43336775, 0.45949714, 0.42257874, 0.25883978,\n       0.32972374, 0.41025708, 0.50756738, 0.45020309, 0.44373394,\n       0.44748635, 0.22064169, 0.41325804, 0.24528278, 0.43303905,\n       0.31777934])"
     },
     "execution_count": 19,
     "metadata": {},
     "output_type": "execute_result"
    }
   ],
   "source": [
    " # load the model from disk\n",
    "loaded_model = pickle.load(open(filename, 'rb'))\n",
    "loaded_model.fit(Xtrain, ytrain)\n",
    "predictions2 = loaded_model.predict(Xtest)\n",
    "predictions2"
   ],
   "metadata": {
    "collapsed": false,
    "pycharm": {
     "name": "#%%\n"
    }
   }
  },
  {
   "cell_type": "code",
   "execution_count": 23,
   "outputs": [
    {
     "name": "stdout",
     "output_type": "stream",
     "text": [
      "no. of trees: 74\n",
      "max_depth: 6\n",
      "columns: ['district_encoded']\n",
      "0.05629900026844117 0.849862258953168\n"
     ]
    }
   ],
   "source": [
    "# Calculate MAE\n",
    "MAE = mean_absolute_error(ytest, predictions2)\n",
    "\n",
    "# Generate boolean values for increase or decrease in prevalence. 0 if next prevalence is smaller than current prevalence, 1 otherwise.\n",
    "increase = [0 if x < y else 1 for x in df.iloc[165:]['next_prevalence'] for y in df.iloc[165:]['prevalence']]\n",
    "predicted_increase = [0 if x < y else 1 for x in predictions2 for y in df.iloc[165:]['prevalence']]\n",
    "\n",
    "# Calculate accuracy of predicted boolean increase/decrease\n",
    "acc = accuracy_score(increase, predicted_increase)\n",
    "\n",
    "# Print model parameters\n",
    "print('no. of trees: ' + str(best_model_trees) + '\\nmax_depth: ' + str(best_model_depth) + '\\ncolumns: ' + str(\n",
    "    best_model_columns))\n",
    "\n",
    "# Print model scores\n",
    "print(MAE, acc)"
   ],
   "metadata": {
    "collapsed": false,
    "pycharm": {
     "name": "#%%\n"
    }
   }
  },
  {
   "cell_type": "code",
   "execution_count": 134,
   "outputs": [],
   "source": [
    "from helper_functions import make_confusion_matrix"
   ],
   "metadata": {
    "collapsed": false,
    "pycharm": {
     "name": "#%%\n"
    }
   }
  },
  {
   "cell_type": "code",
   "execution_count": 135,
   "outputs": [
    {
     "data": {
      "text/plain": "<Figure size 600x600 with 2 Axes>",
      "image/png": "[encoded data removed]"
     },
     "metadata": {
      "needs_background": "light"
     },
     "output_type": "display_data"
    }
   ],
   "source": [
    "make_confusion_matrix(increase, predicted_increase,figsize=(6,6),classes=[\"Increase\", \"Decrease\"])"
   ],
   "metadata": {
    "collapsed": false,
    "pycharm": {
     "name": "#%%\n"
    }
   }
  },
  {
   "cell_type": "code",
   "execution_count": 148,
   "outputs": [],
   "source": [
    "import matplotlib.pyplot as plt\n",
    "def roc_curve_gen(y_true, y_pred, model_name=\"Model\"):\n",
    "    \"\"\"\n",
    "\n",
    "    Parameters\n",
    "    ----------\n",
    "    y_true\n",
    "    y_pred\n",
    "    model_name: for title of plot\n",
    "\n",
    "    Returns\n",
    "    -------\n",
    "    ROC curve\n",
    "    \"\"\"\n",
    "    fpr, tpr, threshold = roc_curve(y_true, y_pred)\n",
    "\n",
    "    plt.plot(fpr, tpr, label=\"Predicted Increase\")\n",
    "\n",
    "    plt.plot([0, 1], [0, 1], 'k--')\n",
    "    plt.xlim([0.0, 1.0])\n",
    "    plt.ylim([0.0, 1.05])\n",
    "    plt.xlabel('False Positive Rate')\n",
    "    plt.ylabel('True Positive Rate')\n",
    "    plt.title(f'ROC Curve for {model_name}')\n",
    "    plt.legend(loc=\"lower right\", prop={'size': 8})\n",
    "    plt.show()\n"
   ],
   "metadata": {
    "collapsed": false,
    "pycharm": {
     "name": "#%%\n"
    }
   }
  },
  {
   "cell_type": "code",
   "execution_count": 149,
   "outputs": [
    {
     "data": {
      "text/plain": "<Figure size 600x400 with 1 Axes>",
      "image/png": "[encoded data removed]"
     },
     "metadata": {
      "needs_background": "light"
     },
     "output_type": "display_data"
    }
   ],
   "source": [
    "roc_curve_gen(increase, predicted_increase)"
   ],
   "metadata": {
    "collapsed": false,
    "pycharm": {
     "name": "#%%\n"
    }
   }
  },
  {
   "cell_type": "code",
   "execution_count": 153,
   "outputs": [],
   "source": [
    "from sklearn.metrics import precision_recall_fscore_support\n",
    "def calculate_results(y_true, y_pred, average=\"weighted\"):\n",
    "    \"\"\"\n",
    "    Calculates model accuracy, precision, recall and f1 score of a binary classification model.\n",
    "\n",
    "    Args:\n",
    "        y_true: true labels in the form of a 1D array\n",
    "        y_pred: predicted labels in the form of a 1D array\n",
    "\n",
    "    Returns a dictionary of accuracy, precision, recall, f1-score.\n",
    "    \"\"\"\n",
    "    # Calculate model accuracy\n",
    "    model_accuracy = accuracy_score(y_true, y_pred) * 100\n",
    "    # Calculate model precision, recall and f1 score using \"weighted average\n",
    "    model_precision, model_recall, model_f1, _ = precision_recall_fscore_support(y_true, y_pred, average=average)\n",
    "    model_results = {\"accuracy\": model_accuracy,\n",
    "                     \"precision\": model_precision,\n",
    "                     \"recall\": model_recall,\n",
    "                     \"f1\": model_f1}\n",
    "    return model_results"
   ],
   "metadata": {
    "collapsed": false,
    "pycharm": {
     "name": "#%%\n"
    }
   }
  },
  {
   "cell_type": "code",
   "execution_count": 158,
   "outputs": [
    {
     "data": {
      "text/plain": "{'accuracy': 84.9862258953168,\n 'precision': 0.8549852809761147,\n 'recall': 0.849862258953168,\n 'f1': 0.8491541221273979}"
     },
     "execution_count": 158,
     "metadata": {},
     "output_type": "execute_result"
    }
   ],
   "source": [
    "calculate_results(increase, predicted_increase, average=\"weighted\")"
   ],
   "metadata": {
    "collapsed": false,
    "pycharm": {
     "name": "#%%\n"
    }
   }
  }
 ],
 "metadata": {
  "kernelspec": {
   "display_name": "Python 3",
   "language": "python",
   "name": "python3"
  },
  "language_info": {
   "codemirror_mode": {
    "name": "ipython",
    "version": 2
   },
   "file_extension": ".py",
   "mimetype": "text/x-python",
   "name": "python",
   "nbconvert_exporter": "python",
   "pygments_lexer": "ipython2",
   "version": "2.7.6"
  }
 },
 "nbformat": 4,
 "nbformat_minor": 0
}