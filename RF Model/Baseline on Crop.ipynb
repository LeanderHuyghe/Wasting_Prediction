{
 "cells": [
  {
   "cell_type": "markdown",
   "source": [
    "# Imports"
   ],
   "metadata": {
    "collapsed": false
   }
  },
  {
   "cell_type": "code",
   "execution_count": 182,
   "outputs": [],
   "source": [
    "import pandas as pd\n",
    "import numpy as np\n",
    "import datetime\n",
    "import seaborn as sns\n",
    "from helper_metrics import count_missing_district, count_missing_district_total, save_model, calculate_results, make_confusion_matrix\n",
    "import matplotlib.pyplot as plt\n",
    "from sklearn.ensemble import RandomForestRegressor\n",
    "\n",
    "from sklearn.model_selection import KFold\n",
    "from sklearn.metrics         import mean_absolute_error, accuracy_score\n",
    "import warnings\n",
    "from tqdm import tqdm\n",
    "warnings.filterwarnings(\"ignore\")"
   ],
   "metadata": {
    "collapsed": false
   }
  },
  {
   "cell_type": "markdown",
   "source": [
    "# Load data"
   ],
   "metadata": {
    "collapsed": false
   }
  },
  {
   "cell_type": "code",
   "execution_count": 183,
   "outputs": [
    {
     "data": {
      "text/plain": "           date     district  total population  Under-Five Population  \\\n0    2017-07-01  Adan Yabaal       65262.96000            13052.59200   \n1    2017-07-01         Luuq      100476.76500            20095.35300   \n2    2017-07-01  Buur Hakaba      165968.46000            33193.69200   \n3    2017-07-01        Marka      282222.76500            56444.55300   \n4    2017-07-01    Buuhoodle       71317.71000            14263.54200   \n..          ...          ...               ...                    ...   \n651  2021-07-01  Belet Xaawo               NaN            29314.59999   \n652  2021-07-01        Jilib               NaN            28586.09073   \n653  2021-07-01      Caynabo               NaN            16276.00000   \n654  2021-07-01   Rab Dhuure               NaN            15127.60000   \n655  2021-07-01      Baraawe               NaN            10954.96873   \n\n            GAM        SAM  GAM Prevalence  SAM Prevalence     ipc  rainfall  \\\n0    4819.01697 1085.97565         0.36920         0.08320 0.18000  19.15667   \n1    8673.15435 1306.19795         0.43160         0.06500 0.21000  24.24000   \n2   11909.89669 3711.05477         0.35880         0.11180 0.35000  34.94500   \n3   20839.32897 4696.18681         0.36920         0.08320 0.17000  23.56500   \n4    4858.16241 1205.26930         0.34060         0.08450 0.37000  19.54000   \n..          ...        ...             ...             ...     ...       ...   \n651  9820.00000 1310.00000         0.33499         0.04469 0.15000  36.71667   \n652 11560.00000 2770.00000         0.40439         0.09690 0.11000  43.30000   \n653  3540.00000  270.00000         0.21750         0.01659 0.17000  21.15500   \n654  6940.00000 1560.00000         0.45876         0.10312 0.07000  46.20667   \n655  5100.00000 1060.00000         0.46554         0.09676 0.06000  29.61667   \n\n       ndvi  price_of_water  Total alarms  conflicts  prevalence_6lag  \\\n0   0.21500        15.00000       2.16667    2.15000              NaN   \n1   0.19333        15.00000       7.83333    1.50000              NaN   \n2   0.34833        52.50000       6.16667    4.66667              NaN   \n3   0.29833        36.50000      11.83333   11.83333              NaN   \n4   0.21333        18.55116       2.33333    2.50000              NaN   \n..      ...             ...           ...        ...              ...   \n651 0.28500        21.68333       3.50000    1.20000          0.38353   \n652 0.45333        40.07000       6.16667    2.00000          0.31242   \n653 0.19500        19.08040       0.50000    1.00000          0.25746   \n654 0.21667        18.77839       0.16667    1.00000          0.50720   \n655 0.31500        17.68110       2.50000    6.00000          0.49119   \n\n     next_prevalence  month increase  increase_numeric  district_encoded  \n0            0.35100      7    False          -0.01820                 0  \n1            0.39260      7    False          -0.03900                59  \n2            0.28860      7    False          -0.07020                24  \n3            0.35100      7    False          -0.01820                60  \n4            0.20280      7    False          -0.13780                23  \n..               ...    ...      ...               ...               ...  \n651              NaN      7      NaN               NaN                15  \n652              NaN      7      NaN               NaN                51  \n653              NaN      7      NaN               NaN                29  \n654              NaN      7      NaN               NaN                66  \n655              NaN      7      NaN               NaN                11  \n\n[656 rows x 20 columns]",
      "text/html": "<div>\n<style scoped>\n    .dataframe tbody tr th:only-of-type {\n        vertical-align: middle;\n    }\n\n    .dataframe tbody tr th {\n        vertical-align: top;\n    }\n\n    .dataframe thead th {\n        text-align: right;\n    }\n</style>\n<table border=\"1\" class=\"dataframe\">\n  <thead>\n    <tr style=\"text-align: right;\">\n      <th></th>\n      <th>date</th>\n      <th>district</th>\n      <th>total population</th>\n      <th>Under-Five Population</th>\n      <th>GAM</th>\n      <th>SAM</th>\n      <th>GAM Prevalence</th>\n      <th>SAM Prevalence</th>\n      <th>ipc</th>\n      <th>rainfall</th>\n      <th>ndvi</th>\n      <th>price_of_water</th>\n      <th>Total alarms</th>\n      <th>conflicts</th>\n      <th>prevalence_6lag</th>\n      <th>next_prevalence</th>\n      <th>month</th>\n      <th>increase</th>\n      <th>increase_numeric</th>\n      <th>district_encoded</th>\n    </tr>\n  </thead>\n  <tbody>\n    <tr>\n      <th>0</th>\n      <td>2017-07-01</td>\n      <td>Adan Yabaal</td>\n      <td>65262.96000</td>\n      <td>13052.59200</td>\n      <td>4819.01697</td>\n      <td>1085.97565</td>\n      <td>0.36920</td>\n      <td>0.08320</td>\n      <td>0.18000</td>\n      <td>19.15667</td>\n      <td>0.21500</td>\n      <td>15.00000</td>\n      <td>2.16667</td>\n      <td>2.15000</td>\n      <td>NaN</td>\n      <td>0.35100</td>\n      <td>7</td>\n      <td>False</td>\n      <td>-0.01820</td>\n      <td>0</td>\n    </tr>\n    <tr>\n      <th>1</th>\n      <td>2017-07-01</td>\n      <td>Luuq</td>\n      <td>100476.76500</td>\n      <td>20095.35300</td>\n      <td>8673.15435</td>\n      <td>1306.19795</td>\n      <td>0.43160</td>\n      <td>0.06500</td>\n      <td>0.21000</td>\n      <td>24.24000</td>\n      <td>0.19333</td>\n      <td>15.00000</td>\n      <td>7.83333</td>\n      <td>1.50000</td>\n      <td>NaN</td>\n      <td>0.39260</td>\n      <td>7</td>\n      <td>False</td>\n      <td>-0.03900</td>\n      <td>59</td>\n    </tr>\n    <tr>\n      <th>2</th>\n      <td>2017-07-01</td>\n      <td>Buur Hakaba</td>\n      <td>165968.46000</td>\n      <td>33193.69200</td>\n      <td>11909.89669</td>\n      <td>3711.05477</td>\n      <td>0.35880</td>\n      <td>0.11180</td>\n      <td>0.35000</td>\n      <td>34.94500</td>\n      <td>0.34833</td>\n      <td>52.50000</td>\n      <td>6.16667</td>\n      <td>4.66667</td>\n      <td>NaN</td>\n      <td>0.28860</td>\n      <td>7</td>\n      <td>False</td>\n      <td>-0.07020</td>\n      <td>24</td>\n    </tr>\n    <tr>\n      <th>3</th>\n      <td>2017-07-01</td>\n      <td>Marka</td>\n      <td>282222.76500</td>\n      <td>56444.55300</td>\n      <td>20839.32897</td>\n      <td>4696.18681</td>\n      <td>0.36920</td>\n      <td>0.08320</td>\n      <td>0.17000</td>\n      <td>23.56500</td>\n      <td>0.29833</td>\n      <td>36.50000</td>\n      <td>11.83333</td>\n      <td>11.83333</td>\n      <td>NaN</td>\n      <td>0.35100</td>\n      <td>7</td>\n      <td>False</td>\n      <td>-0.01820</td>\n      <td>60</td>\n    </tr>\n    <tr>\n      <th>4</th>\n      <td>2017-07-01</td>\n      <td>Buuhoodle</td>\n      <td>71317.71000</td>\n      <td>14263.54200</td>\n      <td>4858.16241</td>\n      <td>1205.26930</td>\n      <td>0.34060</td>\n      <td>0.08450</td>\n      <td>0.37000</td>\n      <td>19.54000</td>\n      <td>0.21333</td>\n      <td>18.55116</td>\n      <td>2.33333</td>\n      <td>2.50000</td>\n      <td>NaN</td>\n      <td>0.20280</td>\n      <td>7</td>\n      <td>False</td>\n      <td>-0.13780</td>\n      <td>23</td>\n    </tr>\n    <tr>\n      <th>...</th>\n      <td>...</td>\n      <td>...</td>\n      <td>...</td>\n      <td>...</td>\n      <td>...</td>\n      <td>...</td>\n      <td>...</td>\n      <td>...</td>\n      <td>...</td>\n      <td>...</td>\n      <td>...</td>\n      <td>...</td>\n      <td>...</td>\n      <td>...</td>\n      <td>...</td>\n      <td>...</td>\n      <td>...</td>\n      <td>...</td>\n      <td>...</td>\n      <td>...</td>\n    </tr>\n    <tr>\n      <th>651</th>\n      <td>2021-07-01</td>\n      <td>Belet Xaawo</td>\n      <td>NaN</td>\n      <td>29314.59999</td>\n      <td>9820.00000</td>\n      <td>1310.00000</td>\n      <td>0.33499</td>\n      <td>0.04469</td>\n      <td>0.15000</td>\n      <td>36.71667</td>\n      <td>0.28500</td>\n      <td>21.68333</td>\n      <td>3.50000</td>\n      <td>1.20000</td>\n      <td>0.38353</td>\n      <td>NaN</td>\n      <td>7</td>\n      <td>NaN</td>\n      <td>NaN</td>\n      <td>15</td>\n    </tr>\n    <tr>\n      <th>652</th>\n      <td>2021-07-01</td>\n      <td>Jilib</td>\n      <td>NaN</td>\n      <td>28586.09073</td>\n      <td>11560.00000</td>\n      <td>2770.00000</td>\n      <td>0.40439</td>\n      <td>0.09690</td>\n      <td>0.11000</td>\n      <td>43.30000</td>\n      <td>0.45333</td>\n      <td>40.07000</td>\n      <td>6.16667</td>\n      <td>2.00000</td>\n      <td>0.31242</td>\n      <td>NaN</td>\n      <td>7</td>\n      <td>NaN</td>\n      <td>NaN</td>\n      <td>51</td>\n    </tr>\n    <tr>\n      <th>653</th>\n      <td>2021-07-01</td>\n      <td>Caynabo</td>\n      <td>NaN</td>\n      <td>16276.00000</td>\n      <td>3540.00000</td>\n      <td>270.00000</td>\n      <td>0.21750</td>\n      <td>0.01659</td>\n      <td>0.17000</td>\n      <td>21.15500</td>\n      <td>0.19500</td>\n      <td>19.08040</td>\n      <td>0.50000</td>\n      <td>1.00000</td>\n      <td>0.25746</td>\n      <td>NaN</td>\n      <td>7</td>\n      <td>NaN</td>\n      <td>NaN</td>\n      <td>29</td>\n    </tr>\n    <tr>\n      <th>654</th>\n      <td>2021-07-01</td>\n      <td>Rab Dhuure</td>\n      <td>NaN</td>\n      <td>15127.60000</td>\n      <td>6940.00000</td>\n      <td>1560.00000</td>\n      <td>0.45876</td>\n      <td>0.10312</td>\n      <td>0.07000</td>\n      <td>46.20667</td>\n      <td>0.21667</td>\n      <td>18.77839</td>\n      <td>0.16667</td>\n      <td>1.00000</td>\n      <td>0.50720</td>\n      <td>NaN</td>\n      <td>7</td>\n      <td>NaN</td>\n      <td>NaN</td>\n      <td>66</td>\n    </tr>\n    <tr>\n      <th>655</th>\n      <td>2021-07-01</td>\n      <td>Baraawe</td>\n      <td>NaN</td>\n      <td>10954.96873</td>\n      <td>5100.00000</td>\n      <td>1060.00000</td>\n      <td>0.46554</td>\n      <td>0.09676</td>\n      <td>0.06000</td>\n      <td>29.61667</td>\n      <td>0.31500</td>\n      <td>17.68110</td>\n      <td>2.50000</td>\n      <td>6.00000</td>\n      <td>0.49119</td>\n      <td>NaN</td>\n      <td>7</td>\n      <td>NaN</td>\n      <td>NaN</td>\n      <td>11</td>\n    </tr>\n  </tbody>\n</table>\n<p>656 rows × 20 columns</p>\n</div>"
     },
     "execution_count": 183,
     "metadata": {},
     "output_type": "execute_result"
    }
   ],
   "source": [
    "df = pd.read_csv(\"../data/imputed_data.csv\").iloc[:,1:]\n",
    "df"
   ],
   "metadata": {
    "collapsed": false
   }
  },
  {
   "cell_type": "code",
   "execution_count": 184,
   "outputs": [
    {
     "data": {
      "text/plain": "1915.835"
     },
     "execution_count": 184,
     "metadata": {},
     "output_type": "execute_result"
    }
   ],
   "source": [
    "from helper_metrics import impute_score\n",
    "crop = pd.read_csv(\"../data/semiyearly_chosen_columns_with_crop.csv\")\n",
    "so = crop[\"Sorghum\"]\n",
    "mai = crop[\"Maize\"]\n",
    "cow = crop[\"Cowpea\"]\n",
    "\n",
    "so.max()-so.min()"
   ],
   "metadata": {
    "collapsed": false
   }
  },
  {
   "cell_type": "code",
   "execution_count": 185,
   "outputs": [
    {
     "name": "stdout",
     "output_type": "stream",
     "text": [
      "RMSE for MEAN imputation in Sorghum: 282.163 \n",
      "SCALE: 0-1915\n"
     ]
    }
   ],
   "source": [
    "impute_score(crop,features=\"Sorghum\", method='mean', scale='0-1915')"
   ],
   "metadata": {
    "collapsed": false
   }
  },
  {
   "cell_type": "code",
   "execution_count": 186,
   "outputs": [
    {
     "name": "stdout",
     "output_type": "stream",
     "text": [
      "RMSE for MEAN imputation in Maize: 346.983 \n",
      "SCALE: 0-1915\n"
     ]
    }
   ],
   "source": [
    "impute_score(crop,features=\"Maize\", method='mean', scale='0-1915')"
   ],
   "metadata": {
    "collapsed": false
   }
  },
  {
   "cell_type": "code",
   "execution_count": 187,
   "outputs": [
    {
     "name": "stdout",
     "output_type": "stream",
     "text": [
      "RMSE for MEAN imputation in Cowpea: 478.361 \n",
      "SCALE: 0-1915\n"
     ]
    }
   ],
   "source": [
    "impute_score(crop,features=\"Cowpea\", method='mean', scale='0-1915')"
   ],
   "metadata": {
    "collapsed": false
   }
  },
  {
   "cell_type": "code",
   "execution_count": 188,
   "outputs": [
    {
     "data": {
      "text/plain": "369.16900000000004"
     },
     "execution_count": 188,
     "metadata": {},
     "output_type": "execute_result"
    }
   ],
   "source": [
    "np.mean([282.163, 346.983,478.361 ])"
   ],
   "metadata": {
    "collapsed": false
   }
  },
  {
   "cell_type": "code",
   "execution_count": 189,
   "outputs": [
    {
     "data": {
      "text/plain": "           date    district  Unnamed: 0  prevalence  next_prevalence  \\\n0    2018-01-01       Burco          74     0.20280          0.22114   \n1    2018-01-01       Xudur          75     0.48620          0.46890   \n2    2018-01-01      Cadale          77     0.35100          0.28292   \n3    2018-01-01   Qoryooley          78     0.35100          0.43638   \n4    2018-01-01  Baardheere          79     0.39260          0.29726   \n..          ...         ...         ...         ...              ...   \n261  2021-01-01   Qoryooley         593     0.45939          0.45122   \n262  2021-01-01      Borama         595     0.19121          0.27727   \n263  2021-01-01    Kismaayo         596     0.37052          0.39348   \n264  2021-01-01      Cadale         600     0.27595          0.28736   \n265  2021-01-01     Afmadow         601     0.30184          0.39162   \n\n     prevalence_6lag    ndvi     ipc   population  month  district_encoded  \\\n0            0.33594 0.18500 0.05000 534884.89500      1                21   \n1            0.48620 0.24833 0.14000 113853.10500      1                77   \n2            0.36920 0.22667 0.00000  48461.80500      1                27   \n3            0.36920 0.34667 0.09000 196309.48500      1                65   \n4            0.43160 0.29333 0.00000 170132.26500      1                 3   \n..               ...     ...     ...          ...    ...               ...   \n261          0.48013 0.51167 0.08000 207773.00000      1                65   \n262          0.14129 0.25500 0.11000 453434.00000      1                17   \n263          0.36193 0.47833 0.22000 377653.00000      1                53   \n264          0.29052 0.39667 0.10000  61428.00000      1                27   \n265          0.27809 0.39500 0.13000 164086.00000      1                 2   \n\n     increase    Cowpea     Maize   Sorghum      crop  \n0        True 456.46104 272.85837 272.85837 334.05926  \n1       False  50.00000 500.00000 500.00000 350.00000  \n2       False  12.00000  30.00000  30.00000  24.00000  \n3        True 350.00000 600.00000 600.00000 516.66667  \n4       False  28.00000   1.68000   1.68000  10.45333  \n..        ...       ...       ...       ...       ...  \n261     False 320.00000 150.00000 150.00000 206.66667  \n262      True 400.19646 283.49961 283.49961 322.39856  \n263      True  66.00000 294.80819 294.80819 218.53879  \n264      True  60.00000  60.00000  60.00000  60.00000  \n265      True  34.00000 295.60017 295.60017 208.40011  \n\n[266 rows x 16 columns]",
      "text/html": "<div>\n<style scoped>\n    .dataframe tbody tr th:only-of-type {\n        vertical-align: middle;\n    }\n\n    .dataframe tbody tr th {\n        vertical-align: top;\n    }\n\n    .dataframe thead th {\n        text-align: right;\n    }\n</style>\n<table border=\"1\" class=\"dataframe\">\n  <thead>\n    <tr style=\"text-align: right;\">\n      <th></th>\n      <th>date</th>\n      <th>district</th>\n      <th>Unnamed: 0</th>\n      <th>prevalence</th>\n      <th>next_prevalence</th>\n      <th>prevalence_6lag</th>\n      <th>ndvi</th>\n      <th>ipc</th>\n      <th>population</th>\n      <th>month</th>\n      <th>district_encoded</th>\n      <th>increase</th>\n      <th>Cowpea</th>\n      <th>Maize</th>\n      <th>Sorghum</th>\n      <th>crop</th>\n    </tr>\n  </thead>\n  <tbody>\n    <tr>\n      <th>0</th>\n      <td>2018-01-01</td>\n      <td>Burco</td>\n      <td>74</td>\n      <td>0.20280</td>\n      <td>0.22114</td>\n      <td>0.33594</td>\n      <td>0.18500</td>\n      <td>0.05000</td>\n      <td>534884.89500</td>\n      <td>1</td>\n      <td>21</td>\n      <td>True</td>\n      <td>456.46104</td>\n      <td>272.85837</td>\n      <td>272.85837</td>\n      <td>334.05926</td>\n    </tr>\n    <tr>\n      <th>1</th>\n      <td>2018-01-01</td>\n      <td>Xudur</td>\n      <td>75</td>\n      <td>0.48620</td>\n      <td>0.46890</td>\n      <td>0.48620</td>\n      <td>0.24833</td>\n      <td>0.14000</td>\n      <td>113853.10500</td>\n      <td>1</td>\n      <td>77</td>\n      <td>False</td>\n      <td>50.00000</td>\n      <td>500.00000</td>\n      <td>500.00000</td>\n      <td>350.00000</td>\n    </tr>\n    <tr>\n      <th>2</th>\n      <td>2018-01-01</td>\n      <td>Cadale</td>\n      <td>77</td>\n      <td>0.35100</td>\n      <td>0.28292</td>\n      <td>0.36920</td>\n      <td>0.22667</td>\n      <td>0.00000</td>\n      <td>48461.80500</td>\n      <td>1</td>\n      <td>27</td>\n      <td>False</td>\n      <td>12.00000</td>\n      <td>30.00000</td>\n      <td>30.00000</td>\n      <td>24.00000</td>\n    </tr>\n    <tr>\n      <th>3</th>\n      <td>2018-01-01</td>\n      <td>Qoryooley</td>\n      <td>78</td>\n      <td>0.35100</td>\n      <td>0.43638</td>\n      <td>0.36920</td>\n      <td>0.34667</td>\n      <td>0.09000</td>\n      <td>196309.48500</td>\n      <td>1</td>\n      <td>65</td>\n      <td>True</td>\n      <td>350.00000</td>\n      <td>600.00000</td>\n      <td>600.00000</td>\n      <td>516.66667</td>\n    </tr>\n    <tr>\n      <th>4</th>\n      <td>2018-01-01</td>\n      <td>Baardheere</td>\n      <td>79</td>\n      <td>0.39260</td>\n      <td>0.29726</td>\n      <td>0.43160</td>\n      <td>0.29333</td>\n      <td>0.00000</td>\n      <td>170132.26500</td>\n      <td>1</td>\n      <td>3</td>\n      <td>False</td>\n      <td>28.00000</td>\n      <td>1.68000</td>\n      <td>1.68000</td>\n      <td>10.45333</td>\n    </tr>\n    <tr>\n      <th>...</th>\n      <td>...</td>\n      <td>...</td>\n      <td>...</td>\n      <td>...</td>\n      <td>...</td>\n      <td>...</td>\n      <td>...</td>\n      <td>...</td>\n      <td>...</td>\n      <td>...</td>\n      <td>...</td>\n      <td>...</td>\n      <td>...</td>\n      <td>...</td>\n      <td>...</td>\n      <td>...</td>\n    </tr>\n    <tr>\n      <th>261</th>\n      <td>2021-01-01</td>\n      <td>Qoryooley</td>\n      <td>593</td>\n      <td>0.45939</td>\n      <td>0.45122</td>\n      <td>0.48013</td>\n      <td>0.51167</td>\n      <td>0.08000</td>\n      <td>207773.00000</td>\n      <td>1</td>\n      <td>65</td>\n      <td>False</td>\n      <td>320.00000</td>\n      <td>150.00000</td>\n      <td>150.00000</td>\n      <td>206.66667</td>\n    </tr>\n    <tr>\n      <th>262</th>\n      <td>2021-01-01</td>\n      <td>Borama</td>\n      <td>595</td>\n      <td>0.19121</td>\n      <td>0.27727</td>\n      <td>0.14129</td>\n      <td>0.25500</td>\n      <td>0.11000</td>\n      <td>453434.00000</td>\n      <td>1</td>\n      <td>17</td>\n      <td>True</td>\n      <td>400.19646</td>\n      <td>283.49961</td>\n      <td>283.49961</td>\n      <td>322.39856</td>\n    </tr>\n    <tr>\n      <th>263</th>\n      <td>2021-01-01</td>\n      <td>Kismaayo</td>\n      <td>596</td>\n      <td>0.37052</td>\n      <td>0.39348</td>\n      <td>0.36193</td>\n      <td>0.47833</td>\n      <td>0.22000</td>\n      <td>377653.00000</td>\n      <td>1</td>\n      <td>53</td>\n      <td>True</td>\n      <td>66.00000</td>\n      <td>294.80819</td>\n      <td>294.80819</td>\n      <td>218.53879</td>\n    </tr>\n    <tr>\n      <th>264</th>\n      <td>2021-01-01</td>\n      <td>Cadale</td>\n      <td>600</td>\n      <td>0.27595</td>\n      <td>0.28736</td>\n      <td>0.29052</td>\n      <td>0.39667</td>\n      <td>0.10000</td>\n      <td>61428.00000</td>\n      <td>1</td>\n      <td>27</td>\n      <td>True</td>\n      <td>60.00000</td>\n      <td>60.00000</td>\n      <td>60.00000</td>\n      <td>60.00000</td>\n    </tr>\n    <tr>\n      <th>265</th>\n      <td>2021-01-01</td>\n      <td>Afmadow</td>\n      <td>601</td>\n      <td>0.30184</td>\n      <td>0.39162</td>\n      <td>0.27809</td>\n      <td>0.39500</td>\n      <td>0.13000</td>\n      <td>164086.00000</td>\n      <td>1</td>\n      <td>2</td>\n      <td>True</td>\n      <td>34.00000</td>\n      <td>295.60017</td>\n      <td>295.60017</td>\n      <td>208.40011</td>\n    </tr>\n  </tbody>\n</table>\n<p>266 rows × 16 columns</p>\n</div>"
     },
     "execution_count": 189,
     "metadata": {},
     "output_type": "execute_result"
    }
   ],
   "source": [
    "df = pd.read_csv(\"../data/imputed_semiyearly_with_crop.csv\").iloc[:,1:]\n",
    "df"
   ],
   "metadata": {
    "collapsed": false
   }
  },
  {
   "cell_type": "code",
   "execution_count": 190,
   "outputs": [
    {
     "data": {
      "text/plain": "date               0\ndistrict           0\nUnnamed: 0         0\nprevalence         0\nnext_prevalence    0\ndtype: int64"
     },
     "execution_count": 190,
     "metadata": {},
     "output_type": "execute_result"
    }
   ],
   "source": [
    "# Sanity checks\n",
    "df.isna().sum().sort_values(ascending=False)[:5]"
   ],
   "metadata": {
    "collapsed": false
   }
  },
  {
   "cell_type": "code",
   "execution_count": 191,
   "outputs": [
    {
     "data": {
      "text/plain": "38"
     },
     "execution_count": 191,
     "metadata": {},
     "output_type": "execute_result"
    }
   ],
   "source": [
    "len(df.district.unique())"
   ],
   "metadata": {
    "collapsed": false
   }
  },
  {
   "cell_type": "markdown",
   "source": [
    "# Create train and test sets\n",
    "We must drop nan values in X for the RF model"
   ],
   "metadata": {
    "collapsed": false
   }
  },
  {
   "cell_type": "code",
   "execution_count": 192,
   "outputs": [
    {
     "data": {
      "text/plain": "       ndvi     ipc   population  month  district_encoded    Cowpea     Maize  \\\n0   0.18500 0.05000 534884.89500      1                21 456.46104 272.85837   \n1   0.24833 0.14000 113853.10500      1                77  50.00000 500.00000   \n2   0.22667 0.00000  48461.80500      1                27  12.00000  30.00000   \n3   0.34667 0.09000 196309.48500      1                65 350.00000 600.00000   \n4   0.29333 0.00000 170132.26500      1                 3  28.00000   1.68000   \n..      ...     ...          ...    ...               ...       ...       ...   \n261 0.51167 0.08000 207773.00000      1                65 320.00000 150.00000   \n262 0.25500 0.11000 453434.00000      1                17 400.19646 283.49961   \n263 0.47833 0.22000 377653.00000      1                53  66.00000 294.80819   \n264 0.39667 0.10000  61428.00000      1                27  60.00000  60.00000   \n265 0.39500 0.13000 164086.00000      1                 2  34.00000 295.60017   \n\n      Sorghum      crop  \n0   272.85837 334.05926  \n1   500.00000 350.00000  \n2    30.00000  24.00000  \n3   600.00000 516.66667  \n4     1.68000  10.45333  \n..        ...       ...  \n261 150.00000 206.66667  \n262 283.49961 322.39856  \n263 294.80819 218.53879  \n264  60.00000  60.00000  \n265 295.60017 208.40011  \n\n[266 rows x 9 columns]",
      "text/html": "<div>\n<style scoped>\n    .dataframe tbody tr th:only-of-type {\n        vertical-align: middle;\n    }\n\n    .dataframe tbody tr th {\n        vertical-align: top;\n    }\n\n    .dataframe thead th {\n        text-align: right;\n    }\n</style>\n<table border=\"1\" class=\"dataframe\">\n  <thead>\n    <tr style=\"text-align: right;\">\n      <th></th>\n      <th>ndvi</th>\n      <th>ipc</th>\n      <th>population</th>\n      <th>month</th>\n      <th>district_encoded</th>\n      <th>Cowpea</th>\n      <th>Maize</th>\n      <th>Sorghum</th>\n      <th>crop</th>\n    </tr>\n  </thead>\n  <tbody>\n    <tr>\n      <th>0</th>\n      <td>0.18500</td>\n      <td>0.05000</td>\n      <td>534884.89500</td>\n      <td>1</td>\n      <td>21</td>\n      <td>456.46104</td>\n      <td>272.85837</td>\n      <td>272.85837</td>\n      <td>334.05926</td>\n    </tr>\n    <tr>\n      <th>1</th>\n      <td>0.24833</td>\n      <td>0.14000</td>\n      <td>113853.10500</td>\n      <td>1</td>\n      <td>77</td>\n      <td>50.00000</td>\n      <td>500.00000</td>\n      <td>500.00000</td>\n      <td>350.00000</td>\n    </tr>\n    <tr>\n      <th>2</th>\n      <td>0.22667</td>\n      <td>0.00000</td>\n      <td>48461.80500</td>\n      <td>1</td>\n      <td>27</td>\n      <td>12.00000</td>\n      <td>30.00000</td>\n      <td>30.00000</td>\n      <td>24.00000</td>\n    </tr>\n    <tr>\n      <th>3</th>\n      <td>0.34667</td>\n      <td>0.09000</td>\n      <td>196309.48500</td>\n      <td>1</td>\n      <td>65</td>\n      <td>350.00000</td>\n      <td>600.00000</td>\n      <td>600.00000</td>\n      <td>516.66667</td>\n    </tr>\n    <tr>\n      <th>4</th>\n      <td>0.29333</td>\n      <td>0.00000</td>\n      <td>170132.26500</td>\n      <td>1</td>\n      <td>3</td>\n      <td>28.00000</td>\n      <td>1.68000</td>\n      <td>1.68000</td>\n      <td>10.45333</td>\n    </tr>\n    <tr>\n      <th>...</th>\n      <td>...</td>\n      <td>...</td>\n      <td>...</td>\n      <td>...</td>\n      <td>...</td>\n      <td>...</td>\n      <td>...</td>\n      <td>...</td>\n      <td>...</td>\n    </tr>\n    <tr>\n      <th>261</th>\n      <td>0.51167</td>\n      <td>0.08000</td>\n      <td>207773.00000</td>\n      <td>1</td>\n      <td>65</td>\n      <td>320.00000</td>\n      <td>150.00000</td>\n      <td>150.00000</td>\n      <td>206.66667</td>\n    </tr>\n    <tr>\n      <th>262</th>\n      <td>0.25500</td>\n      <td>0.11000</td>\n      <td>453434.00000</td>\n      <td>1</td>\n      <td>17</td>\n      <td>400.19646</td>\n      <td>283.49961</td>\n      <td>283.49961</td>\n      <td>322.39856</td>\n    </tr>\n    <tr>\n      <th>263</th>\n      <td>0.47833</td>\n      <td>0.22000</td>\n      <td>377653.00000</td>\n      <td>1</td>\n      <td>53</td>\n      <td>66.00000</td>\n      <td>294.80819</td>\n      <td>294.80819</td>\n      <td>218.53879</td>\n    </tr>\n    <tr>\n      <th>264</th>\n      <td>0.39667</td>\n      <td>0.10000</td>\n      <td>61428.00000</td>\n      <td>1</td>\n      <td>27</td>\n      <td>60.00000</td>\n      <td>60.00000</td>\n      <td>60.00000</td>\n      <td>60.00000</td>\n    </tr>\n    <tr>\n      <th>265</th>\n      <td>0.39500</td>\n      <td>0.13000</td>\n      <td>164086.00000</td>\n      <td>1</td>\n      <td>2</td>\n      <td>34.00000</td>\n      <td>295.60017</td>\n      <td>295.60017</td>\n      <td>208.40011</td>\n    </tr>\n  </tbody>\n</table>\n<p>266 rows × 9 columns</p>\n</div>"
     },
     "execution_count": 192,
     "metadata": {},
     "output_type": "execute_result"
    }
   ],
   "source": [
    "y = df.next_prevalence.dropna()\n",
    "X = df.select_dtypes(exclude=[\"object\", \"category\"]).dropna(axis=1).iloc[:len(y),1:].drop([\"prevalence\",\"next_prevalence\",\"prevalence_6lag\",\"increase\"],axis=1)\n",
    "X"
   ],
   "metadata": {
    "collapsed": false
   }
  },
  {
   "cell_type": "markdown",
   "source": [
    "# Subsets"
   ],
   "metadata": {
    "collapsed": false
   }
  },
  {
   "cell_type": "code",
   "execution_count": 193,
   "outputs": [],
   "source": [
    "# Function that returns every possible subset (except the empty set) of the input list l\n",
    "def subsets(l: object) -> object:\n",
    "    subset_list = []\n",
    "    for i in range(len(l) + 1):\n",
    "        for j in range(i):\n",
    "            subset_list.append(l[j: i])\n",
    "    return subset_list"
   ],
   "metadata": {
    "collapsed": false
   }
  },
  {
   "cell_type": "code",
   "execution_count": 194,
   "outputs": [
    {
     "data": {
      "text/plain": "152"
     },
     "execution_count": 194,
     "metadata": {},
     "output_type": "execute_result"
    }
   ],
   "source": [
    "38*4"
   ],
   "metadata": {
    "collapsed": false
   }
  },
  {
   "cell_type": "markdown",
   "source": [
    "# Cross Validation Training"
   ],
   "metadata": {
    "collapsed": false
   }
  },
  {
   "cell_type": "code",
   "execution_count": 195,
   "outputs": [
    {
     "name": "stderr",
     "output_type": "stream",
     "text": [
      "100%|██████████| 6/6 [02:43<00:00, 27.29s/it]\n"
     ]
    }
   ],
   "source": [
    "# Define search space for number of trees in random forest and depth of trees\n",
    "num_trees_min = 64\n",
    "num_trees_max = 70\n",
    "\n",
    "depth_min = 2\n",
    "depth_max = 7\n",
    "\n",
    "parameter_scores = []\n",
    "\n",
    "for num_trees in tqdm(range(num_trees_min, num_trees_max)):\n",
    "\n",
    "    for depth in range(depth_min, depth_max):\n",
    "\n",
    "        # Investigate every subset of explanatory variables\n",
    "        for features in subsets(X.columns):\n",
    "            # First CV split. The 219 refers to the first 3 observations for the 73 districts in the data.\n",
    "            Xtrain = X[:114][features].copy().values\n",
    "            ytrain = y[:114]\n",
    "            Xtest = X[114:152][features].copy().values\n",
    "            ytest = y[114:152]\n",
    "\n",
    "            # Create a RandomForestRegressor with the selected hyperparameters and random state 0.\n",
    "            clf = RandomForestRegressor(n_estimators=num_trees, max_depth=depth, random_state=0, n_jobs=-1)\n",
    "\n",
    "            # Fit to the training data\n",
    "            clf.fit(Xtrain, ytrain)\n",
    "\n",
    "            # Make a prediction on the test data\n",
    "            predictions = clf.predict(Xtest)\n",
    "\n",
    "            # Calculate mean absolute error\n",
    "            MAE1 = mean_absolute_error(ytest, predictions)\n",
    "\n",
    "            # Second CV split. The 292 refers to the first 4 observations for the 73 districts in the data.\n",
    "            Xtrain = X[:152][features].copy().values\n",
    "            ytrain = y[:152]\n",
    "            Xtest = X[152:190][features].copy().values\n",
    "            ytest = y[152:190]\n",
    "\n",
    "            # Create a RandomForestRegressor with the selected hyperparameters and random state 0.\n",
    "            clf = RandomForestRegressor(n_estimators=num_trees, max_depth=depth, random_state=0, n_jobs=-1)\n",
    "\n",
    "            # Fit to the training data\n",
    "            clf.fit(Xtrain, ytrain)\n",
    "\n",
    "            # Make a prediction on the test data\n",
    "            predictions = clf.predict(Xtest)\n",
    "\n",
    "            # Calculate mean absolute error\n",
    "            MAE2 = mean_absolute_error(ytest, predictions)\n",
    "\n",
    "            # Calculate the mean MAE over the two folds\n",
    "            mean_MAE = (MAE1 + MAE2) / 2\n",
    "\n",
    "            # Store the mean MAE together with the used hyperparameters in list\n",
    "            parameter_scores.append((mean_MAE, num_trees, depth, features))\n",
    "\n",
    "# Sort the models based on score and retrieve the hyperparameters of the best model\n",
    "parameter_scores.sort(key=lambda x: x[0])\n",
    "best_model_score = parameter_scores[0][0]\n",
    "best_model_trees = parameter_scores[0][1]\n",
    "best_model_depth = parameter_scores[0][2]\n",
    "best_model_columns = list(parameter_scores[0][3])\n",
    "\n",
    "'''------------SECTION FINAL EVALUATION--------------'''\n",
    "y = df['next_prevalence'].values\n",
    "X = df[best_model_columns].values\n",
    "\n",
    "# If there is only one explanatory variable, the values need to be reshaped for the model\n",
    "if len(best_model_columns) == 1:\n",
    "    X = X.reshape(-1, 1)\n",
    "\n",
    "# Peform 190 on full data\n",
    "Xtrain = X[:190]\n",
    "ytrain = y[:190]\n",
    "Xtest = X[190:]\n",
    "ytest = y[190:]\n",
    "\n",
    "clf = RandomForestRegressor(n_estimators=best_model_trees, max_depth=best_model_depth, random_state=0, n_jobs=-1)\n",
    "clf.fit(Xtrain, ytrain)\n",
    "predictions = clf.predict(Xtest)"
   ],
   "metadata": {
    "collapsed": false
   }
  },
  {
   "cell_type": "code",
   "execution_count": 196,
   "outputs": [
    {
     "data": {
      "text/plain": "(76, 76)"
     },
     "execution_count": 196,
     "metadata": {},
     "output_type": "execute_result"
    }
   ],
   "source": [
    "# Calculate MAE\n",
    "y_true = pd.Series(ytest[:-38])\n",
    "y_pred = pd.Series(predictions[:-38])\n",
    "\n",
    "#MAE = mean_absolute_error(ytest, predictions)\n",
    "MAE = mean_absolute_error(y_true, y_pred)\n",
    "\n",
    "# Generate boolean values for increase or decrease in prevalence. 0 if next prevalence is smaller than current prevalence, 1 otherwise.\n",
    "increase = np.where(df.iloc[190:][\"next_prevalence\"] < df.iloc[190:][\"prevalence\"],0,1)\n",
    "predicted_increase = np.where(predictions < df.iloc[190:][\"prevalence\"],0,1)\n",
    "\n",
    "len(increase), len(predicted_increase)"
   ],
   "metadata": {
    "collapsed": false
   }
  },
  {
   "cell_type": "code",
   "execution_count": 197,
   "outputs": [
    {
     "name": "stdout",
     "output_type": "stream",
     "text": [
      "MAE: 0.0699, Accuracy: 80.30000000000001%\n"
     ]
    }
   ],
   "source": [
    "# Calculate accuracy of predicted boolean increase/decrease\n",
    "acc = accuracy_score(increase, predicted_increase)\n",
    "\n",
    "\n",
    "\n",
    "# Print model scores\n",
    "print(f\"MAE: {np.round(MAE,4)}, Accuracy: {np.round(acc,3)*100}%\")"
   ],
   "metadata": {
    "collapsed": false
   }
  },
  {
   "cell_type": "markdown",
   "source": [
    "# Metrics"
   ],
   "metadata": {
    "collapsed": false
   }
  },
  {
   "cell_type": "code",
   "execution_count": 198,
   "outputs": [
    {
     "data": {
      "text/plain": "{'accuracy': 80.26315789473685,\n 'precision': 0.8077605779153767,\n 'recall': 0.8026315789473685,\n 'f1': 0.7977839335180056}"
     },
     "execution_count": 198,
     "metadata": {},
     "output_type": "execute_result"
    }
   ],
   "source": [
    "calculate_results(y_true=increase, y_pred=predicted_increase)"
   ],
   "metadata": {
    "collapsed": false
   }
  },
  {
   "cell_type": "code",
   "execution_count": 199,
   "outputs": [
    {
     "data": {
      "text/plain": "<Figure size 576x576 with 2 Axes>",
      "image/png": "[encoded data removed]"
     },
     "metadata": {},
     "output_type": "display_data"
    }
   ],
   "source": [
    "make_confusion_matrix(y_true=increase, y_pred=predicted_increase,classes=[\"Increase\", \"Decrease\"],title=\"Confusion Matrix for Histogram Gradient Boosting Model\", cmap=plt.cm.Oranges, figsize=(8,8))"
   ],
   "metadata": {
    "collapsed": false
   }
  },
  {
   "cell_type": "code",
   "execution_count": 200,
   "outputs": [],
   "source": [
    "save_model(model=clf, filename=\"baseline_imputed_crop.joblib\")"
   ],
   "metadata": {
    "collapsed": false
   }
  }
 ],
 "metadata": {
  "kernelspec": {
   "display_name": "Python 3",
   "language": "python",
   "name": "python3"
  },
  "language_info": {
   "codemirror_mode": {
    "name": "ipython",
    "version": 2
   },
   "file_extension": ".py",
   "mimetype": "text/x-python",
   "name": "python",
   "nbconvert_exporter": "python",
   "pygments_lexer": "ipython2",
   "version": "2.7.6"
  }
 },
 "nbformat": 4,
 "nbformat_minor": 0
}
