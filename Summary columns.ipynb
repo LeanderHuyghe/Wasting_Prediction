{
 "cells": [
  {
   "cell_type": "code",
   "execution_count": 1,
   "metadata": {},
   "outputs": [],
   "source": [
    "import pandas as pd\n",
    "import numpy as np\n",
    "from datetime import timedelta\n",
    "import datetime\n",
    "\n",
    "\n",
    "your_datapath = 'data/'"
   ]
  },
  {
   "cell_type": "code",
   "execution_count": 11,
   "metadata": {},
   "outputs": [],
   "source": [
    "df = pd.read_csv(your_datapath + 'semiyearly_chosen_columns.csv', parse_dates=['date'])\n",
    "df = df.drop('Unnamed: 0', axis=1)"
   ]
  },
  {
   "cell_type": "code",
   "execution_count": 12,
   "metadata": {},
   "outputs": [
    {
     "data": {
      "text/plain": [
       "Index(['date', 'district', 'total population', 'Under-Five Population', 'GAM',\n",
       "       'MAM', 'SAM', 'GAM Prevalence', 'SAM Prevalence', 'phase3plus_perc_x',\n",
       "       'rainfall', 'ndvi_score', 'Price of water', 'Total alarms',\n",
       "       'n_conflict_total', 'Average of centy', 'Average of centx',\n",
       "       'prevalence_6lag', 'next_prevalence', 'month', 'increase',\n",
       "       'increase_numeric', 'district_encoded'],\n",
       "      dtype='object')"
      ]
     },
     "execution_count": 12,
     "metadata": {},
     "output_type": "execute_result"
    }
   ],
   "source": [
    "# column names\n",
    "\n",
    "df.columns"
   ]
  },
  {
   "cell_type": "code",
   "execution_count": 17,
   "metadata": {},
   "outputs": [
    {
     "data": {
      "text/plain": [
       "77"
      ]
     },
     "execution_count": 17,
     "metadata": {},
     "output_type": "execute_result"
    }
   ],
   "source": [
    "# Unique districts\n",
    "\n",
    "len(df.district.unique())"
   ]
  },
  {
   "cell_type": "code",
   "execution_count": 13,
   "metadata": {},
   "outputs": [
    {
     "data": {
      "text/plain": [
       "date                       0\n",
       "district                   0\n",
       "total population          74\n",
       "Under-Five Population      0\n",
       "GAM                        0\n",
       "MAM                      148\n",
       "SAM                        0\n",
       "GAM Prevalence             0\n",
       "SAM Prevalence             0\n",
       "phase3plus_perc_x         17\n",
       "rainfall                  15\n",
       "ndvi_score                22\n",
       "Price of water           301\n",
       "Total alarms              15\n",
       "n_conflict_total          90\n",
       "Average of centy          15\n",
       "Average of centx          15\n",
       "prevalence_6lag           77\n",
       "next_prevalence           77\n",
       "month                      0\n",
       "increase                  77\n",
       "increase_numeric          77\n",
       "district_encoded           0\n",
       "dtype: int64"
      ]
     },
     "execution_count": 13,
     "metadata": {},
     "output_type": "execute_result"
    }
   ],
   "source": [
    "# Missing values per column\n",
    "\n",
    "len(df) - df.count()"
   ]
  },
  {
   "cell_type": "code",
   "execution_count": 21,
   "metadata": {},
   "outputs": [
    {
     "data": {
      "text/plain": [
       "array(['2021-07-01T00:00:00.000000000'], dtype='datetime64[ns]')"
      ]
     },
     "execution_count": 21,
     "metadata": {},
     "output_type": "execute_result"
    }
   ],
   "source": [
    "# Missing date for the total population\n",
    "\n",
    "df2 = df[['date', 'district','total population']]\n",
    "df2 = df2[df2.isnull().any(axis=1)]\n",
    "df2.date.unique()"
   ]
  },
  {
   "cell_type": "code",
   "execution_count": 22,
   "metadata": {},
   "outputs": [
    {
     "data": {
      "text/plain": [
       "array(['2019-07-01T00:00:00.000000000', '2020-01-01T00:00:00.000000000',\n",
       "       '2021-01-01T00:00:00.000000000', '2021-07-01T00:00:00.000000000'],\n",
       "      dtype='datetime64[ns]')"
      ]
     },
     "execution_count": 22,
     "metadata": {},
     "output_type": "execute_result"
    }
   ],
   "source": [
    "# Missing date for the next_prevalence\n",
    "\n",
    "df2 = df[['date', 'district','next_prevalence']]\n",
    "df2 = df2[df2.isnull().any(axis=1)]\n",
    "df2.date.unique()"
   ]
  },
  {
   "cell_type": "code",
   "execution_count": null,
   "metadata": {},
   "outputs": [],
   "source": []
  }
 ],
 "metadata": {
  "kernelspec": {
   "display_name": "Python 3",
   "language": "python",
   "name": "python3"
  },
  "language_info": {
   "codemirror_mode": {
    "name": "ipython",
    "version": 3
   },
   "file_extension": ".py",
   "mimetype": "text/x-python",
   "name": "python",
   "nbconvert_exporter": "python",
   "pygments_lexer": "ipython3",
   "version": "3.7.6"
  }
 },
 "nbformat": 4,
 "nbformat_minor": 4
}
