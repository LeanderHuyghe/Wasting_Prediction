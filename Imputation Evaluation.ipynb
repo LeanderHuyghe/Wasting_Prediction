{
 "cells": [
  {
   "cell_type": "markdown",
   "source": [
    "# Imports"
   ],
   "metadata": {
    "collapsed": false
   }
  },
  {
   "cell_type": "code",
   "execution_count": 32,
   "outputs": [],
   "source": [
    "import pandas as pd\n",
    "import numpy as np\n",
    "import datetime\n",
    "import seaborn as sns\n",
    "from helper_metrics import count_missing_district, count_missing_district_total\n",
    "import matplotlib.pyplot as plt\n",
    "from helper_metrics import impute_score\n",
    "from sklearn.preprocessing import MinMaxScaler\n",
    "from sklearn.experimental import enable_iterative_imputer\n",
    "from sklearn.impute import SimpleImputer, IterativeImputer, KNNImputer\n",
    "from sklearn.metrics import mean_squared_error\n",
    "import warnings\n",
    "warnings.filterwarnings(\"ignore\")"
   ],
   "metadata": {
    "collapsed": false
   }
  },
  {
   "cell_type": "markdown",
   "source": [
    "# Load data"
   ],
   "metadata": {
    "collapsed": false
   }
  },
  {
   "cell_type": "code",
   "execution_count": 33,
   "outputs": [
    {
     "data": {
      "text/plain": "           date     district  total population  Under-Five Population  \\\n0    2017-07-01  Adan Yabaal       65262.96000            13052.59200   \n1    2017-07-01      Lughaye       70268.22000            14053.64400   \n2    2017-07-01    Buuhoodle       71317.71000            14263.54200   \n3    2017-07-01         Luuq      100476.76500            20095.35300   \n4    2017-07-01     Burtinle      112734.27000            22546.85400   \n..          ...          ...               ...                    ...   \n657  2021-07-01     Jariiban               NaN            32671.60000   \n658  2021-07-01      Caluula               NaN            16168.60000   \n659  2021-07-01    Qoryooley               NaN            25309.00087   \n660  2021-07-01         Baki               NaN            11187.80000   \n661  2021-07-01    Jalalaqsi               NaN            10831.40000   \n\n            GAM        MAM        SAM  GAM Prevalence  SAM Prevalence  \\\n0    4819.01697 3733.04131 1085.97565         0.36920         0.08320   \n1    5334.76326 4220.30929 1114.45397         0.37960         0.07930   \n2    4858.16241 3652.89311 1205.26930         0.34060         0.08450   \n3    8673.15435 7366.95641 1306.19795         0.43160         0.06500   \n4   10200.19675 8500.16396 1700.03279         0.45240         0.07540   \n..          ...        ...        ...             ...             ...   \n657 10890.00000        NaN 1430.00000         0.33332         0.04377   \n658  5560.00000        NaN  870.00000         0.34388         0.05381   \n659 11420.00000        NaN 2160.00000         0.45122         0.08535   \n660  3470.00000        NaN  640.00000         0.31016         0.05721   \n661  4420.00000        NaN  840.00000         0.40807         0.07755   \n\n     phase3plus_perc_x  ...  Total alarms  n_conflict_total  Average of centy  \\\n0              0.18000  ...       2.16667               NaN           3.54944   \n1              0.36000  ...       2.66667           1.00000          10.64738   \n2              0.37000  ...       2.33333           2.50000           8.46016   \n3              0.21000  ...       7.83333           1.50000           3.79293   \n4              0.22000  ...       3.66667               NaN           7.80220   \n..                 ...  ...           ...               ...               ...   \n657            0.19000  ...       2.16667               NaN           7.16378   \n658            0.16000  ...       3.16667           1.00000          11.66822   \n659            0.08000  ...       6.16667           3.50000           1.93456   \n660            0.37000  ...       0.66667           1.00000          10.28566   \n661            0.10000  ...       4.16667           3.33333           3.40329   \n\n     Average of centx  prevalence_6lag  next_prevalence  month  increase  \\\n0            46.54467              NaN          0.35100      7     False   \n1            43.57812              NaN          0.16900      7     False   \n2            46.66129              NaN          0.20280      7     False   \n3            42.69760              NaN          0.39260      7     False   \n4            48.39912              NaN          0.37960      7     False   \n..                ...              ...              ...    ...       ...   \n657          48.99860          0.34857              NaN      7       NaN   \n658          50.79402          0.35925              NaN      7       NaN   \n659          44.44943          0.45939              NaN      7       NaN   \n660          43.73210          0.22769              NaN      7       NaN   \n661          45.61273          0.19471              NaN      7       NaN   \n\n     increase_numeric  district_encoded  \n0            -0.01820                 0  \n1            -0.21060                58  \n2            -0.13780                23  \n3            -0.03900                59  \n4            -0.07280                22  \n..                ...               ...  \n657               NaN                50  \n658               NaN                28  \n659               NaN                65  \n660               NaN                 7  \n661               NaN                48  \n\n[662 rows x 23 columns]",
      "text/html": "<div>\n<style scoped>\n    .dataframe tbody tr th:only-of-type {\n        vertical-align: middle;\n    }\n\n    .dataframe tbody tr th {\n        vertical-align: top;\n    }\n\n    .dataframe thead th {\n        text-align: right;\n    }\n</style>\n<table border=\"1\" class=\"dataframe\">\n  <thead>\n    <tr style=\"text-align: right;\">\n      <th></th>\n      <th>date</th>\n      <th>district</th>\n      <th>total population</th>\n      <th>Under-Five Population</th>\n      <th>GAM</th>\n      <th>MAM</th>\n      <th>SAM</th>\n      <th>GAM Prevalence</th>\n      <th>SAM Prevalence</th>\n      <th>phase3plus_perc_x</th>\n      <th>...</th>\n      <th>Total alarms</th>\n      <th>n_conflict_total</th>\n      <th>Average of centy</th>\n      <th>Average of centx</th>\n      <th>prevalence_6lag</th>\n      <th>next_prevalence</th>\n      <th>month</th>\n      <th>increase</th>\n      <th>increase_numeric</th>\n      <th>district_encoded</th>\n    </tr>\n  </thead>\n  <tbody>\n    <tr>\n      <th>0</th>\n      <td>2017-07-01</td>\n      <td>Adan Yabaal</td>\n      <td>65262.96000</td>\n      <td>13052.59200</td>\n      <td>4819.01697</td>\n      <td>3733.04131</td>\n      <td>1085.97565</td>\n      <td>0.36920</td>\n      <td>0.08320</td>\n      <td>0.18000</td>\n      <td>...</td>\n      <td>2.16667</td>\n      <td>NaN</td>\n      <td>3.54944</td>\n      <td>46.54467</td>\n      <td>NaN</td>\n      <td>0.35100</td>\n      <td>7</td>\n      <td>False</td>\n      <td>-0.01820</td>\n      <td>0</td>\n    </tr>\n    <tr>\n      <th>1</th>\n      <td>2017-07-01</td>\n      <td>Lughaye</td>\n      <td>70268.22000</td>\n      <td>14053.64400</td>\n      <td>5334.76326</td>\n      <td>4220.30929</td>\n      <td>1114.45397</td>\n      <td>0.37960</td>\n      <td>0.07930</td>\n      <td>0.36000</td>\n      <td>...</td>\n      <td>2.66667</td>\n      <td>1.00000</td>\n      <td>10.64738</td>\n      <td>43.57812</td>\n      <td>NaN</td>\n      <td>0.16900</td>\n      <td>7</td>\n      <td>False</td>\n      <td>-0.21060</td>\n      <td>58</td>\n    </tr>\n    <tr>\n      <th>2</th>\n      <td>2017-07-01</td>\n      <td>Buuhoodle</td>\n      <td>71317.71000</td>\n      <td>14263.54200</td>\n      <td>4858.16241</td>\n      <td>3652.89311</td>\n      <td>1205.26930</td>\n      <td>0.34060</td>\n      <td>0.08450</td>\n      <td>0.37000</td>\n      <td>...</td>\n      <td>2.33333</td>\n      <td>2.50000</td>\n      <td>8.46016</td>\n      <td>46.66129</td>\n      <td>NaN</td>\n      <td>0.20280</td>\n      <td>7</td>\n      <td>False</td>\n      <td>-0.13780</td>\n      <td>23</td>\n    </tr>\n    <tr>\n      <th>3</th>\n      <td>2017-07-01</td>\n      <td>Luuq</td>\n      <td>100476.76500</td>\n      <td>20095.35300</td>\n      <td>8673.15435</td>\n      <td>7366.95641</td>\n      <td>1306.19795</td>\n      <td>0.43160</td>\n      <td>0.06500</td>\n      <td>0.21000</td>\n      <td>...</td>\n      <td>7.83333</td>\n      <td>1.50000</td>\n      <td>3.79293</td>\n      <td>42.69760</td>\n      <td>NaN</td>\n      <td>0.39260</td>\n      <td>7</td>\n      <td>False</td>\n      <td>-0.03900</td>\n      <td>59</td>\n    </tr>\n    <tr>\n      <th>4</th>\n      <td>2017-07-01</td>\n      <td>Burtinle</td>\n      <td>112734.27000</td>\n      <td>22546.85400</td>\n      <td>10200.19675</td>\n      <td>8500.16396</td>\n      <td>1700.03279</td>\n      <td>0.45240</td>\n      <td>0.07540</td>\n      <td>0.22000</td>\n      <td>...</td>\n      <td>3.66667</td>\n      <td>NaN</td>\n      <td>7.80220</td>\n      <td>48.39912</td>\n      <td>NaN</td>\n      <td>0.37960</td>\n      <td>7</td>\n      <td>False</td>\n      <td>-0.07280</td>\n      <td>22</td>\n    </tr>\n    <tr>\n      <th>...</th>\n      <td>...</td>\n      <td>...</td>\n      <td>...</td>\n      <td>...</td>\n      <td>...</td>\n      <td>...</td>\n      <td>...</td>\n      <td>...</td>\n      <td>...</td>\n      <td>...</td>\n      <td>...</td>\n      <td>...</td>\n      <td>...</td>\n      <td>...</td>\n      <td>...</td>\n      <td>...</td>\n      <td>...</td>\n      <td>...</td>\n      <td>...</td>\n      <td>...</td>\n      <td>...</td>\n    </tr>\n    <tr>\n      <th>657</th>\n      <td>2021-07-01</td>\n      <td>Jariiban</td>\n      <td>NaN</td>\n      <td>32671.60000</td>\n      <td>10890.00000</td>\n      <td>NaN</td>\n      <td>1430.00000</td>\n      <td>0.33332</td>\n      <td>0.04377</td>\n      <td>0.19000</td>\n      <td>...</td>\n      <td>2.16667</td>\n      <td>NaN</td>\n      <td>7.16378</td>\n      <td>48.99860</td>\n      <td>0.34857</td>\n      <td>NaN</td>\n      <td>7</td>\n      <td>NaN</td>\n      <td>NaN</td>\n      <td>50</td>\n    </tr>\n    <tr>\n      <th>658</th>\n      <td>2021-07-01</td>\n      <td>Caluula</td>\n      <td>NaN</td>\n      <td>16168.60000</td>\n      <td>5560.00000</td>\n      <td>NaN</td>\n      <td>870.00000</td>\n      <td>0.34388</td>\n      <td>0.05381</td>\n      <td>0.16000</td>\n      <td>...</td>\n      <td>3.16667</td>\n      <td>1.00000</td>\n      <td>11.66822</td>\n      <td>50.79402</td>\n      <td>0.35925</td>\n      <td>NaN</td>\n      <td>7</td>\n      <td>NaN</td>\n      <td>NaN</td>\n      <td>28</td>\n    </tr>\n    <tr>\n      <th>659</th>\n      <td>2021-07-01</td>\n      <td>Qoryooley</td>\n      <td>NaN</td>\n      <td>25309.00087</td>\n      <td>11420.00000</td>\n      <td>NaN</td>\n      <td>2160.00000</td>\n      <td>0.45122</td>\n      <td>0.08535</td>\n      <td>0.08000</td>\n      <td>...</td>\n      <td>6.16667</td>\n      <td>3.50000</td>\n      <td>1.93456</td>\n      <td>44.44943</td>\n      <td>0.45939</td>\n      <td>NaN</td>\n      <td>7</td>\n      <td>NaN</td>\n      <td>NaN</td>\n      <td>65</td>\n    </tr>\n    <tr>\n      <th>660</th>\n      <td>2021-07-01</td>\n      <td>Baki</td>\n      <td>NaN</td>\n      <td>11187.80000</td>\n      <td>3470.00000</td>\n      <td>NaN</td>\n      <td>640.00000</td>\n      <td>0.31016</td>\n      <td>0.05721</td>\n      <td>0.37000</td>\n      <td>...</td>\n      <td>0.66667</td>\n      <td>1.00000</td>\n      <td>10.28566</td>\n      <td>43.73210</td>\n      <td>0.22769</td>\n      <td>NaN</td>\n      <td>7</td>\n      <td>NaN</td>\n      <td>NaN</td>\n      <td>7</td>\n    </tr>\n    <tr>\n      <th>661</th>\n      <td>2021-07-01</td>\n      <td>Jalalaqsi</td>\n      <td>NaN</td>\n      <td>10831.40000</td>\n      <td>4420.00000</td>\n      <td>NaN</td>\n      <td>840.00000</td>\n      <td>0.40807</td>\n      <td>0.07755</td>\n      <td>0.10000</td>\n      <td>...</td>\n      <td>4.16667</td>\n      <td>3.33333</td>\n      <td>3.40329</td>\n      <td>45.61273</td>\n      <td>0.19471</td>\n      <td>NaN</td>\n      <td>7</td>\n      <td>NaN</td>\n      <td>NaN</td>\n      <td>48</td>\n    </tr>\n  </tbody>\n</table>\n<p>662 rows × 23 columns</p>\n</div>"
     },
     "execution_count": 33,
     "metadata": {},
     "output_type": "execute_result"
    }
   ],
   "source": [
    "df = pd.read_csv(\"data/semiyearly_chosen_columns.csv\").iloc[:,1:]\n",
    "df"
   ],
   "metadata": {
    "collapsed": false
   }
  },
  {
   "cell_type": "markdown",
   "source": [
    "## Evaluate different imputation methods for PRICE OF WATER"
   ],
   "metadata": {
    "collapsed": false
   }
  },
  {
   "cell_type": "code",
   "execution_count": 34,
   "outputs": [
    {
     "name": "stdout",
     "output_type": "stream",
     "text": [
      "RMSE for MEAN imputation in Price of water: 11.96 \n",
      "SCALE: 2-100\n"
     ]
    }
   ],
   "source": [
    "impute_score(df,features='Price of water', method='mean', scale='2-100')"
   ],
   "metadata": {
    "collapsed": false
   }
  },
  {
   "cell_type": "code",
   "execution_count": 35,
   "outputs": [
    {
     "name": "stdout",
     "output_type": "stream",
     "text": [
      "RMSE for MEDIAN imputation in Price of water: 11.774 \n",
      "SCALE: 2-100\n"
     ]
    }
   ],
   "source": [
    "impute_score(df,features='Price of water', method='median', scale='2-100')"
   ],
   "metadata": {
    "collapsed": false
   }
  },
  {
   "cell_type": "code",
   "execution_count": 36,
   "outputs": [
    {
     "name": "stdout",
     "output_type": "stream",
     "text": [
      "RMSE for KNN imputation in Price of water: 10.942 \n",
      "SCALE: 2-100\n"
     ]
    }
   ],
   "source": [
    "impute_score(df,features='Price of water', method='knn', scale='2-100')"
   ],
   "metadata": {
    "collapsed": false
   }
  },
  {
   "cell_type": "code",
   "execution_count": 37,
   "outputs": [
    {
     "name": "stdout",
     "output_type": "stream",
     "text": [
      "RMSE for MICE imputation in Price of water: 11.293 \n",
      "SCALE: 2-100\n"
     ]
    }
   ],
   "source": [
    "impute_score(df,features='Price of water', method='mice', scale='2-100')"
   ],
   "metadata": {
    "collapsed": false
   }
  },
  {
   "cell_type": "markdown",
   "source": [
    "## Evaluate different imputation methods for NDVI"
   ],
   "metadata": {
    "collapsed": false
   }
  },
  {
   "cell_type": "code",
   "execution_count": 38,
   "outputs": [
    {
     "name": "stdout",
     "output_type": "stream",
     "text": [
      "RMSE for MEAN imputation in ndvi_score: 0.118 \n",
      "SCALE: 0 - 0.61\n"
     ]
    }
   ],
   "source": [
    "impute_score(df,features='ndvi_score', method='mean', scale='0 - 0.61')"
   ],
   "metadata": {
    "collapsed": false
   }
  },
  {
   "cell_type": "code",
   "execution_count": 39,
   "outputs": [
    {
     "name": "stdout",
     "output_type": "stream",
     "text": [
      "RMSE for MEDIAN imputation in ndvi_score: 0.118 \n",
      "SCALE: 0 - 0.61\n"
     ]
    }
   ],
   "source": [
    "impute_score(df,features='ndvi_score', method='median', scale='0 - 0.61')"
   ],
   "metadata": {
    "collapsed": false
   }
  },
  {
   "cell_type": "code",
   "execution_count": 40,
   "outputs": [
    {
     "name": "stdout",
     "output_type": "stream",
     "text": [
      "RMSE for KNN imputation in ndvi_score: 0.053 \n",
      "SCALE: 0 - 0.61\n"
     ]
    }
   ],
   "source": [
    "impute_score(df,features='ndvi_score', method='knn', scale='0 - 0.61')"
   ],
   "metadata": {
    "collapsed": false
   }
  },
  {
   "cell_type": "code",
   "execution_count": 41,
   "outputs": [
    {
     "name": "stdout",
     "output_type": "stream",
     "text": [
      "RMSE for MICE imputation in ndvi_score: 0.05 \n",
      "SCALE: 0 - 0.61\n"
     ]
    }
   ],
   "source": [
    "impute_score(df,features='ndvi_score', method='mice', scale='0 - 0.61')"
   ],
   "metadata": {
    "collapsed": false
   }
  },
  {
   "cell_type": "markdown",
   "source": [
    "## Evaluate different imputation methods for IPC"
   ],
   "metadata": {
    "collapsed": false
   }
  },
  {
   "cell_type": "code",
   "execution_count": 42,
   "outputs": [
    {
     "name": "stdout",
     "output_type": "stream",
     "text": [
      "RMSE for MEAN imputation in phase3plus_perc_x: 0.07 \n",
      "SCALE: 0 - 0.58\n"
     ]
    }
   ],
   "source": [
    "impute_score(df,features='phase3plus_perc_x', method='mean', scale='0 - 0.58')"
   ],
   "metadata": {
    "collapsed": false
   }
  },
  {
   "cell_type": "code",
   "execution_count": 43,
   "outputs": [
    {
     "name": "stdout",
     "output_type": "stream",
     "text": [
      "RMSE for MEDIAN imputation in phase3plus_perc_x: 0.071 \n",
      "SCALE: 0 - 0.58\n"
     ]
    }
   ],
   "source": [
    "impute_score(df,features='phase3plus_perc_x', method='median', scale='0 - 0.58')"
   ],
   "metadata": {
    "collapsed": false
   }
  },
  {
   "cell_type": "code",
   "execution_count": 44,
   "outputs": [
    {
     "name": "stdout",
     "output_type": "stream",
     "text": [
      "RMSE for KNN imputation in phase3plus_perc_x: 0.054 \n",
      "SCALE: 0 - 0.58\n"
     ]
    }
   ],
   "source": [
    "impute_score(df,features='phase3plus_perc_x', method='knn', scale='0 - 0.58')"
   ],
   "metadata": {
    "collapsed": false
   }
  },
  {
   "cell_type": "code",
   "execution_count": 45,
   "outputs": [
    {
     "name": "stdout",
     "output_type": "stream",
     "text": [
      "RMSE for MICE imputation in phase3plus_perc_x: 0.058 \n",
      "SCALE: 0 - 0.58\n"
     ]
    }
   ],
   "source": [
    "impute_score(df,features='phase3plus_perc_x', method='mice', scale='0 - 0.58')"
   ],
   "metadata": {
    "collapsed": false
   }
  },
  {
   "cell_type": "markdown",
   "source": [
    "## Evaluate imputation for CONFLICTS"
   ],
   "metadata": {
    "collapsed": false
   }
  },
  {
   "cell_type": "code",
   "execution_count": 46,
   "outputs": [
    {
     "name": "stdout",
     "output_type": "stream",
     "text": [
      "RMSE for MEAN imputation in n_conflict_total: 4.838 \n",
      "SCALE: 1-8\n"
     ]
    }
   ],
   "source": [
    "impute_score(df,features='n_conflict_total', method='mean', scale='1-8')"
   ],
   "metadata": {
    "collapsed": false
   }
  },
  {
   "cell_type": "code",
   "execution_count": 47,
   "outputs": [
    {
     "name": "stdout",
     "output_type": "stream",
     "text": [
      "RMSE for MEDIAN imputation in n_conflict_total: 5.015 \n",
      "SCALE: 1-8\n"
     ]
    }
   ],
   "source": [
    "impute_score(df,features='n_conflict_total', method='median', scale='1-8')"
   ],
   "metadata": {
    "collapsed": false
   }
  },
  {
   "cell_type": "code",
   "execution_count": 48,
   "outputs": [
    {
     "name": "stdout",
     "output_type": "stream",
     "text": [
      "RMSE for KNN imputation in n_conflict_total: 3.592 \n",
      "SCALE: 1-8\n"
     ]
    }
   ],
   "source": [
    "impute_score(df,features='n_conflict_total', method='knn', scale='1-8')"
   ],
   "metadata": {
    "collapsed": false
   }
  },
  {
   "cell_type": "code",
   "execution_count": 49,
   "outputs": [
    {
     "name": "stdout",
     "output_type": "stream",
     "text": [
      "RMSE for MICE imputation in n_conflict_total: 4.293 \n",
      "SCALE: 1-8\n"
     ]
    }
   ],
   "source": [
    "impute_score(df,features='n_conflict_total', method='mice', scale='1-8')"
   ],
   "metadata": {
    "collapsed": false
   }
  },
  {
   "cell_type": "markdown",
   "source": [
    "## Evaluate SPLINE interpolation for CONFLICTS"
   ],
   "metadata": {
    "collapsed": false
   }
  },
  {
   "cell_type": "code",
   "execution_count": 50,
   "outputs": [],
   "source": [
    "# create list to store district numbers which have no missing values\n",
    "nonempty_conflict_districts = []\n",
    "for i in range(74):\n",
    "    # retrieve name\n",
    "    name = df.district[i]\n",
    "    # create the data\n",
    "    data = df[df.district==name]['n_conflict_total']\n",
    "    # check if there are any missing values and append to the list if none\n",
    "    if data.isna().sum().sum()==0:\n",
    "        nonempty_conflict_districts.append(i)"
   ],
   "metadata": {
    "collapsed": false
   }
  },
  {
   "cell_type": "code",
   "execution_count": 51,
   "outputs": [
    {
     "name": "stdout",
     "output_type": "stream",
     "text": [
      "RMSE for SPLINE imputation in Buuhoodle is: 1.048\n",
      "RMSE for SPLINE imputation in Luuq is: 1.323\n",
      "RMSE for SPLINE imputation in Marka is: 15.814\n",
      "RMSE for SPLINE imputation in Bulo Burto is: 3.272\n",
      "RMSE for SPLINE imputation in Qansax Dheere is: 1.283\n",
      "RMSE for SPLINE imputation in Bossaso is: 4.401\n",
      "RMSE for SPLINE imputation in Qoryooley is: 3.547\n",
      "RMSE for SPLINE imputation in Belet Xaawo is: 1.323\n",
      "RMSE for SPLINE imputation in Belet Weyne is: 6.683\n",
      "RMSE for SPLINE imputation in Baraawe is: 2.908\n",
      "RMSE for SPLINE imputation in Baraawe is: 2.908\n",
      "RMSE for SPLINE imputation in Tayeeglow is: 1.658\n",
      "RMSE for SPLINE imputation in Waajid is: 1.608\n",
      "RMSE for SPLINE imputation in Banadir is: 57.706\n",
      "RMSE for SPLINE imputation in Buur Hakaba is: 2.823\n",
      "RMSE for SPLINE imputation in Wanla Weyn is: 2.957\n",
      "RMSE for SPLINE imputation in Laas Caanood is: 6.23\n",
      "RMSE for SPLINE imputation in Doolow is: 0.776\n",
      "RMSE for SPLINE imputation in Garbahaarey is: 2.169\n",
      "RMSE for SPLINE imputation in Diinsoor is: 1.811\n",
      "RMSE for SPLINE imputation in Garoowe is: 2.149\n",
      "RMSE for SPLINE imputation in Dhuusamarreeb is: 3.66\n",
      "RMSE for SPLINE imputation in Ceerigaabo is: 2.204\n",
      "RMSE for SPLINE imputation in Hargeysa is: 0.917\n",
      "RMSE for SPLINE imputation in Ceel Waaq is: 1.473\n",
      "RMSE for SPLINE imputation in Hobyo is: 2.423\n",
      "RMSE for SPLINE imputation in Iskushuban is: 0.762\n",
      "RMSE for SPLINE imputation in Jalalaqsi is: 2.76\n",
      "RMSE for SPLINE imputation in Jamaame is: 2.983\n",
      "RMSE for SPLINE imputation in Jilib is: 1.318\n",
      "RMSE for SPLINE imputation in Jowhar is: 6.356\n",
      "RMSE for SPLINE imputation in Kismaayo is: 9.394\n",
      "RMSE for SPLINE imputation in Cadaado is: 1.439\n",
      "RMSE for SPLINE imputation in Cabudwaaq is: 1.263\n",
      "RMSE for SPLINE imputation in Balcad is: 6.598\n",
      "RMSE for SPLINE imputation in Burco is: 1.612\n",
      "RMSE for SPLINE imputation in Gaalkacyo is: 4.619\n",
      "RMSE for SPLINE imputation in Badhaadhe is: 2.487\n",
      "RMSE for SPLINE imputation in Xudur is: 5.929\n",
      "RMSE for SPLINE imputation in Afgooye is: 22.934\n",
      "RMSE for SPLINE imputation in Baardheere is: 2.899\n",
      "RMSE for SPLINE imputation in Afmadow is: 4.49\n",
      "RMSE for SPLINE imputation in Baidoa is: 9.518\n"
     ]
    }
   ],
   "source": [
    "rmse_scores = []\n",
    "for i in nonempty_conflict_districts:\n",
    "    name = df.district[i]\n",
    "    df_test = df[df.district==name][['n_conflict_total']]\n",
    "\n",
    "    # Scale the dataframe\n",
    "    scaler = MinMaxScaler()\n",
    "    df_test_scaled = pd.DataFrame(scaler.fit_transform(df_test), columns = df_test.columns)\n",
    "\n",
    "    # Setting Feature column\n",
    "    features = ['n_conflict_total']\n",
    "\n",
    "    # Set seed for reproducibility\n",
    "    np.random.seed(18)\n",
    "\n",
    "    #  Inserting NaN values into Experiment Group\n",
    "    for col in df_test_scaled[features]:\n",
    "        # 20% of the data will be removed (frac = 0.2)\n",
    "        # Rows may be selected more that once (replace = true) - only useful if you have more than one column in features\n",
    "        df_test_scaled.loc[df_test_scaled.sample(frac=0.2, replace=True).index, col] = np.nan\n",
    "\n",
    "\n",
    "    # Creating a list of indices\n",
    "    nan_cols = df_test_scaled[features]\n",
    "    nan_cols = nan_cols[nan_cols.isna().any(axis = 1)]\n",
    "    null_idx = list(nan_cols.index)\n",
    "\n",
    "\n",
    "    # Creating Answer key to compare future results against\n",
    "    answer_key = df_test.iloc[null_idx]\n",
    "\n",
    "\n",
    "    # Interpolate and fill any missing values with a reasonable estimate\n",
    "    df_imputed = df_test_scaled.interpolate(\"spline\", order=3).bfill()\n",
    "\n",
    "    # Get the imputed values\n",
    "    test = df_imputed.iloc[null_idx]\n",
    "\n",
    "    # Resetting indexes of test and answer_key for iteration\n",
    "    test = test.reset_index()\n",
    "    test.drop(['index'], axis=1, inplace=True)\n",
    "    answer_key = answer_key.reset_index()\n",
    "    answer_key.drop(['index'], axis=1, inplace=True)\n",
    "\n",
    "    # Calculate results\n",
    "    results = pd.DataFrame((round((answer_key - test), 3)))\n",
    "\n",
    "    # calculate RMSE\n",
    "    squared_terms = []\n",
    "    for col in results[features]:\n",
    "        for i in range(len(results)):\n",
    "            if results[col][i] != 0.00 or results[col][i] != -0.00:\n",
    "                error = results[col][i]\n",
    "                squared_error = error ** 2\n",
    "                squared_terms.append(squared_error)\n",
    "\n",
    "    num_nan = df_test_scaled.isna().sum().sum()\n",
    "    sum_sqr_err = sum(squared_terms)\n",
    "    mse = sum_sqr_err / num_nan\n",
    "    rmse = np.round(np.sqrt(mse),3)\n",
    "    rmse_scores.append(rmse)\n",
    "    #return pd.DataFrame({\"RMSE\": rmse, \"SCALE\": scale},index=[0])\n",
    "    print(f\"RMSE for SPLINE imputation in {name} is: {rmse}\")"
   ],
   "metadata": {
    "collapsed": false
   }
  },
  {
   "cell_type": "code",
   "execution_count": 52,
   "outputs": [
    {
     "name": "stdout",
     "output_type": "stream",
     "text": [
      "Average RMSE for spline interpolation for conflicts: 5.173\n"
     ]
    }
   ],
   "source": [
    "print(f\"Average RMSE for spline interpolation for conflicts: {round(np.average(rmse_scores),3)}\")"
   ],
   "metadata": {
    "collapsed": false
   }
  },
  {
   "cell_type": "markdown",
   "source": [
    "# Test district-wise KNN imputation"
   ],
   "metadata": {
    "collapsed": false
   }
  },
  {
   "cell_type": "code",
   "execution_count": 56,
   "outputs": [
    {
     "name": "stdout",
     "output_type": "stream",
     "text": [
      "RMSE for local KNN imputation in Buuhoodle is: 0.392\n",
      "RMSE for local KNN imputation in Luuq is: 0.34\n",
      "RMSE for local KNN imputation in Marka is: 5.102\n",
      "RMSE for local KNN imputation in Bulo Burto is: 0.501\n",
      "RMSE for local KNN imputation in Qansax Dheere is: 0.482\n",
      "RMSE for local KNN imputation in Bossaso is: 4.237\n",
      "RMSE for local KNN imputation in Qoryooley is: 1.199\n",
      "RMSE for local KNN imputation in Belet Xaawo is: 0.681\n",
      "RMSE for local KNN imputation in Belet Weyne is: 1.666\n",
      "RMSE for local KNN imputation in Baraawe is: 1.233\n",
      "RMSE for local KNN imputation in Baraawe is: 1.233\n",
      "RMSE for local KNN imputation in Tayeeglow is: 0.251\n",
      "RMSE for local KNN imputation in Waajid is: 0.476\n",
      "RMSE for local KNN imputation in Banadir is: 12.205\n",
      "RMSE for local KNN imputation in Buur Hakaba is: 0.885\n",
      "RMSE for local KNN imputation in Wanla Weyn is: 0.673\n",
      "RMSE for local KNN imputation in Laas Caanood is: 4.022\n",
      "RMSE for local KNN imputation in Doolow is: 0.404\n",
      "RMSE for local KNN imputation in Garbahaarey is: 0.93\n",
      "RMSE for local KNN imputation in Diinsoor is: 0.625\n",
      "RMSE for local KNN imputation in Garoowe is: 0.635\n",
      "RMSE for local KNN imputation in Dhuusamarreeb is: 2.916\n",
      "RMSE for local KNN imputation in Ceerigaabo is: 1.0\n",
      "RMSE for local KNN imputation in Hargeysa is: 1.76\n",
      "RMSE for local KNN imputation in Ceel Waaq is: 1.522\n",
      "RMSE for local KNN imputation in Hobyo is: 1.268\n",
      "RMSE for local KNN imputation in Iskushuban is: 0.86\n",
      "RMSE for local KNN imputation in Jalalaqsi is: 0.636\n",
      "RMSE for local KNN imputation in Jamaame is: 1.656\n",
      "RMSE for local KNN imputation in Jilib is: 0.482\n",
      "RMSE for local KNN imputation in Jowhar is: 3.325\n",
      "RMSE for local KNN imputation in Kismaayo is: 2.124\n",
      "RMSE for local KNN imputation in Cadaado is: 0.454\n",
      "RMSE for local KNN imputation in Cabudwaaq is: 0.618\n",
      "RMSE for local KNN imputation in Balcad is: 0.57\n",
      "RMSE for local KNN imputation in Burco is: 0.463\n",
      "RMSE for local KNN imputation in Gaalkacyo is: 2.21\n",
      "RMSE for local KNN imputation in Badhaadhe is: 0.97\n",
      "RMSE for local KNN imputation in Xudur is: 3.542\n",
      "RMSE for local KNN imputation in Afgooye is: 6.421\n",
      "RMSE for local KNN imputation in Baardheere is: 0.523\n",
      "RMSE for local KNN imputation in Afmadow is: 1.5\n",
      "RMSE for local KNN imputation in Baidoa is: 1.335\n"
     ]
    }
   ],
   "source": [
    "rmse_scores_knn = []\n",
    "for i in nonempty_conflict_districts:\n",
    "    name = df.district[i]\n",
    "    df_test = df[df.district==name][['n_conflict_total']]\n",
    "\n",
    "    # Scale the dataframe\n",
    "    scaler = MinMaxScaler()\n",
    "    df_test_scaled = pd.DataFrame(scaler.fit_transform(df_test), columns = df_test.columns)\n",
    "\n",
    "    # Setting Feature column\n",
    "    features = ['n_conflict_total']\n",
    "\n",
    "    # Set seed for reproducibility\n",
    "    np.random.seed(18)\n",
    "\n",
    "    #  Inserting NaN values into Experiment Group\n",
    "    for col in df_test_scaled[features]:\n",
    "        # 20% of the data will be removed (frac = 0.2)\n",
    "        # Rows may be selected more that once (replace = true) - only useful if you have more than one column in features\n",
    "        df_test_scaled.loc[df_test_scaled.sample(frac=0.2, replace=True).index, col] = np.nan\n",
    "\n",
    "\n",
    "    # Creating a list of indices\n",
    "    nan_cols = df_test_scaled[features]\n",
    "    nan_cols = nan_cols[nan_cols.isna().any(axis = 1)]\n",
    "    null_idx = list(nan_cols.index)\n",
    "\n",
    "\n",
    "    # Creating Answer key to compare future results against\n",
    "    answer_key = df_test.iloc[null_idx]\n",
    "\n",
    "\n",
    "    # Interpolate and fill any missing values with a reasonable estimate\n",
    "    # Impute\n",
    "    imputer = KNNImputer(n_neighbors=5)\n",
    "    df_test_imputed = pd.DataFrame(imputer.fit_transform(df_test_scaled), columns=df_test_scaled.columns)\n",
    "\n",
    "    # Invert scaling\n",
    "    inverse_df_test_imputed = pd.DataFrame(scaler.inverse_transform(df_test_imputed), columns=df_test_imputed.columns)\n",
    "\n",
    "    # Subset data to match that of our answer key\n",
    "    test = inverse_df_test_imputed.iloc[null_idx]\n",
    "\n",
    "\n",
    "    # Resetting indexes of test and answer_key for iteration\n",
    "    test = test.reset_index()\n",
    "    test.drop(['index'], axis=1, inplace=True)\n",
    "    answer_key = answer_key.reset_index()\n",
    "    answer_key.drop(['index'], axis=1, inplace=True)\n",
    "\n",
    "    # Calculate results\n",
    "    results = pd.DataFrame((round((answer_key - test), 3)))\n",
    "\n",
    "    # calculate RMSE\n",
    "    squared_terms = []\n",
    "    for col in results[features]:\n",
    "        for i in range(len(results)):\n",
    "            if results[col][i] != 0.00 or results[col][i] != -0.00:\n",
    "                error = results[col][i]\n",
    "                squared_error = error ** 2\n",
    "                squared_terms.append(squared_error)\n",
    "\n",
    "    num_nan = df_test_scaled.isna().sum().sum()\n",
    "    sum_sqr_err = sum(squared_terms)\n",
    "    mse = sum_sqr_err / num_nan\n",
    "    rmse = np.round(np.sqrt(mse),3)\n",
    "    rmse_scores_knn.append(rmse)\n",
    "    #return pd.DataFrame({\"RMSE\": rmse, \"SCALE\": scale},index=[0])\n",
    "    print(f\"RMSE for local KNN imputation in {name} is: {rmse}\")"
   ],
   "metadata": {
    "collapsed": false
   }
  },
  {
   "cell_type": "code",
   "execution_count": 57,
   "outputs": [
    {
     "name": "stdout",
     "output_type": "stream",
     "text": [
      "Average RMSE for district-wise KNN imputation for conflicts: 1.729\n"
     ]
    }
   ],
   "source": [
    "print(f\"Average RMSE for district-wise KNN imputation for conflicts: {round(np.average(rmse_scores_knn),3)}\")"
   ],
   "metadata": {
    "collapsed": false
   }
  }
 ],
 "metadata": {
  "kernelspec": {
   "display_name": "Python 3",
   "language": "python",
   "name": "python3"
  },
  "language_info": {
   "codemirror_mode": {
    "name": "ipython",
    "version": 2
   },
   "file_extension": ".py",
   "mimetype": "text/x-python",
   "name": "python",
   "nbconvert_exporter": "python",
   "pygments_lexer": "ipython2",
   "version": "2.7.6"
  }
 },
 "nbformat": 4,
 "nbformat_minor": 0
}
