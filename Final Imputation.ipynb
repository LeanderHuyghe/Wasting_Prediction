{
 "cells": [
  {
   "cell_type": "markdown",
   "source": [
    "# Imports"
   ],
   "metadata": {
    "collapsed": false
   }
  },
  {
   "cell_type": "code",
   "execution_count": 1,
   "outputs": [],
   "source": [
    "import pandas as pd\n",
    "import numpy as np\n",
    "import datetime\n",
    "import seaborn as sns\n",
    "from helper_metrics import count_missing_district, count_missing_district_total\n",
    "import matplotlib.pyplot as plt\n",
    "from sklearn.experimental import enable_iterative_imputer\n",
    "from sklearn.impute import IterativeImputer\n",
    "from sklearn.impute import KNNImputer\n",
    "import warnings\n",
    "warnings.filterwarnings(\"ignore\")"
   ],
   "metadata": {
    "collapsed": false
   }
  },
  {
   "cell_type": "markdown",
   "source": [
    "# Load data"
   ],
   "metadata": {
    "collapsed": false
   }
  },
  {
   "cell_type": "code",
   "execution_count": 2,
   "outputs": [],
   "source": [
    "df = pd.read_csv(\"data/semiyearly_chosen_columns.csv\").iloc[:,1:]"
   ],
   "metadata": {
    "collapsed": false
   }
  },
  {
   "cell_type": "markdown",
   "source": [
    "# Perform Imputations"
   ],
   "metadata": {
    "collapsed": false
   }
  },
  {
   "cell_type": "code",
   "execution_count": 3,
   "outputs": [],
   "source": [
    "def impute_values(df):\n",
    "    # Define a subset X that will only be used for conflict imputation\n",
    "    X = df.drop([\"date\",\"increase\",\"Average of centx\",\"Price of water\", \"Average of centy\"],axis=1)\n",
    "\n",
    "    # KNN for conflicts (district-wise imputation)\n",
    "    knn_imputer = KNNImputer(n_neighbors=5)\n",
    "    num_districts = len(df.district.unique())\n",
    "\n",
    "    for i in range(num_districts):\n",
    "        # retrieve district name\n",
    "        name = X.district[i]\n",
    "\n",
    "        # retrieve conflict data\n",
    "        data = X[X.district==name].drop('district',axis=1)\n",
    "        id = data.index\n",
    "\n",
    "        # retrieve indices of the missing values\n",
    "        index = data[data['n_conflict_total'].isna()].index.tolist()\n",
    "\n",
    "        # impute and fill any missing values with a reasonable estimate\n",
    "        imputed_data = pd.DataFrame(knn_imputer.fit_transform(data), columns = data.columns, index=id)['n_conflict_total']\n",
    "\n",
    "        # retrieve interpolated values at the required indices\n",
    "        conflict = imputed_data[index].values.tolist()\n",
    "\n",
    "        # change value at the indexed location\n",
    "        df.loc[index,'n_conflict_total'] = conflict\n",
    "\n",
    "\n",
    "    # Redefine subset X for the rest of the imputations\n",
    "    X = df.select_dtypes(exclude=[\"object\", \"category\"])\n",
    "    knn_df = pd.DataFrame(knn_imputer.fit_transform(X), columns = X.columns)\n",
    "    ndvi_score = knn_df[\"ndvi_score\"]\n",
    "    ipc = knn_df[\"phase3plus_perc_x\"]\n",
    "\n",
    "    # MICE imputation\n",
    "    mice_imputer = IterativeImputer(n_nearest_features=5, max_iter=100).fit_transform(X)\n",
    "    price_of_water = pd.DataFrame(mice_imputer, columns=X.columns)[\"Price of water\"]\n",
    "\n",
    "    # Change columns to imputed features\n",
    "    df[\"ndvi_score\"] = ndvi_score\n",
    "    df[\"phase3plus_perc_x\"] = ipc\n",
    "    df[\"Price of water\"] = price_of_water\n",
    "\n",
    "    # Rename and dropped unwanted features\n",
    "    df = df.rename(columns={\"ndvi_score\":\"ndvi\", \"phase3plus_perc_x\":\"ipc\", \"Price of water\": \"price_of_water\", \"n_conflict_total\":\"conflicts\"})\n",
    "    df = df.drop([\"MAM\",\"Average of centx\", \"Average of centy\"],axis=1)\n",
    "    return df\n",
    "\n"
   ],
   "metadata": {
    "collapsed": false
   }
  },
  {
   "cell_type": "code",
   "execution_count": 4,
   "outputs": [],
   "source": [
    "df_imputed = impute_values(df)"
   ],
   "metadata": {
    "collapsed": false
   }
  },
  {
   "cell_type": "code",
   "execution_count": 5,
   "outputs": [
    {
     "data": {
      "text/plain": "           date     district  total population  Under-Five Population  \\\n0    2017-07-01  Adan Yabaal       65262.96000            13052.59200   \n1    2017-07-01         Luuq      100476.76500            20095.35300   \n2    2017-07-01  Buur Hakaba      165968.46000            33193.69200   \n3    2017-07-01        Marka      282222.76500            56444.55300   \n4    2017-07-01    Buuhoodle       71317.71000            14263.54200   \n..          ...          ...               ...                    ...   \n579  2021-01-01       Qardho       64346.00000            12870.00000   \n580  2021-01-01      Caluula       51766.00000            10355.00000   \n581  2021-01-01       Cadale       61428.00000            12285.00000   \n582  2021-01-01      Afmadow      164086.00000            32815.00000   \n583  2021-01-01      Bossaso      467020.00000            93405.00000   \n\n            GAM        SAM  GAM Prevalence  SAM Prevalence     ipc  rainfall  \\\n0    4819.01697 1085.97565         0.36920         0.08320 0.18000  19.15667   \n1    8673.15435 1306.19795         0.43160         0.06500 0.21000  24.24000   \n2   11909.89669 3711.05477         0.35880         0.11180 0.35000  34.94500   \n3   20839.32897 4696.18681         0.36920         0.08320 0.17000  23.56500   \n4    4858.16241 1205.26930         0.34060         0.08450 0.37000  19.54000   \n..          ...        ...             ...             ...     ...       ...   \n579  4555.00000  690.00000         0.35392         0.05361 0.23000   8.12000   \n580  3720.00000  595.00000         0.35925         0.05746 0.16000  18.48000   \n581  3390.00000  435.00000         0.27595         0.03541 0.10000  19.06500   \n582  9905.00000 1660.00000         0.30184         0.05059 0.13000  23.69500   \n583 33840.00000 5260.00000         0.36229         0.05631 0.23000   8.91500   \n\n       ndvi  price_of_water  Total alarms  conflicts  prevalence_6lag  \\\n0   0.21500        15.00000       2.16667    2.15000              NaN   \n1   0.19333        15.00000       7.83333    1.50000              NaN   \n2   0.34833        52.50000       6.16667    4.66667              NaN   \n3   0.29833        36.50000      11.83333   11.83333              NaN   \n4   0.21333        15.85171       2.33333    2.50000              NaN   \n..      ...             ...           ...        ...              ...   \n579 0.14833        15.95630       0.16667    1.20000          0.39980   \n580 0.23167        31.66667       3.66667    1.00000          0.47291   \n581 0.39667        13.78488       3.50000    2.75000          0.29052   \n582 0.39500        18.16667       3.33333    8.66667          0.27809   \n583 0.18333        13.10417       7.00000    3.20000          0.41532   \n\n     next_prevalence  month increase  increase_numeric  district_encoded  \n0            0.35100      7    False          -0.01820                 0  \n1            0.39260      7    False          -0.03900                59  \n2            0.28860      7    False          -0.07020                24  \n3            0.35100      7    False          -0.01820                60  \n4            0.20280      7    False          -0.13780                23  \n..               ...    ...      ...               ...               ...  \n579          0.42264      1     True           0.06871                64  \n580          0.34388      1    False          -0.01537                28  \n581          0.28736      1     True           0.01141                27  \n582          0.39162      1     True           0.08977                 2  \n583          0.42823      1     True           0.06594                18  \n\n[582 rows x 20 columns]",
      "text/html": "<div>\n<style scoped>\n    .dataframe tbody tr th:only-of-type {\n        vertical-align: middle;\n    }\n\n    .dataframe tbody tr th {\n        vertical-align: top;\n    }\n\n    .dataframe thead th {\n        text-align: right;\n    }\n</style>\n<table border=\"1\" class=\"dataframe\">\n  <thead>\n    <tr style=\"text-align: right;\">\n      <th></th>\n      <th>date</th>\n      <th>district</th>\n      <th>total population</th>\n      <th>Under-Five Population</th>\n      <th>GAM</th>\n      <th>SAM</th>\n      <th>GAM Prevalence</th>\n      <th>SAM Prevalence</th>\n      <th>ipc</th>\n      <th>rainfall</th>\n      <th>ndvi</th>\n      <th>price_of_water</th>\n      <th>Total alarms</th>\n      <th>conflicts</th>\n      <th>prevalence_6lag</th>\n      <th>next_prevalence</th>\n      <th>month</th>\n      <th>increase</th>\n      <th>increase_numeric</th>\n      <th>district_encoded</th>\n    </tr>\n  </thead>\n  <tbody>\n    <tr>\n      <th>0</th>\n      <td>2017-07-01</td>\n      <td>Adan Yabaal</td>\n      <td>65262.96000</td>\n      <td>13052.59200</td>\n      <td>4819.01697</td>\n      <td>1085.97565</td>\n      <td>0.36920</td>\n      <td>0.08320</td>\n      <td>0.18000</td>\n      <td>19.15667</td>\n      <td>0.21500</td>\n      <td>15.00000</td>\n      <td>2.16667</td>\n      <td>2.15000</td>\n      <td>NaN</td>\n      <td>0.35100</td>\n      <td>7</td>\n      <td>False</td>\n      <td>-0.01820</td>\n      <td>0</td>\n    </tr>\n    <tr>\n      <th>1</th>\n      <td>2017-07-01</td>\n      <td>Luuq</td>\n      <td>100476.76500</td>\n      <td>20095.35300</td>\n      <td>8673.15435</td>\n      <td>1306.19795</td>\n      <td>0.43160</td>\n      <td>0.06500</td>\n      <td>0.21000</td>\n      <td>24.24000</td>\n      <td>0.19333</td>\n      <td>15.00000</td>\n      <td>7.83333</td>\n      <td>1.50000</td>\n      <td>NaN</td>\n      <td>0.39260</td>\n      <td>7</td>\n      <td>False</td>\n      <td>-0.03900</td>\n      <td>59</td>\n    </tr>\n    <tr>\n      <th>2</th>\n      <td>2017-07-01</td>\n      <td>Buur Hakaba</td>\n      <td>165968.46000</td>\n      <td>33193.69200</td>\n      <td>11909.89669</td>\n      <td>3711.05477</td>\n      <td>0.35880</td>\n      <td>0.11180</td>\n      <td>0.35000</td>\n      <td>34.94500</td>\n      <td>0.34833</td>\n      <td>52.50000</td>\n      <td>6.16667</td>\n      <td>4.66667</td>\n      <td>NaN</td>\n      <td>0.28860</td>\n      <td>7</td>\n      <td>False</td>\n      <td>-0.07020</td>\n      <td>24</td>\n    </tr>\n    <tr>\n      <th>3</th>\n      <td>2017-07-01</td>\n      <td>Marka</td>\n      <td>282222.76500</td>\n      <td>56444.55300</td>\n      <td>20839.32897</td>\n      <td>4696.18681</td>\n      <td>0.36920</td>\n      <td>0.08320</td>\n      <td>0.17000</td>\n      <td>23.56500</td>\n      <td>0.29833</td>\n      <td>36.50000</td>\n      <td>11.83333</td>\n      <td>11.83333</td>\n      <td>NaN</td>\n      <td>0.35100</td>\n      <td>7</td>\n      <td>False</td>\n      <td>-0.01820</td>\n      <td>60</td>\n    </tr>\n    <tr>\n      <th>4</th>\n      <td>2017-07-01</td>\n      <td>Buuhoodle</td>\n      <td>71317.71000</td>\n      <td>14263.54200</td>\n      <td>4858.16241</td>\n      <td>1205.26930</td>\n      <td>0.34060</td>\n      <td>0.08450</td>\n      <td>0.37000</td>\n      <td>19.54000</td>\n      <td>0.21333</td>\n      <td>15.85171</td>\n      <td>2.33333</td>\n      <td>2.50000</td>\n      <td>NaN</td>\n      <td>0.20280</td>\n      <td>7</td>\n      <td>False</td>\n      <td>-0.13780</td>\n      <td>23</td>\n    </tr>\n    <tr>\n      <th>...</th>\n      <td>...</td>\n      <td>...</td>\n      <td>...</td>\n      <td>...</td>\n      <td>...</td>\n      <td>...</td>\n      <td>...</td>\n      <td>...</td>\n      <td>...</td>\n      <td>...</td>\n      <td>...</td>\n      <td>...</td>\n      <td>...</td>\n      <td>...</td>\n      <td>...</td>\n      <td>...</td>\n      <td>...</td>\n      <td>...</td>\n      <td>...</td>\n      <td>...</td>\n    </tr>\n    <tr>\n      <th>579</th>\n      <td>2021-01-01</td>\n      <td>Qardho</td>\n      <td>64346.00000</td>\n      <td>12870.00000</td>\n      <td>4555.00000</td>\n      <td>690.00000</td>\n      <td>0.35392</td>\n      <td>0.05361</td>\n      <td>0.23000</td>\n      <td>8.12000</td>\n      <td>0.14833</td>\n      <td>15.95630</td>\n      <td>0.16667</td>\n      <td>1.20000</td>\n      <td>0.39980</td>\n      <td>0.42264</td>\n      <td>1</td>\n      <td>True</td>\n      <td>0.06871</td>\n      <td>64</td>\n    </tr>\n    <tr>\n      <th>580</th>\n      <td>2021-01-01</td>\n      <td>Caluula</td>\n      <td>51766.00000</td>\n      <td>10355.00000</td>\n      <td>3720.00000</td>\n      <td>595.00000</td>\n      <td>0.35925</td>\n      <td>0.05746</td>\n      <td>0.16000</td>\n      <td>18.48000</td>\n      <td>0.23167</td>\n      <td>31.66667</td>\n      <td>3.66667</td>\n      <td>1.00000</td>\n      <td>0.47291</td>\n      <td>0.34388</td>\n      <td>1</td>\n      <td>False</td>\n      <td>-0.01537</td>\n      <td>28</td>\n    </tr>\n    <tr>\n      <th>581</th>\n      <td>2021-01-01</td>\n      <td>Cadale</td>\n      <td>61428.00000</td>\n      <td>12285.00000</td>\n      <td>3390.00000</td>\n      <td>435.00000</td>\n      <td>0.27595</td>\n      <td>0.03541</td>\n      <td>0.10000</td>\n      <td>19.06500</td>\n      <td>0.39667</td>\n      <td>13.78488</td>\n      <td>3.50000</td>\n      <td>2.75000</td>\n      <td>0.29052</td>\n      <td>0.28736</td>\n      <td>1</td>\n      <td>True</td>\n      <td>0.01141</td>\n      <td>27</td>\n    </tr>\n    <tr>\n      <th>582</th>\n      <td>2021-01-01</td>\n      <td>Afmadow</td>\n      <td>164086.00000</td>\n      <td>32815.00000</td>\n      <td>9905.00000</td>\n      <td>1660.00000</td>\n      <td>0.30184</td>\n      <td>0.05059</td>\n      <td>0.13000</td>\n      <td>23.69500</td>\n      <td>0.39500</td>\n      <td>18.16667</td>\n      <td>3.33333</td>\n      <td>8.66667</td>\n      <td>0.27809</td>\n      <td>0.39162</td>\n      <td>1</td>\n      <td>True</td>\n      <td>0.08977</td>\n      <td>2</td>\n    </tr>\n    <tr>\n      <th>583</th>\n      <td>2021-01-01</td>\n      <td>Bossaso</td>\n      <td>467020.00000</td>\n      <td>93405.00000</td>\n      <td>33840.00000</td>\n      <td>5260.00000</td>\n      <td>0.36229</td>\n      <td>0.05631</td>\n      <td>0.23000</td>\n      <td>8.91500</td>\n      <td>0.18333</td>\n      <td>13.10417</td>\n      <td>7.00000</td>\n      <td>3.20000</td>\n      <td>0.41532</td>\n      <td>0.42823</td>\n      <td>1</td>\n      <td>True</td>\n      <td>0.06594</td>\n      <td>18</td>\n    </tr>\n  </tbody>\n</table>\n<p>582 rows × 20 columns</p>\n</div>"
     },
     "execution_count": 5,
     "metadata": {},
     "output_type": "execute_result"
    }
   ],
   "source": [
    "# Final dataset\n",
    "df_imputed[df_imputed.next_prevalence.isna()==False]"
   ],
   "metadata": {
    "collapsed": false
   }
  },
  {
   "cell_type": "code",
   "execution_count": 11,
   "outputs": [
    {
     "data": {
      "text/plain": "Index(['total population', 'GAM Prevalence', 'SAM Prevalence', 'ipc',\n       'rainfall', 'ndvi', 'price_of_water', 'Total alarms', 'conflicts',\n       'prevalence_6lag', 'month'],\n      dtype='object')"
     },
     "execution_count": 11,
     "metadata": {},
     "output_type": "execute_result"
    }
   ],
   "source": [
    "df_imputed.iloc[:,2:].drop(['next_prevalence','GAM', 'SAM','increase','increase_numeric','Under-Five Population','district_encoded'],axis=1).columns"
   ],
   "metadata": {
    "collapsed": false
   }
  },
  {
   "cell_type": "code",
   "execution_count": 6,
   "outputs": [],
   "source": [
    "df_imputed.to_csv(\"imputed_data.csv\")"
   ],
   "metadata": {
    "collapsed": false
   }
  }
 ],
 "metadata": {
  "kernelspec": {
   "display_name": "Python 3",
   "language": "python",
   "name": "python3"
  },
  "language_info": {
   "codemirror_mode": {
    "name": "ipython",
    "version": 2
   },
   "file_extension": ".py",
   "mimetype": "text/x-python",
   "name": "python",
   "nbconvert_exporter": "python",
   "pygments_lexer": "ipython2",
   "version": "2.7.6"
  }
 },
 "nbformat": 4,
 "nbformat_minor": 0
}
