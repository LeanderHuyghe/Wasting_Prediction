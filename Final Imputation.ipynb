{
 "cells": [
  {
   "cell_type": "markdown",
   "source": [
    "# Imports"
   ],
   "metadata": {
    "collapsed": false
   }
  },
  {
   "cell_type": "code",
   "execution_count": 259,
   "outputs": [],
   "source": [
    "import pandas as pd\n",
    "import numpy as np\n",
    "import datetime\n",
    "import seaborn as sns\n",
    "from helper_metrics import count_missing_district, count_missing_district_total\n",
    "import matplotlib.pyplot as plt\n",
    "from sklearn.experimental import enable_iterative_imputer\n",
    "from sklearn.impute import IterativeImputer\n",
    "from sklearn.impute import KNNImputer\n",
    "import warnings\n",
    "warnings.filterwarnings(\"ignore\")"
   ],
   "metadata": {
    "collapsed": false
   }
  },
  {
   "cell_type": "markdown",
   "source": [
    "# Load data"
   ],
   "metadata": {
    "collapsed": false
   }
  },
  {
   "cell_type": "code",
   "execution_count": 260,
   "outputs": [],
   "source": [
    "df = pd.read_csv(\"data/semiyearly_chosen_columns.csv\").iloc[:,1:]"
   ],
   "metadata": {
    "collapsed": false
   }
  },
  {
   "cell_type": "markdown",
   "source": [
    "# Perform Imputations"
   ],
   "metadata": {
    "collapsed": false
   }
  },
  {
   "cell_type": "code",
   "execution_count": 261,
   "outputs": [],
   "source": [
    "def impute_values(df):\n",
    "    # Define a subset X that will only be used for conflict imputation\n",
    "    X = df.drop([\"date\",\"increase\",\"Average of centx\",\"Price of water\", \"Average of centy\"],axis=1)\n",
    "\n",
    "    # KNN for conflicts (district-wise imputation)\n",
    "    knn_imputer = KNNImputer(n_neighbors=5)\n",
    "    num_districts = len(df.district.unique())\n",
    "\n",
    "    for i in range(num_districts):\n",
    "        # retrieve district name\n",
    "        name = X.district[i]\n",
    "\n",
    "        # retrieve conflict data\n",
    "        data = X[X.district==name].drop('district',axis=1)\n",
    "        id = data.index\n",
    "\n",
    "        # retrieve indices of the missing values\n",
    "        index = data[data['n_conflict_total'].isna()].index.tolist()\n",
    "\n",
    "        # impute and fill any missing values with a reasonable estimate\n",
    "        imputed_data = pd.DataFrame(knn_imputer.fit_transform(data), columns = data.columns, index=id)['n_conflict_total']\n",
    "\n",
    "        # retrieve interpolated values at the required indices\n",
    "        conflict = imputed_data[index].values.tolist()\n",
    "\n",
    "        # change value at the indexed location\n",
    "        df.loc[index,'n_conflict_total'] = conflict\n",
    "\n",
    "    # Redefine subset X for the rest of the imputations\n",
    "    X = df.select_dtypes(exclude=[\"object\", \"category\"])\n",
    "    knn_df = pd.DataFrame(knn_imputer.fit_transform(X), columns = X.columns)\n",
    "    ndvi_score = knn_df[\"ndvi_score\"]\n",
    "    ipc = knn_df[\"phase3plus_perc_x\"]\n",
    "\n",
    "    # MICE imputation\n",
    "    mice_imputer = IterativeImputer(n_nearest_features=5, max_iter=100).fit_transform(X)\n",
    "    price_of_water = pd.DataFrame(mice_imputer, columns=X.columns)[\"Price of water\"]\n",
    "\n",
    "    # Change columns to imputed features\n",
    "    df[\"ndvi_score\"] = ndvi_score\n",
    "    df[\"phase3plus_perc_x\"] = ipc\n",
    "    df[\"Price of water\"] = price_of_water\n",
    "\n",
    "    # Rename and dropped unwanted features\n",
    "    df = df.rename(columns={\"ndvi_score\":\"ndvi\", \"phase3plus_perc_x\":\"ipc\", \"Price of water\": \"price_of_water\", \"n_conflict_total\":\"conflicts\"})\n",
    "    df = df.drop([\"MAM\",\"Average of centx\", \"Average of centy\"],axis=1)\n",
    "    return df\n",
    "\n"
   ],
   "metadata": {
    "collapsed": false
   }
  },
  {
   "cell_type": "code",
   "execution_count": 263,
   "outputs": [],
   "source": [
    "df_imputed = impute_values(df)"
   ],
   "metadata": {
    "collapsed": false
   }
  },
  {
   "cell_type": "code",
   "execution_count": 272,
   "outputs": [
    {
     "data": {
      "text/plain": "           date     district  total population  Under-Five Population  \\\n0    2017-07-01  Adan Yabaal       65262.96000            13052.59200   \n1    2017-07-01      Lughaye       70268.22000            14053.64400   \n2    2017-07-01    Buuhoodle       71317.71000            14263.54200   \n3    2017-07-01         Luuq      100476.76500            20095.35300   \n4    2017-07-01     Burtinle      112734.27000            22546.85400   \n..          ...          ...               ...                    ...   \n585  2021-01-01      Qandala       52515.00000            10505.00000   \n586  2021-01-01     Galdogob       72580.00000            14515.00000   \n587  2021-01-01    Qoryooley      207773.00000            41555.00000   \n588  2021-01-01     Diinsoor      139564.00000            27915.00000   \n652  2021-07-01      Baraawe               NaN            12659.08591   \n\n            GAM        SAM  GAM Prevalence  SAM Prevalence     ipc  rainfall  \\\n0    4819.01697 1085.97565         0.36920         0.08320 0.18000  19.15667   \n1    5334.76326 1114.45397         0.37960         0.07930 0.36000   5.79500   \n2    4858.16241 1205.26930         0.34060         0.08450 0.37000  19.54000   \n3    8673.15435 1306.19795         0.43160         0.06500 0.21000  24.24000   \n4   10200.19675 1700.03279         0.45240         0.07540 0.22000  15.90333   \n..          ...        ...             ...             ...     ...       ...   \n585  3730.00000  600.00000         0.35507         0.05712 0.14000  10.92333   \n586  6560.00000 1330.00000         0.45195         0.09163 0.20000  11.78167   \n587 19090.00000 3135.00000         0.45939         0.07544 0.08000  19.49667   \n588 13745.00000 2235.00000         0.49239         0.08006 0.13000  27.38500   \n652  5680.00000 1030.00000         0.44869         0.08136 0.06000  35.03750   \n\n       ndvi  price_of_water  Total alarms  conflicts  prevalence_6lag  \\\n0   0.21500        15.00000       2.16667    2.15000              NaN   \n1   0.09000         4.50000       2.66667    1.00000              NaN   \n2   0.21333        16.17814       2.33333    2.50000              NaN   \n3   0.19333        15.00000       7.83333    1.50000              NaN   \n4   0.18000        85.00000       3.66667    1.00000              NaN   \n..      ...             ...           ...        ...              ...   \n585 0.22167        14.20528       0.16667    1.00000          0.43397   \n586 0.22667        17.64099       1.16667    1.50000          0.41416   \n587 0.51167        16.16667       3.83333    6.33333          0.48013   \n588 0.43500        33.75000       5.00000    4.40000          0.44202   \n652 0.39250        16.43912       1.41667    4.75000          0.49119   \n\n     next_prevalence  month increase  increase_numeric  district_encoded  \n0            0.35100      7    False          -0.01820                 0  \n1            0.16900      7    False          -0.21060                58  \n2            0.20280      7    False          -0.13780                23  \n3            0.39260      7    False          -0.03900                59  \n4            0.37960      7    False          -0.07280                22  \n..               ...    ...      ...               ...               ...  \n585          0.33217      1    False          -0.02290                62  \n586          0.45734      1     True           0.00540                41  \n587          0.45122      1    False          -0.00817                65  \n588          0.41964      1    False          -0.07275                37  \n652          0.46554      7     True           0.01685                11  \n\n[589 rows x 20 columns]",
      "text/html": "<div>\n<style scoped>\n    .dataframe tbody tr th:only-of-type {\n        vertical-align: middle;\n    }\n\n    .dataframe tbody tr th {\n        vertical-align: top;\n    }\n\n    .dataframe thead th {\n        text-align: right;\n    }\n</style>\n<table border=\"1\" class=\"dataframe\">\n  <thead>\n    <tr style=\"text-align: right;\">\n      <th></th>\n      <th>date</th>\n      <th>district</th>\n      <th>total population</th>\n      <th>Under-Five Population</th>\n      <th>GAM</th>\n      <th>SAM</th>\n      <th>GAM Prevalence</th>\n      <th>SAM Prevalence</th>\n      <th>ipc</th>\n      <th>rainfall</th>\n      <th>ndvi</th>\n      <th>price_of_water</th>\n      <th>Total alarms</th>\n      <th>conflicts</th>\n      <th>prevalence_6lag</th>\n      <th>next_prevalence</th>\n      <th>month</th>\n      <th>increase</th>\n      <th>increase_numeric</th>\n      <th>district_encoded</th>\n    </tr>\n  </thead>\n  <tbody>\n    <tr>\n      <th>0</th>\n      <td>2017-07-01</td>\n      <td>Adan Yabaal</td>\n      <td>65262.96000</td>\n      <td>13052.59200</td>\n      <td>4819.01697</td>\n      <td>1085.97565</td>\n      <td>0.36920</td>\n      <td>0.08320</td>\n      <td>0.18000</td>\n      <td>19.15667</td>\n      <td>0.21500</td>\n      <td>15.00000</td>\n      <td>2.16667</td>\n      <td>2.15000</td>\n      <td>NaN</td>\n      <td>0.35100</td>\n      <td>7</td>\n      <td>False</td>\n      <td>-0.01820</td>\n      <td>0</td>\n    </tr>\n    <tr>\n      <th>1</th>\n      <td>2017-07-01</td>\n      <td>Lughaye</td>\n      <td>70268.22000</td>\n      <td>14053.64400</td>\n      <td>5334.76326</td>\n      <td>1114.45397</td>\n      <td>0.37960</td>\n      <td>0.07930</td>\n      <td>0.36000</td>\n      <td>5.79500</td>\n      <td>0.09000</td>\n      <td>4.50000</td>\n      <td>2.66667</td>\n      <td>1.00000</td>\n      <td>NaN</td>\n      <td>0.16900</td>\n      <td>7</td>\n      <td>False</td>\n      <td>-0.21060</td>\n      <td>58</td>\n    </tr>\n    <tr>\n      <th>2</th>\n      <td>2017-07-01</td>\n      <td>Buuhoodle</td>\n      <td>71317.71000</td>\n      <td>14263.54200</td>\n      <td>4858.16241</td>\n      <td>1205.26930</td>\n      <td>0.34060</td>\n      <td>0.08450</td>\n      <td>0.37000</td>\n      <td>19.54000</td>\n      <td>0.21333</td>\n      <td>16.17814</td>\n      <td>2.33333</td>\n      <td>2.50000</td>\n      <td>NaN</td>\n      <td>0.20280</td>\n      <td>7</td>\n      <td>False</td>\n      <td>-0.13780</td>\n      <td>23</td>\n    </tr>\n    <tr>\n      <th>3</th>\n      <td>2017-07-01</td>\n      <td>Luuq</td>\n      <td>100476.76500</td>\n      <td>20095.35300</td>\n      <td>8673.15435</td>\n      <td>1306.19795</td>\n      <td>0.43160</td>\n      <td>0.06500</td>\n      <td>0.21000</td>\n      <td>24.24000</td>\n      <td>0.19333</td>\n      <td>15.00000</td>\n      <td>7.83333</td>\n      <td>1.50000</td>\n      <td>NaN</td>\n      <td>0.39260</td>\n      <td>7</td>\n      <td>False</td>\n      <td>-0.03900</td>\n      <td>59</td>\n    </tr>\n    <tr>\n      <th>4</th>\n      <td>2017-07-01</td>\n      <td>Burtinle</td>\n      <td>112734.27000</td>\n      <td>22546.85400</td>\n      <td>10200.19675</td>\n      <td>1700.03279</td>\n      <td>0.45240</td>\n      <td>0.07540</td>\n      <td>0.22000</td>\n      <td>15.90333</td>\n      <td>0.18000</td>\n      <td>85.00000</td>\n      <td>3.66667</td>\n      <td>1.00000</td>\n      <td>NaN</td>\n      <td>0.37960</td>\n      <td>7</td>\n      <td>False</td>\n      <td>-0.07280</td>\n      <td>22</td>\n    </tr>\n    <tr>\n      <th>...</th>\n      <td>...</td>\n      <td>...</td>\n      <td>...</td>\n      <td>...</td>\n      <td>...</td>\n      <td>...</td>\n      <td>...</td>\n      <td>...</td>\n      <td>...</td>\n      <td>...</td>\n      <td>...</td>\n      <td>...</td>\n      <td>...</td>\n      <td>...</td>\n      <td>...</td>\n      <td>...</td>\n      <td>...</td>\n      <td>...</td>\n      <td>...</td>\n      <td>...</td>\n    </tr>\n    <tr>\n      <th>585</th>\n      <td>2021-01-01</td>\n      <td>Qandala</td>\n      <td>52515.00000</td>\n      <td>10505.00000</td>\n      <td>3730.00000</td>\n      <td>600.00000</td>\n      <td>0.35507</td>\n      <td>0.05712</td>\n      <td>0.14000</td>\n      <td>10.92333</td>\n      <td>0.22167</td>\n      <td>14.20528</td>\n      <td>0.16667</td>\n      <td>1.00000</td>\n      <td>0.43397</td>\n      <td>0.33217</td>\n      <td>1</td>\n      <td>False</td>\n      <td>-0.02290</td>\n      <td>62</td>\n    </tr>\n    <tr>\n      <th>586</th>\n      <td>2021-01-01</td>\n      <td>Galdogob</td>\n      <td>72580.00000</td>\n      <td>14515.00000</td>\n      <td>6560.00000</td>\n      <td>1330.00000</td>\n      <td>0.45195</td>\n      <td>0.09163</td>\n      <td>0.20000</td>\n      <td>11.78167</td>\n      <td>0.22667</td>\n      <td>17.64099</td>\n      <td>1.16667</td>\n      <td>1.50000</td>\n      <td>0.41416</td>\n      <td>0.45734</td>\n      <td>1</td>\n      <td>True</td>\n      <td>0.00540</td>\n      <td>41</td>\n    </tr>\n    <tr>\n      <th>587</th>\n      <td>2021-01-01</td>\n      <td>Qoryooley</td>\n      <td>207773.00000</td>\n      <td>41555.00000</td>\n      <td>19090.00000</td>\n      <td>3135.00000</td>\n      <td>0.45939</td>\n      <td>0.07544</td>\n      <td>0.08000</td>\n      <td>19.49667</td>\n      <td>0.51167</td>\n      <td>16.16667</td>\n      <td>3.83333</td>\n      <td>6.33333</td>\n      <td>0.48013</td>\n      <td>0.45122</td>\n      <td>1</td>\n      <td>False</td>\n      <td>-0.00817</td>\n      <td>65</td>\n    </tr>\n    <tr>\n      <th>588</th>\n      <td>2021-01-01</td>\n      <td>Diinsoor</td>\n      <td>139564.00000</td>\n      <td>27915.00000</td>\n      <td>13745.00000</td>\n      <td>2235.00000</td>\n      <td>0.49239</td>\n      <td>0.08006</td>\n      <td>0.13000</td>\n      <td>27.38500</td>\n      <td>0.43500</td>\n      <td>33.75000</td>\n      <td>5.00000</td>\n      <td>4.40000</td>\n      <td>0.44202</td>\n      <td>0.41964</td>\n      <td>1</td>\n      <td>False</td>\n      <td>-0.07275</td>\n      <td>37</td>\n    </tr>\n    <tr>\n      <th>652</th>\n      <td>2021-07-01</td>\n      <td>Baraawe</td>\n      <td>NaN</td>\n      <td>12659.08591</td>\n      <td>5680.00000</td>\n      <td>1030.00000</td>\n      <td>0.44869</td>\n      <td>0.08136</td>\n      <td>0.06000</td>\n      <td>35.03750</td>\n      <td>0.39250</td>\n      <td>16.43912</td>\n      <td>1.41667</td>\n      <td>4.75000</td>\n      <td>0.49119</td>\n      <td>0.46554</td>\n      <td>7</td>\n      <td>True</td>\n      <td>0.01685</td>\n      <td>11</td>\n    </tr>\n  </tbody>\n</table>\n<p>589 rows × 20 columns</p>\n</div>"
     },
     "execution_count": 272,
     "metadata": {},
     "output_type": "execute_result"
    }
   ],
   "source": [
    "# Final dataset\n",
    "df_imputed[df_imputed.next_prevalence.isna()==False]"
   ],
   "metadata": {
    "collapsed": false
   }
  }
 ],
 "metadata": {
  "kernelspec": {
   "display_name": "Python 3",
   "language": "python",
   "name": "python3"
  },
  "language_info": {
   "codemirror_mode": {
    "name": "ipython",
    "version": 2
   },
   "file_extension": ".py",
   "mimetype": "text/x-python",
   "name": "python",
   "nbconvert_exporter": "python",
   "pygments_lexer": "ipython2",
   "version": "2.7.6"
  }
 },
 "nbformat": 4,
 "nbformat_minor": 0
}
