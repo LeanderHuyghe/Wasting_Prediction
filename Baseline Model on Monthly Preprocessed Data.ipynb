{
 "cells": [
  {
   "cell_type": "markdown",
   "source": [
    "## Imports"
   ],
   "metadata": {
    "collapsed": false
   }
  },
  {
   "cell_type": "code",
   "execution_count": 48,
   "outputs": [],
   "source": [
    "\"\"\"------------SECTION IMPORTS---------------------\"\"\"\n",
    "import numpy as np\n",
    "import pandas as pd\n",
    "from sklearn.ensemble import RandomForestRegressor\n",
    "from sklearn.metrics import mean_absolute_error, accuracy_score\n",
    "import joblib\n",
    "import matplotlib.pyplot as plt\n",
    "import warnings\n",
    "warnings.filterwarnings(\"ignore\")\n",
    "import tqdm\n",
    "'''------------SECTION USER VARIABLES--------------'''\n",
    "# Define the path to your datafolder below\n",
    "your_datapath = '../data/'\n",
    "\n",
    "# Define search space for number of trees in random forest and depth of trees\n",
    "num_trees_min = 64\n",
    "num_trees_max = 128\n",
    "\n",
    "depth_min = 2\n",
    "depth_max = 7"
   ],
   "metadata": {
    "collapsed": false
   }
  },
  {
   "cell_type": "markdown",
   "source": [
    "# Useful functions"
   ],
   "metadata": {
    "collapsed": false
   }
  },
  {
   "cell_type": "code",
   "execution_count": 49,
   "outputs": [],
   "source": [
    "# Function that returns every possible subset (except the empty set) of the input list l\n",
    "def subsets(l: object) -> object:\n",
    "    subset_list = []\n",
    "    for i in range(len(l) + 1):\n",
    "        for j in range(i):\n",
    "            subset_list.append(l[j: i])\n",
    "    return subset_list"
   ],
   "metadata": {
    "collapsed": false
   }
  },
  {
   "cell_type": "markdown",
   "source": [
    "# Import data"
   ],
   "metadata": {
    "collapsed": false
   }
  },
  {
   "cell_type": "code",
   "execution_count": 50,
   "outputs": [
    {
     "name": "stderr",
     "output_type": "stream",
     "text": [
      "C:\\Users\\lonew\\AppData\\Local\\Temp\\ipykernel_6556\\1594539623.py:3: SettingWithCopyWarning: \n",
      "A value is trying to be set on a copy of a slice from a DataFrame.\n",
      "Try using .loc[row_indexer,col_indexer] = value instead\n",
      "\n",
      "See the caveats in the documentation: https://pandas.pydata.org/pandas-docs/stable/user_guide/indexing.html#returning-a-view-versus-a-copy\n",
      "  df2[\"next_prevalence\"]= df[\"next_prevalence\"]\n"
     ]
    }
   ],
   "source": [
    "df = pd.read_csv(\"monthly_data.csv\")\n",
    "df2 = df.dropna(axis=1)\n",
    "df2[\"next_prevalence\"]= df[\"next_prevalence\"]\n",
    "df2 = df2.dropna(axis=0)"
   ],
   "metadata": {
    "collapsed": false
   }
  },
  {
   "cell_type": "code",
   "execution_count": 51,
   "outputs": [],
   "source": [
    "df = df2.copy()"
   ],
   "metadata": {
    "collapsed": false
   }
  },
  {
   "cell_type": "code",
   "execution_count": 52,
   "outputs": [
    {
     "data": {
      "text/plain": "Unnamed: 0                 0\nUnnamed: 0.3_x             0\ndate                       0\nUnnamed: 0.2_x             0\nUnnamed: 0.1_x             0\nUnnamed: 0_x               0\ndistrict_x                 0\nUnder-Five Population_x    0\nGAM_x                      0\nSAM_x                      0\nGAM Prevalence_x           0\nSAM Prevalence_x           0\nSAM/GAM ratio_x            0\nUnnamed: 0.3_y             0\nUnnamed: 0.2_y             0\nUnnamed: 0.1_y             0\nUnnamed: 0_y               0\ndistrict_y                 0\nUnder-Five Population_y    0\nGAM_y                      0\nSAM_y                      0\nGAM Prevalence_y           0\nSAM Prevalence_y           0\nSAM/GAM ratio_y            0\nUnnamed: 0.3               0\nUnnamed: 0.2               0\nUnnamed: 0.1_x.1           0\nUnnamed: 0_x.1             0\ndistrict_x.1               0\nUnder-Five Population      0\nGAM                        0\nSAM                        0\nGAM Prevalence             0\nSAM Prevalence             0\nSAM/GAM ratio              0\nUnnamed: 0.1_y.1           0\nUnnamed: 0_y.1             0\ndistrict_y.1               0\nAverage of centy           0\nAverage of centx           0\nUnnamed: 0.1_x.2           0\nUnnamed: 0_x.2             0\ndistrict_x.2               0\nrainfall                   0\nTotal alarms               0\nmonth                      0\ndistrict                   0\ndistrict_encoded           0\nnext_prevalence            0\ndtype: int64"
     },
     "execution_count": 52,
     "metadata": {},
     "output_type": "execute_result"
    }
   ],
   "source": [
    "df.isna().sum()"
   ],
   "metadata": {
    "collapsed": false
   }
  },
  {
   "cell_type": "code",
   "execution_count": 53,
   "outputs": [
    {
     "data": {
      "text/plain": "      Unnamed: 0  Unnamed: 0.3_x        date  Unnamed: 0.2_x  Unnamed: 0.1_x  \\\n0              0               0  2017-07-01             603             603   \n1              1            2316  2017-07-01             661             661   \n2              2            2910  2017-07-01             641             641   \n3              3            3612  2017-07-01             659             659   \n4              4            1026  2017-07-01             637             637   \n...          ...             ...         ...             ...             ...   \n3966        3966             372  2026-01-01              10              10   \n3967        3967             373  2026-02-01              10              10   \n3968        3968             374  2026-03-01              10              10   \n3969        3969             375  2026-04-01              10              10   \n3970        3970             376  2026-05-01              10              10   \n\n      Unnamed: 0_x   district_x  Under-Five Population_x          GAM_x  \\\n0              603    Cabudwaaq             14666.157000    7626.401640   \n1              661      Qandala             15164.613000    6150.767033   \n2              641  Garbahaarey             18274.995000    7887.487842   \n3              659      Banadir            415454.789000  161739.176773   \n4              637       Doolow             10046.740000    4376.618584   \n...            ...          ...                      ...            ...   \n3966            10      Baraawe             10954.968728    5100.000000   \n3967            10      Baraawe             10954.968728    5100.000000   \n3968            10      Baraawe             10954.968728    5100.000000   \n3969            10      Baraawe             10954.968728    5100.000000   \n3970            10      Baraawe             10954.968728    5100.000000   \n\n             SAM_x  ...  Average of centx  Unnamed: 0.1_x.2  Unnamed: 0_x.2  \\\n0      1754.072377  ...          46.12500              3955            3955   \n1      1025.127839  ...          50.08869              3944            3944   \n2      1187.874675  ...          42.35913              3983            3983   \n3     37542.259279  ...          45.42547              3966            3966   \n4       677.305460  ...          42.14080              3987            3987   \n...            ...  ...               ...               ...             ...   \n3966   1060.000000  ...          43.52054                28              28   \n3967   1060.000000  ...          43.52054                28              28   \n3968   1060.000000  ...          43.52054                28              28   \n3969   1060.000000  ...          43.52054                28              28   \n3970   1060.000000  ...          43.52054                28              28   \n\n      district_x.2  rainfall  Total alarms  month     district  \\\n0        Cabudwaaq      3.30             4      7    Cabudwaaq   \n1          Qandala      0.86             1      7      Qandala   \n2      Garbahaarey      6.70             2      7  Garbahaarey   \n3          Banadir     40.37            14      7      Banadir   \n4           Doolow      0.28             1      7       Doolow   \n...            ...       ...           ...    ...          ...   \n3966       Baraawe      2.57             6      1      Baraawe   \n3967       Baraawe      2.57             6      2      Baraawe   \n3968       Baraawe      2.57             6      3      Baraawe   \n3969       Baraawe      2.57             6      4      Baraawe   \n3970       Baraawe      2.57             6      5      Baraawe   \n\n      district_encoded  next_prevalence  \n0                   22         0.520000  \n1                   58         0.405600  \n2                   39         0.431600  \n3                    8         0.389306  \n4                   35         0.435626  \n...                ...              ...  \n3966                10         0.465542  \n3967                10         0.465542  \n3968                10         0.465542  \n3969                10         0.465542  \n3970                10         0.465542  \n\n[3899 rows x 49 columns]",
      "text/html": "<div>\n<style scoped>\n    .dataframe tbody tr th:only-of-type {\n        vertical-align: middle;\n    }\n\n    .dataframe tbody tr th {\n        vertical-align: top;\n    }\n\n    .dataframe thead th {\n        text-align: right;\n    }\n</style>\n<table border=\"1\" class=\"dataframe\">\n  <thead>\n    <tr style=\"text-align: right;\">\n      <th></th>\n      <th>Unnamed: 0</th>\n      <th>Unnamed: 0.3_x</th>\n      <th>date</th>\n      <th>Unnamed: 0.2_x</th>\n      <th>Unnamed: 0.1_x</th>\n      <th>Unnamed: 0_x</th>\n      <th>district_x</th>\n      <th>Under-Five Population_x</th>\n      <th>GAM_x</th>\n      <th>SAM_x</th>\n      <th>...</th>\n      <th>Average of centx</th>\n      <th>Unnamed: 0.1_x.2</th>\n      <th>Unnamed: 0_x.2</th>\n      <th>district_x.2</th>\n      <th>rainfall</th>\n      <th>Total alarms</th>\n      <th>month</th>\n      <th>district</th>\n      <th>district_encoded</th>\n      <th>next_prevalence</th>\n    </tr>\n  </thead>\n  <tbody>\n    <tr>\n      <th>0</th>\n      <td>0</td>\n      <td>0</td>\n      <td>2017-07-01</td>\n      <td>603</td>\n      <td>603</td>\n      <td>603</td>\n      <td>Cabudwaaq</td>\n      <td>14666.157000</td>\n      <td>7626.401640</td>\n      <td>1754.072377</td>\n      <td>...</td>\n      <td>46.12500</td>\n      <td>3955</td>\n      <td>3955</td>\n      <td>Cabudwaaq</td>\n      <td>3.30</td>\n      <td>4</td>\n      <td>7</td>\n      <td>Cabudwaaq</td>\n      <td>22</td>\n      <td>0.520000</td>\n    </tr>\n    <tr>\n      <th>1</th>\n      <td>1</td>\n      <td>2316</td>\n      <td>2017-07-01</td>\n      <td>661</td>\n      <td>661</td>\n      <td>661</td>\n      <td>Qandala</td>\n      <td>15164.613000</td>\n      <td>6150.767033</td>\n      <td>1025.127839</td>\n      <td>...</td>\n      <td>50.08869</td>\n      <td>3944</td>\n      <td>3944</td>\n      <td>Qandala</td>\n      <td>0.86</td>\n      <td>1</td>\n      <td>7</td>\n      <td>Qandala</td>\n      <td>58</td>\n      <td>0.405600</td>\n    </tr>\n    <tr>\n      <th>2</th>\n      <td>2</td>\n      <td>2910</td>\n      <td>2017-07-01</td>\n      <td>641</td>\n      <td>641</td>\n      <td>641</td>\n      <td>Garbahaarey</td>\n      <td>18274.995000</td>\n      <td>7887.487842</td>\n      <td>1187.874675</td>\n      <td>...</td>\n      <td>42.35913</td>\n      <td>3983</td>\n      <td>3983</td>\n      <td>Garbahaarey</td>\n      <td>6.70</td>\n      <td>2</td>\n      <td>7</td>\n      <td>Garbahaarey</td>\n      <td>39</td>\n      <td>0.431600</td>\n    </tr>\n    <tr>\n      <th>3</th>\n      <td>3</td>\n      <td>3612</td>\n      <td>2017-07-01</td>\n      <td>659</td>\n      <td>659</td>\n      <td>659</td>\n      <td>Banadir</td>\n      <td>415454.789000</td>\n      <td>161739.176773</td>\n      <td>37542.259279</td>\n      <td>...</td>\n      <td>45.42547</td>\n      <td>3966</td>\n      <td>3966</td>\n      <td>Banadir</td>\n      <td>40.37</td>\n      <td>14</td>\n      <td>7</td>\n      <td>Banadir</td>\n      <td>8</td>\n      <td>0.389306</td>\n    </tr>\n    <tr>\n      <th>4</th>\n      <td>4</td>\n      <td>1026</td>\n      <td>2017-07-01</td>\n      <td>637</td>\n      <td>637</td>\n      <td>637</td>\n      <td>Doolow</td>\n      <td>10046.740000</td>\n      <td>4376.618584</td>\n      <td>677.305460</td>\n      <td>...</td>\n      <td>42.14080</td>\n      <td>3987</td>\n      <td>3987</td>\n      <td>Doolow</td>\n      <td>0.28</td>\n      <td>1</td>\n      <td>7</td>\n      <td>Doolow</td>\n      <td>35</td>\n      <td>0.435626</td>\n    </tr>\n    <tr>\n      <th>...</th>\n      <td>...</td>\n      <td>...</td>\n      <td>...</td>\n      <td>...</td>\n      <td>...</td>\n      <td>...</td>\n      <td>...</td>\n      <td>...</td>\n      <td>...</td>\n      <td>...</td>\n      <td>...</td>\n      <td>...</td>\n      <td>...</td>\n      <td>...</td>\n      <td>...</td>\n      <td>...</td>\n      <td>...</td>\n      <td>...</td>\n      <td>...</td>\n      <td>...</td>\n      <td>...</td>\n    </tr>\n    <tr>\n      <th>3966</th>\n      <td>3966</td>\n      <td>372</td>\n      <td>2026-01-01</td>\n      <td>10</td>\n      <td>10</td>\n      <td>10</td>\n      <td>Baraawe</td>\n      <td>10954.968728</td>\n      <td>5100.000000</td>\n      <td>1060.000000</td>\n      <td>...</td>\n      <td>43.52054</td>\n      <td>28</td>\n      <td>28</td>\n      <td>Baraawe</td>\n      <td>2.57</td>\n      <td>6</td>\n      <td>1</td>\n      <td>Baraawe</td>\n      <td>10</td>\n      <td>0.465542</td>\n    </tr>\n    <tr>\n      <th>3967</th>\n      <td>3967</td>\n      <td>373</td>\n      <td>2026-02-01</td>\n      <td>10</td>\n      <td>10</td>\n      <td>10</td>\n      <td>Baraawe</td>\n      <td>10954.968728</td>\n      <td>5100.000000</td>\n      <td>1060.000000</td>\n      <td>...</td>\n      <td>43.52054</td>\n      <td>28</td>\n      <td>28</td>\n      <td>Baraawe</td>\n      <td>2.57</td>\n      <td>6</td>\n      <td>2</td>\n      <td>Baraawe</td>\n      <td>10</td>\n      <td>0.465542</td>\n    </tr>\n    <tr>\n      <th>3968</th>\n      <td>3968</td>\n      <td>374</td>\n      <td>2026-03-01</td>\n      <td>10</td>\n      <td>10</td>\n      <td>10</td>\n      <td>Baraawe</td>\n      <td>10954.968728</td>\n      <td>5100.000000</td>\n      <td>1060.000000</td>\n      <td>...</td>\n      <td>43.52054</td>\n      <td>28</td>\n      <td>28</td>\n      <td>Baraawe</td>\n      <td>2.57</td>\n      <td>6</td>\n      <td>3</td>\n      <td>Baraawe</td>\n      <td>10</td>\n      <td>0.465542</td>\n    </tr>\n    <tr>\n      <th>3969</th>\n      <td>3969</td>\n      <td>375</td>\n      <td>2026-04-01</td>\n      <td>10</td>\n      <td>10</td>\n      <td>10</td>\n      <td>Baraawe</td>\n      <td>10954.968728</td>\n      <td>5100.000000</td>\n      <td>1060.000000</td>\n      <td>...</td>\n      <td>43.52054</td>\n      <td>28</td>\n      <td>28</td>\n      <td>Baraawe</td>\n      <td>2.57</td>\n      <td>6</td>\n      <td>4</td>\n      <td>Baraawe</td>\n      <td>10</td>\n      <td>0.465542</td>\n    </tr>\n    <tr>\n      <th>3970</th>\n      <td>3970</td>\n      <td>376</td>\n      <td>2026-05-01</td>\n      <td>10</td>\n      <td>10</td>\n      <td>10</td>\n      <td>Baraawe</td>\n      <td>10954.968728</td>\n      <td>5100.000000</td>\n      <td>1060.000000</td>\n      <td>...</td>\n      <td>43.52054</td>\n      <td>28</td>\n      <td>28</td>\n      <td>Baraawe</td>\n      <td>2.57</td>\n      <td>6</td>\n      <td>5</td>\n      <td>Baraawe</td>\n      <td>10</td>\n      <td>0.465542</td>\n    </tr>\n  </tbody>\n</table>\n<p>3899 rows × 49 columns</p>\n</div>"
     },
     "execution_count": 53,
     "metadata": {},
     "output_type": "execute_result"
    }
   ],
   "source": [
    "df"
   ],
   "metadata": {
    "collapsed": false
   }
  },
  {
   "cell_type": "markdown",
   "source": [
    "## RF-CV"
   ],
   "metadata": {
    "collapsed": false
   }
  },
  {
   "cell_type": "code",
   "execution_count": 54,
   "outputs": [],
   "source": [
    "'''------------SECTION RANDOM FOREST CROSS VALIDATION--------------'''\n",
    "# WARNING: this process can take some time, since there are a lot of hyperparameters to investigate. The search space can be manually reduced to speed up the process.\n",
    "\n",
    "# Create empty list to store model scores\n",
    "parameter_scores = []\n",
    "\n",
    "# Define target and explanatory variables\n",
    "X = df.select_dtypes(exclude=[\"category\",\"object\"])\n",
    "y = df['next_prevalence'].values"
   ],
   "metadata": {
    "collapsed": false
   }
  },
  {
   "cell_type": "code",
   "execution_count": 55,
   "outputs": [
    {
     "data": {
      "text/plain": "   Unnamed: 0  Unnamed: 0.3_x  Unnamed: 0.2_x  Unnamed: 0.1_x  Unnamed: 0_x  \\\n0           0               0             603             603           603   \n1           1            2316             661             661           661   \n2           2            2910             641             641           641   \n3           3            3612             659             659           659   \n4           4            1026             637             637           637   \n\n   Under-Five Population_x          GAM_x         SAM_x  GAM Prevalence_x  \\\n0                14666.157    7626.401640   1754.072377          0.520000   \n1                15164.613    6150.767033   1025.127839          0.405600   \n2                18274.995    7887.487842   1187.874675          0.431600   \n3               415454.789  161739.176773  37542.259279          0.389306   \n4                10046.740    4376.618584    677.305460          0.435626   \n\n   SAM Prevalence_x  ...  Unnamed: 0_y.1  Average of centy  Average of centx  \\\n0          0.119600  ...            1095          5.826085          46.12500   \n1          0.067600  ...            2859         11.060160          50.08869   \n2          0.065000  ...            1928          3.205999          42.35913   \n3          0.090364  ...             360          2.110552          45.42547   \n4          0.067415  ...            1732          4.002533          42.14080   \n\n   Unnamed: 0.1_x.2  Unnamed: 0_x.2  rainfall  Total alarms  month  \\\n0              3955            3955      3.30             4      7   \n1              3944            3944      0.86             1      7   \n2              3983            3983      6.70             2      7   \n3              3966            3966     40.37            14      7   \n4              3987            3987      0.28             1      7   \n\n   district_encoded  next_prevalence  \n0                22         0.520000  \n1                58         0.405600  \n2                39         0.431600  \n3                 8         0.389306  \n4                35         0.435626  \n\n[5 rows x 42 columns]",
      "text/html": "<div>\n<style scoped>\n    .dataframe tbody tr th:only-of-type {\n        vertical-align: middle;\n    }\n\n    .dataframe tbody tr th {\n        vertical-align: top;\n    }\n\n    .dataframe thead th {\n        text-align: right;\n    }\n</style>\n<table border=\"1\" class=\"dataframe\">\n  <thead>\n    <tr style=\"text-align: right;\">\n      <th></th>\n      <th>Unnamed: 0</th>\n      <th>Unnamed: 0.3_x</th>\n      <th>Unnamed: 0.2_x</th>\n      <th>Unnamed: 0.1_x</th>\n      <th>Unnamed: 0_x</th>\n      <th>Under-Five Population_x</th>\n      <th>GAM_x</th>\n      <th>SAM_x</th>\n      <th>GAM Prevalence_x</th>\n      <th>SAM Prevalence_x</th>\n      <th>...</th>\n      <th>Unnamed: 0_y.1</th>\n      <th>Average of centy</th>\n      <th>Average of centx</th>\n      <th>Unnamed: 0.1_x.2</th>\n      <th>Unnamed: 0_x.2</th>\n      <th>rainfall</th>\n      <th>Total alarms</th>\n      <th>month</th>\n      <th>district_encoded</th>\n      <th>next_prevalence</th>\n    </tr>\n  </thead>\n  <tbody>\n    <tr>\n      <th>0</th>\n      <td>0</td>\n      <td>0</td>\n      <td>603</td>\n      <td>603</td>\n      <td>603</td>\n      <td>14666.157</td>\n      <td>7626.401640</td>\n      <td>1754.072377</td>\n      <td>0.520000</td>\n      <td>0.119600</td>\n      <td>...</td>\n      <td>1095</td>\n      <td>5.826085</td>\n      <td>46.12500</td>\n      <td>3955</td>\n      <td>3955</td>\n      <td>3.30</td>\n      <td>4</td>\n      <td>7</td>\n      <td>22</td>\n      <td>0.520000</td>\n    </tr>\n    <tr>\n      <th>1</th>\n      <td>1</td>\n      <td>2316</td>\n      <td>661</td>\n      <td>661</td>\n      <td>661</td>\n      <td>15164.613</td>\n      <td>6150.767033</td>\n      <td>1025.127839</td>\n      <td>0.405600</td>\n      <td>0.067600</td>\n      <td>...</td>\n      <td>2859</td>\n      <td>11.060160</td>\n      <td>50.08869</td>\n      <td>3944</td>\n      <td>3944</td>\n      <td>0.86</td>\n      <td>1</td>\n      <td>7</td>\n      <td>58</td>\n      <td>0.405600</td>\n    </tr>\n    <tr>\n      <th>2</th>\n      <td>2</td>\n      <td>2910</td>\n      <td>641</td>\n      <td>641</td>\n      <td>641</td>\n      <td>18274.995</td>\n      <td>7887.487842</td>\n      <td>1187.874675</td>\n      <td>0.431600</td>\n      <td>0.065000</td>\n      <td>...</td>\n      <td>1928</td>\n      <td>3.205999</td>\n      <td>42.35913</td>\n      <td>3983</td>\n      <td>3983</td>\n      <td>6.70</td>\n      <td>2</td>\n      <td>7</td>\n      <td>39</td>\n      <td>0.431600</td>\n    </tr>\n    <tr>\n      <th>3</th>\n      <td>3</td>\n      <td>3612</td>\n      <td>659</td>\n      <td>659</td>\n      <td>659</td>\n      <td>415454.789</td>\n      <td>161739.176773</td>\n      <td>37542.259279</td>\n      <td>0.389306</td>\n      <td>0.090364</td>\n      <td>...</td>\n      <td>360</td>\n      <td>2.110552</td>\n      <td>45.42547</td>\n      <td>3966</td>\n      <td>3966</td>\n      <td>40.37</td>\n      <td>14</td>\n      <td>7</td>\n      <td>8</td>\n      <td>0.389306</td>\n    </tr>\n    <tr>\n      <th>4</th>\n      <td>4</td>\n      <td>1026</td>\n      <td>637</td>\n      <td>637</td>\n      <td>637</td>\n      <td>10046.740</td>\n      <td>4376.618584</td>\n      <td>677.305460</td>\n      <td>0.435626</td>\n      <td>0.067415</td>\n      <td>...</td>\n      <td>1732</td>\n      <td>4.002533</td>\n      <td>42.14080</td>\n      <td>3987</td>\n      <td>3987</td>\n      <td>0.28</td>\n      <td>1</td>\n      <td>7</td>\n      <td>35</td>\n      <td>0.435626</td>\n    </tr>\n  </tbody>\n</table>\n<p>5 rows × 42 columns</p>\n</div>"
     },
     "execution_count": 55,
     "metadata": {},
     "output_type": "execute_result"
    }
   ],
   "source": [
    "X.head()"
   ],
   "metadata": {
    "collapsed": false
   }
  },
  {
   "cell_type": "code",
   "execution_count": 56,
   "outputs": [
    {
     "data": {
      "text/plain": "array([0.52      , 0.4056    , 0.4316    , ..., 0.46554218, 0.46554218,\n       0.46554218])"
     },
     "execution_count": 56,
     "metadata": {},
     "output_type": "execute_result"
    }
   ],
   "source": [
    "y"
   ],
   "metadata": {
    "collapsed": false
   }
  },
  {
   "cell_type": "code",
   "execution_count": null,
   "outputs": [],
   "source": [
    "\n",
    "\n",
    "for num_trees in range(num_trees_min, num_trees_max):\n",
    "\n",
    "    for depth in range(depth_min, depth_max):\n",
    "\n",
    "        # Investigate every subset of explanatory variables\n",
    "        for features in subsets(X.columns):\n",
    "            # First CV split. The 99 refers to the first 3 observations for the 33 districts in the data.\n",
    "            Xtrain = X[:99][features].copy().values\n",
    "            ytrain = y[:99]\n",
    "            Xtest = X[99:132][features].copy().values\n",
    "            ytest = y[99:132]\n",
    "\n",
    "            # Create a RandomForestRegressor with the selected hyperparameters and random state 0.\n",
    "            clf = RandomForestRegressor(n_estimators=num_trees, max_depth=depth, random_state=0, n_jobs=-1)\n",
    "\n",
    "            # Fit to the training data\n",
    "            clf.fit(Xtrain, ytrain)\n",
    "\n",
    "            # Make a prediction on the test data\n",
    "            predictions = clf.predict(Xtest)\n",
    "\n",
    "            # Calculate mean absolute error\n",
    "            MAE1 = mean_absolute_error(ytest, predictions)\n",
    "\n",
    "            # Second CV split. The 132 refers to the first 4 observations for the 33 districts in the data.\n",
    "            Xtrain = X[:132][features].copy().values\n",
    "            ytrain = y[:132]\n",
    "            Xtest = X[132:165][features].copy().values\n",
    "            ytest = y[132:165]\n",
    "\n",
    "            # Create a RandomForestRegressor with the selected hyperparameters and random state 0.\n",
    "            clf = RandomForestRegressor(n_estimators=num_trees, max_depth=depth, random_state=0, n_jobs=-1)\n",
    "\n",
    "            # Fit to the training data\n",
    "            clf.fit(Xtrain, ytrain)\n",
    "\n",
    "            # Make a prediction on the test data\n",
    "            predictions = clf.predict(Xtest)\n",
    "\n",
    "            # Calculate mean absolute error\n",
    "            MAE2 = mean_absolute_error(ytest, predictions)\n",
    "\n",
    "            # Calculate the mean MAE over the two folds\n",
    "            mean_MAE = (MAE1 + MAE2) / 2\n",
    "\n",
    "            # Store the mean MAE together with the used hyperparameters in list\n",
    "            parameter_scores.append((mean_MAE, num_trees, depth, features))\n",
    "\n",
    "# Sort the models based on score and retrieve the hyperparameters of the best model\n",
    "parameter_scores.sort(key=lambda x: x[0])\n",
    "best_model_score = parameter_scores[0][0]\n",
    "best_model_trees = parameter_scores[0][1]\n",
    "best_model_depth = parameter_scores[0][2]\n",
    "best_model_columns = list(parameter_scores[0][3])\n",
    "\n",
    "'''------------SECTION FINAL EVALUATION--------------'''\n",
    "X = df[best_model_columns].values\n",
    "y = df['next_prevalence'].values\n",
    "\n",
    "# If there is only one explanatory variable, the values need to be reshaped for the model\n",
    "if len(best_model_columns) == 1:\n",
    "    X = X.reshape(-1, 1)\n",
    "\n",
    "# Peform evaluation on full data\n",
    "Xtrain = X[:165]\n",
    "ytrain = y[:165]\n",
    "Xtest = X[165:]\n",
    "ytest = y[165:]\n",
    "\n",
    "clf = RandomForestRegressor(n_estimators=best_model_trees, max_depth=best_model_depth, random_state=0, n_jobs=-1)\n",
    "clf.fit(Xtrain, ytrain)\n",
    "predictions = clf.predict(Xtest)\n",
    "\n",
    "# Calculate MAE\n",
    "MAE = mean_absolute_error(ytest, predictions)\n",
    "\n",
    "# Generate boolean values for increase or decrease in prevalence. 0 if next prevalence is smaller than current prevalence, 1 otherwise.\n",
    "increase = [0 if x < y else 1 for x in df.iloc[165:]['next_prevalence'] for y in df.iloc[165:]['prevalence']]\n",
    "predicted_increase = [0 if x < y else 1 for x in predictions for y in df.iloc[165:]['prevalence']]\n",
    "\n",
    "# Calculate accuracy of predicted boolean increase/decrease\n",
    "acc = accuracy_score(increase, predicted_increase)\n",
    "\n",
    "# Print model parameters\n",
    "print('no. of trees: ' + str(best_model_trees) + '\\nmax_depth: ' + str(best_model_depth) + '\\ncolumns: ' + str(\n",
    "    best_model_columns))\n",
    "\n",
    "# Print model scores\n",
    "print(MAE, acc)"
   ],
   "metadata": {
    "collapsed": false,
    "pycharm": {
     "is_executing": true
    }
   }
  },
  {
   "cell_type": "markdown",
   "source": [
    "# Save model"
   ],
   "metadata": {
    "collapsed": false
   }
  },
  {
   "cell_type": "code",
   "execution_count": null,
   "outputs": [],
   "source": [
    "filename = 'baseline_monthly_model.joblib'\n",
    "joblib.dump(clf, filename)"
   ],
   "metadata": {
    "collapsed": false,
    "pycharm": {
     "is_executing": true
    }
   }
  },
  {
   "cell_type": "markdown",
   "source": [
    "# Metrics"
   ],
   "metadata": {
    "collapsed": false
   }
  },
  {
   "cell_type": "code",
   "execution_count": null,
   "outputs": [],
   "source": [
    "from helper_metrics import make_confusion_matrix, roc_curve_gen, calculate_results"
   ],
   "metadata": {
    "collapsed": false,
    "pycharm": {
     "is_executing": true
    }
   }
  },
  {
   "cell_type": "code",
   "execution_count": null,
   "outputs": [],
   "source": [
    "from helper_metrics import make_confusion_matrix"
   ],
   "metadata": {
    "collapsed": false,
    "pycharm": {
     "is_executing": true
    }
   }
  },
  {
   "cell_type": "code",
   "execution_count": null,
   "outputs": [],
   "source": [
    "make_confusion_matrix(increase, predicted_increase,figsize=(6,6),classes=[\"Increase\", \"Decrease\"],cmap=plt.cm.Greens)"
   ],
   "metadata": {
    "collapsed": false,
    "pycharm": {
     "is_executing": true
    }
   }
  },
  {
   "cell_type": "code",
   "execution_count": null,
   "outputs": [],
   "source": [
    "roc_curve_gen(increase, predicted_increase)"
   ],
   "metadata": {
    "collapsed": false,
    "pycharm": {
     "is_executing": true
    }
   }
  },
  {
   "cell_type": "code",
   "execution_count": null,
   "outputs": [],
   "source": [
    "calculate_results(increase, predicted_increase, average=\"weighted\")"
   ],
   "metadata": {
    "collapsed": false,
    "pycharm": {
     "is_executing": true
    }
   }
  }
 ],
 "metadata": {
  "kernelspec": {
   "display_name": "Python 3",
   "language": "python",
   "name": "python3"
  },
  "language_info": {
   "codemirror_mode": {
    "name": "ipython",
    "version": 2
   },
   "file_extension": ".py",
   "mimetype": "text/x-python",
   "name": "python",
   "nbconvert_exporter": "python",
   "pygments_lexer": "ipython2",
   "version": "2.7.6"
  }
 },
 "nbformat": 4,
 "nbformat_minor": 0
}
