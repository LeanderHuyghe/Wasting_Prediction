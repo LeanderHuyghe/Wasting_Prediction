{
 "cells": [
  {
   "cell_type": "code",
   "execution_count": 1,
   "metadata": {},
   "outputs": [],
   "source": [
    "import pandas as pd\n",
    "import numpy as np\n",
    "from datetime import timedelta\n",
    "import datetime"
   ]
  },
  {
   "cell_type": "code",
   "execution_count": 2,
   "metadata": {},
   "outputs": [],
   "source": [
    "your_datapath = 'data/'\n",
    "\n",
    "df_admissions = pd.read_csv(your_datapath + 'admissions.csv', parse_dates=['date'])\n",
    "df_FSNAU = pd.read_csv(your_datapath + 'FSNAU_riskfactors.csv', parse_dates=['date'])\n",
    "df_ipc = pd.read_csv(your_datapath + 'ipc.csv', parse_dates=['date'])\n",
    "df_ipc2 = pd.read_csv(your_datapath + 'ipc2.csv', parse_dates=['date'])\n",
    "df_locations = pd.read_csv(your_datapath + 'locations.csv', parse_dates=['date'])\n",
    "df_prevalence = pd.read_csv(your_datapath + 'prevalence_estimates.csv', parse_dates=['date'])"
   ]
  },
  {
   "cell_type": "code",
   "execution_count": 3,
   "metadata": {},
   "outputs": [],
   "source": [
    "mon_prevalence = []\n",
    "\n",
    "for dstrict in set(df_prevalence['district']):\n",
    "    df2 = df_prevalence[df_prevalence['district']==dstrict].copy()\n",
    "    df2['date'] = pd.to_datetime(df2['date'], format='%Y-%m-%d')\n",
    "    df2.sort_values('date', inplace=True)\n",
    "    \n",
    "    start= df2.reset_index().date.astype('datetime64')[0] - datetime.timedelta(days=1)\n",
    "    df3 = (pd.date_range(start,periods= len(df2.date)*6, freq='M') + timedelta(days=1)).to_frame()\n",
    "    \n",
    "    df = pd.merge_asof(left=df3.rename(columns={0: 'date'}), right=df2, direction='backward', on='date')\n",
    "    mon_prevalence.append(df)\n",
    "\n",
    "mon_prevalence = pd.concat(mon_prevalence, ignore_index=True)"
   ]
  },
  {
   "cell_type": "code",
   "execution_count": 4,
   "metadata": {},
   "outputs": [],
   "source": [
    "mon_ipc = []\n",
    "\n",
    "for dstrict in set(df_ipc['district']):\n",
    "    df2 = df_prevalence[df_prevalence['district']==dstrict].copy()\n",
    "    df2['date'] = pd.to_datetime(df2['date'], format='%Y-%m-%d')\n",
    "    df2.sort_values('date', inplace=True)\n",
    "    \n",
    "    start= df2.reset_index().date.astype('datetime64')[0] - datetime.timedelta(days=1)\n",
    "    df3 = (pd.date_range(start,periods= len(df2.date)*6, freq='M') + timedelta(days=1)).to_frame()\n",
    "    \n",
    "    df = pd.merge_asof(left=df3.rename(columns={0: 'date'}), right=df2, direction='backward', on='date')\n",
    "    mon_ipc.append(df)\n",
    "\n",
    "mon_ipc = pd.concat(mon_ipc, ignore_index=True)"
   ]
  },
  {
   "cell_type": "code",
   "execution_count": 5,
   "metadata": {},
   "outputs": [],
   "source": [
    "mon_ipc2 = []\n",
    "\n",
    "for dstrict in set(df_ipc2['district']):\n",
    "    df2 = df_prevalence[df_prevalence['district']==dstrict].copy()\n",
    "    df2['date'] = pd.to_datetime(df2['date'], format='%Y-%m-%d')\n",
    "    df2.sort_values('date', inplace=True)\n",
    "    \n",
    "    start= df2.reset_index().date.astype('datetime64')[0] - datetime.timedelta(days=1)\n",
    "    df3 = (pd.date_range(start,periods= len(df2.date)*6, freq='M') + timedelta(days=1)).to_frame()\n",
    "    \n",
    "    df = pd.merge_asof(left=df3.rename(columns={0: 'date'}), right=df2, direction='backward', on='date')\n",
    "    mon_ipc2.append(df)\n",
    "\n",
    "mon_ipc2 = pd.concat(mon_ipc2, ignore_index=True)"
   ]
  },
  {
   "cell_type": "code",
   "execution_count": 6,
   "metadata": {},
   "outputs": [],
   "source": [
    "mon_prevalence.to_csv('data/mon_ipc2.csv')\n",
    "mon_ipc.to_csv('data/mon_ipc.csv')\n",
    "mon_ipc2.to_csv('data/mon_prevalence_estimates.csv')"
   ]
  }
 ],
 "metadata": {
  "kernelspec": {
   "display_name": "Python 3",
   "language": "python",
   "name": "python3"
  },
  "language_info": {
   "codemirror_mode": {
    "name": "ipython",
    "version": 3
   },
   "file_extension": ".py",
   "mimetype": "text/x-python",
   "name": "python",
   "nbconvert_exporter": "python",
   "pygments_lexer": "ipython3",
   "version": "3.7.6"
  }
 },
 "nbformat": 4,
 "nbformat_minor": 4
}
