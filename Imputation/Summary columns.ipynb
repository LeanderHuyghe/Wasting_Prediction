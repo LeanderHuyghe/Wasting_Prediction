{
 "cells": [
  {
   "cell_type": "code",
   "execution_count": 1,
   "metadata": {},
   "outputs": [],
   "source": [
    "import pandas as pd\n",
    "import numpy as np\n",
    "from datetime import timedelta\n",
    "import datetime\n",
    "\n",
    "\n",
    "your_datapath = 'data/'"
   ]
  },
  {
   "cell_type": "code",
   "execution_count": 2,
   "metadata": {},
   "outputs": [],
   "source": [
    "df = pd.read_csv(your_datapath + 'semiyearly_chosen_columns.csv', parse_dates=['date'])\n",
    "df = df.drop('Unnamed: 0', axis=1)"
   ]
  },
  {
   "cell_type": "code",
   "execution_count": 3,
   "metadata": {},
   "outputs": [
    {
     "data": {
      "text/plain": [
       "Index(['date', 'district', 'total population', 'Under-Five Population', 'GAM',\n",
       "       'MAM', 'SAM', 'GAM Prevalence', 'SAM Prevalence', 'phase3plus_perc_x',\n",
       "       'rainfall', 'ndvi_score', 'Price of water', 'Total alarms',\n",
       "       'n_conflict_total', 'Average of centy', 'Average of centx',\n",
       "       'prevalence_6lag', 'next_prevalence', 'month', 'increase',\n",
       "       'increase_numeric', 'district_encoded'],\n",
       "      dtype='object')"
      ]
     },
     "execution_count": 3,
     "metadata": {},
     "output_type": "execute_result"
    }
   ],
   "source": [
    "# column names\n",
    "\n",
    "df.columns"
   ]
  },
  {
   "cell_type": "code",
   "execution_count": 4,
   "metadata": {},
   "outputs": [
    {
     "data": {
      "text/plain": [
       "73"
      ]
     },
     "execution_count": 4,
     "metadata": {},
     "output_type": "execute_result"
    }
   ],
   "source": [
    "# Unique districts\n",
    "\n",
    "len(df.district.unique())"
   ]
  },
  {
   "cell_type": "code",
   "execution_count": 5,
   "metadata": {},
   "outputs": [
    {
     "data": {
      "text/plain": [
       "date                       0\n",
       "district                   0\n",
       "total population          73\n",
       "Under-Five Population      0\n",
       "GAM                        0\n",
       "MAM                      145\n",
       "SAM                        0\n",
       "GAM Prevalence             0\n",
       "SAM Prevalence             0\n",
       "phase3plus_perc_x          2\n",
       "rainfall                   0\n",
       "ndvi_score                 7\n",
       "Price of water           286\n",
       "Total alarms               0\n",
       "n_conflict_total          75\n",
       "Average of centy           0\n",
       "Average of centx           0\n",
       "prevalence_6lag           73\n",
       "next_prevalence           73\n",
       "month                      0\n",
       "increase                  73\n",
       "increase_numeric          73\n",
       "district_encoded           0\n",
       "dtype: int64"
      ]
     },
     "execution_count": 5,
     "metadata": {},
     "output_type": "execute_result"
    }
   ],
   "source": [
    "# Missing values per column\n",
    "\n",
    "len(df) - df.count()"
   ]
  },
  {
   "cell_type": "code",
   "execution_count": 6,
   "metadata": {},
   "outputs": [
    {
     "data": {
      "text/plain": [
       "array(['2021-07-01T00:00:00.000000000'], dtype='datetime64[ns]')"
      ]
     },
     "execution_count": 6,
     "metadata": {},
     "output_type": "execute_result"
    }
   ],
   "source": [
    "# Missing date for the total population\n",
    "\n",
    "df2 = df[['date', 'district','total population']]\n",
    "df2 = df2[df2.isnull().any(axis=1)]\n",
    "df2.date.unique()"
   ]
  },
  {
   "cell_type": "code",
   "execution_count": 18,
   "metadata": {},
   "outputs": [
    {
     "name": "stdout",
     "output_type": "stream",
     "text": [
      "['2017-07-01T00:00:00.000000000' '2018-01-01T00:00:00.000000000'\n",
      " '2018-07-01T00:00:00.000000000' '2019-01-01T00:00:00.000000000'\n",
      " '2019-07-01T00:00:00.000000000' '2020-01-01T00:00:00.000000000'\n",
      " '2020-07-01T00:00:00.000000000']\n",
      "{'Banadir': 7}\n"
     ]
    }
   ],
   "source": [
    "# Missing date for the ndvi_score \n",
    "\n",
    "df2 = df[['date', 'district','ndvi_score']]\n",
    "df2 = df2[df2.isnull().any(axis=1)]\n",
    "df2.date.unique()\n",
    "print(df2.date.unique())\n",
    "\n",
    "di_dates = {}\n",
    "di_datesc = {}\n",
    "for i in df2.index:\n",
    "    if df2.district[i] in di_dates:\n",
    "        di_dates[df2.district[i]] += [df2.date[i]]\n",
    "        di_datesc[df2.district[i]] += 1\n",
    "    else:\n",
    "        di_dates[df2.district[i]] = [df2.date[i]]\n",
    "        di_datesc[df2.district[i]] = 1 \n",
    "\n",
    "print(di_datesc)"
   ]
  },
  {
   "cell_type": "code",
   "execution_count": 19,
   "metadata": {},
   "outputs": [
    {
     "name": "stdout",
     "output_type": "stream",
     "text": [
      "['2017-07-01T00:00:00.000000000' '2018-01-01T00:00:00.000000000']\n",
      "{'Rab Dhuure': 2}\n"
     ]
    }
   ],
   "source": [
    "# Missing date for the phase3plus_perc_x \n",
    "\n",
    "df2 = df[['date', 'district','phase3plus_perc_x']]\n",
    "df2 = df2[df2.isnull().any(axis=1)]\n",
    "df2.date.unique()\n",
    "print(df2.date.unique())\n",
    "\n",
    "di_dates = {}\n",
    "di_datesc = {}\n",
    "for i in df2.index:\n",
    "    if df2.district[i] in di_dates:\n",
    "        di_dates[df2.district[i]] += [df2.date[i]]\n",
    "        di_datesc[df2.district[i]] += 1\n",
    "    else:\n",
    "        di_dates[df2.district[i]] = [df2.date[i]]\n",
    "        di_datesc[df2.district[i]] = 1 \n",
    "\n",
    "print(di_datesc)"
   ]
  },
  {
   "cell_type": "code",
   "execution_count": 11,
   "metadata": {},
   "outputs": [
    {
     "name": "stdout",
     "output_type": "stream",
     "text": [
      "['2020-01-01T00:00:00.000000000' '2021-07-01T00:00:00.000000000']\n",
      "{Timestamp('2020-01-01 00:00:00'): 1, Timestamp('2021-07-01 00:00:00'): 72}\n",
      "{Timestamp('2020-01-01 00:00:00'): ['Laasqoray'], Timestamp('2021-07-01 00:00:00'): ['Baidoa', 'Adan Yabaal', 'Ceel Waaq', 'Wanla Weyn', 'Zeylac', 'Galdogob', 'Xarardheere', 'Diinsoor', 'Gaalkacyo', 'Baardheere', 'Afmadow', 'Badhaadhe', 'Xudur', 'Ceerigaabo', 'Garbahaarey', 'Doolow', 'Garoowe', 'Dhuusamarreeb', 'Xudun', 'Gebiley', 'Afgooye', 'Burtinle', 'Hargeysa', 'Berbera', 'Qansax Dheere', 'Jowhar', 'Cadaado', 'Borama', 'Qandala', 'Kismaayo', 'Cabudwaaq', 'Bossaso', 'Owdweyne', 'Cadale', 'Kurtunwaarey', 'Buur Hakaba', 'Marka', 'Bulo Burto', 'Laas Caanood', 'Eyl', 'Luuq', 'Buuhoodle', 'Burco', 'Lughaye', \"Bu'aale\", 'Qardho', 'Jilib', 'Belet Xaawo', 'Ceel Dheer', 'Waajid', 'Balcad', 'Hobyo', 'Tayeeglow', 'Ceel Buur', 'Banadir', 'Taleex', 'Iskushuban', 'Ceel Barde', 'Bandarbeyla', 'Sheikh', 'Ceel Afweyn', 'Saakow', 'Jamaame', 'Baraawe', 'Caynabo', 'Belet Weyne', 'Rab Dhuure', 'Jariiban', 'Caluula', 'Qoryooley', 'Baki', 'Jalalaqsi']}\n"
     ]
    }
   ],
   "source": [
    "# Missing date for the next_prevalence\n",
    "\n",
    "df2 = df[['date', 'district','next_prevalence']]\n",
    "df2 = df2[df2.isnull().any(axis=1)]\n",
    "print(df2.date.unique())\n",
    "\n",
    "di_dist = {}\n",
    "di_count = {}\n",
    "for i in df2.index:\n",
    "    if df2.date[i] in di_dist:\n",
    "        di_dist[df2.date[i]] += [df2.district[i]]\n",
    "        di_count[df2.date[i]] += 1\n",
    "    else:\n",
    "        di_dist[df2.date[i]] = [df2.district[i]]\n",
    "        di_count[df2.date[i]] = 1\n",
    "\n",
    "print(di_count)        \n",
    "print(di_dist)"
   ]
  },
  {
   "cell_type": "code",
   "execution_count": 17,
   "metadata": {},
   "outputs": [
    {
     "name": "stdout",
     "output_type": "stream",
     "text": [
      "['2017-07-01T00:00:00.000000000' '2018-01-01T00:00:00.000000000'\n",
      " '2018-07-01T00:00:00.000000000' '2019-01-01T00:00:00.000000000'\n",
      " '2019-07-01T00:00:00.000000000' '2020-01-01T00:00:00.000000000'\n",
      " '2020-07-01T00:00:00.000000000' '2021-01-01T00:00:00.000000000'\n",
      " '2021-07-01T00:00:00.000000000']\n",
      "{'Adan Yabaal': 3, 'Burtinle': 5, 'Saakow': 3, 'Taleex': 1, 'Bandarbeyla': 5, 'Jariiban': 5, 'Baki': 5, 'Xudun': 7, 'Owdweyne': 3, \"Bu'aale\": 1, 'Zeylac': 1, 'Lughaye': 4, 'Ceel Dheer': 4, 'Eyl': 4, 'Sheikh': 5, 'Cadale': 1, 'Ceel Buur': 1, 'Caluula': 2, 'Kurtunwaarey': 2, 'Laasqoray': 1, 'Caynabo': 1, 'Xarardheere': 1, 'Gebiley': 2, 'Galdogob': 1, 'Rab Dhuure': 1, 'Qandala': 1, 'Ceel Barde': 1, 'Qardho': 1, 'Berbera': 1, 'Borama': 1, 'Ceel Afweyn': 1}\n"
     ]
    }
   ],
   "source": [
    "# Missing date for the n_conflict_total\n",
    "\n",
    "df2 = df[['date', 'district','n_conflict_total']]\n",
    "df2 = df2[df2.isnull().any(axis=1)]\n",
    "df2.date.unique()\n",
    "print(df2.date.unique())\n",
    "\n",
    "di_dist = {}\n",
    "di_count = {}\n",
    "di_dates = {}\n",
    "di_datesc = {}\n",
    "for i in df2.index:\n",
    "    if df2.date[i] in di_dist:\n",
    "        di_dist[df2.date[i]] += [df2.district[i]]\n",
    "        di_count[df2.date[i]] += 1\n",
    "    else:\n",
    "        di_dist[df2.date[i]] = [df2.district[i]]\n",
    "        di_count[df2.date[i]] = 1\n",
    "    if df2.district[i] in di_dates:\n",
    "        di_dates[df2.district[i]] += [df2.date[i]]\n",
    "        di_datesc[df2.district[i]] += 1\n",
    "    else:\n",
    "        di_dates[df2.district[i]] = [df2.date[i]]\n",
    "        di_datesc[df2.district[i]] = 1 \n",
    "\n",
    "# print(di_count) \n",
    "# print(di_dist)\n",
    "print(di_datesc)"
   ]
  },
  {
   "cell_type": "code",
   "execution_count": 20,
   "metadata": {},
   "outputs": [
    {
     "name": "stdout",
     "output_type": "stream",
     "text": [
      "['2017-07-01T00:00:00.000000000' '2018-01-01T00:00:00.000000000'\n",
      " '2018-07-01T00:00:00.000000000' '2019-01-01T00:00:00.000000000'\n",
      " '2019-07-01T00:00:00.000000000' '2020-01-01T00:00:00.000000000'\n",
      " '2020-07-01T00:00:00.000000000' '2021-01-01T00:00:00.000000000'\n",
      " '2021-07-01T00:00:00.000000000']\n",
      "{'Buuhoodle': 9, 'Owdweyne': 9, 'Qandala': 9, 'Qardho': 9, 'Berbera': 9, 'Rab Dhuure': 6, 'Sheikh': 9, 'Taleex': 9, 'Waajid': 8, 'Banadir': 8, 'Galdogob': 9, 'Doolow': 9, 'Garbahaarey': 9, 'Ceel Buur': 9, 'Caynabo': 9, 'Cadaado': 9, 'Baki': 9, 'Laasqoray': 6, 'Badhaadhe': 9, 'Jariiban': 8, 'Xudun': 8, 'Hobyo': 8, 'Burtinle': 8, 'Ceel Afweyn': 8, 'Cadale': 8, 'Jalalaqsi': 8, 'Kurtunwaarey': 8, 'Buur Hakaba': 8, 'Lughaye': 8, 'Eyl': 8, 'Tayeeglow': 8, 'Baraawe': 16, 'Balcad': 8, 'Afgooye': 3}\n"
     ]
    }
   ],
   "source": [
    "# Missing date for the Price of water\n",
    "\n",
    "df2 = df[['date', 'district','Price of water']]\n",
    "df2 = df2[df2.isnull().any(axis=1)]\n",
    "df2.date.unique()\n",
    "print(df2.date.unique())\n",
    "\n",
    "di_dist = {}\n",
    "di_count = {}\n",
    "di_dates = {}\n",
    "di_datesc = {}\n",
    "for i in df2.index:\n",
    "    if df2.date[i] in di_dist:\n",
    "        di_dist[df2.date[i]] += [df2.district[i]]\n",
    "        di_count[df2.date[i]] += 1\n",
    "    else:\n",
    "        di_dist[df2.date[i]] = [df2.district[i]]\n",
    "        di_count[df2.date[i]] = 1\n",
    "    if df2.district[i] in di_dates:\n",
    "        di_dates[df2.district[i]] += [df2.date[i]]\n",
    "        di_datesc[df2.district[i]] += 1\n",
    "    else:\n",
    "        di_dates[df2.district[i]] = [df2.date[i]]\n",
    "        di_datesc[df2.district[i]] = 1 \n",
    "\n",
    "# print(di_count) \n",
    "# print(di_dist)\n",
    "print(di_datesc)"
   ]
  },
  {
   "cell_type": "code",
   "execution_count": null,
   "metadata": {},
   "outputs": [],
   "source": []
  }
 ],
 "metadata": {
  "kernelspec": {
   "display_name": "Python 3",
   "language": "python",
   "name": "python3"
  },
  "language_info": {
   "codemirror_mode": {
    "name": "ipython",
    "version": 3
   },
   "file_extension": ".py",
   "mimetype": "text/x-python",
   "name": "python",
   "nbconvert_exporter": "python",
   "pygments_lexer": "ipython3",
   "version": "3.7.6"
  }
 },
 "nbformat": 4,
 "nbformat_minor": 4
}
