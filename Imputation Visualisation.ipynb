{
 "cells": [
  {
   "cell_type": "markdown",
   "source": [
    "# Imports"
   ],
   "metadata": {
    "collapsed": false
   }
  },
  {
   "cell_type": "code",
   "execution_count": 4,
   "outputs": [],
   "source": [
    "import pandas as pd\n",
    "import numpy as np\n",
    "import datetime\n",
    "import seaborn as sns\n",
    "from helper_metrics import count_missing_district, count_missing_district_total\n",
    "import matplotlib.pyplot as plt\n",
    "from helper_metrics import impute_score\n",
    "from sklearn.preprocessing import MinMaxScaler\n",
    "from sklearn.experimental import enable_iterative_imputer\n",
    "from sklearn.impute import SimpleImputer, IterativeImputer, KNNImputer\n",
    "from sklearn.metrics import mean_squared_error\n",
    "import warnings\n",
    "import altair as alt\n",
    "warnings.filterwarnings(\"ignore\")"
   ],
   "metadata": {
    "collapsed": false
   }
  },
  {
   "cell_type": "markdown",
   "source": [
    "# Load data"
   ],
   "metadata": {
    "collapsed": false
   }
  },
  {
   "cell_type": "code",
   "execution_count": 5,
   "outputs": [],
   "source": [
    "id_columns = ['Price of water', 'n_conflict_total', 'ndvi_score']\n",
    "df = pd.read_csv(\"data/semiyearly_chosen_columns.csv\").iloc[:,1:]\n",
    "df = df[df.next_prevalence.isna()==False]\n",
    "\n",
    "\n",
    "pow_index = df[df['Price of water'].isna()==True].index\n",
    "conflict_index = df[df['n_conflict_total'].isna()==True].index\n",
    "ndvi_index = df[df['ndvi_score'].isna()==True].index"
   ],
   "metadata": {
    "collapsed": false
   }
  },
  {
   "cell_type": "code",
   "execution_count": 6,
   "outputs": [
    {
     "data": {
      "text/plain": "           date     district  total population  Under-Five Population  \\\n0    2017-07-01  Adan Yabaal       65262.96000            13052.59200   \n1    2017-07-01         Luuq      100476.76500            20095.35300   \n2    2017-07-01  Buur Hakaba      165968.46000            33193.69200   \n3    2017-07-01        Marka      282222.76500            56444.55300   \n4    2017-07-01    Buuhoodle       71317.71000            14263.54200   \n..          ...          ...               ...                    ...   \n579  2021-01-01       Qardho       64346.00000            12870.00000   \n580  2021-01-01      Caluula       51766.00000            10355.00000   \n581  2021-01-01       Cadale       61428.00000            12285.00000   \n582  2021-01-01      Afmadow      164086.00000            32815.00000   \n583  2021-01-01      Bossaso      467020.00000            93405.00000   \n\n            GAM         MAM        SAM  GAM Prevalence  SAM Prevalence  \\\n0    4819.01697  3733.04131 1085.97565         0.36920         0.08320   \n1    8673.15435  7366.95641 1306.19795         0.43160         0.06500   \n2   11909.89669  8198.84192 3711.05477         0.35880         0.11180   \n3   20839.32897 16143.14216 4696.18681         0.36920         0.08320   \n4    4858.16241  3652.89311 1205.26930         0.34060         0.08450   \n..          ...         ...        ...             ...             ...   \n579  4555.00000         NaN  690.00000         0.35392         0.05361   \n580  3720.00000         NaN  595.00000         0.35925         0.05746   \n581  3390.00000         NaN  435.00000         0.27595         0.03541   \n582  9905.00000         NaN 1660.00000         0.30184         0.05059   \n583 33840.00000         NaN 5260.00000         0.36229         0.05631   \n\n     phase3plus_perc_x  ...  Total alarms  n_conflict_total  Average of centy  \\\n0              0.18000  ...       2.16667               NaN           3.54944   \n1              0.21000  ...       7.83333           1.50000           3.79293   \n2              0.35000  ...       6.16667           4.66667           2.48537   \n3              0.17000  ...      11.83333          11.83333           1.74015   \n4              0.37000  ...       2.33333           2.50000           8.46016   \n..                 ...  ...           ...               ...               ...   \n579            0.23000  ...       0.16667               NaN           9.50209   \n580            0.16000  ...       3.66667           1.00000          11.66822   \n581            0.10000  ...       3.50000           2.75000           3.09151   \n582            0.13000  ...       3.33333           8.66667           0.59090   \n583            0.23000  ...       7.00000           3.20000          10.92180   \n\n     Average of centx  prevalence_6lag  next_prevalence  month  increase  \\\n0            46.54467              NaN          0.35100      7     False   \n1            42.69760              NaN          0.39260      7     False   \n2            44.00688              NaN          0.28860      7     False   \n3            44.71787              NaN          0.35100      7     False   \n4            46.66129              NaN          0.20280      7     False   \n..                ...              ...              ...    ...       ...   \n579          49.50765          0.39980          0.42264      1      True   \n580          50.79402          0.47291          0.34388      1     False   \n581          46.26282          0.29052          0.28736      1      True   \n582          41.78618          0.27809          0.39162      1      True   \n583          49.39968          0.41532          0.42823      1      True   \n\n     increase_numeric  district_encoded  \n0            -0.01820                 0  \n1            -0.03900                59  \n2            -0.07020                24  \n3            -0.01820                60  \n4            -0.13780                23  \n..                ...               ...  \n579           0.06871                64  \n580          -0.01537                28  \n581           0.01141                27  \n582           0.08977                 2  \n583           0.06594                18  \n\n[582 rows x 23 columns]",
      "text/html": "<div>\n<style scoped>\n    .dataframe tbody tr th:only-of-type {\n        vertical-align: middle;\n    }\n\n    .dataframe tbody tr th {\n        vertical-align: top;\n    }\n\n    .dataframe thead th {\n        text-align: right;\n    }\n</style>\n<table border=\"1\" class=\"dataframe\">\n  <thead>\n    <tr style=\"text-align: right;\">\n      <th></th>\n      <th>date</th>\n      <th>district</th>\n      <th>total population</th>\n      <th>Under-Five Population</th>\n      <th>GAM</th>\n      <th>MAM</th>\n      <th>SAM</th>\n      <th>GAM Prevalence</th>\n      <th>SAM Prevalence</th>\n      <th>phase3plus_perc_x</th>\n      <th>...</th>\n      <th>Total alarms</th>\n      <th>n_conflict_total</th>\n      <th>Average of centy</th>\n      <th>Average of centx</th>\n      <th>prevalence_6lag</th>\n      <th>next_prevalence</th>\n      <th>month</th>\n      <th>increase</th>\n      <th>increase_numeric</th>\n      <th>district_encoded</th>\n    </tr>\n  </thead>\n  <tbody>\n    <tr>\n      <th>0</th>\n      <td>2017-07-01</td>\n      <td>Adan Yabaal</td>\n      <td>65262.96000</td>\n      <td>13052.59200</td>\n      <td>4819.01697</td>\n      <td>3733.04131</td>\n      <td>1085.97565</td>\n      <td>0.36920</td>\n      <td>0.08320</td>\n      <td>0.18000</td>\n      <td>...</td>\n      <td>2.16667</td>\n      <td>NaN</td>\n      <td>3.54944</td>\n      <td>46.54467</td>\n      <td>NaN</td>\n      <td>0.35100</td>\n      <td>7</td>\n      <td>False</td>\n      <td>-0.01820</td>\n      <td>0</td>\n    </tr>\n    <tr>\n      <th>1</th>\n      <td>2017-07-01</td>\n      <td>Luuq</td>\n      <td>100476.76500</td>\n      <td>20095.35300</td>\n      <td>8673.15435</td>\n      <td>7366.95641</td>\n      <td>1306.19795</td>\n      <td>0.43160</td>\n      <td>0.06500</td>\n      <td>0.21000</td>\n      <td>...</td>\n      <td>7.83333</td>\n      <td>1.50000</td>\n      <td>3.79293</td>\n      <td>42.69760</td>\n      <td>NaN</td>\n      <td>0.39260</td>\n      <td>7</td>\n      <td>False</td>\n      <td>-0.03900</td>\n      <td>59</td>\n    </tr>\n    <tr>\n      <th>2</th>\n      <td>2017-07-01</td>\n      <td>Buur Hakaba</td>\n      <td>165968.46000</td>\n      <td>33193.69200</td>\n      <td>11909.89669</td>\n      <td>8198.84192</td>\n      <td>3711.05477</td>\n      <td>0.35880</td>\n      <td>0.11180</td>\n      <td>0.35000</td>\n      <td>...</td>\n      <td>6.16667</td>\n      <td>4.66667</td>\n      <td>2.48537</td>\n      <td>44.00688</td>\n      <td>NaN</td>\n      <td>0.28860</td>\n      <td>7</td>\n      <td>False</td>\n      <td>-0.07020</td>\n      <td>24</td>\n    </tr>\n    <tr>\n      <th>3</th>\n      <td>2017-07-01</td>\n      <td>Marka</td>\n      <td>282222.76500</td>\n      <td>56444.55300</td>\n      <td>20839.32897</td>\n      <td>16143.14216</td>\n      <td>4696.18681</td>\n      <td>0.36920</td>\n      <td>0.08320</td>\n      <td>0.17000</td>\n      <td>...</td>\n      <td>11.83333</td>\n      <td>11.83333</td>\n      <td>1.74015</td>\n      <td>44.71787</td>\n      <td>NaN</td>\n      <td>0.35100</td>\n      <td>7</td>\n      <td>False</td>\n      <td>-0.01820</td>\n      <td>60</td>\n    </tr>\n    <tr>\n      <th>4</th>\n      <td>2017-07-01</td>\n      <td>Buuhoodle</td>\n      <td>71317.71000</td>\n      <td>14263.54200</td>\n      <td>4858.16241</td>\n      <td>3652.89311</td>\n      <td>1205.26930</td>\n      <td>0.34060</td>\n      <td>0.08450</td>\n      <td>0.37000</td>\n      <td>...</td>\n      <td>2.33333</td>\n      <td>2.50000</td>\n      <td>8.46016</td>\n      <td>46.66129</td>\n      <td>NaN</td>\n      <td>0.20280</td>\n      <td>7</td>\n      <td>False</td>\n      <td>-0.13780</td>\n      <td>23</td>\n    </tr>\n    <tr>\n      <th>...</th>\n      <td>...</td>\n      <td>...</td>\n      <td>...</td>\n      <td>...</td>\n      <td>...</td>\n      <td>...</td>\n      <td>...</td>\n      <td>...</td>\n      <td>...</td>\n      <td>...</td>\n      <td>...</td>\n      <td>...</td>\n      <td>...</td>\n      <td>...</td>\n      <td>...</td>\n      <td>...</td>\n      <td>...</td>\n      <td>...</td>\n      <td>...</td>\n      <td>...</td>\n      <td>...</td>\n    </tr>\n    <tr>\n      <th>579</th>\n      <td>2021-01-01</td>\n      <td>Qardho</td>\n      <td>64346.00000</td>\n      <td>12870.00000</td>\n      <td>4555.00000</td>\n      <td>NaN</td>\n      <td>690.00000</td>\n      <td>0.35392</td>\n      <td>0.05361</td>\n      <td>0.23000</td>\n      <td>...</td>\n      <td>0.16667</td>\n      <td>NaN</td>\n      <td>9.50209</td>\n      <td>49.50765</td>\n      <td>0.39980</td>\n      <td>0.42264</td>\n      <td>1</td>\n      <td>True</td>\n      <td>0.06871</td>\n      <td>64</td>\n    </tr>\n    <tr>\n      <th>580</th>\n      <td>2021-01-01</td>\n      <td>Caluula</td>\n      <td>51766.00000</td>\n      <td>10355.00000</td>\n      <td>3720.00000</td>\n      <td>NaN</td>\n      <td>595.00000</td>\n      <td>0.35925</td>\n      <td>0.05746</td>\n      <td>0.16000</td>\n      <td>...</td>\n      <td>3.66667</td>\n      <td>1.00000</td>\n      <td>11.66822</td>\n      <td>50.79402</td>\n      <td>0.47291</td>\n      <td>0.34388</td>\n      <td>1</td>\n      <td>False</td>\n      <td>-0.01537</td>\n      <td>28</td>\n    </tr>\n    <tr>\n      <th>581</th>\n      <td>2021-01-01</td>\n      <td>Cadale</td>\n      <td>61428.00000</td>\n      <td>12285.00000</td>\n      <td>3390.00000</td>\n      <td>NaN</td>\n      <td>435.00000</td>\n      <td>0.27595</td>\n      <td>0.03541</td>\n      <td>0.10000</td>\n      <td>...</td>\n      <td>3.50000</td>\n      <td>2.75000</td>\n      <td>3.09151</td>\n      <td>46.26282</td>\n      <td>0.29052</td>\n      <td>0.28736</td>\n      <td>1</td>\n      <td>True</td>\n      <td>0.01141</td>\n      <td>27</td>\n    </tr>\n    <tr>\n      <th>582</th>\n      <td>2021-01-01</td>\n      <td>Afmadow</td>\n      <td>164086.00000</td>\n      <td>32815.00000</td>\n      <td>9905.00000</td>\n      <td>NaN</td>\n      <td>1660.00000</td>\n      <td>0.30184</td>\n      <td>0.05059</td>\n      <td>0.13000</td>\n      <td>...</td>\n      <td>3.33333</td>\n      <td>8.66667</td>\n      <td>0.59090</td>\n      <td>41.78618</td>\n      <td>0.27809</td>\n      <td>0.39162</td>\n      <td>1</td>\n      <td>True</td>\n      <td>0.08977</td>\n      <td>2</td>\n    </tr>\n    <tr>\n      <th>583</th>\n      <td>2021-01-01</td>\n      <td>Bossaso</td>\n      <td>467020.00000</td>\n      <td>93405.00000</td>\n      <td>33840.00000</td>\n      <td>NaN</td>\n      <td>5260.00000</td>\n      <td>0.36229</td>\n      <td>0.05631</td>\n      <td>0.23000</td>\n      <td>...</td>\n      <td>7.00000</td>\n      <td>3.20000</td>\n      <td>10.92180</td>\n      <td>49.39968</td>\n      <td>0.41532</td>\n      <td>0.42823</td>\n      <td>1</td>\n      <td>True</td>\n      <td>0.06594</td>\n      <td>18</td>\n    </tr>\n  </tbody>\n</table>\n<p>582 rows × 23 columns</p>\n</div>"
     },
     "execution_count": 6,
     "metadata": {},
     "output_type": "execute_result"
    }
   ],
   "source": [
    "df_imputed = pd.read_csv(\"data/imputed_data.csv\").iloc[:,1:]\n",
    "df_imputed = df_imputed[df_imputed.next_prevalence.isna()==False]\n",
    "df"
   ],
   "metadata": {
    "collapsed": false
   }
  },
  {
   "cell_type": "code",
   "execution_count": 7,
   "outputs": [],
   "source": [
    "def impute_dummy(df, feature, index):\n",
    "    data = df[['date','district',feature]]\n",
    "    data['imputed'] = np.arange(0,len(data))\n",
    "    for i in range(len(data)):\n",
    "        if i in index:\n",
    "            data.loc[i, 'imputed'] = 'imputed'\n",
    "        else:\n",
    "            data.loc[i, 'imputed'] = 'actual'\n",
    "    return data"
   ],
   "metadata": {
    "collapsed": false
   }
  },
  {
   "cell_type": "code",
   "execution_count": 8,
   "outputs": [],
   "source": [
    "df_pow = impute_dummy(df_imputed, 'price_of_water', pow_index)\n",
    "df_ndvi = impute_dummy(df_imputed, \"ndvi\", ndvi_index)\n",
    "df_conlict = impute_dummy(df_imputed, \"conflicts\", conflict_index)"
   ],
   "metadata": {
    "collapsed": false
   }
  },
  {
   "cell_type": "code",
   "execution_count": 9,
   "outputs": [],
   "source": [
    "def dot_range(result,lower_bound,upper_bound, save_value=False):\n",
    "    metric = 'accuracy'\n",
    "    result = result\n",
    "\n",
    "    lower_bound = lower_bound\n",
    "    upper_bound = upper_bound\n",
    "    width = 200\n",
    "    # construct a dataframe\n",
    "    d = {\n",
    "        'metric': [metric],\n",
    "        'result': [result],\n",
    "        'perfect accuracy': [upper_bound],\n",
    "        'random guessing': [lower_bound]\n",
    "    }\n",
    "    validations = pd.DataFrame(data=d)\n",
    "\n",
    "    # store a custom domain for the chart\n",
    "    domain_ = (lower_bound-0.1, upper_bound + 0.1)\n",
    "\n",
    "    # assign circles to 'metric' column\n",
    "    circles = alt.Chart(\n",
    "        validations, height=50, width=width).mark_circle(\n",
    "            size=105, color='#FF7F50', opacity=1).encode(\n",
    "                x='result:Q', y='metric:N')\n",
    "\n",
    "    # then make the right tick for perfect\n",
    "    ticks = alt.Chart(validations).mark_tick(\n",
    "        size=30, color='#1070CA', thickness=3).encode(\n",
    "            x=alt.X(\n",
    "                'perfect accuracy:Q',\n",
    "                scale=alt.Scale(domain=domain_),\n",
    "                axis=alt.Axis(grid=False, title=None)),\n",
    "            y='metric:N')\n",
    "\n",
    "    # left band for random\n",
    "    bands = alt.Chart(\n",
    "        validations, height=50, width=width).mark_tick(\n",
    "            size=30, color='gray', opacity=1, thickness=3).encode(\n",
    "                x=alt.X(\n",
    "                    'random guessing:Q',\n",
    "                    scale=alt.Scale(),\n",
    "                    axis=alt.Axis(grid=False, title=metric, titleAnchor='middle', titleAlign='center', titleFontSize=16, tickOpacity=0.7, labels=False)),\n",
    "                y=alt.Y('metric:N', axis=alt.Axis(title=None, tickOpacity=0, labels=False))\n",
    "    )\n",
    "\n",
    "    # draw a line from x1 to x2, connecting the outer bounds\n",
    "    lines = alt.Chart(validations).mark_rule(\n",
    "        size=5, color='gray', opacity=0.2).encode(\n",
    "            x='random guessing:Q', x2='perfect accuracy:Q', y='metric:N')\n",
    "\n",
    "    text = bands.mark_text(\n",
    "        align='center',\n",
    "        baseline='middle',\n",
    "        dy=-20,\n",
    "        color=\"grey\"# Nudges text to right so it doesn't appear on top of the bar\n",
    "    ).encode(\n",
    "        text='random guessing:Q'\n",
    "    )\n",
    "\n",
    "    text2 = bands.mark_text(\n",
    "        align='center',\n",
    "        baseline='middle',\n",
    "        dy=-20,\n",
    "        dx=135,\n",
    "        color=\"blue\"# Nudges text to right so it doesn't appear on top of the bar\n",
    "    ).encode(\n",
    "        text='perfect accuracy:Q'\n",
    "    )\n",
    "\n",
    "\n",
    "\n",
    "\n",
    "    chart = bands +text2+lines+ circles + ticks + text\n",
    "\n",
    "    return chart\n",
    "\n"
   ],
   "metadata": {
    "collapsed": false
   }
  },
  {
   "cell_type": "code",
   "execution_count": 10,
   "outputs": [
    {
     "data": {
      "text/html": "\n<div id=\"altair-viz-cbe7628aaec542dea750e29a492d91a4\"></div>\n<script type=\"text/javascript\">\n  (function(spec, embedOpt){\n    let outputDiv = document.currentScript.previousElementSibling;\n    if (outputDiv.id !== \"altair-viz-cbe7628aaec542dea750e29a492d91a4\") {\n      outputDiv = document.getElementById(\"altair-viz-cbe7628aaec542dea750e29a492d91a4\");\n    }\n    const paths = {\n      \"vega\": \"https://cdn.jsdelivr.net/npm//vega@5?noext\",\n      \"vega-lib\": \"https://cdn.jsdelivr.net/npm//vega-lib?noext\",\n      \"vega-lite\": \"https://cdn.jsdelivr.net/npm//vega-lite@4.8.1?noext\",\n      \"vega-embed\": \"https://cdn.jsdelivr.net/npm//vega-embed@6?noext\",\n    };\n\n    function loadScript(lib) {\n      return new Promise(function(resolve, reject) {\n        var s = document.createElement('script');\n        s.src = paths[lib];\n        s.async = true;\n        s.onload = () => resolve(paths[lib]);\n        s.onerror = () => reject(`Error loading script: ${paths[lib]}`);\n        document.getElementsByTagName(\"head\")[0].appendChild(s);\n      });\n    }\n\n    function showError(err) {\n      outputDiv.innerHTML = `<div class=\"error\" style=\"color:red;\">${err}</div>`;\n      throw err;\n    }\n\n    function displayChart(vegaEmbed) {\n      vegaEmbed(outputDiv, spec, embedOpt)\n        .catch(err => showError(`Javascript Error: ${err.message}<br>This usually means there's a typo in your chart specification. See the javascript console for the full traceback.`));\n    }\n\n    if(typeof define === \"function\" && define.amd) {\n      requirejs.config({paths});\n      require([\"vega-embed\"], displayChart, err => showError(`Error loading script: ${err.message}`));\n    } else if (typeof vegaEmbed === \"function\") {\n      displayChart(vegaEmbed);\n    } else {\n      loadScript(\"vega\")\n        .then(() => loadScript(\"vega-lite\"))\n        .then(() => loadScript(\"vega-embed\"))\n        .catch(showError)\n        .then(() => displayChart(vegaEmbed));\n    }\n  })({\"config\": {\"view\": {\"continuousWidth\": 400, \"continuousHeight\": 300}}, \"layer\": [{\"mark\": {\"type\": \"tick\", \"color\": \"gray\", \"opacity\": 1, \"size\": 30, \"thickness\": 3}, \"encoding\": {\"x\": {\"type\": \"quantitative\", \"axis\": {\"grid\": false, \"labels\": false, \"tickOpacity\": 0.7, \"title\": \"accuracy\", \"titleAlign\": \"center\", \"titleAnchor\": \"middle\", \"titleFontSize\": 16}, \"field\": \"random guessing\", \"scale\": {}}, \"y\": {\"type\": \"nominal\", \"axis\": {\"labels\": false, \"tickOpacity\": 0, \"title\": null}, \"field\": \"metric\"}}, \"height\": 50, \"width\": 200}, {\"mark\": {\"type\": \"text\", \"align\": \"center\", \"baseline\": \"middle\", \"color\": \"blue\", \"dx\": 135, \"dy\": -20}, \"encoding\": {\"text\": {\"type\": \"quantitative\", \"field\": \"perfect accuracy\"}, \"x\": {\"type\": \"quantitative\", \"axis\": {\"grid\": false, \"labels\": false, \"tickOpacity\": 0.7, \"title\": \"accuracy\", \"titleAlign\": \"center\", \"titleAnchor\": \"middle\", \"titleFontSize\": 16}, \"field\": \"random guessing\", \"scale\": {}}, \"y\": {\"type\": \"nominal\", \"axis\": {\"labels\": false, \"tickOpacity\": 0, \"title\": null}, \"field\": \"metric\"}}, \"height\": 50, \"width\": 200}, {\"mark\": {\"type\": \"rule\", \"color\": \"gray\", \"opacity\": 0.2, \"size\": 5}, \"encoding\": {\"x\": {\"type\": \"quantitative\", \"field\": \"random guessing\"}, \"x2\": {\"field\": \"perfect accuracy\"}, \"y\": {\"type\": \"nominal\", \"field\": \"metric\"}}}, {\"mark\": {\"type\": \"circle\", \"color\": \"#FF7F50\", \"opacity\": 1, \"size\": 105}, \"encoding\": {\"x\": {\"type\": \"quantitative\", \"field\": \"result\"}, \"y\": {\"type\": \"nominal\", \"field\": \"metric\"}}, \"height\": 50, \"width\": 200}, {\"mark\": {\"type\": \"tick\", \"color\": \"#1070CA\", \"size\": 30, \"thickness\": 3}, \"encoding\": {\"x\": {\"type\": \"quantitative\", \"axis\": {\"grid\": false, \"title\": null}, \"field\": \"perfect accuracy\", \"scale\": {\"domain\": [-0.1, 68.1]}}, \"y\": {\"type\": \"nominal\", \"field\": \"metric\"}}}, {\"mark\": {\"type\": \"text\", \"align\": \"center\", \"baseline\": \"middle\", \"color\": \"grey\", \"dy\": -20}, \"encoding\": {\"text\": {\"type\": \"quantitative\", \"field\": \"random guessing\"}, \"x\": {\"type\": \"quantitative\", \"axis\": {\"grid\": false, \"labels\": false, \"tickOpacity\": 0.7, \"title\": \"accuracy\", \"titleAlign\": \"center\", \"titleAnchor\": \"middle\", \"titleFontSize\": 16}, \"field\": \"random guessing\", \"scale\": {}}, \"y\": {\"type\": \"nominal\", \"axis\": {\"labels\": false, \"tickOpacity\": 0, \"title\": null}, \"field\": \"metric\"}}, \"height\": 50, \"width\": 200}], \"data\": {\"name\": \"data-b94c50f30564dfc8641ad6a16c3de81d\"}, \"$schema\": \"https://vega.github.io/schema/vega-lite/v4.8.1.json\", \"datasets\": {\"data-b94c50f30564dfc8641ad6a16c3de81d\": [{\"metric\": \"accuracy\", \"result\": 0.806, \"perfect accuracy\": 68, \"random guessing\": 0}]}}, {\"mode\": \"vega-lite\"});\n</script>",
      "text/plain": "alt.LayerChart(...)"
     },
     "execution_count": 10,
     "metadata": {},
     "output_type": "execute_result"
    }
   ],
   "source": [
    "# RMSE for CONFLICTS KNN\n",
    "dot_range(0.806,0,68)"
   ],
   "metadata": {
    "collapsed": false
   }
  },
  {
   "cell_type": "code",
   "execution_count": 11,
   "outputs": [
    {
     "data": {
      "text/html": "\n<div id=\"altair-viz-55afb420ee7a479bb944d81265e5f408\"></div>\n<script type=\"text/javascript\">\n  (function(spec, embedOpt){\n    let outputDiv = document.currentScript.previousElementSibling;\n    if (outputDiv.id !== \"altair-viz-55afb420ee7a479bb944d81265e5f408\") {\n      outputDiv = document.getElementById(\"altair-viz-55afb420ee7a479bb944d81265e5f408\");\n    }\n    const paths = {\n      \"vega\": \"https://cdn.jsdelivr.net/npm//vega@5?noext\",\n      \"vega-lib\": \"https://cdn.jsdelivr.net/npm//vega-lib?noext\",\n      \"vega-lite\": \"https://cdn.jsdelivr.net/npm//vega-lite@4.8.1?noext\",\n      \"vega-embed\": \"https://cdn.jsdelivr.net/npm//vega-embed@6?noext\",\n    };\n\n    function loadScript(lib) {\n      return new Promise(function(resolve, reject) {\n        var s = document.createElement('script');\n        s.src = paths[lib];\n        s.async = true;\n        s.onload = () => resolve(paths[lib]);\n        s.onerror = () => reject(`Error loading script: ${paths[lib]}`);\n        document.getElementsByTagName(\"head\")[0].appendChild(s);\n      });\n    }\n\n    function showError(err) {\n      outputDiv.innerHTML = `<div class=\"error\" style=\"color:red;\">${err}</div>`;\n      throw err;\n    }\n\n    function displayChart(vegaEmbed) {\n      vegaEmbed(outputDiv, spec, embedOpt)\n        .catch(err => showError(`Javascript Error: ${err.message}<br>This usually means there's a typo in your chart specification. See the javascript console for the full traceback.`));\n    }\n\n    if(typeof define === \"function\" && define.amd) {\n      requirejs.config({paths});\n      require([\"vega-embed\"], displayChart, err => showError(`Error loading script: ${err.message}`));\n    } else if (typeof vegaEmbed === \"function\") {\n      displayChart(vegaEmbed);\n    } else {\n      loadScript(\"vega\")\n        .then(() => loadScript(\"vega-lite\"))\n        .then(() => loadScript(\"vega-embed\"))\n        .catch(showError)\n        .then(() => displayChart(vegaEmbed));\n    }\n  })({\"config\": {\"view\": {\"continuousWidth\": 400, \"continuousHeight\": 300}}, \"layer\": [{\"mark\": {\"type\": \"tick\", \"color\": \"gray\", \"opacity\": 1, \"size\": 30, \"thickness\": 3}, \"encoding\": {\"x\": {\"type\": \"quantitative\", \"axis\": {\"grid\": false, \"labels\": false, \"tickOpacity\": 0.7, \"title\": \"accuracy\", \"titleAlign\": \"center\", \"titleAnchor\": \"middle\", \"titleFontSize\": 16}, \"field\": \"random guessing\", \"scale\": {}}, \"y\": {\"type\": \"nominal\", \"axis\": {\"labels\": false, \"tickOpacity\": 0, \"title\": null}, \"field\": \"metric\"}}, \"height\": 50, \"width\": 200}, {\"mark\": {\"type\": \"text\", \"align\": \"center\", \"baseline\": \"middle\", \"color\": \"blue\", \"dx\": 135, \"dy\": -20}, \"encoding\": {\"text\": {\"type\": \"quantitative\", \"field\": \"perfect accuracy\"}, \"x\": {\"type\": \"quantitative\", \"axis\": {\"grid\": false, \"labels\": false, \"tickOpacity\": 0.7, \"title\": \"accuracy\", \"titleAlign\": \"center\", \"titleAnchor\": \"middle\", \"titleFontSize\": 16}, \"field\": \"random guessing\", \"scale\": {}}, \"y\": {\"type\": \"nominal\", \"axis\": {\"labels\": false, \"tickOpacity\": 0, \"title\": null}, \"field\": \"metric\"}}, \"height\": 50, \"width\": 200}, {\"mark\": {\"type\": \"rule\", \"color\": \"gray\", \"opacity\": 0.2, \"size\": 5}, \"encoding\": {\"x\": {\"type\": \"quantitative\", \"field\": \"random guessing\"}, \"x2\": {\"field\": \"perfect accuracy\"}, \"y\": {\"type\": \"nominal\", \"field\": \"metric\"}}}, {\"mark\": {\"type\": \"circle\", \"color\": \"#FF7F50\", \"opacity\": 1, \"size\": 105}, \"encoding\": {\"x\": {\"type\": \"quantitative\", \"field\": \"result\"}, \"y\": {\"type\": \"nominal\", \"field\": \"metric\"}}, \"height\": 50, \"width\": 200}, {\"mark\": {\"type\": \"tick\", \"color\": \"#1070CA\", \"size\": 30, \"thickness\": 3}, \"encoding\": {\"x\": {\"type\": \"quantitative\", \"axis\": {\"grid\": false, \"title\": null}, \"field\": \"perfect accuracy\", \"scale\": {\"domain\": [-0.1, 68.1]}}, \"y\": {\"type\": \"nominal\", \"field\": \"metric\"}}}, {\"mark\": {\"type\": \"text\", \"align\": \"center\", \"baseline\": \"middle\", \"color\": \"grey\", \"dy\": -20}, \"encoding\": {\"text\": {\"type\": \"quantitative\", \"field\": \"random guessing\"}, \"x\": {\"type\": \"quantitative\", \"axis\": {\"grid\": false, \"labels\": false, \"tickOpacity\": 0.7, \"title\": \"accuracy\", \"titleAlign\": \"center\", \"titleAnchor\": \"middle\", \"titleFontSize\": 16}, \"field\": \"random guessing\", \"scale\": {}}, \"y\": {\"type\": \"nominal\", \"axis\": {\"labels\": false, \"tickOpacity\": 0, \"title\": null}, \"field\": \"metric\"}}, \"height\": 50, \"width\": 200}], \"data\": {\"name\": \"data-9df670a7df513be04ae757fc78e10877\"}, \"$schema\": \"https://vega.github.io/schema/vega-lite/v4.8.1.json\", \"datasets\": {\"data-9df670a7df513be04ae757fc78e10877\": [{\"metric\": \"accuracy\", \"result\": 2.3, \"perfect accuracy\": 68, \"random guessing\": 0}]}}, {\"mode\": \"vega-lite\"});\n</script>",
      "text/plain": "alt.LayerChart(...)"
     },
     "execution_count": 11,
     "metadata": {},
     "output_type": "execute_result"
    }
   ],
   "source": [
    "# RMSE for CONFLICTS SPLINE\n",
    "dot_range(2.3,0,68)"
   ],
   "metadata": {
    "collapsed": false
   }
  },
  {
   "cell_type": "code",
   "execution_count": 12,
   "outputs": [
    {
     "data": {
      "text/html": "\n<div id=\"altair-viz-41e502e7b3864f66ad506ac748945cfb\"></div>\n<script type=\"text/javascript\">\n  (function(spec, embedOpt){\n    let outputDiv = document.currentScript.previousElementSibling;\n    if (outputDiv.id !== \"altair-viz-41e502e7b3864f66ad506ac748945cfb\") {\n      outputDiv = document.getElementById(\"altair-viz-41e502e7b3864f66ad506ac748945cfb\");\n    }\n    const paths = {\n      \"vega\": \"https://cdn.jsdelivr.net/npm//vega@5?noext\",\n      \"vega-lib\": \"https://cdn.jsdelivr.net/npm//vega-lib?noext\",\n      \"vega-lite\": \"https://cdn.jsdelivr.net/npm//vega-lite@4.8.1?noext\",\n      \"vega-embed\": \"https://cdn.jsdelivr.net/npm//vega-embed@6?noext\",\n    };\n\n    function loadScript(lib) {\n      return new Promise(function(resolve, reject) {\n        var s = document.createElement('script');\n        s.src = paths[lib];\n        s.async = true;\n        s.onload = () => resolve(paths[lib]);\n        s.onerror = () => reject(`Error loading script: ${paths[lib]}`);\n        document.getElementsByTagName(\"head\")[0].appendChild(s);\n      });\n    }\n\n    function showError(err) {\n      outputDiv.innerHTML = `<div class=\"error\" style=\"color:red;\">${err}</div>`;\n      throw err;\n    }\n\n    function displayChart(vegaEmbed) {\n      vegaEmbed(outputDiv, spec, embedOpt)\n        .catch(err => showError(`Javascript Error: ${err.message}<br>This usually means there's a typo in your chart specification. See the javascript console for the full traceback.`));\n    }\n\n    if(typeof define === \"function\" && define.amd) {\n      requirejs.config({paths});\n      require([\"vega-embed\"], displayChart, err => showError(`Error loading script: ${err.message}`));\n    } else if (typeof vegaEmbed === \"function\") {\n      displayChart(vegaEmbed);\n    } else {\n      loadScript(\"vega\")\n        .then(() => loadScript(\"vega-lite\"))\n        .then(() => loadScript(\"vega-embed\"))\n        .catch(showError)\n        .then(() => displayChart(vegaEmbed));\n    }\n  })({\"config\": {\"view\": {\"continuousWidth\": 400, \"continuousHeight\": 300}}, \"layer\": [{\"mark\": {\"type\": \"tick\", \"color\": \"gray\", \"opacity\": 1, \"size\": 30, \"thickness\": 3}, \"encoding\": {\"x\": {\"type\": \"quantitative\", \"axis\": {\"grid\": false, \"labels\": false, \"tickOpacity\": 0.7, \"title\": \"accuracy\", \"titleAlign\": \"center\", \"titleAnchor\": \"middle\", \"titleFontSize\": 16}, \"field\": \"random guessing\", \"scale\": {}}, \"y\": {\"type\": \"nominal\", \"axis\": {\"labels\": false, \"tickOpacity\": 0, \"title\": null}, \"field\": \"metric\"}}, \"height\": 50, \"width\": 200}, {\"mark\": {\"type\": \"text\", \"align\": \"center\", \"baseline\": \"middle\", \"color\": \"blue\", \"dx\": 135, \"dy\": -20}, \"encoding\": {\"text\": {\"type\": \"quantitative\", \"field\": \"perfect accuracy\"}, \"x\": {\"type\": \"quantitative\", \"axis\": {\"grid\": false, \"labels\": false, \"tickOpacity\": 0.7, \"title\": \"accuracy\", \"titleAlign\": \"center\", \"titleAnchor\": \"middle\", \"titleFontSize\": 16}, \"field\": \"random guessing\", \"scale\": {}}, \"y\": {\"type\": \"nominal\", \"axis\": {\"labels\": false, \"tickOpacity\": 0, \"title\": null}, \"field\": \"metric\"}}, \"height\": 50, \"width\": 200}, {\"mark\": {\"type\": \"rule\", \"color\": \"gray\", \"opacity\": 0.2, \"size\": 5}, \"encoding\": {\"x\": {\"type\": \"quantitative\", \"field\": \"random guessing\"}, \"x2\": {\"field\": \"perfect accuracy\"}, \"y\": {\"type\": \"nominal\", \"field\": \"metric\"}}}, {\"mark\": {\"type\": \"circle\", \"color\": \"#FF7F50\", \"opacity\": 1, \"size\": 105}, \"encoding\": {\"x\": {\"type\": \"quantitative\", \"field\": \"result\"}, \"y\": {\"type\": \"nominal\", \"field\": \"metric\"}}, \"height\": 50, \"width\": 200}, {\"mark\": {\"type\": \"tick\", \"color\": \"#1070CA\", \"size\": 30, \"thickness\": 3}, \"encoding\": {\"x\": {\"type\": \"quantitative\", \"axis\": {\"grid\": false, \"title\": null}, \"field\": \"perfect accuracy\", \"scale\": {\"domain\": [-0.1, 0.6799999999999999]}}, \"y\": {\"type\": \"nominal\", \"field\": \"metric\"}}}, {\"mark\": {\"type\": \"text\", \"align\": \"center\", \"baseline\": \"middle\", \"color\": \"grey\", \"dy\": -20}, \"encoding\": {\"text\": {\"type\": \"quantitative\", \"field\": \"random guessing\"}, \"x\": {\"type\": \"quantitative\", \"axis\": {\"grid\": false, \"labels\": false, \"tickOpacity\": 0.7, \"title\": \"accuracy\", \"titleAlign\": \"center\", \"titleAnchor\": \"middle\", \"titleFontSize\": 16}, \"field\": \"random guessing\", \"scale\": {}}, \"y\": {\"type\": \"nominal\", \"axis\": {\"labels\": false, \"tickOpacity\": 0, \"title\": null}, \"field\": \"metric\"}}, \"height\": 50, \"width\": 200}], \"data\": {\"name\": \"data-c39e048fd1b2b549e1348171d97d8f1e\"}, \"$schema\": \"https://vega.github.io/schema/vega-lite/v4.8.1.json\", \"datasets\": {\"data-c39e048fd1b2b549e1348171d97d8f1e\": [{\"metric\": \"accuracy\", \"result\": 0.054, \"perfect accuracy\": 0.58, \"random guessing\": 0}]}}, {\"mode\": \"vega-lite\"});\n</script>",
      "text/plain": "alt.LayerChart(...)"
     },
     "execution_count": 12,
     "metadata": {},
     "output_type": "execute_result"
    }
   ],
   "source": [
    "# RMSE for IPC KNN\n",
    "dot_range(0.054,0,0.58)"
   ],
   "metadata": {
    "collapsed": false
   }
  },
  {
   "cell_type": "code",
   "execution_count": 13,
   "outputs": [
    {
     "data": {
      "text/html": "\n<div id=\"altair-viz-21a12c55a3a3424e8905e46844d990ca\"></div>\n<script type=\"text/javascript\">\n  (function(spec, embedOpt){\n    let outputDiv = document.currentScript.previousElementSibling;\n    if (outputDiv.id !== \"altair-viz-21a12c55a3a3424e8905e46844d990ca\") {\n      outputDiv = document.getElementById(\"altair-viz-21a12c55a3a3424e8905e46844d990ca\");\n    }\n    const paths = {\n      \"vega\": \"https://cdn.jsdelivr.net/npm//vega@5?noext\",\n      \"vega-lib\": \"https://cdn.jsdelivr.net/npm//vega-lib?noext\",\n      \"vega-lite\": \"https://cdn.jsdelivr.net/npm//vega-lite@4.8.1?noext\",\n      \"vega-embed\": \"https://cdn.jsdelivr.net/npm//vega-embed@6?noext\",\n    };\n\n    function loadScript(lib) {\n      return new Promise(function(resolve, reject) {\n        var s = document.createElement('script');\n        s.src = paths[lib];\n        s.async = true;\n        s.onload = () => resolve(paths[lib]);\n        s.onerror = () => reject(`Error loading script: ${paths[lib]}`);\n        document.getElementsByTagName(\"head\")[0].appendChild(s);\n      });\n    }\n\n    function showError(err) {\n      outputDiv.innerHTML = `<div class=\"error\" style=\"color:red;\">${err}</div>`;\n      throw err;\n    }\n\n    function displayChart(vegaEmbed) {\n      vegaEmbed(outputDiv, spec, embedOpt)\n        .catch(err => showError(`Javascript Error: ${err.message}<br>This usually means there's a typo in your chart specification. See the javascript console for the full traceback.`));\n    }\n\n    if(typeof define === \"function\" && define.amd) {\n      requirejs.config({paths});\n      require([\"vega-embed\"], displayChart, err => showError(`Error loading script: ${err.message}`));\n    } else if (typeof vegaEmbed === \"function\") {\n      displayChart(vegaEmbed);\n    } else {\n      loadScript(\"vega\")\n        .then(() => loadScript(\"vega-lite\"))\n        .then(() => loadScript(\"vega-embed\"))\n        .catch(showError)\n        .then(() => displayChart(vegaEmbed));\n    }\n  })({\"config\": {\"view\": {\"continuousWidth\": 400, \"continuousHeight\": 300}}, \"layer\": [{\"mark\": {\"type\": \"tick\", \"color\": \"gray\", \"opacity\": 1, \"size\": 30, \"thickness\": 3}, \"encoding\": {\"x\": {\"type\": \"quantitative\", \"axis\": {\"grid\": false, \"labels\": false, \"tickOpacity\": 0.7, \"title\": \"accuracy\", \"titleAlign\": \"center\", \"titleAnchor\": \"middle\", \"titleFontSize\": 16}, \"field\": \"random guessing\", \"scale\": {}}, \"y\": {\"type\": \"nominal\", \"axis\": {\"labels\": false, \"tickOpacity\": 0, \"title\": null}, \"field\": \"metric\"}}, \"height\": 50, \"width\": 200}, {\"mark\": {\"type\": \"text\", \"align\": \"center\", \"baseline\": \"middle\", \"color\": \"blue\", \"dx\": 135, \"dy\": -20}, \"encoding\": {\"text\": {\"type\": \"quantitative\", \"field\": \"perfect accuracy\"}, \"x\": {\"type\": \"quantitative\", \"axis\": {\"grid\": false, \"labels\": false, \"tickOpacity\": 0.7, \"title\": \"accuracy\", \"titleAlign\": \"center\", \"titleAnchor\": \"middle\", \"titleFontSize\": 16}, \"field\": \"random guessing\", \"scale\": {}}, \"y\": {\"type\": \"nominal\", \"axis\": {\"labels\": false, \"tickOpacity\": 0, \"title\": null}, \"field\": \"metric\"}}, \"height\": 50, \"width\": 200}, {\"mark\": {\"type\": \"rule\", \"color\": \"gray\", \"opacity\": 0.2, \"size\": 5}, \"encoding\": {\"x\": {\"type\": \"quantitative\", \"field\": \"random guessing\"}, \"x2\": {\"field\": \"perfect accuracy\"}, \"y\": {\"type\": \"nominal\", \"field\": \"metric\"}}}, {\"mark\": {\"type\": \"circle\", \"color\": \"#FF7F50\", \"opacity\": 1, \"size\": 105}, \"encoding\": {\"x\": {\"type\": \"quantitative\", \"field\": \"result\"}, \"y\": {\"type\": \"nominal\", \"field\": \"metric\"}}, \"height\": 50, \"width\": 200}, {\"mark\": {\"type\": \"tick\", \"color\": \"#1070CA\", \"size\": 30, \"thickness\": 3}, \"encoding\": {\"x\": {\"type\": \"quantitative\", \"axis\": {\"grid\": false, \"title\": null}, \"field\": \"perfect accuracy\", \"scale\": {\"domain\": [-0.1, 0.71]}}, \"y\": {\"type\": \"nominal\", \"field\": \"metric\"}}}, {\"mark\": {\"type\": \"text\", \"align\": \"center\", \"baseline\": \"middle\", \"color\": \"grey\", \"dy\": -20}, \"encoding\": {\"text\": {\"type\": \"quantitative\", \"field\": \"random guessing\"}, \"x\": {\"type\": \"quantitative\", \"axis\": {\"grid\": false, \"labels\": false, \"tickOpacity\": 0.7, \"title\": \"accuracy\", \"titleAlign\": \"center\", \"titleAnchor\": \"middle\", \"titleFontSize\": 16}, \"field\": \"random guessing\", \"scale\": {}}, \"y\": {\"type\": \"nominal\", \"axis\": {\"labels\": false, \"tickOpacity\": 0, \"title\": null}, \"field\": \"metric\"}}, \"height\": 50, \"width\": 200}], \"data\": {\"name\": \"data-81e2f8df5b4a3e5cd45e8abaf60224cf\"}, \"$schema\": \"https://vega.github.io/schema/vega-lite/v4.8.1.json\", \"datasets\": {\"data-81e2f8df5b4a3e5cd45e8abaf60224cf\": [{\"metric\": \"accuracy\", \"result\": 0.053, \"perfect accuracy\": 0.61, \"random guessing\": 0}]}}, {\"mode\": \"vega-lite\"});\n</script>",
      "text/plain": "alt.LayerChart(...)"
     },
     "execution_count": 13,
     "metadata": {},
     "output_type": "execute_result"
    }
   ],
   "source": [
    "# RMSE for NDVI KNN\n",
    "dot_range(0.053,0,0.61)"
   ],
   "metadata": {
    "collapsed": false
   }
  },
  {
   "cell_type": "code",
   "execution_count": 14,
   "outputs": [
    {
     "data": {
      "text/html": "\n<div id=\"altair-viz-b12d8a2ad1094984860da8a975e83061\"></div>\n<script type=\"text/javascript\">\n  (function(spec, embedOpt){\n    let outputDiv = document.currentScript.previousElementSibling;\n    if (outputDiv.id !== \"altair-viz-b12d8a2ad1094984860da8a975e83061\") {\n      outputDiv = document.getElementById(\"altair-viz-b12d8a2ad1094984860da8a975e83061\");\n    }\n    const paths = {\n      \"vega\": \"https://cdn.jsdelivr.net/npm//vega@5?noext\",\n      \"vega-lib\": \"https://cdn.jsdelivr.net/npm//vega-lib?noext\",\n      \"vega-lite\": \"https://cdn.jsdelivr.net/npm//vega-lite@4.8.1?noext\",\n      \"vega-embed\": \"https://cdn.jsdelivr.net/npm//vega-embed@6?noext\",\n    };\n\n    function loadScript(lib) {\n      return new Promise(function(resolve, reject) {\n        var s = document.createElement('script');\n        s.src = paths[lib];\n        s.async = true;\n        s.onload = () => resolve(paths[lib]);\n        s.onerror = () => reject(`Error loading script: ${paths[lib]}`);\n        document.getElementsByTagName(\"head\")[0].appendChild(s);\n      });\n    }\n\n    function showError(err) {\n      outputDiv.innerHTML = `<div class=\"error\" style=\"color:red;\">${err}</div>`;\n      throw err;\n    }\n\n    function displayChart(vegaEmbed) {\n      vegaEmbed(outputDiv, spec, embedOpt)\n        .catch(err => showError(`Javascript Error: ${err.message}<br>This usually means there's a typo in your chart specification. See the javascript console for the full traceback.`));\n    }\n\n    if(typeof define === \"function\" && define.amd) {\n      requirejs.config({paths});\n      require([\"vega-embed\"], displayChart, err => showError(`Error loading script: ${err.message}`));\n    } else if (typeof vegaEmbed === \"function\") {\n      displayChart(vegaEmbed);\n    } else {\n      loadScript(\"vega\")\n        .then(() => loadScript(\"vega-lite\"))\n        .then(() => loadScript(\"vega-embed\"))\n        .catch(showError)\n        .then(() => displayChart(vegaEmbed));\n    }\n  })({\"config\": {\"view\": {\"continuousWidth\": 400, \"continuousHeight\": 300}}, \"layer\": [{\"mark\": {\"type\": \"tick\", \"color\": \"gray\", \"opacity\": 1, \"size\": 30, \"thickness\": 3}, \"encoding\": {\"x\": {\"type\": \"quantitative\", \"axis\": {\"grid\": false, \"labels\": false, \"tickOpacity\": 0.7, \"title\": \"accuracy\", \"titleAlign\": \"center\", \"titleAnchor\": \"middle\", \"titleFontSize\": 16}, \"field\": \"random guessing\", \"scale\": {}}, \"y\": {\"type\": \"nominal\", \"axis\": {\"labels\": false, \"tickOpacity\": 0, \"title\": null}, \"field\": \"metric\"}}, \"height\": 50, \"width\": 200}, {\"mark\": {\"type\": \"text\", \"align\": \"center\", \"baseline\": \"middle\", \"color\": \"blue\", \"dx\": 135, \"dy\": -20}, \"encoding\": {\"text\": {\"type\": \"quantitative\", \"field\": \"perfect accuracy\"}, \"x\": {\"type\": \"quantitative\", \"axis\": {\"grid\": false, \"labels\": false, \"tickOpacity\": 0.7, \"title\": \"accuracy\", \"titleAlign\": \"center\", \"titleAnchor\": \"middle\", \"titleFontSize\": 16}, \"field\": \"random guessing\", \"scale\": {}}, \"y\": {\"type\": \"nominal\", \"axis\": {\"labels\": false, \"tickOpacity\": 0, \"title\": null}, \"field\": \"metric\"}}, \"height\": 50, \"width\": 200}, {\"mark\": {\"type\": \"rule\", \"color\": \"gray\", \"opacity\": 0.2, \"size\": 5}, \"encoding\": {\"x\": {\"type\": \"quantitative\", \"field\": \"random guessing\"}, \"x2\": {\"field\": \"perfect accuracy\"}, \"y\": {\"type\": \"nominal\", \"field\": \"metric\"}}}, {\"mark\": {\"type\": \"circle\", \"color\": \"#FF7F50\", \"opacity\": 1, \"size\": 105}, \"encoding\": {\"x\": {\"type\": \"quantitative\", \"field\": \"result\"}, \"y\": {\"type\": \"nominal\", \"field\": \"metric\"}}, \"height\": 50, \"width\": 200}, {\"mark\": {\"type\": \"tick\", \"color\": \"#1070CA\", \"size\": 30, \"thickness\": 3}, \"encoding\": {\"x\": {\"type\": \"quantitative\", \"axis\": {\"grid\": false, \"title\": null}, \"field\": \"perfect accuracy\", \"scale\": {\"domain\": [-0.1, 100.1]}}, \"y\": {\"type\": \"nominal\", \"field\": \"metric\"}}}, {\"mark\": {\"type\": \"text\", \"align\": \"center\", \"baseline\": \"middle\", \"color\": \"grey\", \"dy\": -20}, \"encoding\": {\"text\": {\"type\": \"quantitative\", \"field\": \"random guessing\"}, \"x\": {\"type\": \"quantitative\", \"axis\": {\"grid\": false, \"labels\": false, \"tickOpacity\": 0.7, \"title\": \"accuracy\", \"titleAlign\": \"center\", \"titleAnchor\": \"middle\", \"titleFontSize\": 16}, \"field\": \"random guessing\", \"scale\": {}}, \"y\": {\"type\": \"nominal\", \"axis\": {\"labels\": false, \"tickOpacity\": 0, \"title\": null}, \"field\": \"metric\"}}, \"height\": 50, \"width\": 200}], \"data\": {\"name\": \"data-70a45ed56695b22c0a9a57259d490689\"}, \"$schema\": \"https://vega.github.io/schema/vega-lite/v4.8.1.json\", \"datasets\": {\"data-70a45ed56695b22c0a9a57259d490689\": [{\"metric\": \"accuracy\", \"result\": 11.296, \"perfect accuracy\": 100, \"random guessing\": 0}]}}, {\"mode\": \"vega-lite\"});\n</script>",
      "text/plain": "alt.LayerChart(...)"
     },
     "execution_count": 14,
     "metadata": {},
     "output_type": "execute_result"
    }
   ],
   "source": [
    "# RMSE for PRICE OF WATER MICE\n",
    "dot_range(11.296,0,100)"
   ],
   "metadata": {
    "collapsed": false
   }
  },
  {
   "cell_type": "code",
   "execution_count": 15,
   "outputs": [
    {
     "data": {
      "text/plain": "0.61"
     },
     "execution_count": 15,
     "metadata": {},
     "output_type": "execute_result"
    }
   ],
   "source": [
    "df.ndvi_score.max()"
   ],
   "metadata": {
    "collapsed": false
   }
  },
  {
   "cell_type": "code",
   "execution_count": 16,
   "outputs": [
    {
     "data": {
      "text/plain": "<AxesSubplot:xlabel='Features', ylabel='Missing Values'>"
     },
     "execution_count": 16,
     "metadata": {},
     "output_type": "execute_result"
    },
    {
     "data": {
      "text/plain": "<Figure size 432x288 with 1 Axes>",
      "image/png": "[encoded data removed]"
     },
     "metadata": {
      "needs_background": "light"
     },
     "output_type": "display_data"
    }
   ],
   "source": [
    "d = pd.DataFrame({\"Features\":[\"Conflict\",\"IPC\",\"NDVI\",\"Price of Water\"],\"Missing Values\":[77,2,7,287]})\n",
    "sns.barplot(d,x=\"Features\",y=\"Missing Values\")"
   ],
   "metadata": {
    "collapsed": false
   }
  },
  {
   "cell_type": "markdown",
   "source": [
    "# Number of missing features"
   ],
   "metadata": {
    "collapsed": false
   }
  },
  {
   "cell_type": "code",
   "execution_count": 17,
   "outputs": [],
   "source": [
    "df = pd.read_csv(\"data/semiyearly_chosen_columns.csv\").iloc[:,1:]"
   ],
   "metadata": {
    "collapsed": false
   }
  },
  {
   "cell_type": "code",
   "execution_count": 18,
   "outputs": [
    {
     "data": {
      "text/plain": "15088"
     },
     "execution_count": 18,
     "metadata": {},
     "output_type": "execute_result"
    }
   ],
   "source": [
    "# total observations\n",
    "len(df.columns)*len(df)"
   ],
   "metadata": {
    "collapsed": false
   }
  },
  {
   "cell_type": "code",
   "execution_count": 19,
   "outputs": [
    {
     "data": {
      "text/plain": "9184"
     },
     "execution_count": 19,
     "metadata": {},
     "output_type": "execute_result"
    }
   ],
   "source": [
    "predictors = df.select_dtypes(exclude=[\"object\", \"category\"]).drop(['next_prevalence', 'increase_numeric','GAM','SAM','MAM','Under-Five Population'],axis=1)\n",
    "len(predictors.columns)*len(predictors)"
   ],
   "metadata": {
    "collapsed": false
   }
  },
  {
   "cell_type": "code",
   "execution_count": 20,
   "outputs": [
    {
     "data": {
      "text/plain": "5.651132404181185"
     },
     "execution_count": 20,
     "metadata": {},
     "output_type": "execute_result"
    }
   ],
   "source": [
    "predictors.isna().sum().sum()/9184*100"
   ],
   "metadata": {
    "collapsed": false
   }
  },
  {
   "cell_type": "code",
   "execution_count": 21,
   "outputs": [
    {
     "data": {
      "text/plain": "<Figure size 432x288 with 1 Axes>",
      "image/png": "[encoded data removed]"
     },
     "metadata": {
      "needs_background": "light"
     },
     "output_type": "display_data"
    }
   ],
   "source": [
    "missing = df.isna().sum().reset_index().rename(columns={\"index\":\"Feature\", 0:\"Number of Missing Values\"}).sort_values(\"Number of Missing Values\",ascending=False)\n",
    "missing = missing[missing['Number of Missing Values']>0].reset_index().iloc[:,1:]\n",
    "missing.loc[2,'Feature'] = 'Conflicts'\n",
    "missing.loc[3,'Feature'] = 'Numeric Increase in Prevalence'\n",
    "missing.loc[4,'Feature'] = 'Boolean Increase in Prevalence'\n",
    "missing.loc[5,'Feature'] = 'Prevalence Estimate'\n",
    "missing.loc[6,'Feature'] = 'Lagged Prevalence'\n",
    "missing.loc[7,'Feature'] = 'Population'\n",
    "missing.loc[8,'Feature'] = 'NDVI'\n",
    "missing.loc[9,'Feature'] = 'IPC'\n",
    "\n",
    "\n",
    "# Turns off grid on the left Axis.\n",
    "my_dpi=96\n",
    "#plt.figure(figsize=(16,10))\n",
    "ax = sns.barplot(missing, x=\"Feature\", y=\"Number of Missing Values\",palette=\"bwr\");\n",
    "ax.grid(False)\n",
    "ax.spines['left'].set_visible(True)\n",
    "plt.box(False)\n",
    "plt.xticks(rotation=90);\n",
    "\n",
    "\n",
    "\n",
    "plt.savefig('Images/missing.png',dpi=300, bbox_inches='tight')"
   ],
   "metadata": {
    "collapsed": false
   }
  },
  {
   "cell_type": "code",
   "execution_count": 28,
   "outputs": [
    {
     "data": {
      "text/plain": "<Figure size 432x288 with 1 Axes>",
      "image/png": "[encoded data removed]"
     },
     "metadata": {},
     "output_type": "display_data"
    }
   ],
   "source": [
    "m = missing.drop([3,4,5],axis=0)\n",
    "ax = sns.barplot(m, x=\"Feature\", y=\"Number of Missing Values\",palette=\"bwr\");\n",
    "ax.grid(False)\n",
    "ax.spines['left'].set_visible(True)\n",
    "plt.box(False)\n",
    "plt.xticks(rotation=90);"
   ],
   "metadata": {
    "collapsed": false
   }
  }
 ],
 "metadata": {
  "kernelspec": {
   "display_name": "Python 3",
   "language": "python",
   "name": "python3"
  },
  "language_info": {
   "codemirror_mode": {
    "name": "ipython",
    "version": 2
   },
   "file_extension": ".py",
   "mimetype": "text/x-python",
   "name": "python",
   "nbconvert_exporter": "python",
   "pygments_lexer": "ipython2",
   "version": "2.7.6"
  }
 },
 "nbformat": 4,
 "nbformat_minor": 0
}
