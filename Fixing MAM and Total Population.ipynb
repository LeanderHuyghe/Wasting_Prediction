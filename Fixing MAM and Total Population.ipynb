{
 "cells": [
  {
   "cell_type": "markdown",
   "source": [
    "# Imports"
   ],
   "metadata": {
    "collapsed": false
   }
  },
  {
   "cell_type": "code",
   "execution_count": 2,
   "outputs": [],
   "source": [
    "import pandas as pd\n",
    "import numpy as np\n",
    "import datetime\n",
    "from helper_metrics import count_missing_district, count_missing_district_total"
   ],
   "metadata": {
    "collapsed": false
   }
  },
  {
   "cell_type": "markdown",
   "source": [
    "# Load data"
   ],
   "metadata": {
    "collapsed": false
   }
  },
  {
   "cell_type": "code",
   "execution_count": 3,
   "outputs": [
    {
     "data": {
      "text/plain": "           date     district  total population  Under-Five Population  \\\n0    2017-07-01  Adan Yabaal       65262.96000            13052.59200   \n1    2017-07-01      Lughaye       70268.22000            14053.64400   \n2    2017-07-01    Buuhoodle       71317.71000            14263.54200   \n3    2017-07-01         Luuq      100476.76500            20095.35300   \n4    2017-07-01     Burtinle      112734.27000            22546.85400   \n..          ...          ...               ...                    ...   \n657  2021-07-01     Jariiban               NaN            32671.60000   \n658  2021-07-01      Caluula               NaN            16168.60000   \n659  2021-07-01    Qoryooley               NaN            25309.00087   \n660  2021-07-01         Baki               NaN            11187.80000   \n661  2021-07-01    Jalalaqsi               NaN            10831.40000   \n\n            GAM        MAM        SAM  GAM Prevalence  SAM Prevalence  \\\n0    4819.01697 3733.04131 1085.97565         0.36920         0.08320   \n1    5334.76326 4220.30929 1114.45397         0.37960         0.07930   \n2    4858.16241 3652.89311 1205.26930         0.34060         0.08450   \n3    8673.15435 7366.95641 1306.19795         0.43160         0.06500   \n4   10200.19675 8500.16396 1700.03279         0.45240         0.07540   \n..          ...        ...        ...             ...             ...   \n657 10890.00000        NaN 1430.00000         0.33332         0.04377   \n658  5560.00000        NaN  870.00000         0.34388         0.05381   \n659 11420.00000        NaN 2160.00000         0.45122         0.08535   \n660  3470.00000        NaN  640.00000         0.31016         0.05721   \n661  4420.00000        NaN  840.00000         0.40807         0.07755   \n\n     phase3plus_perc_x  ...  Total alarms  n_conflict_total  Average of centy  \\\n0              0.18000  ...       2.16667               NaN           3.54944   \n1              0.36000  ...       2.66667           1.00000          10.64738   \n2              0.37000  ...       2.33333           2.50000           8.46016   \n3              0.21000  ...       7.83333           1.50000           3.79293   \n4              0.22000  ...       3.66667               NaN           7.80220   \n..                 ...  ...           ...               ...               ...   \n657            0.19000  ...       2.16667               NaN           7.16378   \n658            0.16000  ...       3.16667           1.00000          11.66822   \n659            0.08000  ...       6.16667           3.50000           1.93456   \n660            0.37000  ...       0.66667           1.00000          10.28566   \n661            0.10000  ...       4.16667           3.33333           3.40329   \n\n     Average of centx  prevalence_6lag  next_prevalence  month  increase  \\\n0            46.54467              NaN          0.35100      7     False   \n1            43.57812              NaN          0.16900      7     False   \n2            46.66129              NaN          0.20280      7     False   \n3            42.69760              NaN          0.39260      7     False   \n4            48.39912              NaN          0.37960      7     False   \n..                ...              ...              ...    ...       ...   \n657          48.99860          0.34857              NaN      7       NaN   \n658          50.79402          0.35925              NaN      7       NaN   \n659          44.44943          0.45939              NaN      7       NaN   \n660          43.73210          0.22769              NaN      7       NaN   \n661          45.61273          0.19471              NaN      7       NaN   \n\n     increase_numeric  district_encoded  \n0            -0.01820                 0  \n1            -0.21060                58  \n2            -0.13780                23  \n3            -0.03900                59  \n4            -0.07280                22  \n..                ...               ...  \n657               NaN                50  \n658               NaN                28  \n659               NaN                65  \n660               NaN                 7  \n661               NaN                48  \n\n[662 rows x 23 columns]",
      "text/html": "<div>\n<style scoped>\n    .dataframe tbody tr th:only-of-type {\n        vertical-align: middle;\n    }\n\n    .dataframe tbody tr th {\n        vertical-align: top;\n    }\n\n    .dataframe thead th {\n        text-align: right;\n    }\n</style>\n<table border=\"1\" class=\"dataframe\">\n  <thead>\n    <tr style=\"text-align: right;\">\n      <th></th>\n      <th>date</th>\n      <th>district</th>\n      <th>total population</th>\n      <th>Under-Five Population</th>\n      <th>GAM</th>\n      <th>MAM</th>\n      <th>SAM</th>\n      <th>GAM Prevalence</th>\n      <th>SAM Prevalence</th>\n      <th>phase3plus_perc_x</th>\n      <th>...</th>\n      <th>Total alarms</th>\n      <th>n_conflict_total</th>\n      <th>Average of centy</th>\n      <th>Average of centx</th>\n      <th>prevalence_6lag</th>\n      <th>next_prevalence</th>\n      <th>month</th>\n      <th>increase</th>\n      <th>increase_numeric</th>\n      <th>district_encoded</th>\n    </tr>\n  </thead>\n  <tbody>\n    <tr>\n      <th>0</th>\n      <td>2017-07-01</td>\n      <td>Adan Yabaal</td>\n      <td>65262.96000</td>\n      <td>13052.59200</td>\n      <td>4819.01697</td>\n      <td>3733.04131</td>\n      <td>1085.97565</td>\n      <td>0.36920</td>\n      <td>0.08320</td>\n      <td>0.18000</td>\n      <td>...</td>\n      <td>2.16667</td>\n      <td>NaN</td>\n      <td>3.54944</td>\n      <td>46.54467</td>\n      <td>NaN</td>\n      <td>0.35100</td>\n      <td>7</td>\n      <td>False</td>\n      <td>-0.01820</td>\n      <td>0</td>\n    </tr>\n    <tr>\n      <th>1</th>\n      <td>2017-07-01</td>\n      <td>Lughaye</td>\n      <td>70268.22000</td>\n      <td>14053.64400</td>\n      <td>5334.76326</td>\n      <td>4220.30929</td>\n      <td>1114.45397</td>\n      <td>0.37960</td>\n      <td>0.07930</td>\n      <td>0.36000</td>\n      <td>...</td>\n      <td>2.66667</td>\n      <td>1.00000</td>\n      <td>10.64738</td>\n      <td>43.57812</td>\n      <td>NaN</td>\n      <td>0.16900</td>\n      <td>7</td>\n      <td>False</td>\n      <td>-0.21060</td>\n      <td>58</td>\n    </tr>\n    <tr>\n      <th>2</th>\n      <td>2017-07-01</td>\n      <td>Buuhoodle</td>\n      <td>71317.71000</td>\n      <td>14263.54200</td>\n      <td>4858.16241</td>\n      <td>3652.89311</td>\n      <td>1205.26930</td>\n      <td>0.34060</td>\n      <td>0.08450</td>\n      <td>0.37000</td>\n      <td>...</td>\n      <td>2.33333</td>\n      <td>2.50000</td>\n      <td>8.46016</td>\n      <td>46.66129</td>\n      <td>NaN</td>\n      <td>0.20280</td>\n      <td>7</td>\n      <td>False</td>\n      <td>-0.13780</td>\n      <td>23</td>\n    </tr>\n    <tr>\n      <th>3</th>\n      <td>2017-07-01</td>\n      <td>Luuq</td>\n      <td>100476.76500</td>\n      <td>20095.35300</td>\n      <td>8673.15435</td>\n      <td>7366.95641</td>\n      <td>1306.19795</td>\n      <td>0.43160</td>\n      <td>0.06500</td>\n      <td>0.21000</td>\n      <td>...</td>\n      <td>7.83333</td>\n      <td>1.50000</td>\n      <td>3.79293</td>\n      <td>42.69760</td>\n      <td>NaN</td>\n      <td>0.39260</td>\n      <td>7</td>\n      <td>False</td>\n      <td>-0.03900</td>\n      <td>59</td>\n    </tr>\n    <tr>\n      <th>4</th>\n      <td>2017-07-01</td>\n      <td>Burtinle</td>\n      <td>112734.27000</td>\n      <td>22546.85400</td>\n      <td>10200.19675</td>\n      <td>8500.16396</td>\n      <td>1700.03279</td>\n      <td>0.45240</td>\n      <td>0.07540</td>\n      <td>0.22000</td>\n      <td>...</td>\n      <td>3.66667</td>\n      <td>NaN</td>\n      <td>7.80220</td>\n      <td>48.39912</td>\n      <td>NaN</td>\n      <td>0.37960</td>\n      <td>7</td>\n      <td>False</td>\n      <td>-0.07280</td>\n      <td>22</td>\n    </tr>\n    <tr>\n      <th>...</th>\n      <td>...</td>\n      <td>...</td>\n      <td>...</td>\n      <td>...</td>\n      <td>...</td>\n      <td>...</td>\n      <td>...</td>\n      <td>...</td>\n      <td>...</td>\n      <td>...</td>\n      <td>...</td>\n      <td>...</td>\n      <td>...</td>\n      <td>...</td>\n      <td>...</td>\n      <td>...</td>\n      <td>...</td>\n      <td>...</td>\n      <td>...</td>\n      <td>...</td>\n      <td>...</td>\n    </tr>\n    <tr>\n      <th>657</th>\n      <td>2021-07-01</td>\n      <td>Jariiban</td>\n      <td>NaN</td>\n      <td>32671.60000</td>\n      <td>10890.00000</td>\n      <td>NaN</td>\n      <td>1430.00000</td>\n      <td>0.33332</td>\n      <td>0.04377</td>\n      <td>0.19000</td>\n      <td>...</td>\n      <td>2.16667</td>\n      <td>NaN</td>\n      <td>7.16378</td>\n      <td>48.99860</td>\n      <td>0.34857</td>\n      <td>NaN</td>\n      <td>7</td>\n      <td>NaN</td>\n      <td>NaN</td>\n      <td>50</td>\n    </tr>\n    <tr>\n      <th>658</th>\n      <td>2021-07-01</td>\n      <td>Caluula</td>\n      <td>NaN</td>\n      <td>16168.60000</td>\n      <td>5560.00000</td>\n      <td>NaN</td>\n      <td>870.00000</td>\n      <td>0.34388</td>\n      <td>0.05381</td>\n      <td>0.16000</td>\n      <td>...</td>\n      <td>3.16667</td>\n      <td>1.00000</td>\n      <td>11.66822</td>\n      <td>50.79402</td>\n      <td>0.35925</td>\n      <td>NaN</td>\n      <td>7</td>\n      <td>NaN</td>\n      <td>NaN</td>\n      <td>28</td>\n    </tr>\n    <tr>\n      <th>659</th>\n      <td>2021-07-01</td>\n      <td>Qoryooley</td>\n      <td>NaN</td>\n      <td>25309.00087</td>\n      <td>11420.00000</td>\n      <td>NaN</td>\n      <td>2160.00000</td>\n      <td>0.45122</td>\n      <td>0.08535</td>\n      <td>0.08000</td>\n      <td>...</td>\n      <td>6.16667</td>\n      <td>3.50000</td>\n      <td>1.93456</td>\n      <td>44.44943</td>\n      <td>0.45939</td>\n      <td>NaN</td>\n      <td>7</td>\n      <td>NaN</td>\n      <td>NaN</td>\n      <td>65</td>\n    </tr>\n    <tr>\n      <th>660</th>\n      <td>2021-07-01</td>\n      <td>Baki</td>\n      <td>NaN</td>\n      <td>11187.80000</td>\n      <td>3470.00000</td>\n      <td>NaN</td>\n      <td>640.00000</td>\n      <td>0.31016</td>\n      <td>0.05721</td>\n      <td>0.37000</td>\n      <td>...</td>\n      <td>0.66667</td>\n      <td>1.00000</td>\n      <td>10.28566</td>\n      <td>43.73210</td>\n      <td>0.22769</td>\n      <td>NaN</td>\n      <td>7</td>\n      <td>NaN</td>\n      <td>NaN</td>\n      <td>7</td>\n    </tr>\n    <tr>\n      <th>661</th>\n      <td>2021-07-01</td>\n      <td>Jalalaqsi</td>\n      <td>NaN</td>\n      <td>10831.40000</td>\n      <td>4420.00000</td>\n      <td>NaN</td>\n      <td>840.00000</td>\n      <td>0.40807</td>\n      <td>0.07755</td>\n      <td>0.10000</td>\n      <td>...</td>\n      <td>4.16667</td>\n      <td>3.33333</td>\n      <td>3.40329</td>\n      <td>45.61273</td>\n      <td>0.19471</td>\n      <td>NaN</td>\n      <td>7</td>\n      <td>NaN</td>\n      <td>NaN</td>\n      <td>48</td>\n    </tr>\n  </tbody>\n</table>\n<p>662 rows × 23 columns</p>\n</div>"
     },
     "execution_count": 3,
     "metadata": {},
     "output_type": "execute_result"
    }
   ],
   "source": [
    "df = pd.read_csv(\"data/semiyearly_chosen_columns.csv\").iloc[:,1:]\n",
    "df"
   ],
   "metadata": {
    "collapsed": false
   }
  },
  {
   "cell_type": "markdown",
   "source": [
    "# Fix MAM"
   ],
   "metadata": {
    "collapsed": false
   }
  },
  {
   "cell_type": "code",
   "execution_count": 4,
   "outputs": [],
   "source": [
    "df.MAM = df.GAM - df.SAM"
   ],
   "metadata": {
    "collapsed": false
   }
  },
  {
   "cell_type": "markdown",
   "source": [
    "# Fix total_population"
   ],
   "metadata": {
    "collapsed": false
   }
  },
  {
   "cell_type": "code",
   "execution_count": 5,
   "outputs": [],
   "source": [
    "df.date = pd.to_datetime(df.date)\n",
    "id_columns = [\"date\",\"district\",\"total population\"]"
   ],
   "metadata": {
    "collapsed": false
   }
  },
  {
   "cell_type": "code",
   "execution_count": 6,
   "outputs": [
    {
     "data": {
      "text/plain": "          date     district  total population\n589 2021-07-01       Baidoa               NaN\n590 2021-07-01  Adan Yabaal               NaN\n591 2021-07-01    Ceel Waaq               NaN\n592 2021-07-01   Wanla Weyn               NaN\n593 2021-07-01       Zeylac               NaN\n..         ...          ...               ...\n657 2021-07-01     Jariiban               NaN\n658 2021-07-01      Caluula               NaN\n659 2021-07-01    Qoryooley               NaN\n660 2021-07-01         Baki               NaN\n661 2021-07-01    Jalalaqsi               NaN\n\n[73 rows x 3 columns]",
      "text/html": "<div>\n<style scoped>\n    .dataframe tbody tr th:only-of-type {\n        vertical-align: middle;\n    }\n\n    .dataframe tbody tr th {\n        vertical-align: top;\n    }\n\n    .dataframe thead th {\n        text-align: right;\n    }\n</style>\n<table border=\"1\" class=\"dataframe\">\n  <thead>\n    <tr style=\"text-align: right;\">\n      <th></th>\n      <th>date</th>\n      <th>district</th>\n      <th>total population</th>\n    </tr>\n  </thead>\n  <tbody>\n    <tr>\n      <th>589</th>\n      <td>2021-07-01</td>\n      <td>Baidoa</td>\n      <td>NaN</td>\n    </tr>\n    <tr>\n      <th>590</th>\n      <td>2021-07-01</td>\n      <td>Adan Yabaal</td>\n      <td>NaN</td>\n    </tr>\n    <tr>\n      <th>591</th>\n      <td>2021-07-01</td>\n      <td>Ceel Waaq</td>\n      <td>NaN</td>\n    </tr>\n    <tr>\n      <th>592</th>\n      <td>2021-07-01</td>\n      <td>Wanla Weyn</td>\n      <td>NaN</td>\n    </tr>\n    <tr>\n      <th>593</th>\n      <td>2021-07-01</td>\n      <td>Zeylac</td>\n      <td>NaN</td>\n    </tr>\n    <tr>\n      <th>...</th>\n      <td>...</td>\n      <td>...</td>\n      <td>...</td>\n    </tr>\n    <tr>\n      <th>657</th>\n      <td>2021-07-01</td>\n      <td>Jariiban</td>\n      <td>NaN</td>\n    </tr>\n    <tr>\n      <th>658</th>\n      <td>2021-07-01</td>\n      <td>Caluula</td>\n      <td>NaN</td>\n    </tr>\n    <tr>\n      <th>659</th>\n      <td>2021-07-01</td>\n      <td>Qoryooley</td>\n      <td>NaN</td>\n    </tr>\n    <tr>\n      <th>660</th>\n      <td>2021-07-01</td>\n      <td>Baki</td>\n      <td>NaN</td>\n    </tr>\n    <tr>\n      <th>661</th>\n      <td>2021-07-01</td>\n      <td>Jalalaqsi</td>\n      <td>NaN</td>\n    </tr>\n  </tbody>\n</table>\n<p>73 rows × 3 columns</p>\n</div>"
     },
     "execution_count": 6,
     "metadata": {},
     "output_type": "execute_result"
    }
   ],
   "source": [
    "df[id_columns].iloc[-73:]"
   ],
   "metadata": {
    "collapsed": false
   }
  },
  {
   "cell_type": "markdown",
   "source": [
    "### Show the population distribution for a randomly selected district over time"
   ],
   "metadata": {
    "collapsed": false
   }
  },
  {
   "cell_type": "code",
   "execution_count": 7,
   "outputs": [
    {
     "data": {
      "text/plain": "          date     district  total population\n0   2017-07-01  Adan Yabaal       65262.96000\n127 2018-01-01  Adan Yabaal       65262.96000\n182 2018-07-01  Adan Yabaal       37859.15495\n234 2019-01-01  Adan Yabaal       37859.15495\n360 2019-07-01  Adan Yabaal       37859.15495\n430 2020-01-01  Adan Yabaal       35879.12501\n448 2020-07-01  Adan Yabaal       35878.00000\n535 2021-01-01  Adan Yabaal       35879.00000\n590 2021-07-01  Adan Yabaal               NaN",
      "text/html": "<div>\n<style scoped>\n    .dataframe tbody tr th:only-of-type {\n        vertical-align: middle;\n    }\n\n    .dataframe tbody tr th {\n        vertical-align: top;\n    }\n\n    .dataframe thead th {\n        text-align: right;\n    }\n</style>\n<table border=\"1\" class=\"dataframe\">\n  <thead>\n    <tr style=\"text-align: right;\">\n      <th></th>\n      <th>date</th>\n      <th>district</th>\n      <th>total population</th>\n    </tr>\n  </thead>\n  <tbody>\n    <tr>\n      <th>0</th>\n      <td>2017-07-01</td>\n      <td>Adan Yabaal</td>\n      <td>65262.96000</td>\n    </tr>\n    <tr>\n      <th>127</th>\n      <td>2018-01-01</td>\n      <td>Adan Yabaal</td>\n      <td>65262.96000</td>\n    </tr>\n    <tr>\n      <th>182</th>\n      <td>2018-07-01</td>\n      <td>Adan Yabaal</td>\n      <td>37859.15495</td>\n    </tr>\n    <tr>\n      <th>234</th>\n      <td>2019-01-01</td>\n      <td>Adan Yabaal</td>\n      <td>37859.15495</td>\n    </tr>\n    <tr>\n      <th>360</th>\n      <td>2019-07-01</td>\n      <td>Adan Yabaal</td>\n      <td>37859.15495</td>\n    </tr>\n    <tr>\n      <th>430</th>\n      <td>2020-01-01</td>\n      <td>Adan Yabaal</td>\n      <td>35879.12501</td>\n    </tr>\n    <tr>\n      <th>448</th>\n      <td>2020-07-01</td>\n      <td>Adan Yabaal</td>\n      <td>35878.00000</td>\n    </tr>\n    <tr>\n      <th>535</th>\n      <td>2021-01-01</td>\n      <td>Adan Yabaal</td>\n      <td>35879.00000</td>\n    </tr>\n    <tr>\n      <th>590</th>\n      <td>2021-07-01</td>\n      <td>Adan Yabaal</td>\n      <td>NaN</td>\n    </tr>\n  </tbody>\n</table>\n</div>"
     },
     "execution_count": 7,
     "metadata": {},
     "output_type": "execute_result"
    }
   ],
   "source": [
    "district_number = np.random.randint(0,73)\n",
    "df[df.district==df.district[0]][id_columns]"
   ],
   "metadata": {
    "collapsed": false
   }
  },
  {
   "cell_type": "markdown",
   "source": [
    "# Carry out an LOCF time series imputation for each district"
   ],
   "metadata": {
    "collapsed": false
   }
  },
  {
   "cell_type": "code",
   "execution_count": 9,
   "outputs": [],
   "source": [
    "for i in range(74):\n",
    "    # retrieve district name\n",
    "    district = df.district[i]\n",
    "    # retrieve index of the district for 2021-07-01\n",
    "    index = df[(df.date==\"2021-07-01\")&(df.district==district)].index\n",
    "    try:\n",
    "        # set its value to 2021-01-01\n",
    "        value = df[(df.date==\"2021-01-01\")&(df.district==district)]['total population'].values[0]\n",
    "    except:\n",
    "        # if that value does not exist, just use its previous recorded population value\n",
    "        value = df[df.district==district]['total population'].values[-2]\n",
    "\n",
    "    # change nans to the previous population value which is now carried forward\n",
    "    df.loc[index,'total population'] = value"
   ],
   "metadata": {
    "collapsed": false
   }
  },
  {
   "cell_type": "markdown",
   "source": [
    "### Check 2021 `total_population` values"
   ],
   "metadata": {
    "collapsed": false
   }
  },
  {
   "cell_type": "code",
   "execution_count": 10,
   "outputs": [
    {
     "data": {
      "text/plain": "          date     district  total population  Under-Five Population  \\\n589 2021-07-01       Baidoa      515337.00000           124149.80000   \n590 2021-07-01  Adan Yabaal       35879.00000            17190.00000   \n591 2021-07-01    Ceel Waaq       39782.00000            17519.20000   \n592 2021-07-01   Wanla Weyn       66459.00000            63909.40000   \n593 2021-07-01       Zeylac       72825.00000            11246.40000   \n..         ...          ...               ...                    ...   \n657 2021-07-01     Jariiban       74373.00000            32671.60000   \n658 2021-07-01      Caluula       51766.00000            16168.60000   \n659 2021-07-01    Qoryooley      207773.00000            25309.00087   \n660 2021-07-01         Baki       99157.00000            11187.80000   \n661 2021-07-01    Jalalaqsi      100263.00000            10831.40000   \n\n            GAM         MAM         SAM  GAM Prevalence  SAM Prevalence  \\\n589 56660.00000 45680.00000 10980.00000         0.45638         0.08844   \n590  4930.00000  4220.00000   710.00000         0.28679         0.04130   \n591  6210.00000  5290.00000   920.00000         0.35447         0.05251   \n592 28650.00000 22910.00000  5740.00000         0.44829         0.08981   \n593  2690.00000  2350.00000   340.00000         0.23919         0.03023   \n..          ...         ...         ...             ...             ...   \n657 10890.00000  9460.00000  1430.00000         0.33332         0.04377   \n658  5560.00000  4690.00000   870.00000         0.34388         0.05381   \n659 11420.00000  9260.00000  2160.00000         0.45122         0.08535   \n660  3470.00000  2830.00000   640.00000         0.31016         0.05721   \n661  4420.00000  3580.00000   840.00000         0.40807         0.07755   \n\n     phase3plus_perc_x  ...  Total alarms  n_conflict_total  Average of centy  \\\n589            0.17000  ...       7.83333          12.00000           3.26636   \n590            0.10000  ...       1.33333           1.50000           3.54944   \n591            0.15000  ...       6.50000           1.25000           2.67898   \n592            0.07000  ...       4.66667           2.40000           2.79164   \n593            0.15000  ...       1.16667           1.00000          10.89293   \n..                 ...  ...           ...               ...               ...   \n657            0.19000  ...       2.16667               NaN           7.16378   \n658            0.16000  ...       3.16667           1.00000          11.66822   \n659            0.08000  ...       6.16667           3.50000           1.93456   \n660            0.37000  ...       0.66667           1.00000          10.28566   \n661            0.10000  ...       4.16667           3.33333           3.40329   \n\n     Average of centx  prevalence_6lag  next_prevalence  month  increase  \\\n589          43.63929          0.48097              NaN      7       NaN   \n590          46.54467          0.27735              NaN      7       NaN   \n591          41.44526          0.26650              NaN      7       NaN   \n592          44.90647          0.47141              NaN      7       NaN   \n593          43.16827          0.18538              NaN      7       NaN   \n..                ...              ...              ...    ...       ...   \n657          48.99860          0.34857              NaN      7       NaN   \n658          50.79402          0.35925              NaN      7       NaN   \n659          44.44943          0.45939              NaN      7       NaN   \n660          43.73210          0.22769              NaN      7       NaN   \n661          45.61273          0.19471              NaN      7       NaN   \n\n     increase_numeric  district_encoded  \n589               NaN                 6  \n590               NaN                 0  \n591               NaN                34  \n592               NaN                72  \n593               NaN                76  \n..                ...               ...  \n657               NaN                50  \n658               NaN                28  \n659               NaN                65  \n660               NaN                 7  \n661               NaN                48  \n\n[73 rows x 23 columns]",
      "text/html": "<div>\n<style scoped>\n    .dataframe tbody tr th:only-of-type {\n        vertical-align: middle;\n    }\n\n    .dataframe tbody tr th {\n        vertical-align: top;\n    }\n\n    .dataframe thead th {\n        text-align: right;\n    }\n</style>\n<table border=\"1\" class=\"dataframe\">\n  <thead>\n    <tr style=\"text-align: right;\">\n      <th></th>\n      <th>date</th>\n      <th>district</th>\n      <th>total population</th>\n      <th>Under-Five Population</th>\n      <th>GAM</th>\n      <th>MAM</th>\n      <th>SAM</th>\n      <th>GAM Prevalence</th>\n      <th>SAM Prevalence</th>\n      <th>phase3plus_perc_x</th>\n      <th>...</th>\n      <th>Total alarms</th>\n      <th>n_conflict_total</th>\n      <th>Average of centy</th>\n      <th>Average of centx</th>\n      <th>prevalence_6lag</th>\n      <th>next_prevalence</th>\n      <th>month</th>\n      <th>increase</th>\n      <th>increase_numeric</th>\n      <th>district_encoded</th>\n    </tr>\n  </thead>\n  <tbody>\n    <tr>\n      <th>589</th>\n      <td>2021-07-01</td>\n      <td>Baidoa</td>\n      <td>515337.00000</td>\n      <td>124149.80000</td>\n      <td>56660.00000</td>\n      <td>45680.00000</td>\n      <td>10980.00000</td>\n      <td>0.45638</td>\n      <td>0.08844</td>\n      <td>0.17000</td>\n      <td>...</td>\n      <td>7.83333</td>\n      <td>12.00000</td>\n      <td>3.26636</td>\n      <td>43.63929</td>\n      <td>0.48097</td>\n      <td>NaN</td>\n      <td>7</td>\n      <td>NaN</td>\n      <td>NaN</td>\n      <td>6</td>\n    </tr>\n    <tr>\n      <th>590</th>\n      <td>2021-07-01</td>\n      <td>Adan Yabaal</td>\n      <td>35879.00000</td>\n      <td>17190.00000</td>\n      <td>4930.00000</td>\n      <td>4220.00000</td>\n      <td>710.00000</td>\n      <td>0.28679</td>\n      <td>0.04130</td>\n      <td>0.10000</td>\n      <td>...</td>\n      <td>1.33333</td>\n      <td>1.50000</td>\n      <td>3.54944</td>\n      <td>46.54467</td>\n      <td>0.27735</td>\n      <td>NaN</td>\n      <td>7</td>\n      <td>NaN</td>\n      <td>NaN</td>\n      <td>0</td>\n    </tr>\n    <tr>\n      <th>591</th>\n      <td>2021-07-01</td>\n      <td>Ceel Waaq</td>\n      <td>39782.00000</td>\n      <td>17519.20000</td>\n      <td>6210.00000</td>\n      <td>5290.00000</td>\n      <td>920.00000</td>\n      <td>0.35447</td>\n      <td>0.05251</td>\n      <td>0.15000</td>\n      <td>...</td>\n      <td>6.50000</td>\n      <td>1.25000</td>\n      <td>2.67898</td>\n      <td>41.44526</td>\n      <td>0.26650</td>\n      <td>NaN</td>\n      <td>7</td>\n      <td>NaN</td>\n      <td>NaN</td>\n      <td>34</td>\n    </tr>\n    <tr>\n      <th>592</th>\n      <td>2021-07-01</td>\n      <td>Wanla Weyn</td>\n      <td>66459.00000</td>\n      <td>63909.40000</td>\n      <td>28650.00000</td>\n      <td>22910.00000</td>\n      <td>5740.00000</td>\n      <td>0.44829</td>\n      <td>0.08981</td>\n      <td>0.07000</td>\n      <td>...</td>\n      <td>4.66667</td>\n      <td>2.40000</td>\n      <td>2.79164</td>\n      <td>44.90647</td>\n      <td>0.47141</td>\n      <td>NaN</td>\n      <td>7</td>\n      <td>NaN</td>\n      <td>NaN</td>\n      <td>72</td>\n    </tr>\n    <tr>\n      <th>593</th>\n      <td>2021-07-01</td>\n      <td>Zeylac</td>\n      <td>72825.00000</td>\n      <td>11246.40000</td>\n      <td>2690.00000</td>\n      <td>2350.00000</td>\n      <td>340.00000</td>\n      <td>0.23919</td>\n      <td>0.03023</td>\n      <td>0.15000</td>\n      <td>...</td>\n      <td>1.16667</td>\n      <td>1.00000</td>\n      <td>10.89293</td>\n      <td>43.16827</td>\n      <td>0.18538</td>\n      <td>NaN</td>\n      <td>7</td>\n      <td>NaN</td>\n      <td>NaN</td>\n      <td>76</td>\n    </tr>\n    <tr>\n      <th>...</th>\n      <td>...</td>\n      <td>...</td>\n      <td>...</td>\n      <td>...</td>\n      <td>...</td>\n      <td>...</td>\n      <td>...</td>\n      <td>...</td>\n      <td>...</td>\n      <td>...</td>\n      <td>...</td>\n      <td>...</td>\n      <td>...</td>\n      <td>...</td>\n      <td>...</td>\n      <td>...</td>\n      <td>...</td>\n      <td>...</td>\n      <td>...</td>\n      <td>...</td>\n      <td>...</td>\n    </tr>\n    <tr>\n      <th>657</th>\n      <td>2021-07-01</td>\n      <td>Jariiban</td>\n      <td>74373.00000</td>\n      <td>32671.60000</td>\n      <td>10890.00000</td>\n      <td>9460.00000</td>\n      <td>1430.00000</td>\n      <td>0.33332</td>\n      <td>0.04377</td>\n      <td>0.19000</td>\n      <td>...</td>\n      <td>2.16667</td>\n      <td>NaN</td>\n      <td>7.16378</td>\n      <td>48.99860</td>\n      <td>0.34857</td>\n      <td>NaN</td>\n      <td>7</td>\n      <td>NaN</td>\n      <td>NaN</td>\n      <td>50</td>\n    </tr>\n    <tr>\n      <th>658</th>\n      <td>2021-07-01</td>\n      <td>Caluula</td>\n      <td>51766.00000</td>\n      <td>16168.60000</td>\n      <td>5560.00000</td>\n      <td>4690.00000</td>\n      <td>870.00000</td>\n      <td>0.34388</td>\n      <td>0.05381</td>\n      <td>0.16000</td>\n      <td>...</td>\n      <td>3.16667</td>\n      <td>1.00000</td>\n      <td>11.66822</td>\n      <td>50.79402</td>\n      <td>0.35925</td>\n      <td>NaN</td>\n      <td>7</td>\n      <td>NaN</td>\n      <td>NaN</td>\n      <td>28</td>\n    </tr>\n    <tr>\n      <th>659</th>\n      <td>2021-07-01</td>\n      <td>Qoryooley</td>\n      <td>207773.00000</td>\n      <td>25309.00087</td>\n      <td>11420.00000</td>\n      <td>9260.00000</td>\n      <td>2160.00000</td>\n      <td>0.45122</td>\n      <td>0.08535</td>\n      <td>0.08000</td>\n      <td>...</td>\n      <td>6.16667</td>\n      <td>3.50000</td>\n      <td>1.93456</td>\n      <td>44.44943</td>\n      <td>0.45939</td>\n      <td>NaN</td>\n      <td>7</td>\n      <td>NaN</td>\n      <td>NaN</td>\n      <td>65</td>\n    </tr>\n    <tr>\n      <th>660</th>\n      <td>2021-07-01</td>\n      <td>Baki</td>\n      <td>99157.00000</td>\n      <td>11187.80000</td>\n      <td>3470.00000</td>\n      <td>2830.00000</td>\n      <td>640.00000</td>\n      <td>0.31016</td>\n      <td>0.05721</td>\n      <td>0.37000</td>\n      <td>...</td>\n      <td>0.66667</td>\n      <td>1.00000</td>\n      <td>10.28566</td>\n      <td>43.73210</td>\n      <td>0.22769</td>\n      <td>NaN</td>\n      <td>7</td>\n      <td>NaN</td>\n      <td>NaN</td>\n      <td>7</td>\n    </tr>\n    <tr>\n      <th>661</th>\n      <td>2021-07-01</td>\n      <td>Jalalaqsi</td>\n      <td>100263.00000</td>\n      <td>10831.40000</td>\n      <td>4420.00000</td>\n      <td>3580.00000</td>\n      <td>840.00000</td>\n      <td>0.40807</td>\n      <td>0.07755</td>\n      <td>0.10000</td>\n      <td>...</td>\n      <td>4.16667</td>\n      <td>3.33333</td>\n      <td>3.40329</td>\n      <td>45.61273</td>\n      <td>0.19471</td>\n      <td>NaN</td>\n      <td>7</td>\n      <td>NaN</td>\n      <td>NaN</td>\n      <td>48</td>\n    </tr>\n  </tbody>\n</table>\n<p>73 rows × 23 columns</p>\n</div>"
     },
     "execution_count": 10,
     "metadata": {},
     "output_type": "execute_result"
    }
   ],
   "source": [
    "df.iloc[-73:]"
   ],
   "metadata": {
    "collapsed": false
   }
  },
  {
   "cell_type": "code",
   "execution_count": 11,
   "outputs": [
    {
     "data": {
      "text/plain": "             date  total population  Under-Five Population  GAM  MAM  SAM  \\\ndistrict                                                                    \nAdan Yabaal     0                 0                      0    0    0    0   \nAfgooye         0                 0                      0    0    0    0   \nAfmadow         0                 0                      0    0    0    0   \nBaardheere      0                 0                      0    0    0    0   \nBadhaadhe       0                 0                      0    0    0    0   \n...           ...               ...                    ...  ...  ...  ...   \nWanla Weyn      0                 0                      0    0    0    0   \nXarardheere     0                 0                      0    0    0    0   \nXudun           0                 0                      0    0    0    0   \nXudur           0                 0                      0    0    0    0   \nZeylac          0                 0                      0    0    0    0   \n\n             GAM Prevalence  SAM Prevalence  phase3plus_perc_x  rainfall  ...  \\\ndistrict                                                                  ...   \nAdan Yabaal               0               0                  0         0  ...   \nAfgooye                   0               0                  0         0  ...   \nAfmadow                   0               0                  0         0  ...   \nBaardheere                0               0                  0         0  ...   \nBadhaadhe                 0               0                  0         0  ...   \n...                     ...             ...                ...       ...  ...   \nWanla Weyn                0               0                  0         0  ...   \nXarardheere               0               0                  0         0  ...   \nXudun                     0               0                  0         0  ...   \nXudur                     0               0                  0         0  ...   \nZeylac                    0               0                  0         0  ...   \n\n             Total alarms  n_conflict_total  Average of centy  \\\ndistrict                                                        \nAdan Yabaal             0                 3                 0   \nAfgooye                 0                 0                 0   \nAfmadow                 0                 0                 0   \nBaardheere              0                 0                 0   \nBadhaadhe               0                 0                 0   \n...                   ...               ...               ...   \nWanla Weyn              0                 0                 0   \nXarardheere             0                 1                 0   \nXudun                   0                 7                 0   \nXudur                   0                 0                 0   \nZeylac                  0                 1                 0   \n\n             Average of centx  prevalence_6lag  next_prevalence  month  \\\ndistrict                                                                 \nAdan Yabaal                 0                1                1      0   \nAfgooye                     0                1                1      0   \nAfmadow                     0                1                1      0   \nBaardheere                  0                1                1      0   \nBadhaadhe                   0                1                1      0   \n...                       ...              ...              ...    ...   \nWanla Weyn                  0                1                1      0   \nXarardheere                 0                1                1      0   \nXudun                       0                1                1      0   \nXudur                       0                1                1      0   \nZeylac                      0                1                1      0   \n\n             increase  increase_numeric  district_encoded  \ndistrict                                                   \nAdan Yabaal         1                 1                 0  \nAfgooye             1                 1                 0  \nAfmadow             1                 1                 0  \nBaardheere          1                 1                 0  \nBadhaadhe           1                 1                 0  \n...               ...               ...               ...  \nWanla Weyn          1                 1                 0  \nXarardheere         1                 1                 0  \nXudun               1                 1                 0  \nXudur               1                 1                 0  \nZeylac              1                 1                 0  \n\n[73 rows x 22 columns]",
      "text/html": "<div>\n<style scoped>\n    .dataframe tbody tr th:only-of-type {\n        vertical-align: middle;\n    }\n\n    .dataframe tbody tr th {\n        vertical-align: top;\n    }\n\n    .dataframe thead th {\n        text-align: right;\n    }\n</style>\n<table border=\"1\" class=\"dataframe\">\n  <thead>\n    <tr style=\"text-align: right;\">\n      <th></th>\n      <th>date</th>\n      <th>total population</th>\n      <th>Under-Five Population</th>\n      <th>GAM</th>\n      <th>MAM</th>\n      <th>SAM</th>\n      <th>GAM Prevalence</th>\n      <th>SAM Prevalence</th>\n      <th>phase3plus_perc_x</th>\n      <th>rainfall</th>\n      <th>...</th>\n      <th>Total alarms</th>\n      <th>n_conflict_total</th>\n      <th>Average of centy</th>\n      <th>Average of centx</th>\n      <th>prevalence_6lag</th>\n      <th>next_prevalence</th>\n      <th>month</th>\n      <th>increase</th>\n      <th>increase_numeric</th>\n      <th>district_encoded</th>\n    </tr>\n    <tr>\n      <th>district</th>\n      <th></th>\n      <th></th>\n      <th></th>\n      <th></th>\n      <th></th>\n      <th></th>\n      <th></th>\n      <th></th>\n      <th></th>\n      <th></th>\n      <th></th>\n      <th></th>\n      <th></th>\n      <th></th>\n      <th></th>\n      <th></th>\n      <th></th>\n      <th></th>\n      <th></th>\n      <th></th>\n      <th></th>\n    </tr>\n  </thead>\n  <tbody>\n    <tr>\n      <th>Adan Yabaal</th>\n      <td>0</td>\n      <td>0</td>\n      <td>0</td>\n      <td>0</td>\n      <td>0</td>\n      <td>0</td>\n      <td>0</td>\n      <td>0</td>\n      <td>0</td>\n      <td>0</td>\n      <td>...</td>\n      <td>0</td>\n      <td>3</td>\n      <td>0</td>\n      <td>0</td>\n      <td>1</td>\n      <td>1</td>\n      <td>0</td>\n      <td>1</td>\n      <td>1</td>\n      <td>0</td>\n    </tr>\n    <tr>\n      <th>Afgooye</th>\n      <td>0</td>\n      <td>0</td>\n      <td>0</td>\n      <td>0</td>\n      <td>0</td>\n      <td>0</td>\n      <td>0</td>\n      <td>0</td>\n      <td>0</td>\n      <td>0</td>\n      <td>...</td>\n      <td>0</td>\n      <td>0</td>\n      <td>0</td>\n      <td>0</td>\n      <td>1</td>\n      <td>1</td>\n      <td>0</td>\n      <td>1</td>\n      <td>1</td>\n      <td>0</td>\n    </tr>\n    <tr>\n      <th>Afmadow</th>\n      <td>0</td>\n      <td>0</td>\n      <td>0</td>\n      <td>0</td>\n      <td>0</td>\n      <td>0</td>\n      <td>0</td>\n      <td>0</td>\n      <td>0</td>\n      <td>0</td>\n      <td>...</td>\n      <td>0</td>\n      <td>0</td>\n      <td>0</td>\n      <td>0</td>\n      <td>1</td>\n      <td>1</td>\n      <td>0</td>\n      <td>1</td>\n      <td>1</td>\n      <td>0</td>\n    </tr>\n    <tr>\n      <th>Baardheere</th>\n      <td>0</td>\n      <td>0</td>\n      <td>0</td>\n      <td>0</td>\n      <td>0</td>\n      <td>0</td>\n      <td>0</td>\n      <td>0</td>\n      <td>0</td>\n      <td>0</td>\n      <td>...</td>\n      <td>0</td>\n      <td>0</td>\n      <td>0</td>\n      <td>0</td>\n      <td>1</td>\n      <td>1</td>\n      <td>0</td>\n      <td>1</td>\n      <td>1</td>\n      <td>0</td>\n    </tr>\n    <tr>\n      <th>Badhaadhe</th>\n      <td>0</td>\n      <td>0</td>\n      <td>0</td>\n      <td>0</td>\n      <td>0</td>\n      <td>0</td>\n      <td>0</td>\n      <td>0</td>\n      <td>0</td>\n      <td>0</td>\n      <td>...</td>\n      <td>0</td>\n      <td>0</td>\n      <td>0</td>\n      <td>0</td>\n      <td>1</td>\n      <td>1</td>\n      <td>0</td>\n      <td>1</td>\n      <td>1</td>\n      <td>0</td>\n    </tr>\n    <tr>\n      <th>...</th>\n      <td>...</td>\n      <td>...</td>\n      <td>...</td>\n      <td>...</td>\n      <td>...</td>\n      <td>...</td>\n      <td>...</td>\n      <td>...</td>\n      <td>...</td>\n      <td>...</td>\n      <td>...</td>\n      <td>...</td>\n      <td>...</td>\n      <td>...</td>\n      <td>...</td>\n      <td>...</td>\n      <td>...</td>\n      <td>...</td>\n      <td>...</td>\n      <td>...</td>\n      <td>...</td>\n    </tr>\n    <tr>\n      <th>Wanla Weyn</th>\n      <td>0</td>\n      <td>0</td>\n      <td>0</td>\n      <td>0</td>\n      <td>0</td>\n      <td>0</td>\n      <td>0</td>\n      <td>0</td>\n      <td>0</td>\n      <td>0</td>\n      <td>...</td>\n      <td>0</td>\n      <td>0</td>\n      <td>0</td>\n      <td>0</td>\n      <td>1</td>\n      <td>1</td>\n      <td>0</td>\n      <td>1</td>\n      <td>1</td>\n      <td>0</td>\n    </tr>\n    <tr>\n      <th>Xarardheere</th>\n      <td>0</td>\n      <td>0</td>\n      <td>0</td>\n      <td>0</td>\n      <td>0</td>\n      <td>0</td>\n      <td>0</td>\n      <td>0</td>\n      <td>0</td>\n      <td>0</td>\n      <td>...</td>\n      <td>0</td>\n      <td>1</td>\n      <td>0</td>\n      <td>0</td>\n      <td>1</td>\n      <td>1</td>\n      <td>0</td>\n      <td>1</td>\n      <td>1</td>\n      <td>0</td>\n    </tr>\n    <tr>\n      <th>Xudun</th>\n      <td>0</td>\n      <td>0</td>\n      <td>0</td>\n      <td>0</td>\n      <td>0</td>\n      <td>0</td>\n      <td>0</td>\n      <td>0</td>\n      <td>0</td>\n      <td>0</td>\n      <td>...</td>\n      <td>0</td>\n      <td>7</td>\n      <td>0</td>\n      <td>0</td>\n      <td>1</td>\n      <td>1</td>\n      <td>0</td>\n      <td>1</td>\n      <td>1</td>\n      <td>0</td>\n    </tr>\n    <tr>\n      <th>Xudur</th>\n      <td>0</td>\n      <td>0</td>\n      <td>0</td>\n      <td>0</td>\n      <td>0</td>\n      <td>0</td>\n      <td>0</td>\n      <td>0</td>\n      <td>0</td>\n      <td>0</td>\n      <td>...</td>\n      <td>0</td>\n      <td>0</td>\n      <td>0</td>\n      <td>0</td>\n      <td>1</td>\n      <td>1</td>\n      <td>0</td>\n      <td>1</td>\n      <td>1</td>\n      <td>0</td>\n    </tr>\n    <tr>\n      <th>Zeylac</th>\n      <td>0</td>\n      <td>0</td>\n      <td>0</td>\n      <td>0</td>\n      <td>0</td>\n      <td>0</td>\n      <td>0</td>\n      <td>0</td>\n      <td>0</td>\n      <td>0</td>\n      <td>...</td>\n      <td>0</td>\n      <td>1</td>\n      <td>0</td>\n      <td>0</td>\n      <td>1</td>\n      <td>1</td>\n      <td>0</td>\n      <td>1</td>\n      <td>1</td>\n      <td>0</td>\n    </tr>\n  </tbody>\n</table>\n<p>73 rows × 22 columns</p>\n</div>"
     },
     "execution_count": 11,
     "metadata": {},
     "output_type": "execute_result"
    }
   ],
   "source": [
    "count_missing_district(df)"
   ],
   "metadata": {
    "collapsed": false
   }
  }
 ],
 "metadata": {
  "kernelspec": {
   "display_name": "Python 3",
   "language": "python",
   "name": "python3"
  },
  "language_info": {
   "codemirror_mode": {
    "name": "ipython",
    "version": 2
   },
   "file_extension": ".py",
   "mimetype": "text/x-python",
   "name": "python",
   "nbconvert_exporter": "python",
   "pygments_lexer": "ipython2",
   "version": "2.7.6"
  }
 },
 "nbformat": 4,
 "nbformat_minor": 0
}
